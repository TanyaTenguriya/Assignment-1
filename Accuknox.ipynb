{
  "nbformat": 4,
  "nbformat_minor": 0,
  "metadata": {
    "colab": {
      "provenance": []
    },
    "kernelspec": {
      "name": "python3",
      "display_name": "Python 3"
    },
    "language_info": {
      "name": "python"
    }
  },
  "cells": [
    {
      "cell_type": "markdown",
      "source": [
        "**Django Signals**"
      ],
      "metadata": {
        "id": "funDfGQajVRs"
      }
    },
    {
      "cell_type": "markdown",
      "source": [
        "\n",
        "1.By default are django signals executed synchronously or asynchronously? Please support your answer with a code snippet that conclusively proves your stance. The code does not need to be elegant and production ready, we just need to understand your logic.\n",
        "\n",
        "\n"
      ],
      "metadata": {
        "id": "zWDYoEumi_12"
      }
    },
    {
      "cell_type": "markdown",
      "source": [
        "By default, Django signals are executed synchronously. When a signal is triggered, all connected signal handlers run immediately within the same thread and process as the code that sent the signal. This synchronous behavior can be demonstrated by checking if a signal handler blocks the execution of code that follows it."
      ],
      "metadata": {
        "id": "J_uJkHY2jrlI"
      }
    },
    {
      "cell_type": "code",
      "source": [
        "import time\n",
        "from django.db.models.signals import post_save\n",
        "from django.dispatch import receiver\n",
        "from django.contrib.auth.models import User\n",
        "\n",
        "# Signal handler to be executed after a User instance is saved\n",
        "@receiver(post_save, sender=User)\n",
        "def user_saved_handler(sender, instance, **kwargs):\n",
        "    print(\"Signal handler started.\")\n",
        "    # Simulate a time-consuming task to test if the signal is synchronous\n",
        "    time.sleep(5)\n",
        "    print(\"Signal handler finished.\")\n",
        "\n",
        "# Code to create a new User instance, which will trigger the signal\n",
        "if __name__ == \"__main__\":\n",
        "    print(\"Creating user...\")\n",
        "    user = User.objects.create(username=\"testuser\")\n",
        "    print(\"User created.\")"
      ],
      "metadata": {
        "id": "Gof9xKbHpcx4"
      },
      "execution_count": null,
      "outputs": []
    },
    {
      "cell_type": "markdown",
      "source": [
        "**2.Do django signals run in the same thread as the caller? Please support your answer with a code snippet that conclusively proves your stance. The code does not need to be elegant and production ready, we just need to understand your logic.**"
      ],
      "metadata": {
        "id": "AtPOKHq5pH2C"
      }
    },
    {
      "cell_type": "markdown",
      "source": [
        "Yes, by default, Django signals run in the same thread as the caller. To demonstrate this, we can compare the thread IDs of the caller and the signal handler when a signal is triggered."
      ],
      "metadata": {
        "id": "rJKmXeCRprt_"
      }
    },
    {
      "cell_type": "code",
      "source": [
        "import threading\n",
        "from django.db.models.signals import post_save\n",
        "from django.dispatch import receiver\n",
        "from django.contrib.auth.models import User\n",
        "\n",
        "# Signal handler that prints the current thread ID\n",
        "@receiver(post_save, sender=User)\n",
        "def user_saved_handler(sender, instance, **kwargs):\n",
        "    print(f\"Signal handler thread ID: {threading.get_ident()}\")\n",
        "\n",
        "# Code to create a new User instance, which will trigger the signal\n",
        "if __name__ == \"__main__\":\n",
        "    # Print the thread ID of the caller\n",
        "    print(f\"Caller thread ID: {threading.get_ident()}\")\n",
        "    user = User.objects.create(username=\"testuser\")"
      ],
      "metadata": {
        "id": "8YutP5JqpzZ2"
      },
      "execution_count": null,
      "outputs": []
    },
    {
      "cell_type": "markdown",
      "source": [
        "**3.By default do django signals run in the same database transaction as the caller? Please support your answer with a code snippet that conclusively proves your stance. The code does not need to be elegant and production ready, we just need to understand your logic.**"
      ],
      "metadata": {
        "id": "j0VhHcy7p4Ot"
      }
    },
    {
      "cell_type": "markdown",
      "source": [
        "Yes, by default, Django signals run in the same database transaction as the caller. This is because signals like post_save and pre_save are executed within the transaction initiated by the caller. We can prove this by checking the transactional state of the signal handler compared to the caller."
      ],
      "metadata": {
        "id": "2BDEkyKkp-dN"
      }
    },
    {
      "cell_type": "code",
      "source": [
        "from django.db import transaction, connection\n",
        "from django.db.models.signals import post_save\n",
        "from django.dispatch import receiver\n",
        "from django.contrib.auth.models import User\n",
        "\n",
        "# Signal handler that checks if it's in an atomic (transactional) block\n",
        "@receiver(post_save, sender=User)\n",
        "def user_saved_handler(sender, instance, **kwargs):\n",
        "    # Check if the signal handler is inside a transaction\n",
        "    in_transaction = connection.in_atomic_block\n",
        "    print(f\"Signal handler in transaction: {in_transaction}\")\n",
        "\n",
        "# Code to create a new User instance within a transaction, which will trigger the signal\n",
        "if __name__ == \"__main__\":\n",
        "    # Wrap user creation in an atomic transaction\n",
        "    with transaction.atomic():\n",
        "        print(\"Caller in transaction:\", connection.in_atomic_block)\n",
        "        user = User.objects.create(username=\"testuser\")\n",
        "    # Transaction block ends here\n"
      ],
      "metadata": {
        "id": "v2hRr6mdqBJl"
      },
      "execution_count": null,
      "outputs": []
    },
    {
      "cell_type": "markdown",
      "source": [
        "# Custom Classes in Python"
      ],
      "metadata": {
        "id": "LNFi0ReRq1yi"
      }
    },
    {
      "cell_type": "markdown",
      "source": [
        "4.An instance of the Rectangle class requires length:int and width:int to be initialized."
      ],
      "metadata": {
        "id": "RcgL1-zHqFgN"
      }
    },
    {
      "cell_type": "code",
      "source": [
        "class Rectangle:\n",
        "    def __init__(self, length: int, width: int):\n",
        "        self.length = length\n",
        "        self.width = width\n",
        "\n",
        "    def area(self) -> int:\n",
        "        \"\"\"Calculate and return the area of the rectangle.\"\"\"\n",
        "        return self.length * self.width\n",
        "\n",
        "    def perimeter(self) -> int:\n",
        "        \"\"\"Calculate and return the perimeter of the rectangle.\"\"\"\n",
        "        return 2 * (self.length + self.width)\n",
        "\n",
        "# Example usage\n",
        "rect = Rectangle(length=10, width=5)\n",
        "print(\"Area:\", rect.area())\n",
        "print(\"Perimeter:\", rect.perimeter())"
      ],
      "metadata": {
        "colab": {
          "base_uri": "https://localhost:8080/"
        },
        "id": "uTeiiQd3qKFF",
        "outputId": "66eabe67-4da9-473a-87f1-ef2535c2ad6e"
      },
      "execution_count": 3,
      "outputs": [
        {
          "output_type": "stream",
          "name": "stdout",
          "text": [
            "Area: 50\n",
            "Perimeter: 30\n"
          ]
        }
      ]
    },
    {
      "cell_type": "markdown",
      "source": [
        "5.We can iterate over an instance of the Rectangle class"
      ],
      "metadata": {
        "id": "-9r9cfRWqSTV"
      }
    },
    {
      "cell_type": "markdown",
      "source": [
        "To make an instance of the Rectangle class iterable, we need to define the __iter__ method. This method should return an iterator, which allows iteration over the instance."
      ],
      "metadata": {
        "id": "xV4mVLvmqX7E"
      }
    },
    {
      "cell_type": "code",
      "source": [
        "class Rectangle:\n",
        "    def __init__(self, length: int, width: int):\n",
        "        self.length = length\n",
        "        self.width = width\n",
        "\n",
        "    def area(self) -> int:\n",
        "        \"\"\"Calculate and return the area of the rectangle.\"\"\"\n",
        "        return self.length * self.width\n",
        "\n",
        "    def perimeter(self) -> int:\n",
        "        \"\"\"Calculate and return the perimeter of the rectangle.\"\"\"\n",
        "        return 2 * (self.length + self.width)\n",
        "\n",
        "    def __iter__(self):\n",
        "        \"\"\"Allow iteration over the length and width attributes.\"\"\"\n",
        "        return iter((self.length, self.width))\n",
        "\n",
        "# Example usage\n",
        "rect = Rectangle(length=10, width=5)\n",
        "for dimension in rect:\n",
        "    print(dimension)"
      ],
      "metadata": {
        "colab": {
          "base_uri": "https://localhost:8080/"
        },
        "id": "oxakfNovqbek",
        "outputId": "e87c8542-a1e5-4826-91f4-b2ad98afecaa"
      },
      "execution_count": 4,
      "outputs": [
        {
          "output_type": "stream",
          "name": "stdout",
          "text": [
            "10\n",
            "5\n"
          ]
        }
      ]
    },
    {
      "cell_type": "markdown",
      "source": [
        "6.When an instance of the Rectangle class is iterated over, we first get its length in the format: {'length': <VALUE_OF_LENGTH>} followed by the width {width: <VALUE_OF_WIDTH>}"
      ],
      "metadata": {
        "id": "a9XEb-p6qfOc"
      }
    },
    {
      "cell_type": "markdown",
      "source": [
        "To achieve this custom iteration format, we can modify the __iter__ method in the Rectangle class to yield dictionaries for each attribute separately. This way, when an instance of Rectangle is iterated over, it will first return the length in the specified format ({'length': <VALUE_OF_LENGTH>}), followed by the width ({'width': <VALUE_OF_WIDTH>})."
      ],
      "metadata": {
        "id": "MiMGLJ_wqkL0"
      }
    },
    {
      "cell_type": "code",
      "source": [
        "class Rectangle:\n",
        "    def __init__(self, length: int, width: int):\n",
        "        self.length = length\n",
        "        self.width = width\n",
        "\n",
        "    def area(self) -> int:\n",
        "        \"\"\"Calculate and return the area of the rectangle.\"\"\"\n",
        "        return self.length * self.width\n",
        "\n",
        "    def perimeter(self) -> int:\n",
        "        \"\"\"Calculate and return the perimeter of the rectangle.\"\"\"\n",
        "        return 2 * (self.length + self.width)\n",
        "\n",
        "    def __iter__(self):\n",
        "        \"\"\"Allow iteration over the length and width in dictionary format.\"\"\"\n",
        "        yield {'length': self.length}\n",
        "        yield {'width': self.width}\n",
        "\n",
        "# Example usage\n",
        "rect = Rectangle(length=10, width=5)\n",
        "for dimension in rect:\n",
        "    print(dimension)"
      ],
      "metadata": {
        "colab": {
          "base_uri": "https://localhost:8080/"
        },
        "id": "a4QPTMV3qjzk",
        "outputId": "28ec0a93-3780-4463-e724-8629dcee7ba1"
      },
      "execution_count": 5,
      "outputs": [
        {
          "output_type": "stream",
          "name": "stdout",
          "text": [
            "{'length': 10}\n",
            "{'width': 5}\n"
          ]
        }
      ]
    }
  ]
}