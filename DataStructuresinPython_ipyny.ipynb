{
  "nbformat": 4,
  "nbformat_minor": 0,
  "metadata": {
    "colab": {
      "provenance": []
    },
    "kernelspec": {
      "name": "python3",
      "display_name": "Python 3"
    },
    "language_info": {
      "name": "python"
    }
  },
  "cells": [
    {
      "cell_type": "markdown",
      "source": [
        "**1.write a code to reverse a string**"
      ],
      "metadata": {
        "id": "O0S2GosXq1t1"
      }
    },
    {
      "cell_type": "code",
      "source": [
        "def reverse_string(text):\n",
        "    return text[::-1]  # Use slicing to reverse the string\n",
        "\n",
        "# Example usage\n",
        "input_string = \"Write code to reverse a string\"\n",
        "result = reverse_string(input_string)\n",
        "print(f\"Reversed string: '{result}'\")"
      ],
      "metadata": {
        "id": "OhF8eVV6riNh",
        "colab": {
          "base_uri": "https://localhost:8080/"
        },
        "outputId": "dde88974-8f6c-4872-8394-fee0c7cf8308"
      },
      "execution_count": null,
      "outputs": [
        {
          "output_type": "stream",
          "name": "stdout",
          "text": [
            "Reversed string: 'gnirts a esrever ot edoc etirW'\n"
          ]
        }
      ]
    },
    {
      "cell_type": "code",
      "source": [
        "Explanation:\n",
        "\n",
        "1.text[::-1]: This uses Python's slicing to reverse the string.\n",
        "   -1 indicates a step in reverse order.\n",
        "2.The function returns the reversed string."
      ],
      "metadata": {
        "id": "x0prBBIzrnTA"
      },
      "execution_count": null,
      "outputs": []
    },
    {
      "cell_type": "markdown",
      "source": [
        "**2.Write a code o check the number of vowels in a sirng**"
      ],
      "metadata": {
        "id": "xk41wjnir37f"
      }
    },
    {
      "cell_type": "code",
      "source": [
        "def count_vowels(text):\n",
        "    vowels = \"aeiouAEIOU\"  # Define vowels (both uppercase and lowercase)\n",
        "    count = 0\n",
        "    for char in text:\n",
        "        if char in vowels:\n",
        "            count += 1\n",
        "    return count\n",
        "\n",
        "# Example usage\n",
        "input_string = \"Write code to count the number of vowels in a string\"\n",
        "result = count_vowels(input_string)\n",
        "print(f\"Number of vowels: {result}\")"
      ],
      "metadata": {
        "colab": {
          "base_uri": "https://localhost:8080/"
        },
        "id": "e_xEi1KctJKM",
        "outputId": "0b54e8cf-a032-4ac3-e6a1-41b7b2dd7a8e"
      },
      "execution_count": null,
      "outputs": [
        {
          "output_type": "stream",
          "name": "stdout",
          "text": [
            "Number of vowels: 16\n"
          ]
        }
      ]
    },
    {
      "cell_type": "code",
      "source": [
        "Explanation:\n",
        "\n",
        "1.vowels contains all the vowels (both uppercase and lowercase).\n",
        "2.The for loop goes through each character of the input string.\n",
        "3.If the character is found in the vowels list, it increments the counter.\n",
        "4.Finally, the total number of vowels is returned and printed."
      ],
      "metadata": {
        "id": "XGZ6Mk2ktSIr"
      },
      "execution_count": null,
      "outputs": []
    },
    {
      "cell_type": "markdown",
      "source": [
        "**3.write a code to check if a given string is a polindrome or not**"
      ],
      "metadata": {
        "id": "UZVR0-5HtxV0"
      }
    },
    {
      "cell_type": "code",
      "source": [
        "def is_palindrome(text):\n",
        "    # Remove spaces and convert to lowercase for a case-insensitive check\n",
        "    cleaned_text = text.replace(\" \", \"\").lower()\n",
        "    # Check if the cleaned text is the same when reversed\n",
        "    return cleaned_text == cleaned_text[::-1]\n",
        "\n",
        "# Example usage\n",
        "input_string = \"A man a plan a canal Panama\"\n",
        "if is_palindrome(input_string):\n",
        "    print(f\"'{input_string}' is a palindrome.\")\n",
        "else:\n",
        "    print(f\"'{input_string}' is not a palindrome.\")"
      ],
      "metadata": {
        "colab": {
          "base_uri": "https://localhost:8080/"
        },
        "id": "jpTSri3UuIho",
        "outputId": "1ff25a8f-4cf2-4e9e-dec8-2a59022e5971"
      },
      "execution_count": null,
      "outputs": [
        {
          "output_type": "stream",
          "name": "stdout",
          "text": [
            "'A man a plan a canal Panama' is a palindrome.\n"
          ]
        }
      ]
    },
    {
      "cell_type": "code",
      "source": [
        "Explanation:\n",
        "\n",
        "1.replace(\" \", \"\") removes all spaces to ensure that phrases with spaces are checked properly.\n",
        "2..lower() converts the string to lowercase to avoid case mismatches.\n",
        "3.The palindrome check compares the string to its reversed version using slicing ([::-1])."
      ],
      "metadata": {
        "id": "XVUZyhsEugPx"
      },
      "execution_count": null,
      "outputs": []
    },
    {
      "cell_type": "markdown",
      "source": [
        "**4.write a code to check if two given strings are anograms of each other**"
      ],
      "metadata": {
        "id": "diVOTh-musEI"
      }
    },
    {
      "cell_type": "code",
      "source": [
        "def are_anagrams(str1, str2):\n",
        "    # Remove spaces and convert both strings to lowercase\n",
        "    cleaned_str1 = str1.replace(\" \", \"\").lower()\n",
        "    cleaned_str2 = str2.replace(\" \", \"\").lower()\n",
        "\n",
        "    # Check if sorted versions of both strings are equal\n",
        "    return sorted(cleaned_str1) == sorted(cleaned_str2)\n",
        "\n",
        "# Example usage\n",
        "string1 = \"Listen\"\n",
        "string2 = \"Silent\"\n",
        "if are_anagrams(string1, string2):\n",
        "    print(f\"'{string1}' and '{string2}' are anagrams.\")\n",
        "else:\n",
        "    print(f\"'{string1}' and '{string2}' are not anagrams.\")"
      ],
      "metadata": {
        "colab": {
          "base_uri": "https://localhost:8080/"
        },
        "id": "fQtpcZh9vBFu",
        "outputId": "70ac3210-4719-4a3b-b154-e655a1b46925"
      },
      "execution_count": null,
      "outputs": [
        {
          "output_type": "stream",
          "name": "stdout",
          "text": [
            "'Listen' and 'Silent' are anagrams.\n"
          ]
        }
      ]
    },
    {
      "cell_type": "code",
      "source": [
        "Explanation:\n",
        "\n",
        "1.replace(\" \", \"\") removes spaces to ensure we ignore spaces in phrases.\n",
        "2..lower() ensures case-insensitivity by converting both strings to lowercase.\n",
        "3.sorted() rearranges the characters of the strings in alphabetical order.\n",
        "4.If the sorted versions are equal, the two strings are anagrams"
      ],
      "metadata": {
        "id": "HNzvlSSxvyL-"
      },
      "execution_count": null,
      "outputs": []
    },
    {
      "cell_type": "markdown",
      "source": [
        "**5.write a code to find all occurrences of a given substring within another string**"
      ],
      "metadata": {
        "id": "R78maPxIvJ5-"
      }
    },
    {
      "cell_type": "code",
      "source": [
        "def find_all_occurrences(text, substring):\n",
        "    occurrences = []  # Store the starting index of each occurrence\n",
        "    start = 0  # Start searching from index 0\n",
        "\n",
        "    while True:\n",
        "        index = text.find(substring, start)  # Find the next occurrence\n",
        "        if index == -1:  # If no more occurrences, break the loop\n",
        "            break\n",
        "        occurrences.append(index)  # Store the index\n",
        "        start = index + 1  # Move start to the next character\n",
        "\n",
        "    return occurrences\n",
        "\n",
        "# Example usage\n",
        "text = \"This is a test. This test is just a test.\"\n",
        "substring = \"test\"\n",
        "result = find_all_occurrences(text, substring)\n",
        "\n",
        "print(f\"All occurrences of '{substring}' found at indices: {result}\")"
      ],
      "metadata": {
        "colab": {
          "base_uri": "https://localhost:8080/"
        },
        "id": "NqHnAFh2v8Er",
        "outputId": "6db79bb6-8a19-41dd-b1b4-ad4ada42a066"
      },
      "execution_count": null,
      "outputs": [
        {
          "output_type": "stream",
          "name": "stdout",
          "text": [
            "All occurrences of 'test' found at indices: [10, 21, 36]\n"
          ]
        }
      ]
    },
    {
      "cell_type": "code",
      "source": [
        "Explanation:\n",
        "\n",
        "1.text.find(substring, start) searches for the substring starting from the given start index.\n",
        "2.If an occurrence is found, the starting index is added to the occurrences list.\n",
        "3.start = index + 1 ensures the search continues beyond the previous match.\n",
        "4.If find() returns -1, it means no more occurrences are found, and the loop ends."
      ],
      "metadata": {
        "id": "w9zI80NmwFDD"
      },
      "execution_count": null,
      "outputs": []
    },
    {
      "cell_type": "markdown",
      "source": [
        "**6.write a code to perform basic string compressions using the counts of repeated characters**"
      ],
      "metadata": {
        "id": "lAzbi34-wPYb"
      }
    },
    {
      "cell_type": "code",
      "source": [
        "def compress_string(text):\n",
        "    if not text:\n",
        "        return \"\"  # Handle empty string\n",
        "\n",
        "    compressed = []\n",
        "    count = 1  # Initialize the count for the first character\n",
        "\n",
        "    for i in range(1, len(text)):\n",
        "        if text[i] == text[i - 1]:  # Check if the current char matches the previous one\n",
        "            count += 1  # Increment the count\n",
        "        else:\n",
        "            compressed.append(text[i - 1] + str(count))  # Store char and count\n",
        "            count = 1  # Reset the count for the new character\n",
        "\n",
        "    # Add the last character and its count\n",
        "    compressed.append(text[-1] + str(count))\n",
        "\n",
        "    # Join the compressed list into a string\n",
        "    compressed_text = ''.join(compressed)\n",
        "\n",
        "    # Return the compressed string only if it's shorter than the original\n",
        "    return compressed_text if len(compressed_text) < len(text) else text\n",
        "\n",
        "# Example usage\n",
        "input_string = \"aabcccccaaa\"\n",
        "result = compress_string(input_string)\n",
        "print(f\"Compressed string: {result}\")"
      ],
      "metadata": {
        "colab": {
          "base_uri": "https://localhost:8080/"
        },
        "id": "l8nXHBESxp1N",
        "outputId": "42b5b6d3-a7bc-46c6-8a19-46661540182c"
      },
      "execution_count": null,
      "outputs": [
        {
          "output_type": "stream",
          "name": "stdout",
          "text": [
            "Compressed string: a2b1c5a3\n"
          ]
        }
      ]
    },
    {
      "cell_type": "code",
      "source": [
        "Explanation:\n",
        "\n",
        "1.handling consecutive characters:\n",
        "\n",
        "a.If the current character matches the previous one, increment the count.\n",
        "b.If it differs, append the previous character along with its count to the compressed list.\n",
        "2.Handling the last character:\n",
        "\n",
        "a.After the loop ends, we need to append the final character and its count.\n",
        "3.Optimization:\n",
        "\n",
        "a.If the compressed string is not shorter than the original, return the original string."
      ],
      "metadata": {
        "id": "QBTVrHTAyF2s"
      },
      "execution_count": null,
      "outputs": []
    },
    {
      "cell_type": "markdown",
      "source": [
        "**7.write a code to determine if a string has all unique characters**"
      ],
      "metadata": {
        "id": "YJRTRujoyyhq"
      }
    },
    {
      "cell_type": "code",
      "source": [
        "def has_unique_characters(text):\n",
        "    # Use a set to track seen characters\n",
        "    seen = set()\n",
        "\n",
        "    for char in text:\n",
        "        if char in seen:\n",
        "            return False  # Duplicate found, return False\n",
        "        seen.add(char)  # Add character to the set\n",
        "\n",
        "    return True  # No duplicates found, return True\n",
        "\n",
        "# Example usage\n",
        "input_string = \"abcdefg\"\n",
        "result = has_unique_characters(input_string)\n",
        "\n",
        "if result:\n",
        "    print(f\"'{input_string}' has all unique characters.\")\n",
        "else:\n",
        "    print(f\"'{input_string}' does not have all unique characters.\")"
      ],
      "metadata": {
        "colab": {
          "base_uri": "https://localhost:8080/"
        },
        "id": "forV9GrNz6iw",
        "outputId": "05cea4b9-d957-488a-8102-bdd9f2e31de6"
      },
      "execution_count": null,
      "outputs": [
        {
          "output_type": "stream",
          "name": "stdout",
          "text": [
            "'abcdefg' has all unique characters.\n"
          ]
        }
      ]
    },
    {
      "cell_type": "code",
      "source": [
        "Explanation:\n",
        "\n",
        "1.Set data structure: A set ensures that each character is only stored once, allowing for O(1) lookups.\n",
        "2.Loop through the string: For each character, we check if it’s already in the set.\n",
        "3.If it is, the function returns False (indicating a duplicate).\n",
        "4.If not, the character is added to the set.\n",
        "5.If all characters are processed without duplicates, the function returns True"
      ],
      "metadata": {
        "id": "K6Mjm5T00JlG"
      },
      "execution_count": null,
      "outputs": []
    },
    {
      "cell_type": "markdown",
      "source": [
        "**8.Write a code to convert a given string to uppercase or lowercase**"
      ],
      "metadata": {
        "id": "1g26Fln81UuZ"
      }
    },
    {
      "cell_type": "markdown",
      "source": [
        "Here is Python code to convert a given string to uppercase or lowercase based on user choice:"
      ],
      "metadata": {
        "id": "QhmXCneaG2MN"
      }
    },
    {
      "cell_type": "code",
      "source": [
        "def convert_case(text, to_upper=True):\n",
        "    if to_upper:\n",
        "        return text.upper()  # Convert to uppercase\n",
        "    else:\n",
        "        return text.lower()  # Convert to lowercase\n",
        "\n",
        "# Example usage\n",
        "input_string = \"Hello World!\"\n",
        "print(\"Uppercase:\", convert_case(input_string, to_upper=True))  # Uppercase\n",
        "print(\"Lowercase:\", convert_case(input_string, to_upper=False))  # Lowercase"
      ],
      "metadata": {
        "colab": {
          "base_uri": "https://localhost:8080/"
        },
        "id": "jS0jBOtvG9ec",
        "outputId": "b95f9fbd-237c-46d4-d890-58098994b3f0"
      },
      "execution_count": null,
      "outputs": [
        {
          "output_type": "stream",
          "name": "stdout",
          "text": [
            "Uppercase: HELLO WORLD!\n",
            "Lowercase: hello world!\n"
          ]
        }
      ]
    },
    {
      "cell_type": "markdown",
      "source": [
        "**9.Write a code to count the number of words in a string**"
      ],
      "metadata": {
        "id": "N1cKH_VaHBuW"
      }
    },
    {
      "cell_type": "markdown",
      "source": [
        "Here is a Python code to count the number of words in a given string:"
      ],
      "metadata": {
        "id": "fcHJCoCQHH4N"
      }
    },
    {
      "cell_type": "code",
      "source": [
        "def count_words(text):\n",
        "    # Split the string into words based on whitespace\n",
        "    words = text.split()\n",
        "    return len(words)\n",
        "\n",
        "# Example usage\n",
        "input_string = \"Write a code to count the number of words in a string\"\n",
        "result = count_words(input_string)\n",
        "print(f\"Number of words: {result}\")"
      ],
      "metadata": {
        "colab": {
          "base_uri": "https://localhost:8080/"
        },
        "id": "QiWsn_1yHKRU",
        "outputId": "7684705f-e606-4760-daf7-ea8d586f7a5c"
      },
      "execution_count": null,
      "outputs": [
        {
          "output_type": "stream",
          "name": "stdout",
          "text": [
            "Number of words: 12\n"
          ]
        }
      ]
    },
    {
      "cell_type": "markdown",
      "source": [
        "**10.Write a code to concatenate two strings without using the + operator**"
      ],
      "metadata": {
        "id": "mSaisYgkHOA0"
      }
    },
    {
      "cell_type": "markdown",
      "source": [
        "Here’s a Python code to concatenate two strings without using the + operator:"
      ],
      "metadata": {
        "id": "vQ9pjMQyHTbs"
      }
    },
    {
      "cell_type": "code",
      "source": [
        "def concatenate_strings(str1, str2):\n",
        "    return \"{}{}\".format(str1, str2)  # Using format method\n",
        "\n",
        "# Example usage\n",
        "string1 = \"Hello\"\n",
        "string2 = \"World\"\n",
        "result = concatenate_strings(string1, string2)\n",
        "print(f\"Concatenated string: '{result}'\")"
      ],
      "metadata": {
        "colab": {
          "base_uri": "https://localhost:8080/"
        },
        "id": "RgX6JkWnHSz1",
        "outputId": "80e514f4-3eb2-4eeb-a5ee-1fc95f09d6cc"
      },
      "execution_count": null,
      "outputs": [
        {
          "output_type": "stream",
          "name": "stdout",
          "text": [
            "Concatenated string: 'HelloWorld'\n"
          ]
        }
      ]
    },
    {
      "cell_type": "code",
      "source": [
        "Using join():"
      ],
      "metadata": {
        "id": "252-H8peHbUl"
      },
      "execution_count": null,
      "outputs": []
    },
    {
      "cell_type": "code",
      "source": [
        "def concatenate_strings(str1, str2):\n",
        "    return \"\".join([str1, str2])"
      ],
      "metadata": {
        "id": "TFiEyi_gHcVE"
      },
      "execution_count": null,
      "outputs": []
    },
    {
      "cell_type": "code",
      "source": [
        "Using f-string (Python 3.6+):"
      ],
      "metadata": {
        "id": "n42FVzRDHhyc"
      },
      "execution_count": null,
      "outputs": []
    },
    {
      "cell_type": "code",
      "source": [
        "def concatenate_strings(str1, str2):\n",
        "    return f\"{str1}{str2}\""
      ],
      "metadata": {
        "id": "6Xbh2G0PHjyt"
      },
      "execution_count": null,
      "outputs": []
    },
    {
      "cell_type": "markdown",
      "source": [
        "**11.Write a code to remove all occurrences of a specific element from a list**"
      ],
      "metadata": {
        "id": "UUuV-IHrHmmj"
      }
    },
    {
      "cell_type": "code",
      "source": [
        "def remove_all_occurrences(lst, element):\n",
        "    return [x for x in lst if x != element]  # List comprehension to filter out the element\n",
        "\n",
        "# Example usage\n",
        "input_list = [1, 2, 3, 4, 2, 5, 2, 6]\n",
        "element_to_remove = 2\n",
        "result = remove_all_occurrences(input_list, element_to_remove)\n",
        "print(f\"Updated list: {result}\")"
      ],
      "metadata": {
        "colab": {
          "base_uri": "https://localhost:8080/"
        },
        "id": "F1UUm5hdHsHb",
        "outputId": "4b30a03f-a70d-4b66-9478-f5a9d88d8672"
      },
      "execution_count": null,
      "outputs": [
        {
          "output_type": "stream",
          "name": "stdout",
          "text": [
            "Updated list: [1, 3, 4, 5, 6]\n"
          ]
        }
      ]
    },
    {
      "cell_type": "code",
      "source": [
        "Alternative Approach (Using filter()):"
      ],
      "metadata": {
        "id": "Z2_XS7G4Hve6"
      },
      "execution_count": null,
      "outputs": []
    },
    {
      "cell_type": "code",
      "source": [
        "def remove_all_occurrences(lst, element):\n",
        "    return list(filter(lambda x: x != element, lst))"
      ],
      "metadata": {
        "id": "qoHaoZI_Hxiy"
      },
      "execution_count": null,
      "outputs": []
    },
    {
      "cell_type": "code",
      "source": [
        "This version uses filter() with a lambda function to achieve the same result."
      ],
      "metadata": {
        "id": "l8cZoi4lH0zq"
      },
      "execution_count": null,
      "outputs": []
    },
    {
      "cell_type": "markdown",
      "source": [
        "**12.Implement a code to find the second largest number in a given list of integers**"
      ],
      "metadata": {
        "id": "qh_8zb8zH2_6"
      }
    },
    {
      "cell_type": "code",
      "source": [
        "def second_largest(numbers):\n",
        "    if len(numbers) < 2:\n",
        "        raise ValueError(\"The list must contain at least two distinct numbers.\")\n",
        "\n",
        "    # Use two variables to keep track of the largest and second largest\n",
        "    largest = second_largest = float('-inf')\n",
        "\n",
        "    for num in numbers:\n",
        "        if num > largest:\n",
        "            second_largest, largest = largest, num  # Update both\n",
        "        elif num > second_largest and num < largest:\n",
        "            second_largest = num  # Update second largest\n",
        "\n",
        "    if second_largest == float('-inf'):\n",
        "        raise ValueError(\"The list must contain at least two distinct numbers.\")\n",
        "\n",
        "    return second_largest\n",
        "\n",
        "# Example usage\n",
        "input_list = [10, 20, 4, 45, 99, 99]\n",
        "result = second_largest(input_list)\n",
        "print(f\"The second largest number is: {result}\")"
      ],
      "metadata": {
        "colab": {
          "base_uri": "https://localhost:8080/"
        },
        "id": "Ch0Y06QKH8iC",
        "outputId": "fbb73dc5-446e-48fe-fda5-be4e9f6af999"
      },
      "execution_count": null,
      "outputs": [
        {
          "output_type": "stream",
          "name": "stdout",
          "text": [
            "The second largest number is: 45\n"
          ]
        }
      ]
    },
    {
      "cell_type": "markdown",
      "source": [
        "**13.Create a code to count the occurrences of each element in a list and return a dictionary with elements as\n",
        "keys and their counts as values**"
      ],
      "metadata": {
        "id": "Oi4d4VwZH_2y"
      }
    },
    {
      "cell_type": "code",
      "source": [
        "Here’s Python code to count the occurrences of each element in a list and return a dictionary with elements as keys and their counts as values:"
      ],
      "metadata": {
        "id": "hchWUhFWIFbR"
      },
      "execution_count": null,
      "outputs": []
    },
    {
      "cell_type": "code",
      "source": [
        "def count_occurrences(lst):\n",
        "    counts = {}  # Initialize an empty dictionary\n",
        "\n",
        "    for element in lst:\n",
        "        if element in counts:\n",
        "            counts[element] += 1  # Increment count if element exists\n",
        "        else:\n",
        "            counts[element] = 1  # Initialize count to 1 if new element\n",
        "\n",
        "    return counts\n",
        "\n",
        "# Example usage\n",
        "input_list = [1, 2, 2, 3, 4, 4, 4, 5]\n",
        "result = count_occurrences(input_list)\n",
        "print(f\"Element counts: {result}\")"
      ],
      "metadata": {
        "colab": {
          "base_uri": "https://localhost:8080/"
        },
        "id": "DHa7IiweIHTK",
        "outputId": "a065be55-b6c2-4159-b68a-d0e9e1b41025"
      },
      "execution_count": null,
      "outputs": [
        {
          "output_type": "stream",
          "name": "stdout",
          "text": [
            "Element counts: {1: 1, 2: 2, 3: 1, 4: 3, 5: 1}\n"
          ]
        }
      ]
    },
    {
      "cell_type": "code",
      "source": [
        "Alternative Approach (Using collections.Counter):"
      ],
      "metadata": {
        "id": "Q63gH4vyIKzY"
      },
      "execution_count": null,
      "outputs": []
    },
    {
      "cell_type": "code",
      "source": [
        "from collections import Counter\n",
        "\n",
        "def count_occurrences(lst):\n",
        "    return dict(Counter(lst))\n",
        "\n",
        "# Example usage\n",
        "input_list = [1, 2, 2, 3, 4, 4, 4, 5]\n",
        "result = count_occurrences(input_list)\n",
        "print(f\"Element counts: {result}\")"
      ],
      "metadata": {
        "colab": {
          "base_uri": "https://localhost:8080/"
        },
        "id": "t6Ftkwd-IMvB",
        "outputId": "b4063e2d-82ba-470e-8917-5edcc47c1bd2"
      },
      "execution_count": null,
      "outputs": [
        {
          "output_type": "stream",
          "name": "stdout",
          "text": [
            "Element counts: {1: 1, 2: 2, 3: 1, 4: 3, 5: 1}\n"
          ]
        }
      ]
    },
    {
      "cell_type": "markdown",
      "source": [
        "**14.Write a code to reverse a list in-place without using any built-in reverse functions**"
      ],
      "metadata": {
        "id": "u70n9bhLIQGx"
      }
    },
    {
      "cell_type": "code",
      "source": [
        "def reverse_list_in_place(lst):\n",
        "    # Use two-pointer technique to swap elements\n",
        "    left = 0\n",
        "    right = len(lst) - 1\n",
        "\n",
        "    while left < right:\n",
        "        # Swap elements at the left and right pointers\n",
        "        lst[left], lst[right] = lst[right], lst[left]\n",
        "        # Move the pointers towards the center\n",
        "        left += 1\n",
        "        right -= 1\n",
        "\n",
        "# Example usage\n",
        "input_list = [1, 2, 3, 4, 5]\n",
        "reverse_list_in_place(input_list)\n",
        "print(f\"Reversed list: {input_list}\")"
      ],
      "metadata": {
        "colab": {
          "base_uri": "https://localhost:8080/"
        },
        "id": "vakbaO8bIVVQ",
        "outputId": "16589121-d819-459f-91d9-a6c25d26eaa8"
      },
      "execution_count": null,
      "outputs": [
        {
          "output_type": "stream",
          "name": "stdout",
          "text": [
            "Reversed list: [5, 4, 3, 2, 1]\n"
          ]
        }
      ]
    },
    {
      "cell_type": "markdown",
      "source": [
        "**15.Implement a code to find and remove duplicates from a list while preserving the original order of\n",
        "elements**"
      ],
      "metadata": {
        "id": "OV2MzyWCIYSZ"
      }
    },
    {
      "cell_type": "code",
      "source": [
        "def remove_duplicates(lst):\n",
        "    seen = set()  # Track elements that have already been seen\n",
        "    result = []   # Store the elements in order without duplicates\n",
        "\n",
        "    for element in lst:\n",
        "        if element not in seen:\n",
        "            seen.add(element)  # Mark element as seen\n",
        "            result.append(element)  # Add to result list\n",
        "\n",
        "    return result\n",
        "\n",
        "# Example usage\n",
        "input_list = [1, 2, 2, 3, 4, 3, 5, 1, 6]\n",
        "result = remove_duplicates(input_list)\n",
        "print(f\"List after removing duplicates: {result}\")"
      ],
      "metadata": {
        "colab": {
          "base_uri": "https://localhost:8080/"
        },
        "id": "PYB2bYfxIdkS",
        "outputId": "ebae4309-10d9-46c7-8899-9cdf2d0d9ff9"
      },
      "execution_count": null,
      "outputs": [
        {
          "output_type": "stream",
          "name": "stdout",
          "text": [
            "List after removing duplicates: [1, 2, 3, 4, 5, 6]\n"
          ]
        }
      ]
    },
    {
      "cell_type": "markdown",
      "source": [
        "**16.Create a code to check if a given list is sorted (either in ascending or descending order) or not**"
      ],
      "metadata": {
        "id": "JblIGnXAIg7A"
      }
    },
    {
      "cell_type": "code",
      "source": [
        "def is_sorted(lst):\n",
        "    if len(lst) < 2:\n",
        "        return True  # A list with 0 or 1 element is always sorted\n",
        "\n",
        "    # Check for ascending order\n",
        "    is_ascending = all(lst[i] <= lst[i + 1] for i in range(len(lst) - 1))\n",
        "\n",
        "    # Check for descending order\n",
        "    is_descending = all(lst[i] >= lst[i + 1] for i in range(len(lst) - 1))\n",
        "\n",
        "    return is_ascending or is_descending\n",
        "\n",
        "# Example usage\n",
        "input_list1 = [1, 2, 3, 4, 5]\n",
        "input_list2 = [5, 4, 3, 2, 1]\n",
        "input_list3 = [1, 3, 2, 5, 4]\n",
        "\n",
        "print(f\"List 1 is sorted: {is_sorted(input_list1)}\")  # True\n",
        "print(f\"List 2 is sorted: {is_sorted(input_list2)}\")  # True\n",
        "print(f\"List 3 is sorted: {is_sorted(input_list3)}\")  # False"
      ],
      "metadata": {
        "colab": {
          "base_uri": "https://localhost:8080/"
        },
        "id": "Aj1FEXX4IjJo",
        "outputId": "70e318c2-a3f1-4f5a-fc28-e016f0de2118"
      },
      "execution_count": null,
      "outputs": [
        {
          "output_type": "stream",
          "name": "stdout",
          "text": [
            "List 1 is sorted: True\n",
            "List 2 is sorted: True\n",
            "List 3 is sorted: False\n"
          ]
        }
      ]
    },
    {
      "cell_type": "markdown",
      "source": [
        "**17.Write a code to merge two sorted lists into a single sorted list**"
      ],
      "metadata": {
        "id": "pOm_PAKo_kmC"
      }
    },
    {
      "cell_type": "code",
      "source": [
        "def merge_sorted_lists(list1, list2):\n",
        "    # Initialize pointers and the result list\n",
        "    i, j = 0, 0\n",
        "    result = []\n",
        "\n",
        "    # Traverse both lists and append the smaller element\n",
        "    while i < len(list1) and j < len(list2):\n",
        "        if list1[i] <= list2[j]:\n",
        "            result.append(list1[i])\n",
        "            i += 1\n",
        "        else:\n",
        "            result.append(list2[j])\n",
        "            j += 1\n",
        "\n",
        "    # Add remaining elements from either list (if any)\n",
        "    result.extend(list1[i:])\n",
        "    result.extend(list2[j:])\n",
        "\n",
        "    return result\n",
        "\n",
        "# Example usage\n",
        "list1 = [1, 3, 5, 7]\n",
        "list2 = [2, 4, 6, 8]\n",
        "merged_list = merge_sorted_lists(list1, list2)\n",
        "print(f\"Merged sorted list: {merged_list}\")"
      ],
      "metadata": {
        "colab": {
          "base_uri": "https://localhost:8080/"
        },
        "id": "MRMsW2t__qhx",
        "outputId": "edd497ed-9a6f-4631-80e8-966b998ab6bf"
      },
      "execution_count": null,
      "outputs": [
        {
          "output_type": "stream",
          "name": "stdout",
          "text": [
            "Merged sorted list: [1, 2, 3, 4, 5, 6, 7, 8]\n"
          ]
        }
      ]
    },
    {
      "cell_type": "code",
      "source": [
        "Edge Cases:\n",
        "\n",
        "Empty lists: Works if one or both lists are empty"
      ],
      "metadata": {
        "id": "MVDKEcrc_uih"
      },
      "execution_count": null,
      "outputs": []
    },
    {
      "cell_type": "code",
      "source": [
        "merge_sorted_lists([], [1, 2, 3])\n",
        "merge_sorted_lists([], [])"
      ],
      "metadata": {
        "colab": {
          "base_uri": "https://localhost:8080/"
        },
        "id": "1c51lfCT_0HI",
        "outputId": "da92e816-41ce-4537-ebe8-e83a9142a65d"
      },
      "execution_count": null,
      "outputs": [
        {
          "output_type": "execute_result",
          "data": {
            "text/plain": [
              "[]"
            ]
          },
          "metadata": {},
          "execution_count": 3
        }
      ]
    },
    {
      "cell_type": "markdown",
      "source": [
        "**18.Implement a code to find the intersection of two given lists**"
      ],
      "metadata": {
        "id": "i6xtmUdO_8Ao"
      }
    },
    {
      "cell_type": "code",
      "source": [
        "def find_intersection(list1, list2):\n",
        "    # Convert both lists to sets to find the common elements\n",
        "    set1 = set(list1)\n",
        "    set2 = set(list2)\n",
        "\n",
        "    # Find the intersection of both sets\n",
        "    intersection = set1.intersection(set2)\n",
        "\n",
        "    # Convert the result back to a list\n",
        "    return list(intersection)\n",
        "\n",
        "# Example usage\n",
        "list1 = [1, 2, 2, 3, 4]\n",
        "list2 = [2, 3, 5, 6]\n",
        "\n",
        "result = find_intersection(list1, list2)\n",
        "print(f\"Intersection of the lists: {result}\")"
      ],
      "metadata": {
        "colab": {
          "base_uri": "https://localhost:8080/"
        },
        "id": "8UDKJq92ABE_",
        "outputId": "4d57a294-11f4-42ce-cdf2-1147c8f397c9"
      },
      "execution_count": null,
      "outputs": [
        {
          "output_type": "stream",
          "name": "stdout",
          "text": [
            "Intersection of the lists: [2, 3]\n"
          ]
        }
      ]
    },
    {
      "cell_type": "code",
      "source": [
        "Edge Cases:\n",
        "\n",
        "Empty lists: If either or both lists are empty, the result will be an empty list"
      ],
      "metadata": {
        "id": "GxZZNYYKAEc4"
      },
      "execution_count": null,
      "outputs": []
    },
    {
      "cell_type": "code",
      "source": [
        "find_intersection([], [1, 2])\n",
        "find_intersection([], [])"
      ],
      "metadata": {
        "colab": {
          "base_uri": "https://localhost:8080/"
        },
        "id": "HE63ZjXcAirm",
        "outputId": "151f6e18-816f-4bbc-9a7c-e36b6944c948"
      },
      "execution_count": null,
      "outputs": [
        {
          "output_type": "execute_result",
          "data": {
            "text/plain": [
              "[]"
            ]
          },
          "metadata": {},
          "execution_count": 5
        }
      ]
    },
    {
      "cell_type": "code",
      "source": [
        "Alternative (Without Using Sets):\n",
        "\n",
        "If you need to preserve duplicate occurrences from the input lists, here’s an alternative:"
      ],
      "metadata": {
        "id": "PfnWODa7Ao71"
      },
      "execution_count": null,
      "outputs": []
    },
    {
      "cell_type": "code",
      "source": [
        "def find_intersection(list1, list2):\n",
        "    result = []\n",
        "    list2_copy = list2[:]  # Create a copy to track used elements\n",
        "\n",
        "    for element in list1:\n",
        "        if element in list2_copy:\n",
        "            result.append(element)\n",
        "            list2_copy.remove(element)  # Remove to avoid counting duplicates\n",
        "\n",
        "    return result\n",
        "\n",
        "# Example usage\n",
        "list1 = [1, 2, 2, 3]\n",
        "list2 = [2, 3, 2, 4]\n",
        "print(find_intersection(list1, list2))"
      ],
      "metadata": {
        "colab": {
          "base_uri": "https://localhost:8080/"
        },
        "id": "tuf1sbDdAt5H",
        "outputId": "12afb439-7f3b-427a-acff-998a193b9cde"
      },
      "execution_count": null,
      "outputs": [
        {
          "output_type": "stream",
          "name": "stdout",
          "text": [
            "[2, 2, 3]\n"
          ]
        }
      ]
    },
    {
      "cell_type": "markdown",
      "source": [
        "**19.Create a code to find the union of two lists without duplicates**"
      ],
      "metadata": {
        "id": "MZkDk6oxA75N"
      }
    },
    {
      "cell_type": "code",
      "source": [
        "def find_union(list1, list2):\n",
        "    # Use a set to remove duplicates from the union of both lists\n",
        "    union_set = set(list1).union(set(list2))\n",
        "\n",
        "    # Convert the set back to a list\n",
        "    return list(union_set)\n",
        "\n",
        "# Example usage\n",
        "list1 = [1, 2, 3, 4]\n",
        "list2 = [3, 4, 5, 6]\n",
        "\n",
        "result = find_union(list1, list2)\n",
        "print(f\"Union of the lists: {result}\")"
      ],
      "metadata": {
        "colab": {
          "base_uri": "https://localhost:8080/"
        },
        "id": "kFpO7AvgBHiE",
        "outputId": "ed3a5680-a337-474c-fb86-4c1c8aebddbd"
      },
      "execution_count": null,
      "outputs": [
        {
          "output_type": "stream",
          "name": "stdout",
          "text": [
            "Union of the lists: [1, 2, 3, 4, 5, 6]\n"
          ]
        }
      ]
    },
    {
      "cell_type": "code",
      "source": [
        "Edge Cases:\n",
        "\n",
        "Empty Lists"
      ],
      "metadata": {
        "id": "vj8Q3Tp5BLAV"
      },
      "execution_count": null,
      "outputs": []
    },
    {
      "cell_type": "code",
      "source": [
        "find_union([], [1, 2])\n",
        "find_union([], [])"
      ],
      "metadata": {
        "colab": {
          "base_uri": "https://localhost:8080/"
        },
        "id": "ZwMjdeAnBP5U",
        "outputId": "938efd08-b9d5-437c-c76b-ae31a0d4b090"
      },
      "execution_count": null,
      "outputs": [
        {
          "output_type": "execute_result",
          "data": {
            "text/plain": [
              "[]"
            ]
          },
          "metadata": {},
          "execution_count": 8
        }
      ]
    },
    {
      "cell_type": "code",
      "source": [
        "Identical Lists:"
      ],
      "metadata": {
        "id": "JjxtcM-oBWtr"
      },
      "execution_count": null,
      "outputs": []
    },
    {
      "cell_type": "code",
      "source": [
        "find_union([1, 2], [1, 2])"
      ],
      "metadata": {
        "colab": {
          "base_uri": "https://localhost:8080/"
        },
        "id": "769N8mv_BYvD",
        "outputId": "d451288f-ba2b-4a13-cf21-74dcc96fa53a"
      },
      "execution_count": null,
      "outputs": [
        {
          "output_type": "execute_result",
          "data": {
            "text/plain": [
              "[1, 2]"
            ]
          },
          "metadata": {},
          "execution_count": 9
        }
      ]
    },
    {
      "cell_type": "code",
      "source": [
        "Alternative (Without Using Sets):\n",
        "\n",
        "If you want to preserve the original order (the first occurrence of each element), you can use this approach:"
      ],
      "metadata": {
        "id": "GH4gPPm1BeYM"
      },
      "execution_count": null,
      "outputs": []
    },
    {
      "cell_type": "code",
      "source": [
        "def find_union(list1, list2):\n",
        "    result = []\n",
        "    for element in list1 + list2:\n",
        "        if element not in result:\n",
        "            result.append(element)\n",
        "    return result\n",
        "\n",
        "# Example usage\n",
        "list1 = [1, 2, 2, 3]\n",
        "list2 = [3, 4, 4, 5]\n",
        "print(find_union(list1, list2))"
      ],
      "metadata": {
        "colab": {
          "base_uri": "https://localhost:8080/"
        },
        "id": "dOL0aDbLBjSL",
        "outputId": "1d133693-6244-4056-86a9-7f34b0f5b4e7"
      },
      "execution_count": null,
      "outputs": [
        {
          "output_type": "stream",
          "name": "stdout",
          "text": [
            "[1, 2, 3, 4, 5]\n"
          ]
        }
      ]
    },
    {
      "cell_type": "markdown",
      "source": [
        "**20.Write a code to shuffle a given list randomly without using any built-in shuffle functions**"
      ],
      "metadata": {
        "id": "G8w0nTDGBnm7"
      }
    },
    {
      "cell_type": "code",
      "source": [
        "Here’s Python code to shuffle a list randomly without using any built-in shuffle functions (like random.shuffle()):"
      ],
      "metadata": {
        "id": "CN6whFWnBtLL"
      },
      "execution_count": null,
      "outputs": []
    },
    {
      "cell_type": "code",
      "source": [
        "import random  # Only for generating random indices\n",
        "\n",
        "def shuffle_list(lst):\n",
        "    n = len(lst)\n",
        "    for i in range(n - 1, 0, -1):\n",
        "        # Generate a random index from 0 to i\n",
        "        j = random.randint(0, i)\n",
        "        # Swap elements at indices i and j\n",
        "        lst[i], lst[j] = lst[j], lst[i]\n",
        "\n",
        "# Example usage\n",
        "input_list = [1, 2, 3, 4, 5]\n",
        "shuffle_list(input_list)\n",
        "print(f\"Shuffled list: {input_list}\")"
      ],
      "metadata": {
        "colab": {
          "base_uri": "https://localhost:8080/"
        },
        "id": "m4XrIX6dBviz",
        "outputId": "1b2bd29b-0da3-4bc0-9876-e00eb0bb2e2d"
      },
      "execution_count": null,
      "outputs": [
        {
          "output_type": "stream",
          "name": "stdout",
          "text": [
            "Shuffled list: [2, 5, 4, 3, 1]\n"
          ]
        }
      ]
    },
    {
      "cell_type": "code",
      "source": [
        "Edge Cases:\n",
        "\n",
        ".Empty list ([]): No change.\n",
        ".Single element list ([1]): No change, since there’s nothing to shuffle."
      ],
      "metadata": {
        "id": "muQPgwJeBzuK"
      },
      "execution_count": null,
      "outputs": []
    },
    {
      "cell_type": "markdown",
      "source": [
        "**21.Write a code that takes two tuples as input and returns a new tuple containing elements that are\n",
        "common to both input tuples**"
      ],
      "metadata": {
        "id": "l0KbfoAxB4nq"
      }
    },
    {
      "cell_type": "code",
      "source": [
        "def common_elements(tuple1, tuple2):\n",
        "    # Convert tuples to sets and find the intersection\n",
        "    common_set = set(tuple1).intersection(set(tuple2))\n",
        "\n",
        "    # Convert the result back to a tuple\n",
        "    return tuple(common_set)\n",
        "\n",
        "# Example usage\n",
        "tuple1 = (1, 2, 3, 4, 5)\n",
        "tuple2 = (3, 4, 5, 6, 7)\n",
        "result = common_elements(tuple1, tuple2)\n",
        "print(f\"Common elements: {result}\")"
      ],
      "metadata": {
        "colab": {
          "base_uri": "https://localhost:8080/"
        },
        "id": "Y5VOCWqfB9PJ",
        "outputId": "22f1c4a9-d56e-47aa-93d9-c73537d22fa7"
      },
      "execution_count": null,
      "outputs": [
        {
          "output_type": "stream",
          "name": "stdout",
          "text": [
            "Common elements: (3, 4, 5)\n"
          ]
        }
      ]
    },
    {
      "cell_type": "code",
      "source": [
        "Edge Cases:\n",
        "\n",
        "No common elements"
      ],
      "metadata": {
        "id": "K90tKsymCBRi"
      },
      "execution_count": null,
      "outputs": []
    },
    {
      "cell_type": "code",
      "source": [
        "common_elements((1, 2), (3, 4))"
      ],
      "metadata": {
        "colab": {
          "base_uri": "https://localhost:8080/"
        },
        "id": "9kA2ePMsCDzx",
        "outputId": "dfe99bf1-6c71-4c79-a93f-2365d90a76c3"
      },
      "execution_count": null,
      "outputs": [
        {
          "output_type": "execute_result",
          "data": {
            "text/plain": [
              "()"
            ]
          },
          "metadata": {},
          "execution_count": 13
        }
      ]
    },
    {
      "cell_type": "code",
      "source": [
        "Empty tuples:"
      ],
      "metadata": {
        "id": "dgJWfKKRCHyx"
      },
      "execution_count": null,
      "outputs": []
    },
    {
      "cell_type": "code",
      "source": [
        "common_elements((), ())"
      ],
      "metadata": {
        "colab": {
          "base_uri": "https://localhost:8080/"
        },
        "id": "R1l5_X0xCJFq",
        "outputId": "590ea396-fdf7-46b7-cff7-8c8533935068"
      },
      "execution_count": null,
      "outputs": [
        {
          "output_type": "execute_result",
          "data": {
            "text/plain": [
              "()"
            ]
          },
          "metadata": {},
          "execution_count": 14
        }
      ]
    },
    {
      "cell_type": "code",
      "source": [
        "Identical tuples"
      ],
      "metadata": {
        "id": "X_OF8WG_CMwR"
      },
      "execution_count": null,
      "outputs": []
    },
    {
      "cell_type": "code",
      "source": [
        "common_elements((1, 2, 3), (1, 2, 3))"
      ],
      "metadata": {
        "colab": {
          "base_uri": "https://localhost:8080/"
        },
        "id": "xoxfLog8CO5p",
        "outputId": "1041053f-ec50-4d8d-d568-b2e94c376fd5"
      },
      "execution_count": null,
      "outputs": [
        {
          "output_type": "execute_result",
          "data": {
            "text/plain": [
              "(1, 2, 3)"
            ]
          },
          "metadata": {},
          "execution_count": 15
        }
      ]
    },
    {
      "cell_type": "markdown",
      "source": [
        "**22.Create a code that prompts the user to enter two sets of integers separated by commas. Then, print the\n",
        "intersection of these two sets**"
      ],
      "metadata": {
        "id": "S1DbH2lXCSkA"
      }
    },
    {
      "cell_type": "code",
      "source": [
        "def get_set_from_input(prompt):\n",
        "    # Take input, split by commas, strip spaces, and convert to integers\n",
        "    return set(map(int, input(prompt).split(',')))\n",
        "\n",
        "# Prompt the user to enter two sets of integers\n",
        "set1 = get_set_from_input(\"Enter the first set of integers (comma-separated): \")\n",
        "set2 = get_set_from_input(\"Enter the second set of integers (comma-separated): \")\n",
        "\n",
        "# Find the intersection of the two sets\n",
        "intersection = set1.intersection(set2)\n",
        "\n",
        "# Print the result\n",
        "print(f\"Intersection of the two sets: {intersection}\")"
      ],
      "metadata": {
        "id": "wPYHT8YBCZYA"
      },
      "execution_count": null,
      "outputs": []
    },
    {
      "cell_type": "code",
      "source": [
        "Example Usage:"
      ],
      "metadata": {
        "id": "XycJdevMCe7H"
      },
      "execution_count": null,
      "outputs": []
    },
    {
      "cell_type": "code",
      "source": [
        "Enter the first set of integers (comma-separated): 1, 2, 3, 4, 5\n",
        "Enter the second set of integers (comma-separated): 3, 4, 6, 7\n",
        "Intersection of the two sets: {3, 4}"
      ],
      "metadata": {
        "id": "HbG05wzSCj6X"
      },
      "execution_count": null,
      "outputs": []
    },
    {
      "cell_type": "code",
      "source": [
        "Edge Cases:\n",
        "\n",
        "No common elements"
      ],
      "metadata": {
        "id": "446xVAR0CnwB"
      },
      "execution_count": null,
      "outputs": []
    },
    {
      "cell_type": "code",
      "source": [
        "Enter the first set: 1, 2\n",
        "Enter the second set: 3, 4\n",
        "Intersection of the two sets: set()"
      ],
      "metadata": {
        "id": "XPOssRE-CsZB"
      },
      "execution_count": null,
      "outputs": []
    },
    {
      "cell_type": "code",
      "source": [
        "Empty input:\n",
        "\n",
        ".If the user presses Enter without typing anything, the program will raise an error.\n",
        "\n",
        ".To handle this, you could add validation logic like checking if the input is empty."
      ],
      "metadata": {
        "id": "4trqB20TCwhZ"
      },
      "execution_count": null,
      "outputs": []
    },
    {
      "cell_type": "markdown",
      "source": [
        "**23.Write a code to concatenate two tuples. The function should take two tuples as input and return a new\n",
        "tuple containing elements from both input tuples.**"
      ],
      "metadata": {
        "id": "OnD0iaG5C3Hh"
      }
    },
    {
      "cell_type": "code",
      "source": [
        "def concatenate_tuples(tuple1, tuple2):\n",
        "    # Use tuple concatenation\n",
        "    return tuple1 + tuple2\n",
        "\n",
        "# Example usage\n",
        "tuple1 = (1, 2, 3)\n",
        "tuple2 = (4, 5, 6)\n",
        "\n",
        "result = concatenate_tuples(tuple1, tuple2)\n",
        "print(f\"Concatenated tuple: {result}\")"
      ],
      "metadata": {
        "id": "AxVH00GcC77w"
      },
      "execution_count": null,
      "outputs": []
    },
    {
      "cell_type": "code",
      "source": [
        "Edge Cases:\n",
        "\n",
        "Empty tuples:"
      ],
      "metadata": {
        "id": "pwNV-rHPC_o-"
      },
      "execution_count": null,
      "outputs": []
    },
    {
      "cell_type": "code",
      "source": [
        "concatenate_tuples((), (1, 2))\n",
        "concatenate_tuples((), ())"
      ],
      "metadata": {
        "id": "g3IhWV8rIvDk"
      },
      "execution_count": null,
      "outputs": []
    },
    {
      "cell_type": "code",
      "source": [
        "Identical tuples"
      ],
      "metadata": {
        "id": "YwMm-mNRDHM8"
      },
      "execution_count": null,
      "outputs": []
    },
    {
      "cell_type": "code",
      "source": [
        "concatenate_tuples((1, 2), (1, 2))"
      ],
      "metadata": {
        "id": "HhxlYLl9If5B"
      },
      "execution_count": null,
      "outputs": []
    },
    {
      "cell_type": "markdown",
      "source": [
        "**24.Develop a code that prompts the user to input two sets of strings. Then, print the elements that are\n",
        "present in the first set but not in the second set**"
      ],
      "metadata": {
        "id": "yukglrw1DMkO"
      }
    },
    {
      "cell_type": "code",
      "source": [
        "def get_set_from_input(prompt):\n",
        "    # Take input, split by commas, strip spaces, and convert to a set of strings\n",
        "    return set(input(prompt).strip().split(','))\n",
        "\n",
        "# Prompt the user to enter two sets of strings\n",
        "set1 = get_set_from_input(\"Enter the first set of strings (comma-separated): \")\n",
        "set2 = get_set_from_input(\"Enter the second set of strings (comma-separated): \")\n",
        "\n",
        "# Find the difference between the two sets (elements in set1 but not in set2)\n",
        "difference = set1 - set2\n",
        "\n",
        "# Print the result\n",
        "print(f\"Elements in the first set but not in the second set: {difference}\")"
      ],
      "metadata": {
        "id": "6RQ-w7JMDSPe"
      },
      "execution_count": null,
      "outputs": []
    },
    {
      "cell_type": "code",
      "source": [
        "Example Usage:\n",
        "\n",
        "Enter the first set of strings (comma-separated): apple, banana, cherry\n",
        "Enter the second set of strings (comma-separated): banana, cherry, date\n",
        "Elements in the first set but not in the second set: {'apple'}"
      ],
      "metadata": {
        "id": "S7Fh6EtgDVZY"
      },
      "execution_count": null,
      "outputs": []
    },
    {
      "cell_type": "code",
      "source": [
        "Edge Cases:\n",
        "\n",
        "No elements in the first set that aren't in the second:"
      ],
      "metadata": {
        "id": "X4ZLIhOfDasc"
      },
      "execution_count": null,
      "outputs": []
    },
    {
      "cell_type": "code",
      "source": [
        "Enter the first set: a, b\n",
        "Enter the second set: a, b, c\n",
        "Output: set()"
      ],
      "metadata": {
        "id": "RM5P5sxDDc39"
      },
      "execution_count": null,
      "outputs": []
    },
    {
      "cell_type": "code",
      "source": [
        "Empty input:\n",
        "\n",
        ".If the user presses Enter without input, the program will return an empty set.\n",
        "\n",
        ".Add validation if you want to handle such cases explicitly"
      ],
      "metadata": {
        "id": "AyuJb36BDfkV"
      },
      "execution_count": null,
      "outputs": []
    },
    {
      "cell_type": "markdown",
      "source": [
        "**25.Create a code that takes a tuple and two integers as input. The function should return a new tuple\n",
        "containing elements from the original tuple within the specified range of indices**"
      ],
      "metadata": {
        "id": "6u-2WeX3Dl-Z"
      }
    },
    {
      "cell_type": "code",
      "source": [
        "def slice_tuple(tup, start, end):\n",
        "    # Return a new tuple with elements in the specified range\n",
        "    return tup[start:end]\n",
        "\n",
        "# Example usage\n",
        "original_tuple = (10, 20, 30, 40, 50, 60)\n",
        "start_index = int(input(\"Enter the start index: \"))\n",
        "end_index = int(input(\"Enter the end index: \"))\n",
        "\n",
        "result = slice_tuple(original_tuple, start_index, end_index)\n",
        "print(f\"Tuple slice: {result}\")"
      ],
      "metadata": {
        "id": "39lHKjlYDqOP"
      },
      "execution_count": null,
      "outputs": []
    },
    {
      "cell_type": "code",
      "source": [
        "Example Usage:\n",
        "\n",
        "Enter the start index: 1\n",
        "Enter the end index: 4\n",
        "Tuple slice: (20, 30, 40)"
      ],
      "metadata": {
        "id": "zQRw-_Q0Ds2D"
      },
      "execution_count": null,
      "outputs": []
    },
    {
      "cell_type": "code",
      "source": [
        "Edge Cases:\n",
        "\n",
        "Start or end out of bounds:\n",
        "\n",
        ".Python handles out-of-range slicing gracefully"
      ],
      "metadata": {
        "id": "E7A3EtkLD1oV"
      },
      "execution_count": null,
      "outputs": []
    },
    {
      "cell_type": "code",
      "source": [
        "slice_tuple((1, 2, 3), 1, 10)"
      ],
      "metadata": {
        "id": "MwMK02nuIYP2"
      },
      "execution_count": null,
      "outputs": []
    },
    {
      "cell_type": "code",
      "source": [
        "Empty range: If start >= end, the result will be an empty tuple."
      ],
      "metadata": {
        "id": "Bi-47IfJEAn9"
      },
      "execution_count": null,
      "outputs": []
    },
    {
      "cell_type": "code",
      "source": [
        "slice_tuple((1, 2, 3), 2, 2)"
      ],
      "metadata": {
        "id": "Mwn3QB6dIRQY"
      },
      "execution_count": null,
      "outputs": []
    },
    {
      "cell_type": "code",
      "source": [
        "Negative indices: Negative indices work as expected (e.g., -1 is the last element)."
      ],
      "metadata": {
        "id": "1YN8eKTuEFsM"
      },
      "execution_count": null,
      "outputs": []
    },
    {
      "cell_type": "markdown",
      "source": [
        "**26.Write a code that prompts the user to input two sets of characters. Then, print the union of these two set**"
      ],
      "metadata": {
        "id": "gVx4Lo0BEIwL"
      }
    },
    {
      "cell_type": "code",
      "source": [
        "def get_set_from_input(prompt):\n",
        "    # Take input, split by commas, strip spaces, and convert to a set of characters\n",
        "    return set(input(prompt).strip().split(','))\n",
        "\n",
        "# Prompt the user to enter two sets of characters\n",
        "set1 = get_set_from_input(\"Enter the first set of characters (comma-separated): \")\n",
        "set2 = get_set_from_input(\"Enter the second set of characters (comma-separated): \")\n",
        "\n",
        "# Find the union of the two sets\n",
        "union_set = set1.union(set2)\n",
        "\n",
        "# Print the result\n",
        "print(f\"Union of the two sets: {union_set}\")"
      ],
      "metadata": {
        "id": "8MOMDUgUEN8N"
      },
      "execution_count": null,
      "outputs": []
    },
    {
      "cell_type": "code",
      "source": [
        "Example Usage:"
      ],
      "metadata": {
        "id": "87tiVQirEVMy"
      },
      "execution_count": null,
      "outputs": []
    },
    {
      "cell_type": "code",
      "source": [
        "Enter the first set of characters (comma-separated): a, b, c\n",
        "Enter the second set of characters (comma-separated): c, d, e\n",
        "Union of the two sets: {'a', 'b', 'c', 'd', 'e'}"
      ],
      "metadata": {
        "id": "egOxN1RDEXIj"
      },
      "execution_count": null,
      "outputs": []
    },
    {
      "cell_type": "code",
      "source": [
        "Edge Cases:\n",
        "\n",
        "Empty sets"
      ],
      "metadata": {
        "id": "SgB6F8uAEesi"
      },
      "execution_count": null,
      "outputs": []
    },
    {
      "cell_type": "code",
      "source": [
        "Enter the first set:\n",
        "Enter the second set:\n",
        "Output: set()"
      ],
      "metadata": {
        "id": "ZMB16xeJEh_H"
      },
      "execution_count": null,
      "outputs": []
    },
    {
      "cell_type": "code",
      "source": [
        "Identical sets"
      ],
      "metadata": {
        "id": "H1jcox_HEmzp"
      },
      "execution_count": null,
      "outputs": []
    },
    {
      "cell_type": "code",
      "source": [
        "Enter the first set: a, b\n",
        "Enter the second set: a, b\n",
        "Output: {'a', 'b'}"
      ],
      "metadata": {
        "id": "mTrDMgNHEo3h"
      },
      "execution_count": null,
      "outputs": []
    },
    {
      "cell_type": "markdown",
      "source": [
        "**27.Develop a code that takes a tuple of integers as input. The function should return the maximum and\n",
        "minimum values from the tuple using tuple unpacking**"
      ],
      "metadata": {
        "id": "CbNZkB5yM-Bp"
      }
    },
    {
      "cell_type": "code",
      "source": [
        "def find_min_max(numbers):\n",
        "    # Ensure the input is a non-empty tuple\n",
        "    if not numbers:\n",
        "        return None, None\n",
        "\n",
        "    # Use the built-in min() and max() functions\n",
        "    min_value = min(numbers)\n",
        "    max_value = max(numbers)\n",
        "\n",
        "    # Return the results as a tuple\n",
        "    return min_value, max_value\n",
        "\n",
        "# Example usage\n",
        "input_tuple = (5, 3, 8, 1, 4)\n",
        "min_val, max_val = find_min_max(input_tuple)\n",
        "print(f\"Minimum: {min_val}, Maximum: {max_val}\")"
      ],
      "metadata": {
        "id": "-U-yh6H5NJAo"
      },
      "execution_count": null,
      "outputs": []
    },
    {
      "cell_type": "markdown",
      "source": [
        "**28.Create a code that defines two sets of integers. Then, print the union, intersection, and difference of these\n",
        "two sets**"
      ],
      "metadata": {
        "id": "65h4MnglNLqf"
      }
    },
    {
      "cell_type": "code",
      "source": [
        "# Define two sets of integers\n",
        "set_a = {1, 2, 3, 4, 5}\n",
        "set_b = {4, 5, 6, 7, 8}\n",
        "\n",
        "# Calculate union, intersection, and difference\n",
        "union = set_a.union(set_b)  # or set_a | set_b\n",
        "intersection = set_a.intersection(set_b)  # or set_a & set_b\n",
        "difference_a_b = set_a.difference(set_b)  # or set_a - set_b\n",
        "difference_b_a = set_b.difference(set_a)  # or set_b - set_a\n",
        "\n",
        "# Print the results\n",
        "print(f\"Set A: {set_a}\")\n",
        "print(f\"Set B: {set_b}\")\n",
        "print(f\"Union: {union}\")\n",
        "print(f\"Intersection: {intersection}\")\n",
        "print(f\"Difference (A - B): {difference_a_b}\")\n",
        "print(f\"Difference (B - A): {difference_b_a}\")"
      ],
      "metadata": {
        "id": "MbcH-69WNQ9-"
      },
      "execution_count": null,
      "outputs": []
    },
    {
      "cell_type": "markdown",
      "source": [
        "**29.Write a code that takes a tuple and an element as input. The function should return the count of\n",
        "occurrences of the given element in the tuple**"
      ],
      "metadata": {
        "id": "8zfukfQeNVrA"
      }
    },
    {
      "cell_type": "code",
      "source": [
        "def count_occurrences(input_tuple, element):\n",
        "    # Use the count() method of the tuple to count occurrences of the element\n",
        "    return input_tuple.count(element)\n",
        "\n",
        "# Example usage\n",
        "my_tuple = (1, 2, 3, 1, 4, 1, 5)\n",
        "element_to_count = 1\n",
        "occurrences = count_occurrences(my_tuple, element_to_count)\n",
        "print(f\"The element {element_to_count} occurs {occurrences} times in the tuple.\")"
      ],
      "metadata": {
        "id": "qsuaZuMeOCgT"
      },
      "execution_count": null,
      "outputs": []
    },
    {
      "cell_type": "markdown",
      "source": [
        "**30.Develop a code that prompts the user to input two sets of strings. Then, print the symmetric difference of\n",
        "these two sets**"
      ],
      "metadata": {
        "id": "bSSi1tTIOL8j"
      }
    },
    {
      "cell_type": "code",
      "source": [
        "def get_set_from_input(prompt):\n",
        "    # Prompt the user for input and split the input into a set of strings\n",
        "    user_input = input(prompt)\n",
        "    return set(user_input.split())\n",
        "\n",
        "# Get two sets of strings from user input\n",
        "set_a = get_set_from_input(\"Enter the first set of strings (separated by spaces): \")\n",
        "set_b = get_set_from_input(\"Enter the second set of strings (separated by spaces): \")\n",
        "\n",
        "# Calculate the symmetric difference\n",
        "symmetric_difference = set_a.symmetric_difference(set_b)  # or set_a ^ set_b\n",
        "\n",
        "# Print the results\n",
        "print(f\"Set A: {set_a}\")\n",
        "print(f\"Set B: {set_b}\")\n",
        "print(f\"Symmetric Difference: {symmetric_difference}\")"
      ],
      "metadata": {
        "id": "5HdA8PIsOthD"
      },
      "execution_count": null,
      "outputs": []
    },
    {
      "cell_type": "code",
      "source": [
        "Example Usage:\n",
        "\n",
        "1.When the program is run, the user might input:\n",
        " .First set: apple banana cherry\n",
        " .Second set: banana cherry date fig\n",
        "\n",
        "2.The output would show the symmetric difference, which includes elements that are in either set but not in both"
      ],
      "metadata": {
        "id": "WQyak4WQOwkB"
      },
      "execution_count": null,
      "outputs": []
    },
    {
      "cell_type": "code",
      "source": [
        "Set A: {'apple', 'banana', 'cherry'}\n",
        "Set B: {'banana', 'cherry', 'date', 'fig'}\n",
        "Symmetric Difference: {'apple', 'fig', 'date'}"
      ],
      "metadata": {
        "id": "L6baV7DEPDKg"
      },
      "execution_count": null,
      "outputs": []
    },
    {
      "cell_type": "markdown",
      "source": [
        "**31.Write a code that takes a list of words as input and returns a dictionary where the keys are unique words\n",
        "and the values are the frequencies of those words in the input list**"
      ],
      "metadata": {
        "id": "cf2PV-ThPG4A"
      }
    },
    {
      "cell_type": "code",
      "source": [
        "def word_frequencies(words):\n",
        "    # Create an empty dictionary to store word frequencies\n",
        "    frequency_dict = {}\n",
        "\n",
        "    # Iterate over each word in the input list\n",
        "    for word in words:\n",
        "        # If the word is already in the dictionary, increment its count\n",
        "        if word in frequency_dict:\n",
        "            frequency_dict[word] += 1\n",
        "        # If the word is not in the dictionary, add it with a count of 1\n",
        "        else:\n",
        "            frequency_dict[word] = 1\n",
        "\n",
        "    return frequency_dict\n",
        "\n",
        "# Example usage\n",
        "input_words = input(\"Enter a list of words separated by spaces: \").split()\n",
        "frequencies = word_frequencies(input_words)\n",
        "print(\"Word Frequencies:\", frequencies)"
      ],
      "metadata": {
        "id": "eNZo8-1JRZmJ"
      },
      "execution_count": null,
      "outputs": []
    },
    {
      "cell_type": "markdown",
      "source": [
        "**32.Write a code that takes two dictionaries as input and merges them into a single dictionary. If there are\n",
        "common keys, the values should be added together**"
      ],
      "metadata": {
        "id": "_B0N7J5NPZEp"
      }
    },
    {
      "cell_type": "code",
      "source": [
        "def merge_dictionaries(dict1, dict2):\n",
        "    # Create a new dictionary to hold the merged result\n",
        "    merged_dict = dict1.copy()  # Start with a copy of the first dictionary\n",
        "\n",
        "    # Iterate through the second dictionary\n",
        "    for key, value in dict2.items():\n",
        "        # If the key is already in the merged dictionary, add the values\n",
        "        if key in merged_dict:\n",
        "            merged_dict[key] += value\n",
        "        # If the key is not present, add it to the merged dictionary\n",
        "        else:\n",
        "            merged_dict[key] = value\n",
        "\n",
        "    return merged_dict\n",
        "\n",
        "# Example usage\n",
        "dict1 = {'a': 1, 'b': 2, 'c': 3}\n",
        "dict2 = {'b': 3, 'c': 1, 'd': 4}\n",
        "\n",
        "merged_result = merge_dictionaries(dict1, dict2)\n",
        "print(\"Merged Dictionary:\", merged_result)"
      ],
      "metadata": {
        "colab": {
          "base_uri": "https://localhost:8080/"
        },
        "id": "KsreUai_PdzX",
        "outputId": "0d6ddf52-604b-48c4-840c-5aef9f6e02ae"
      },
      "execution_count": 10,
      "outputs": [
        {
          "output_type": "stream",
          "name": "stdout",
          "text": [
            "Merged Dictionary: {'a': 1, 'b': 5, 'c': 4, 'd': 4}\n"
          ]
        }
      ]
    },
    {
      "cell_type": "markdown",
      "source": [
        "**33.Write a code to access a value in a nested dictionary. The function should take the dictionary and a list of\n",
        "keys as input, and return the corresponding value. If any of the keys do not exist in the dictionary, the\n",
        "function should return None**"
      ],
      "metadata": {
        "id": "YmzZE8bFPxrZ"
      }
    },
    {
      "cell_type": "code",
      "source": [
        "def access_nested_value(nested_dict, keys):\n",
        "    # Initialize a variable to hold the current dictionary reference\n",
        "    current_value = nested_dict\n",
        "\n",
        "    # Iterate over the list of keys\n",
        "    for key in keys:\n",
        "        # Check if the key exists in the current dictionary\n",
        "        if key in current_value:\n",
        "            current_value = current_value[key]  # Move to the next level\n",
        "        else:\n",
        "            return None  # Return None if any key is not found\n",
        "\n",
        "    return current_value  # Return the final value if all keys are valid\n",
        "\n",
        "# Example usage\n",
        "nested_dict = {\n",
        "    'a': {\n",
        "        'b': {\n",
        "            'c': 42\n",
        "        }\n",
        "    },\n",
        "    'x': {\n",
        "        'y': 100\n",
        "    }\n",
        "}\n",
        "\n",
        "keys_to_access = ['a', 'b', 'c']\n",
        "result = access_nested_value(nested_dict, keys_to_access)\n",
        "print(\"Accessed Value:\", result)  # Output: 42\n",
        "\n",
        "keys_to_access_invalid = ['a', 'b', 'd']\n",
        "result_invalid = access_nested_value(nested_dict, keys_to_access_invalid)\n",
        "print(\"Accessed Value for Invalid Keys:\", result_invalid)  # Output: None"
      ],
      "metadata": {
        "colab": {
          "base_uri": "https://localhost:8080/"
        },
        "id": "AqcMC_ECP2o_",
        "outputId": "25b22aab-80b3-412f-fb44-49e84dbfd51f"
      },
      "execution_count": 12,
      "outputs": [
        {
          "output_type": "stream",
          "name": "stdout",
          "text": [
            "Accessed Value: 42\n",
            "Accessed Value for Invalid Keys: None\n"
          ]
        }
      ]
    },
    {
      "cell_type": "markdown",
      "source": [
        "**34.Write a code that takes a dictionary as input and returns a sorted version of it based on the values. You\n",
        "can choose whether to sort in ascending or descending order**"
      ],
      "metadata": {
        "id": "wJh-s9pQQUiN"
      }
    },
    {
      "cell_type": "code",
      "source": [
        "def sort_dict_by_values(input_dict, descending=False):\n",
        "    \"\"\"\n",
        "    Sorts a dictionary by its values.\n",
        "\n",
        "    Parameters:\n",
        "    input_dict (dict): The dictionary to sort.\n",
        "    descending (bool): If True, sort in descending order. Default is False.\n",
        "\n",
        "    Returns:\n",
        "    dict: A new dictionary sorted by values.\n",
        "    \"\"\"\n",
        "    # Sort the dictionary by values and create a new sorted dictionary\n",
        "    sorted_dict = dict(sorted(input_dict.items(), key=lambda item: item[1], reverse=descending))\n",
        "    return sorted_dict\n",
        "\n",
        "# Example usage\n",
        "example_dict = {\n",
        "    'apple': 5,\n",
        "    'banana': 2,\n",
        "    'cherry': 10,\n",
        "    'date': 3\n",
        "}\n",
        "\n",
        "# Sort in ascending order\n",
        "sorted_asc = sort_dict_by_values(example_dict)\n",
        "print(\"Sorted Dictionary (Ascending):\", sorted_asc)\n",
        "\n",
        "# Sort in descending order\n",
        "sorted_desc = sort_dict_by_values(example_dict, descending=True)\n",
        "print(\"Sorted Dictionary (Descending):\", sorted_desc)"
      ],
      "metadata": {
        "colab": {
          "base_uri": "https://localhost:8080/"
        },
        "id": "s4FFactMQcuI",
        "outputId": "75aa6f8b-7852-454a-c31f-2a6b5d0720eb"
      },
      "execution_count": 17,
      "outputs": [
        {
          "output_type": "stream",
          "name": "stdout",
          "text": [
            "Sorted Dictionary (Ascending): {'banana': 2, 'date': 3, 'apple': 5, 'cherry': 10}\n",
            "Sorted Dictionary (Descending): {'cherry': 10, 'apple': 5, 'date': 3, 'banana': 2}\n"
          ]
        }
      ]
    },
    {
      "cell_type": "markdown",
      "source": [
        "**35.Write a code that inverts a dictionary, swapping keys and values. Ensure that the inverted dictionary\n",
        "correctly handles cases where multiple keys have the same value by storing the keys as a list in the\n",
        "inverted dictionary.**"
      ],
      "metadata": {
        "id": "P3f3karEQh7n"
      }
    },
    {
      "cell_type": "code",
      "source": [
        "def invert_dict(input_dict):\n",
        "\n",
        "    \"\"\"\n",
        "    Inverts a dictionary by swapping keys and values.\n",
        "\n",
        "    Parameters:\n",
        "    input_dict (dict): The dictionary to invert.\n",
        "\n",
        "    Returns:\n",
        "    dict: The inverted dictionary with values as keys and lists of keys as values.\n",
        "    \"\"\"\n",
        "    inverted_dict = {}\n",
        "\n",
        "    for key, value in input_dict.items():\n",
        "        # Check if the value is already a key in the inverted dictionary\n",
        "        if value in inverted_dict:\n",
        "            # If so, append the current key to the list\n",
        "            inverted_dict[value].append(key)\n",
        "        else:\n",
        "            # Otherwise, create a new entry with the current key as a list\n",
        "            inverted_dict[value] = [key]\n",
        "\n",
        "    return inverted_dict\n",
        "\n",
        "# Example usage\n",
        "example_dict = {\n",
        "    'a': 1,\n",
        "    'b': 2,\n",
        "    'c': 1,\n",
        "    'd': 3\n",
        "}\n",
        "\n",
        "inverted = invert_dict(example_dict)\n",
        "print(\"Inverted Dictionary:\", inverted)"
      ],
      "metadata": {
        "colab": {
          "base_uri": "https://localhost:8080/"
        },
        "id": "piuwInunQn5D",
        "outputId": "aac5afbe-eb18-47ad-d162-99dba42dcef9"
      },
      "execution_count": 16,
      "outputs": [
        {
          "output_type": "stream",
          "name": "stdout",
          "text": [
            "Inverted Dictionary: {1: ['a', 'c'], 2: ['b'], 3: ['d']}\n"
          ]
        }
      ]
    }
  ]
}