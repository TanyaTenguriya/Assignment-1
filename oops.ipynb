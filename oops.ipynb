{
  "nbformat": 4,
  "nbformat_minor": 0,
  "metadata": {
    "colab": {
      "provenance": []
    },
    "kernelspec": {
      "name": "python3",
      "display_name": "Python 3"
    },
    "language_info": {
      "name": "python"
    }
  },
  "cells": [
    {
      "cell_type": "markdown",
      "source": [
        "**1.What are the five key concepts of Object-Oriented Programming (OOP)?**"
      ],
      "metadata": {
        "id": "ondckR_21uzE"
      }
    },
    {
      "cell_type": "markdown",
      "source": [
        "The five key concepts of Object-Oriented Programming (OOP) are:"
      ],
      "metadata": {
        "id": "b_3aWVke2aSg"
      }
    },
    {
      "cell_type": "markdown",
      "source": [
        "1.Class\n",
        "\n",
        "a.A class is a blueprint or template for creating objects. It defines the attributes (data) and methods (functions) that the objects created from it will have.\n",
        "\n",
        "\n",
        "b.Example: A Car class may have attributes like color and model and methods like drive()."
      ],
      "metadata": {
        "id": "WRGqZab82Ot5"
      }
    },
    {
      "cell_type": "markdown",
      "source": [
        "2.Object\n",
        "\n",
        "a.An object is an instance of a class. It represents a specific entity created based on the structure defined by the class.\n",
        "\n",
        "\n",
        "b.Example: If Car is a class, myCar = Car() creates an object myCar with properties of the Car class."
      ],
      "metadata": {
        "id": "6IqWjZJz2iBA"
      }
    },
    {
      "cell_type": "markdown",
      "source": [
        "3.Encapsulation\n",
        "\n",
        "a.Encapsulation is the concept of wrapping data (attributes) and methods (functions) together within a class, restricting direct access to some components to protect the integrity of the data.\n",
        "\n",
        "b.Example: Private variables (e.g., __balance in a BankAccount class) can only be accessed or modified through getter and setter methods."
      ],
      "metadata": {
        "id": "QDh9n3o42qzv"
      }
    },
    {
      "cell_type": "markdown",
      "source": [
        "4.Inheritance\n",
        "\n",
        "a.Inheritance allows a class to derive properties and behavior from another class (the parent or base class). This promotes code reuse.\n",
        "\n",
        "b.Example: A SportsCar class can inherit from a Car class, reusing its attributes like color and adding new ones like top_speed."
      ],
      "metadata": {
        "id": "-zOmkx1e2zBw"
      }
    },
    {
      "cell_type": "markdown",
      "source": [
        "5.Polymorphism\n",
        "\n",
        "a.Polymorphism allows methods to take many forms, enabling different classes to define the same method in their own way, and behave differently when the method is called.\n",
        "\n",
        "b.Example: If Car and Bicycle both implement a move() method, calling move() on each will behave according to their specific implementation."
      ],
      "metadata": {
        "id": "WDNmWr7D28zO"
      }
    },
    {
      "cell_type": "markdown",
      "source": [
        "**2.Write a Python class for a Car with attributes for make, model, and year. Include a method to display\n",
        "the car's information**"
      ],
      "metadata": {
        "id": "3oOrWfDQ3DpN"
      }
    },
    {
      "cell_type": "markdown",
      "source": [
        "Here’s a simple Python class for a Car with attributes and a method to display the car’s information:"
      ],
      "metadata": {
        "id": "UU6AjUiZ3I6d"
      }
    },
    {
      "cell_type": "code",
      "source": [
        "class Car:\n",
        "    def __init__(self, make, model, year):\n",
        "        \"\"\"Initialize the car's attributes.\"\"\"\n",
        "        self.make = make\n",
        "        self.model = model\n",
        "        self.year = year\n",
        "\n",
        "    def display_info(self):\n",
        "        \"\"\"Display the car's information.\"\"\"\n",
        "        print(f\"Car Information: {self.year} {self.make} {self.model}\")\n",
        "\n",
        "# Example usage:\n",
        "my_car = Car(\"Toyota\", \"Corolla\", 2020)\n",
        "my_car.display_info()"
      ],
      "metadata": {
        "colab": {
          "base_uri": "https://localhost:8080/"
        },
        "id": "zFe7cbfc3Nce",
        "outputId": "90807b4c-b5ec-4697-e223-f62580e25998"
      },
      "execution_count": null,
      "outputs": [
        {
          "output_type": "stream",
          "name": "stdout",
          "text": [
            "Car Information: 2020 Toyota Corolla\n"
          ]
        }
      ]
    },
    {
      "cell_type": "markdown",
      "source": [
        "**3.Explain the difference between instance methods and class methods. Provide an example of each**"
      ],
      "metadata": {
        "id": "bsg77KE63UKF"
      }
    },
    {
      "cell_type": "markdown",
      "source": [
        "In Python, instance methods and class methods are two different ways to define methods inside a class. Let’s explore their differences and examples.\n",
        "\n"
      ],
      "metadata": {
        "id": "OXj9fIkb3YPt"
      }
    },
    {
      "cell_type": "markdown",
      "source": [
        "1. Instance Methods\n",
        "\n",
        "a.Definition: These are methods that operate on individual instances (objects) of a class.\n",
        "\n",
        "b.Access: They can access and modify the instance's attributes.\n",
        "\n",
        "c.Parameter: Always receive self as the first argument, which refers to the specific object that called the method."
      ],
      "metadata": {
        "id": "kH5eyufZ3fa-"
      }
    },
    {
      "cell_type": "code",
      "source": [
        "class Car:\n",
        "    def __init__(self, make, model, year):\n",
        "        self.make = make\n",
        "        self.model = model\n",
        "        self.year = year\n",
        "\n",
        "    def display_info(self):\n",
        "        \"\"\"Instance method to display car's information.\"\"\"\n",
        "        print(f\"Car Information: {self.year} {self.make} {self.model}\")\n",
        "\n",
        "# Example usage:\n",
        "my_car = Car(\"Toyota\", \"Corolla\", 2020)\n",
        "my_car.display_info()"
      ],
      "metadata": {
        "colab": {
          "base_uri": "https://localhost:8080/"
        },
        "id": "Mm0cb5xn3qxN",
        "outputId": "65a1b605-df38-415a-908c-ba61a2799ef0"
      },
      "execution_count": null,
      "outputs": [
        {
          "output_type": "stream",
          "name": "stdout",
          "text": [
            "Car Information: 2020 Toyota Corolla\n"
          ]
        }
      ]
    },
    {
      "cell_type": "markdown",
      "source": [
        "2. Class Methods\n",
        "\n",
        "a.Definition: These methods are associated with the class itself, rather than any specific instance.\n",
        "\n",
        "b.Access: They have access to class-level data (shared by all instances) but cannot directly modify instance attributes.\n",
        "\n",
        "c.Parameter: Always receive cls as the first argument, which refers to the class itself."
      ],
      "metadata": {
        "id": "3xq7LBn13wf9"
      }
    },
    {
      "cell_type": "code",
      "source": [
        "class Car:\n",
        "    total_cars = 0  # Class attribute to track the number of cars\n",
        "\n",
        "    def __init__(self, make, model, year):\n",
        "        self.make = make\n",
        "        self.model = model\n",
        "        self.year = year\n",
        "        Car.total_cars += 1  # Increment total_cars each time a car is created\n",
        "\n",
        "    @classmethod\n",
        "    def display_total_cars(cls):\n",
        "        \"\"\"Class method to display the total number of cars.\"\"\"\n",
        "        print(f\"Total Cars: {cls.total_cars}\")\n",
        "\n",
        "# Example usage:\n",
        "car1 = Car(\"Toyota\", \"Corolla\", 2020)\n",
        "car2 = Car(\"Honda\", \"Civic\", 2021)\n",
        "\n",
        "Car.display_total_cars()  # Can call using the class name"
      ],
      "metadata": {
        "colab": {
          "base_uri": "https://localhost:8080/"
        },
        "id": "fDZQWC22350r",
        "outputId": "5b4caef3-8ee3-45cc-dcc0-808cc1ebf348"
      },
      "execution_count": null,
      "outputs": [
        {
          "output_type": "stream",
          "name": "stdout",
          "text": [
            "Total Cars: 2\n"
          ]
        }
      ]
    },
    {
      "cell_type": "markdown",
      "source": [
        "**4.How does Python implement method overloading? Give an example**"
      ],
      "metadata": {
        "id": "Ur-J2P7P35Js"
      }
    },
    {
      "cell_type": "markdown",
      "source": [
        "Method Overloading in Python\n",
        "\n",
        "Unlike some other programming languages (like Java or C++), Python does not natively support method overloading in the traditional sense (i.e., defining multiple methods with the same name but different parameter signatures). However, you can achieve similar functionality by using default arguments, variable-length arguments (*args and **kwargs), or conditional logic within a single method.\n",
        "\n"
      ],
      "metadata": {
        "id": "QoHRY8GC4G_7"
      }
    },
    {
      "cell_type": "markdown",
      "source": [
        "Approach to Simulate Method Overloading in Python\n",
        "\n",
        "Python allows you to define one method with a certain name, and you can use:\n",
        "\n",
        "\n",
        "a.Default parameters to handle different cases.\n",
        "\n",
        "b.*args and **kwargs for flexible arguments.\n",
        "\n",
        "c.Conditional logic to behave differently based on input types or arguments.\n"
      ],
      "metadata": {
        "id": "Yh4QGIfN4LrC"
      }
    },
    {
      "cell_type": "code",
      "source": [
        "class Calculator:\n",
        "    def add(self, a, b=0, c=0):\n",
        "        \"\"\"Method that simulates overloading using default parameters.\"\"\"\n",
        "        return a + b + c\n",
        "\n",
        "# Example usage:\n",
        "calc = Calculator()\n",
        "\n",
        "# Calling the add method in different ways (simulates overloading)\n",
        "print(calc.add(5))\n",
        "print(calc.add(5, 10))\n",
        "print(calc.add(5, 10, 15))"
      ],
      "metadata": {
        "colab": {
          "base_uri": "https://localhost:8080/"
        },
        "id": "EdJtbhAg4Y-j",
        "outputId": "74146b6d-4d3a-428d-f931-5bb089c92689"
      },
      "execution_count": null,
      "outputs": [
        {
          "output_type": "stream",
          "name": "stdout",
          "text": [
            "5\n",
            "15\n",
            "30\n"
          ]
        }
      ]
    },
    {
      "cell_type": "code",
      "source": [
        "class Calculator:\n",
        "    def add(self, *args):\n",
        "        \"\"\"Method that adds any number of inputs.\"\"\"\n",
        "        return sum(args)\n",
        "\n",
        "# Example usage:\n",
        "calc = Calculator()\n",
        "\n",
        "print(calc.add(5))\n",
        "print(calc.add(5, 10))\n",
        "print(calc.add(5, 10, 15, 20))"
      ],
      "metadata": {
        "colab": {
          "base_uri": "https://localhost:8080/"
        },
        "id": "7UG-yVKK4lOg",
        "outputId": "3464abc4-0a2c-4e8b-bc26-ef80ee46803c"
      },
      "execution_count": null,
      "outputs": [
        {
          "output_type": "stream",
          "name": "stdout",
          "text": [
            "5\n",
            "15\n",
            "50\n"
          ]
        }
      ]
    },
    {
      "cell_type": "markdown",
      "source": [
        "**5.What are the three types of access modifiers in Python? How are they denoted?**"
      ],
      "metadata": {
        "id": "6icukkcx4uAY"
      }
    },
    {
      "cell_type": "markdown",
      "source": [
        "In Python, access to class attributes and methods can be controlled using access modifiers. Although Python does not enforce strict access control like some other programming languages (e.g., private, public, protected in Java), it provides naming conventions to suggest the intended level of access.\n",
        "\n",
        "\n",
        "Three Types of Access Modifiers in Python\n",
        "\n",
        "a.Public\n",
        "\n",
        "b.Protected\n",
        "\n",
        "c.Private"
      ],
      "metadata": {
        "id": "7XcPXb8s41tA"
      }
    },
    {
      "cell_type": "markdown",
      "source": [
        "1.Public Access Modifier\n",
        "\n",
        "a.Meaning: Attributes or methods declared as public are accessible from anywhere — inside or outside the class.\n",
        "\n",
        "b.How it’s denoted: No special prefix (just the normal attribute or method name)."
      ],
      "metadata": {
        "id": "wD1d8-wrACcy"
      }
    },
    {
      "cell_type": "code",
      "source": [
        "class Car:\n",
        "    def __init__(self, make, model):\n",
        "        self.make = make  # Public attribute\n",
        "        self.model = model  # Public attribute\n",
        "\n",
        "    def display_info(self):\n",
        "        \"\"\"Public method to display car information.\"\"\"\n",
        "        print(f\"Car: {self.make} {self.model}\")\n",
        "\n",
        "# Example usage:\n",
        "car = Car(\"Toyota\", \"Corolla\")\n",
        "print(car.make)  # Accessing public attribute (no restriction)\n",
        "car.display_info()  # Calling public method"
      ],
      "metadata": {
        "colab": {
          "base_uri": "https://localhost:8080/"
        },
        "id": "vL7ba3F65jPu",
        "outputId": "21b7a8c7-155e-4857-bb91-d0b400c11203"
      },
      "execution_count": null,
      "outputs": [
        {
          "output_type": "stream",
          "name": "stdout",
          "text": [
            "Toyota\n",
            "Car: Toyota Corolla\n"
          ]
        }
      ]
    },
    {
      "cell_type": "markdown",
      "source": [
        "2.Protected Access Modifier\n",
        "\n",
        "a.Meaning: Attributes or methods with protected access are intended to be accessed only within the class and its subclasses. However, Python doesn’t enforce this, so they can still be accessed from outside using their name.\n",
        "\n",
        "b.How it’s denoted: A single underscore (_) prefix before the name."
      ],
      "metadata": {
        "id": "xY5FDQl75oFN"
      }
    },
    {
      "cell_type": "code",
      "source": [
        "class Car:\n",
        "    def __init__(self, make, model):\n",
        "        self._make = make  # Protected attribute\n",
        "\n",
        "class SportsCar(Car):\n",
        "    def show_make(self):\n",
        "        print(f\"This sports car is a {self._make}\")\n",
        "\n",
        "# Example usage:\n",
        "car = SportsCar(\"Ferrari\", \"488\")\n",
        "car.show_make()  # Accessing protected attribute from subclass\n",
        "print(car._make)  # (Discouraged) Accessing protected attribute directly"
      ],
      "metadata": {
        "id": "hvY2D15P55q0",
        "colab": {
          "base_uri": "https://localhost:8080/"
        },
        "outputId": "b58b8b60-abe8-4a13-b6d0-eddb6f38ee1a"
      },
      "execution_count": 7,
      "outputs": [
        {
          "output_type": "stream",
          "name": "stdout",
          "text": [
            "This sports car is a Ferrari\n",
            "Ferrari\n"
          ]
        }
      ]
    },
    {
      "cell_type": "markdown",
      "source": [
        "3.Private Access Modifier\n",
        "\n",
        "a.Meaning: Private attributes or methods are intended to be accessed only within the class. They cannot be accessed directly from outside the class.\n",
        "\n",
        "b.How it’s denoted: A double underscore (__) prefix before the name. This triggers name mangling, making it harder to access the attribute directly from outside the class."
      ],
      "metadata": {
        "id": "EZk2nYBy6Hwc"
      }
    },
    {
      "cell_type": "code",
      "source": [
        "class Car:\n",
        "    def __init__(self, make, model):\n",
        "        self.__make = make  # Private attribute\n",
        "\n",
        "    def get_make(self):\n",
        "        \"\"\"Public method to access private attribute.\"\"\"\n",
        "        return self.__make\n",
        "\n",
        "# Example usage:\n",
        "car = Car(\"Lamborghini\", \"Huracan\")\n",
        "print(car.get_make())  # Accessing private attribute via public method\n",
        "\n",
        "# print(car.__make)  # This will raise an AttributeError\n",
        "print(car._Car__make)  # Accessing private attribute via name mangling (not recommended)"
      ],
      "metadata": {
        "colab": {
          "base_uri": "https://localhost:8080/"
        },
        "id": "s6DnkB1L6Gcd",
        "outputId": "2dc44bae-5394-4c04-b65d-d90eb8ccdca0"
      },
      "execution_count": null,
      "outputs": [
        {
          "output_type": "stream",
          "name": "stdout",
          "text": [
            "Lamborghini\n",
            "Lamborghini\n"
          ]
        }
      ]
    },
    {
      "cell_type": "markdown",
      "source": [
        "**6.Describe the five types of inheritance in Python. Provide a simple example of multiple inheritance**"
      ],
      "metadata": {
        "id": "BovdJzLn6XCM"
      }
    },
    {
      "cell_type": "markdown",
      "source": [
        "Five Types of Inheritance in Python\n",
        "\n",
        "Inheritance is a mechanism that allows a class (called the child class or subclass) to inherit attributes and behaviors (methods) from another class (called the parent class or superclass). Python supports five types of inheritance:\n",
        "\n"
      ],
      "metadata": {
        "id": "JUcz3kF-6dky"
      }
    },
    {
      "cell_type": "markdown",
      "source": [
        "1.Single Inheritance\n",
        "\n",
        "Definition: A child class inherits from only one parent class."
      ],
      "metadata": {
        "id": "nBvIWGHZ7ATh"
      }
    },
    {
      "cell_type": "code",
      "source": [
        "class Animal:\n",
        "    def sound(self):\n",
        "        print(\"Animals make sound\")\n",
        "\n",
        "class Dog(Animal):\n",
        "    pass\n",
        "\n",
        "dog = Dog()\n",
        "dog.sound()"
      ],
      "metadata": {
        "colab": {
          "base_uri": "https://localhost:8080/"
        },
        "id": "516e50nR6kHK",
        "outputId": "e70190b9-731a-4e70-ee7b-c5a8c9e82771"
      },
      "execution_count": null,
      "outputs": [
        {
          "output_type": "stream",
          "name": "stdout",
          "text": [
            "Animals make sound\n"
          ]
        }
      ]
    },
    {
      "cell_type": "markdown",
      "source": [
        "2.Multiple Inheritance\n",
        "\n",
        "Definition: A child class inherits from more than one parent class."
      ],
      "metadata": {
        "id": "JxQqs6C06pXp"
      }
    },
    {
      "cell_type": "code",
      "source": [
        "class Engine:\n",
        "    def start(self):\n",
        "        print(\"Engine started\")\n",
        "\n",
        "class Wheels:\n",
        "    def rotate(self):\n",
        "        print(\"Wheels are rotating\")\n",
        "\n",
        "class Car(Engine, Wheels):\n",
        "    pass\n",
        "\n",
        "my_car = Car()\n",
        "my_car.start()\n",
        "my_car.rotate()"
      ],
      "metadata": {
        "colab": {
          "base_uri": "https://localhost:8080/"
        },
        "id": "UBfkb_8d6una",
        "outputId": "601ce424-0fb0-42f2-88b6-c7e50fd0ff90"
      },
      "execution_count": null,
      "outputs": [
        {
          "output_type": "stream",
          "name": "stdout",
          "text": [
            "Engine started\n",
            "Wheels are rotating\n"
          ]
        }
      ]
    },
    {
      "cell_type": "markdown",
      "source": [
        "3.Multilevel Inheritance\n",
        "\n",
        "Definition: A child class inherits from a parent class, which itself is derived from another class (i.e., a chain of inheritance)."
      ],
      "metadata": {
        "id": "MTsfGWM862UR"
      }
    },
    {
      "cell_type": "code",
      "source": [
        "class Animal:\n",
        "    def sound(self):\n",
        "        print(\"Animals make sound\")\n",
        "\n",
        "class Mammal(Animal):\n",
        "    def walk(self):\n",
        "        print(\"Mammals walk\")\n",
        "\n",
        "class Dog(Mammal):\n",
        "    pass\n",
        "\n",
        "dog = Dog()\n",
        "dog.sound()\n",
        "dog.walk()"
      ],
      "metadata": {
        "colab": {
          "base_uri": "https://localhost:8080/"
        },
        "id": "zbl4WPiq65Zp",
        "outputId": "ed902f7b-f01f-446c-aa6e-01ee5d4ba783"
      },
      "execution_count": null,
      "outputs": [
        {
          "output_type": "stream",
          "name": "stdout",
          "text": [
            "Animals make sound\n",
            "Mammals walk\n"
          ]
        }
      ]
    },
    {
      "cell_type": "markdown",
      "source": [
        "4.Hierarchical Inheritance\n",
        "\n",
        "Definition: Multiple child classes inherit from a single parent class.\n"
      ],
      "metadata": {
        "id": "6YBBMRT17MNM"
      }
    },
    {
      "cell_type": "code",
      "source": [
        "class Animal:\n",
        "    def sound(self):\n",
        "        print(\"Animals make sound\")\n",
        "\n",
        "class Dog(Animal):\n",
        "    pass\n",
        "\n",
        "class Cat(Animal):\n",
        "    pass\n",
        "\n",
        "dog = Dog()\n",
        "cat = Cat()\n",
        "dog.sound()\n",
        "cat.sound()"
      ],
      "metadata": {
        "colab": {
          "base_uri": "https://localhost:8080/"
        },
        "id": "p877ET_j7Qg4",
        "outputId": "5b25e5bb-fd6f-4bd3-b716-21ab7444e9b6"
      },
      "execution_count": null,
      "outputs": [
        {
          "output_type": "stream",
          "name": "stdout",
          "text": [
            "Animals make sound\n",
            "Animals make sound\n"
          ]
        }
      ]
    },
    {
      "cell_type": "markdown",
      "source": [
        "5.Hybrid Inheritance\n",
        "\n",
        "Definition: A combination of two or more types of inheritance in a single program (for example, a mix of multiple and hierarchical inheritance). Python uses the Method Resolution Order (MRO) to determine the order in which the methods are inherited in such cases.\n"
      ],
      "metadata": {
        "id": "270KPrko7WbP"
      }
    },
    {
      "cell_type": "code",
      "source": [
        "class Person:\n",
        "    def info(self):\n",
        "        print(\"I am a person\")\n",
        "\n",
        "class Employee:\n",
        "    def job(self):\n",
        "        print(\"I work as an employee\")\n",
        "\n",
        "class Manager(Person, Employee):\n",
        "    def role(self):\n",
        "        print(\"I am a manager\")\n",
        "\n",
        "# Example usage:\n",
        "mgr = Manager()\n",
        "mgr.info()\n",
        "mgr.job()\n",
        "mgr.role()"
      ],
      "metadata": {
        "colab": {
          "base_uri": "https://localhost:8080/"
        },
        "id": "PTWir6sZ7ZXR",
        "outputId": "b56706a8-993e-4835-9e16-a05bacc92d62"
      },
      "execution_count": null,
      "outputs": [
        {
          "output_type": "stream",
          "name": "stdout",
          "text": [
            "I am a person\n",
            "I work as an employee\n",
            "I am a manager\n"
          ]
        }
      ]
    },
    {
      "cell_type": "markdown",
      "source": [
        "**7.What is the Method Resolution Order (MRO) in Python? How can you retrieve it programmatically?**"
      ],
      "metadata": {
        "id": "ADUhbSZh79lW"
      }
    },
    {
      "cell_type": "markdown",
      "source": [
        "What is the Method Resolution Order (MRO) in Python?\n",
        "\n",
        "The Method Resolution Order (MRO) in Python defines the order in which classes are searched for a method or attribute when multiple inheritance is involved. It determines how Python looks for a method in the class hierarchy:\n",
        "\n",
        "1.It starts with the current class.\n",
        "\n",
        "2.Then it moves to the parent classes (from left to right if there are multiple).\n",
        "\n",
        "3.It continues up the hierarchy until it finds the method or reaches the base class (object).\n",
        "\n",
        "Python uses the C3 linearization algorithm (used in new-style classes) to build the MRO. This ensures:\n",
        "\n",
        "\n",
        ".Consistent order,\n",
        "\n",
        ".Avoiding duplication, and\n",
        "\n",
        ".Preserving the inheritance structure."
      ],
      "metadata": {
        "id": "pDrdQCtI8Bbg"
      }
    },
    {
      "cell_type": "markdown",
      "source": [
        "How to Retrieve the MRO Programmatically?\n",
        "\n",
        "You can retrieve the MRO of a class using:\n",
        "\n",
        "\n",
        ".ClassName.mro() method\n",
        "\n",
        ".ClassName.__mro__ attribute\n",
        "\n",
        ".inspect.getmro() from the inspect module\n"
      ],
      "metadata": {
        "id": "tfCg1H1H8tw7"
      }
    },
    {
      "cell_type": "code",
      "source": [
        "class A:\n",
        "    def show(self):\n",
        "        print(\"A\")\n",
        "\n",
        "class B(A):\n",
        "    def show(self):\n",
        "        print(\"B\")\n",
        "\n",
        "class C(A):\n",
        "    def show(self):\n",
        "        print(\"C\")\n",
        "\n",
        "class D(B, C):\n",
        "    pass\n",
        "\n",
        "# Example usage:\n",
        "d = D()\n",
        "d.show()"
      ],
      "metadata": {
        "colab": {
          "base_uri": "https://localhost:8080/"
        },
        "id": "OpNHPS9-8BAG",
        "outputId": "d7fa70fd-f867-4f66-e00d-df37b171d82b"
      },
      "execution_count": null,
      "outputs": [
        {
          "output_type": "stream",
          "name": "stdout",
          "text": [
            "B\n"
          ]
        }
      ]
    },
    {
      "cell_type": "code",
      "source": [
        "Retrieving MRO Programmatically\n",
        "\n",
        "Using mro() Method:"
      ],
      "metadata": {
        "id": "KQ7J6f6L9AOj"
      },
      "execution_count": null,
      "outputs": []
    },
    {
      "cell_type": "code",
      "source": [
        "print(D.mro())"
      ],
      "metadata": {
        "colab": {
          "base_uri": "https://localhost:8080/"
        },
        "id": "PDsndGhf9DDq",
        "outputId": "7c346ce0-73ba-4bd0-cb40-d60a18dda835"
      },
      "execution_count": null,
      "outputs": [
        {
          "output_type": "stream",
          "name": "stdout",
          "text": [
            "[<class '__main__.D'>, <class '__main__.B'>, <class '__main__.C'>, <class '__main__.A'>, <class 'object'>]\n"
          ]
        }
      ]
    },
    {
      "cell_type": "code",
      "source": [
        "Using __mro__ Attribute:"
      ],
      "metadata": {
        "id": "6vlZW77B9mcB"
      },
      "execution_count": null,
      "outputs": []
    },
    {
      "cell_type": "code",
      "source": [
        "print(D.__mro__)"
      ],
      "metadata": {
        "colab": {
          "base_uri": "https://localhost:8080/"
        },
        "id": "N8talBf09hB5",
        "outputId": "30c8011b-3911-443f-c11e-95ccda19a4c9"
      },
      "execution_count": null,
      "outputs": [
        {
          "output_type": "stream",
          "name": "stdout",
          "text": [
            "(<class '__main__.D'>, <class '__main__.B'>, <class '__main__.C'>, <class '__main__.A'>, <class 'object'>)\n"
          ]
        }
      ]
    },
    {
      "cell_type": "code",
      "source": [
        "Using inspect.getmro() Method:"
      ],
      "metadata": {
        "id": "ltnJrTBD9Q-q"
      },
      "execution_count": null,
      "outputs": []
    },
    {
      "cell_type": "code",
      "source": [
        "import inspect\n",
        "print(inspect.getmro(D))"
      ],
      "metadata": {
        "colab": {
          "base_uri": "https://localhost:8080/"
        },
        "id": "d9TXPqu-9n5J",
        "outputId": "b99261db-9697-4577-c09b-c03436aa93f9"
      },
      "execution_count": null,
      "outputs": [
        {
          "output_type": "stream",
          "name": "stdout",
          "text": [
            "(<class '__main__.D'>, <class '__main__.B'>, <class '__main__.C'>, <class '__main__.A'>, <class 'object'>)\n"
          ]
        }
      ]
    },
    {
      "cell_type": "markdown",
      "source": [
        "**8.Create an abstract base class Shape with an abstract method area(). Then create two subclasses\n",
        "Circle and Rectangle that implement the area() method.**"
      ],
      "metadata": {
        "id": "7n9_yDHs9u-Q"
      }
    },
    {
      "cell_type": "markdown",
      "source": [
        "Abstract Base Class in Python\n",
        "\n",
        "\n",
        "In Python, an abstract base class (ABC) is a class that cannot be instantiated directly and is meant to serve as a blueprint for other classes. It typically contains one or more abstract methods, which must be implemented by subclasses.\n",
        "\n",
        "\n",
        "The abc module provides tools for creating abstract base classes and methods."
      ],
      "metadata": {
        "id": "IKEDL5FV91aC"
      }
    },
    {
      "cell_type": "code",
      "source": [
        "from abc import ABC, abstractmethod\n",
        "import math\n",
        "\n",
        "# Abstract base class\n",
        "class Shape(ABC):\n",
        "    @abstractmethod\n",
        "    def area(self):\n",
        "        \"\"\"Abstract method to calculate area.\"\"\"\n",
        "        pass\n",
        "\n",
        "# Subclass: Circle\n",
        "class Circle(Shape):\n",
        "    def __init__(self, radius):\n",
        "        self.radius = radius\n",
        "\n",
        "    def area(self):\n",
        "        \"\"\"Implement the area method for a circle.\"\"\"\n",
        "        return math.pi * (self.radius ** 2)\n",
        "\n",
        "# Subclass: Rectangle\n",
        "class Rectangle(Shape):\n",
        "    def __init__(self, width, height):\n",
        "        self.width = width\n",
        "        self.height = height\n",
        "\n",
        "    def area(self):\n",
        "        \"\"\"Implement the area method for a rectangle.\"\"\"\n",
        "        return self.width * self.height\n",
        "\n",
        "# Example usage:\n",
        "circle = Circle(5)  # Radius = 5\n",
        "rectangle = Rectangle(4, 6)  # Width = 4, Height = 6\n",
        "\n",
        "print(f\"Circle Area: {circle.area():.2f}\")\n",
        "print(f\"Rectangle Area: {rectangle.area()}\")"
      ],
      "metadata": {
        "colab": {
          "base_uri": "https://localhost:8080/"
        },
        "id": "0OdrAQcm91CP",
        "outputId": "bd3d7a46-49e7-4ad0-808b-37fee04d419b"
      },
      "execution_count": null,
      "outputs": [
        {
          "output_type": "stream",
          "name": "stdout",
          "text": [
            "Circle Area: 78.54\n",
            "Rectangle Area: 24\n"
          ]
        }
      ]
    },
    {
      "cell_type": "markdown",
      "source": [
        "**9.Demonstrate polymorphism by creating a function that can work with different shape objects to calculate\n",
        "and print their areas**"
      ],
      "metadata": {
        "id": "YNlJ3zvC-Qn2"
      }
    },
    {
      "cell_type": "markdown",
      "source": [
        "Polymorphism in Python\n",
        "\n",
        "Polymorphism refers to the ability of different objects to respond to the same method or function call in their own way. In Python, polymorphism allows us to use a single interface (function) to work with different types of objects.\n",
        "\n",
        "\n",
        "Here, we will demonstrate polymorphism by creating a function that can calculate and print the area of different shape objects (Circle, Rectangle), all of which implement the area() method from the abstract base class Shape."
      ],
      "metadata": {
        "id": "1yBD3Yse_3NB"
      }
    },
    {
      "cell_type": "code",
      "source": [
        "from abc import ABC, abstractmethod\n",
        "import math\n",
        "\n",
        "# Abstract base class\n",
        "class Shape(ABC):\n",
        "    @abstractmethod\n",
        "    def area(self):\n",
        "        pass\n",
        "\n",
        "# Subclass: Circle\n",
        "class Circle(Shape):\n",
        "    def __init__(self, radius):\n",
        "        self.radius = radius\n",
        "\n",
        "    def area(self):\n",
        "        return math.pi * (self.radius ** 2)\n",
        "\n",
        "# Subclass: Rectangle\n",
        "class Rectangle(Shape):\n",
        "    def __init__(self, width, height):\n",
        "        self.width = width\n",
        "        self.height = height\n",
        "\n",
        "    def area(self):\n",
        "        return self.width * self.height\n",
        "\n",
        "# Polymorphic function\n",
        "def print_area(shape):\n",
        "    \"\"\"Takes a shape object and prints its area.\"\"\"\n",
        "    print(f\"The area is: {shape.area():.2f}\")\n",
        "\n",
        "# Example usage:\n",
        "circle = Circle(5)       # Radius = 5\n",
        "rectangle = Rectangle(4, 6)  # Width = 4, Height = 6\n",
        "\n",
        "print_area(circle)\n",
        "print_area(rectangle)"
      ],
      "metadata": {
        "colab": {
          "base_uri": "https://localhost:8080/"
        },
        "id": "xdTsEPuX-ZzO",
        "outputId": "5a9b2a94-a706-496d-d0a7-d94ae7c91cd1"
      },
      "execution_count": null,
      "outputs": [
        {
          "output_type": "stream",
          "name": "stdout",
          "text": [
            "The area is: 78.54\n",
            "The area is: 24.00\n"
          ]
        }
      ]
    },
    {
      "cell_type": "markdown",
      "source": [
        "**10.Implement encapsulation in a BankAccount class with private attributes for balance and\n",
        "account_number. Include methods for deposit, withdrawal, and balance inquiry.**"
      ],
      "metadata": {
        "id": "qd6Knl_o-tOU"
      }
    },
    {
      "cell_type": "markdown",
      "source": [
        "Encapsulation in Python\n",
        "\n",
        "Encapsulation is a principle of restricting direct access to class attributes to protect the data. In Python, this is typically achieved by marking attributes as private using double underscores (__). Access to these private attributes is provided through public methods (getters, setters, etc.).\n",
        "\n",
        "Below is an example of a BankAccount class that demonstrates encapsulation by using private attributes for balance and account_number"
      ],
      "metadata": {
        "id": "Tw_JdEsg-zxk"
      }
    },
    {
      "cell_type": "code",
      "source": [
        "class BankAccount:\n",
        "    def __init__(self, account_number, initial_balance=0.0):\n",
        "        \"\"\"Initialize private attributes for account number and balance.\"\"\"\n",
        "        self.__account_number = account_number  # Private attribute\n",
        "        self.__balance = initial_balance  # Private attribute\n",
        "\n",
        "    def deposit(self, amount):\n",
        "        \"\"\"Method to deposit money into the account.\"\"\"\n",
        "        if amount > 0:\n",
        "            self.__balance += amount\n",
        "            print(f\"Deposited: ${amount:.2f}\")\n",
        "        else:\n",
        "            print(\"Deposit amount must be positive\")\n",
        "\n",
        "    def withdraw(self, amount):\n",
        "        \"\"\"Method to withdraw money from the account.\"\"\"\n",
        "        if 0 < amount <= self.__balance:\n",
        "            self.__balance -= amount\n",
        "            print(f\"Withdrew: ${amount:.2f}\")\n",
        "        else:\n",
        "            print(\"Invalid withdrawal amount or insufficient balance\")\n",
        "\n",
        "    def get_balance(self):\n",
        "        \"\"\"Public method to inquire the current balance.\"\"\"\n",
        "        return self.__balance\n",
        "\n",
        "    def get_account_number(self):\n",
        "        \"\"\"Public method to retrieve the account number.\"\"\"\n",
        "        return self.__account_number\n",
        "\n",
        "# Example usage:\n",
        "account = BankAccount(\"12345678\", 100.0)  # Initial balance of $100\n",
        "\n",
        "account.deposit(50.0)\n",
        "account.withdraw(30.0)\n",
        "print(f\"Balance: ${account.get_balance():.2f}\")\n",
        "\n",
        "# Attempt to access private attributes directly (not recommended):\n",
        "# print(account.__balance)  # AttributeError: 'BankAccount' object has no attribute '__balance'\n",
        "print(f\"Account Number: {account.get_account_number()}\")"
      ],
      "metadata": {
        "colab": {
          "base_uri": "https://localhost:8080/"
        },
        "id": "Cw8jWCvd-3rU",
        "outputId": "0fb12a98-5112-45a0-9539-d11c3f20efeb"
      },
      "execution_count": null,
      "outputs": [
        {
          "output_type": "stream",
          "name": "stdout",
          "text": [
            "Deposited: $50.00\n",
            "Withdrew: $30.00\n",
            "Balance: $120.00\n",
            "Account Number: 12345678\n"
          ]
        }
      ]
    },
    {
      "cell_type": "markdown",
      "source": [
        "**11.Write a class that overrides the `__str__` and `__add__` magic methods. What will these methods allow\n",
        "you to do?**"
      ],
      "metadata": {
        "id": "1OLFEIWm_Flk"
      }
    },
    {
      "cell_type": "markdown",
      "source": [
        "Magic Methods in Python\n",
        "\n",
        "Magic methods (also known as dunder methods) are special methods that begin and end with double underscores (__). They allow objects to interact with built-in operators and functions in Python in a more natural way.\n",
        "\n",
        "By overriding __str__ and __add__ magic methods, you can:\n",
        "\n",
        "\n",
        "a.__str__: Control how the object is printed.\n",
        "\n",
        "b.__add__: Define custom behavior for the + operator when used between two objects of the class."
      ],
      "metadata": {
        "id": "_HXZbGquARoZ"
      }
    },
    {
      "cell_type": "code",
      "source": [
        "class Book:\n",
        "    def __init__(self, title, author, pages):\n",
        "        self.title = title\n",
        "        self.author = author\n",
        "        self.pages = pages\n",
        "\n",
        "    def __str__(self):\n",
        "        \"\"\"Override __str__ to provide a user-friendly string representation.\"\"\"\n",
        "        return f\"'{self.title}' by {self.author}, {self.pages} pages\"\n",
        "\n",
        "    def __add__(self, other):\n",
        "        \"\"\"Override __add__ to combine the pages of two books.\"\"\"\n",
        "        if isinstance(other, Book):\n",
        "            total_pages = self.pages + other.pages\n",
        "            return f\"Combined books have {total_pages} pages.\"\n",
        "        else:\n",
        "            return NotImplemented\n",
        "\n",
        "# Example usage:\n",
        "book1 = Book(\"1984\", \"George Orwell\", 328)\n",
        "book2 = Book(\"Brave New World\", \"Aldous Huxley\", 288)\n",
        "\n",
        "# Print the book objects (uses __str__):\n",
        "print(book1)\n",
        "print(book2)\n",
        "\n",
        "# Use the + operator between two books (uses __add__):\n",
        "print(book1 + book2)"
      ],
      "metadata": {
        "colab": {
          "base_uri": "https://localhost:8080/"
        },
        "id": "10AA1UFsARUL",
        "outputId": "99281168-1ebe-469f-8076-ffdd31b319bb"
      },
      "execution_count": 1,
      "outputs": [
        {
          "output_type": "stream",
          "name": "stdout",
          "text": [
            "'1984' by George Orwell, 328 pages\n",
            "'Brave New World' by Aldous Huxley, 288 pages\n",
            "Combined books have 616 pages.\n"
          ]
        }
      ]
    },
    {
      "cell_type": "code",
      "source": [
        "What These Methods Allow You to Do:\n",
        "\n",
        "a.__str__:\n",
        "    .Makes it easier to print or convert an object to a string in a readable format. Without it, printing the object would just show something like <Book object at 0x...>.\n",
        "b.__add__:\n",
        "    .Allows custom behavior for the + operator. Instead of just adding numbers, it lets objects (like books) define what \"adding\" means in their context."
      ],
      "metadata": {
        "id": "XdNhsEL6_Maj"
      },
      "execution_count": null,
      "outputs": []
    },
    {
      "cell_type": "markdown",
      "source": [
        "**12.Create a decorator that measures and prints the execution time of a function**"
      ],
      "metadata": {
        "id": "dwV82Z_KAwKB"
      }
    },
    {
      "cell_type": "markdown",
      "source": [
        "Creating a Decorator to Measure Execution Time\n",
        "\n",
        "A decorator in Python is a function that takes another function as input, extends its behavior, and returns a new function. Here, we will create a decorator that measures and prints the execution time of a function using the time module."
      ],
      "metadata": {
        "id": "V-Wm0oeFA1jY"
      }
    },
    {
      "cell_type": "code",
      "source": [
        "import time\n",
        "\n",
        "def measure_time(func):\n",
        "    \"\"\"Decorator to measure and print the execution time of a function.\"\"\"\n",
        "    def wrapper(*args, **kwargs):\n",
        "        start_time = time.time()  # Record the start time\n",
        "        result = func(*args, **kwargs)  # Execute the original function\n",
        "        end_time = time.time()  # Record the end time\n",
        "        execution_time = end_time - start_time  # Calculate elapsed time\n",
        "        print(f\"Execution time of '{func.__name__}': {execution_time:.4f} seconds\")\n",
        "        return result  # Return the result of the original function\n",
        "    return wrapper\n",
        "\n",
        "# Example usage:\n",
        "@measure_time\n",
        "def slow_function():\n",
        "    \"\"\"A function that simulates a delay.\"\"\"\n",
        "    time.sleep(2)  # Simulate a delay of 2 seconds\n",
        "\n",
        "@measure_time\n",
        "def add_numbers(a, b):\n",
        "    \"\"\"A function to add two numbers.\"\"\"\n",
        "    return a + b\n",
        "\n",
        "# Call the decorated functions\n",
        "slow_function()\n",
        "print(add_numbers(3, 5))"
      ],
      "metadata": {
        "colab": {
          "base_uri": "https://localhost:8080/"
        },
        "id": "kOOxy_d3A4YX",
        "outputId": "7f3ff486-1c56-41f3-dbc3-dc22940ba0cb"
      },
      "execution_count": 2,
      "outputs": [
        {
          "output_type": "stream",
          "name": "stdout",
          "text": [
            "Execution time of 'slow_function': 2.0021 seconds\n",
            "Execution time of 'add_numbers': 0.0000 seconds\n",
            "8\n"
          ]
        }
      ]
    },
    {
      "cell_type": "markdown",
      "source": [
        "**13.Explain the concept of the Diamond Problem in multiple inheritance. How does Python resolve it?**"
      ],
      "metadata": {
        "id": "yMjcmgOgBALn"
      }
    },
    {
      "cell_type": "markdown",
      "source": [
        "The Diamond Problem in Multiple Inheritance\n",
        "\n",
        "The Diamond Problem occurs in multiple inheritance when a class inherits from two or more classes that share a common ancestor, forming a diamond-shaped inheritance hierarchy. The ambiguity arises because the subclass could inherit the same method or attribute from multiple paths, and it's unclear which version should be used."
      ],
      "metadata": {
        "id": "VOj6UN7HBIJf"
      }
    },
    {
      "cell_type": "code",
      "source": [
        "      A\n",
        "     / \\\n",
        "    B   C\n",
        "     \\ /\n",
        "      D"
      ],
      "metadata": {
        "id": "EPlwyZyPCCCt"
      },
      "execution_count": null,
      "outputs": []
    },
    {
      "cell_type": "code",
      "source": [
        "In this structure:\n",
        "\n",
        "a.Class B and C both inherit from A.\n",
        "\n",
        "b.Class D inherits from both B and C.\n",
        "\n",
        "c.If A defines a method (say hello()), and both B and C inherit it, which version of hello() should class D use?\n",
        "\n",
        "This is the diamond problem — the ambiguity of which path to follow when a method or attribute is accessed from the subclass."
      ],
      "metadata": {
        "id": "DMw8mPr5BVVP"
      },
      "execution_count": null,
      "outputs": []
    },
    {
      "cell_type": "code",
      "source": [
        "How Python Resolves the Diamond Problem?\n",
        "\n",
        "Python resolves this ambiguity using Method Resolution Order (MRO) and the C3 Linearization algorithm. The MRO determines the order in which Python searches for a method in the inheritance hierarchy.\n",
        "\n",
        "\n",
        "a.Python looks for the method in D → B → C → A (based on the MRO).\n",
        "\n",
        "b.Each class is only visited once, avoiding duplication.\n",
        "\n",
        "c.Python ensures that subclasses are searched before their parent classes, and parent classes are searched left-to-right as they appear in the inheritance declaration.\n"
      ],
      "metadata": {
        "id": "M8QCzkUiBg7P"
      },
      "execution_count": null,
      "outputs": []
    },
    {
      "cell_type": "code",
      "source": [
        "class A:\n",
        "    def hello(self):\n",
        "        print(\"Hello from A\")\n",
        "\n",
        "class B(A):\n",
        "    def hello(self):\n",
        "        print(\"Hello from B\")\n",
        "\n",
        "class C(A):\n",
        "    def hello(self):\n",
        "        print(\"Hello from C\")\n",
        "\n",
        "class D(B, C):  # D inherits from both B and C\n",
        "    pass\n",
        "\n",
        "# Example usage:\n",
        "d = D()\n",
        "d.hello()\n",
        "\n",
        "# Check the Method Resolution Order (MRO):\n",
        "print(D.mro())"
      ],
      "metadata": {
        "colab": {
          "base_uri": "https://localhost:8080/"
        },
        "id": "QdA1A8f3Brju",
        "outputId": "2cf2c5bd-c68e-441c-ae81-206c8c901cd4"
      },
      "execution_count": 3,
      "outputs": [
        {
          "output_type": "stream",
          "name": "stdout",
          "text": [
            "Hello from B\n",
            "[<class '__main__.D'>, <class '__main__.B'>, <class '__main__.C'>, <class '__main__.A'>, <class 'object'>]\n"
          ]
        }
      ]
    },
    {
      "cell_type": "markdown",
      "source": [
        "**14.Write a class method that keeps track of the number of instances created from a class.**"
      ],
      "metadata": {
        "id": "AsHXaIVpCD5m"
      }
    },
    {
      "cell_type": "markdown",
      "source": [
        "Tracking the Number of Instances Using a Class Method\n",
        "\n",
        "To track the number of instances created from a class, you can use a class attribute (shared across all instances) and increment it each time the class constructor (__init__) is called. A class method can be used to access and display this counter."
      ],
      "metadata": {
        "id": "y8fVdv8GCLqd"
      }
    },
    {
      "cell_type": "code",
      "source": [
        "class InstanceCounter:\n",
        "    _instance_count = 0  # Private class attribute to track instance count\n",
        "\n",
        "    def __init__(self):\n",
        "        \"\"\"Increment the counter whenever a new instance is created.\"\"\"\n",
        "        InstanceCounter._instance_count += 1\n",
        "\n",
        "    @classmethod\n",
        "    def get_instance_count(cls):\n",
        "        \"\"\"Class method to return the total number of instances.\"\"\"\n",
        "        return cls._instance_count\n",
        "\n",
        "# Example usage:\n",
        "obj1 = InstanceCounter()  # First instance\n",
        "obj2 = InstanceCounter()  # Second instance\n",
        "obj3 = InstanceCounter()  # Third instance\n",
        "\n",
        "print(InstanceCounter.get_instance_count())"
      ],
      "metadata": {
        "colab": {
          "base_uri": "https://localhost:8080/"
        },
        "id": "coGHiP4mCLJE",
        "outputId": "c24ed725-74aa-4c1b-8b11-09f6efd6f02d"
      },
      "execution_count": 5,
      "outputs": [
        {
          "output_type": "stream",
          "name": "stdout",
          "text": [
            "3\n"
          ]
        }
      ]
    },
    {
      "cell_type": "markdown",
      "source": [
        "**15.Implement a static method in a class that checks if a given year is a leap year**"
      ],
      "metadata": {
        "id": "I6erxjGOCVK1"
      }
    },
    {
      "cell_type": "markdown",
      "source": [
        "Static Methods in Python\n",
        "\n",
        "A static method is a method that does not access or modify class or instance attributes. It is useful when you want a method to perform an operation that is logically related to the class but does not require access to class or instance data."
      ],
      "metadata": {
        "id": "R-1E43vtCbml"
      }
    },
    {
      "cell_type": "code",
      "source": [
        "class DateUtils:\n",
        "    @staticmethod\n",
        "    def is_leap_year(year):\n",
        "        \"\"\"Check if the given year is a leap year.\"\"\"\n",
        "        if (year % 4 == 0 and year % 100 != 0) or (year % 400 == 0):\n",
        "            return True\n",
        "        else:\n",
        "            return False\n",
        "\n",
        "# Example usage:\n",
        "print(DateUtils.is_leap_year(2020))\n",
        "print(DateUtils.is_leap_year(1900))\n",
        "print(DateUtils.is_leap_year(2000))\n",
        "print(DateUtils.is_leap_year(2023))"
      ],
      "metadata": {
        "colab": {
          "base_uri": "https://localhost:8080/"
        },
        "id": "wzSjXImrCjo0",
        "outputId": "7563efea-8b9a-477b-8c38-a84beb0b8b36"
      },
      "execution_count": 6,
      "outputs": [
        {
          "output_type": "stream",
          "name": "stdout",
          "text": [
            "True\n",
            "False\n",
            "True\n",
            "False\n"
          ]
        }
      ]
    },
    {
      "cell_type": "code",
      "source": [
        "Leap Year Rules Recap:\n",
        "\n",
        "a.A year is a leap year if:\n",
        "   .It is divisible by 4, and not divisible by 100 unless it is divisible by 400."
      ],
      "metadata": {
        "id": "Oms56-ztCsxs"
      },
      "execution_count": null,
      "outputs": []
    }
  ]
}