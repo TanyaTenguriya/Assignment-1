{
  "nbformat": 4,
  "nbformat_minor": 0,
  "metadata": {
    "colab": {
      "provenance": []
    },
    "kernelspec": {
      "name": "python3",
      "display_name": "Python 3"
    },
    "language_info": {
      "name": "python"
    }
  },
  "cells": [
    {
      "cell_type": "markdown",
      "source": [
        "# **Theoretical part 1**"
      ],
      "metadata": {
        "id": "1TTHhpdVWN31"
      }
    },
    {
      "cell_type": "code",
      "execution_count": null,
      "metadata": {
        "id": "_eaOof4fEyhK"
      },
      "outputs": [],
      "source": [
        "# What is a Decision Tree, and how does it work?\n",
        "# Answer:\n",
        "# Definition: A Decision Tree is a supervised machine learning algorithm used for both classification and regression tasks. It models decisions and their possible consequences in a tree-like structure, where internal nodes represent decisions based on features, branches represent decision outcomes, and leaf nodes represent final predictions (class labels for classification or continuous values for regression).\n",
        "# How It Works:\n",
        "# Root Node: The process starts at the root node, which contains the entire dataset. A feature is selected to split the data based on a criterion (e.g., Gini Impurity, Entropy).\n",
        "# Splitting: The dataset is split into subsets based on the feature value (e.g., if a feature is numerical, a threshold is chosen; if categorical, each category may form a branch). The goal is to create subsets that are as pure as possible (i.e., containing instances of a single class or similar values).\n",
        "# Internal Nodes: Each internal node represents a decision based on a feature, and the process repeats recursively on each subset, selecting the best feature to split at each step.\n",
        "# Leaf Nodes: The recursion stops when a stopping criterion is met (e.g., maximum depth, minimum samples per node, or pure subsets). The leaf nodes provide the final predictions.\n",
        "# Prediction: For a new data point, the algorithm traverses the tree from the root to a leaf node by following the decision rules, and the prediction is the value (class or continuous) at the leaf node.\n",
        "# Key Characteristics:\n",
        "# Decision Trees are interpretable, as the tree structure can be visualized and understood.\n",
        "# They are non-parametric, meaning they do not assume any specific distribution of the data."
      ]
    },
    {
      "cell_type": "code",
      "source": [
        "# 2. What are impurity measures in Decision Trees?\n",
        "# Answer:\n",
        "# Definition: Impurity measures are metrics used to quantify the \"impurity\" or \"disorder\" of a dataset at a node in a Decision Tree. They help determine how well a split separates the data into homogeneous subsets (e.g., subsets containing instances of a single class in classification).\n",
        "# Purpose: The goal of a Decision Tree is to minimize impurity after each split, making the subsets as pure as possible.\n",
        "# Common Impurity Measures:\n",
        "# Gini Impurity: Measures the probability of incorrectly classifying a randomly chosen instance if it were labeled according to the distribution of classes in the subset. Used for classification tasks.\n",
        "# Entropy: Measures the amount of uncertainty or randomness in the data, based on information theory. Used for classification tasks.\n",
        "# Mean Squared Error (MSE) or Variance: Used for regression tasks, where the goal is to minimize the variance within each subset.\n",
        "# Usage: At each node, the algorithm evaluates potential splits and selects the one that results in the largest reduction in impurity (or increase in purity)."
      ],
      "metadata": {
        "id": "p49q9pGuTvQy"
      },
      "execution_count": null,
      "outputs": []
    },
    {
      "cell_type": "code",
      "source": [
        "# 3. What is the mathematical formula for Gini Impurity?\n",
        "\n",
        "# Gini Impurity Formula:\n",
        "\n",
        "# Gini Impurity = 1 - Σ(p_i)^2\n",
        "\n",
        "# where:\n",
        "# p_i is the probability of an instance belonging to class i in the subset.\n",
        "\n",
        "# Example:\n",
        "# Let's say we have a subset with 10 instances, and 4 belong to class A and 6 to class B.\n",
        "# p_A = 4/10 = 0.4\n",
        "# p_B = 6/10 = 0.6\n",
        "\n",
        "# Gini Impurity = 1 - (0.4)^2 - (0.6)^2\n",
        "#              = 1 - 0.16 - 0.36\n",
        "#              = 0.48\n"
      ],
      "metadata": {
        "id": "HR_FeGZYTvTb"
      },
      "execution_count": null,
      "outputs": []
    },
    {
      "cell_type": "code",
      "source": [
        "# 4.) What is the mathematical formula for Entropy?\n",
        "\n",
        "# Answer:\n",
        "# Definition: Entropy is a measure of uncertainty or randomness in a dataset. In decision trees, it quantifies the impurity of a set of examples.  A lower entropy indicates higher certainty (purity), while higher entropy signifies greater uncertainty (impurity).\n",
        "\n",
        "# Formula:\n",
        "\n",
        "# Entropy(S) = - Σ (pᵢ * log₂(pᵢ))\n",
        "\n",
        "# Where:\n",
        "\n",
        "# S is the set of examples.\n",
        "# pᵢ is the proportion of instances belonging to class i in the set S.\n",
        "# The summation is taken over all classes i.\n",
        "\n",
        "# Interpretation:\n",
        "\n",
        "# Entropy ranges from 0 (completely pure, all examples belong to the same class) to log₂(number of classes) (maximum impurity, examples are evenly distributed across all classes).  For binary classification, the maximum entropy is 1.\n",
        "\n"
      ],
      "metadata": {
        "id": "Y_g6_q8pHv5G"
      },
      "execution_count": null,
      "outputs": []
    },
    {
      "cell_type": "code",
      "source": [
        "# 5.) What is Information Gain, and how is it used in Decision Trees?\n",
        "\n",
        "# Answer:\n",
        "# Definition: Information Gain is a crucial metric in Decision Trees used to quantify the reduction in entropy (or other impurity measures) achieved by splitting a dataset based on a particular feature. It measures how much information about the target variable is gained by knowing the value of a specific feature.\n",
        "\n",
        "# Calculation:\n",
        "# Information Gain(S, A) = Entropy(S) - Σ [(|Sᵥ| / |S|) * Entropy(Sᵥ)]\n",
        "\n",
        "# Where:\n",
        "\n",
        "# S is the original dataset.\n",
        "# A is the feature used to split the data.\n",
        "# Sᵥ is the subset of S for which feature A has value v.\n",
        "# |S| and |Sᵥ| represent the number of instances in S and Sᵥ, respectively.\n",
        "# Entropy(S) and Entropy(Sᵥ) are the entropies of the original dataset and its subsets, respectively.\n",
        "\n",
        "\n",
        "# Usage:\n",
        "\n",
        "# In a Decision Tree, the algorithm calculates Information Gain for each possible feature split at each node. The feature with the highest Information Gain is selected as the splitting criterion because it leads to the greatest reduction in entropy, and thus, the most significant increase in the purity of the subsets.  The process is then repeated recursively on each subset until a stopping criterion is met.\n",
        "\n",
        "# Example:\n",
        "\n",
        "# Let's say you have a dataset about whether to play tennis based on weather conditions (outlook, temperature, humidity, wind). To decide which feature to split on first, the algorithm calculates the Information Gain for each feature (outlook, temperature, humidity, wind). The feature with the highest Information Gain (e.g., outlook) is chosen as the root node, and the data is split into subsets based on the values of outlook (sunny, overcast, rainy). This process continues recursively on the subsets until the tree is complete.\n"
      ],
      "metadata": {
        "id": "sFAZlbP7Rmai"
      },
      "execution_count": null,
      "outputs": []
    },
    {
      "cell_type": "code",
      "source": [
        "\n",
        "# 6. What is the difference between Gini Impurity and Entropy?\n",
        "\n",
        "# Answer:\n",
        "\n",
        "# Both Gini Impurity and Entropy are measures of impurity used in decision trees to determine the best split at each node.  They both aim to quantify the disorder or uncertainty in a dataset, with lower values indicating purer (more homogenous) subsets.  However, they use different mathematical formulations:\n",
        "\n",
        "# Gini Impurity:\n",
        "\n",
        "# * Focuses on the probability of misclassifying a randomly chosen element if it were randomly labeled according to the class distribution in the subset.\n",
        "# * Ranges from 0 (pure node, all instances belong to the same class) to 0.5 (maximum impurity for binary classification, classes are equally distributed).\n",
        "# * Computationally less expensive to calculate than entropy.\n",
        "# * Tends to isolate the dominant class, resulting in somewhat different tree structures compared to entropy.\n",
        "\n",
        "\n",
        "# Entropy:\n",
        "\n",
        "# * Measures the uncertainty or randomness in the dataset based on information theory.  It quantifies the amount of information needed to classify a randomly chosen element from the subset.\n",
        "# * Ranges from 0 (pure node) to log₂(number of classes) (maximum impurity). For binary classification, this is 1.\n",
        "# * More computationally expensive than Gini Impurity.\n",
        "# * More sensitive to changes in class proportions, potentially leading to a different optimal split compared to Gini Impurity.\n",
        "\n",
        "# In practice:\n",
        "\n",
        "# * Gini Impurity and Entropy often lead to similar tree structures, with relatively minor differences in performance.\n",
        "# * Gini Impurity is often preferred due to its computational efficiency.\n",
        "# * The choice between them is often empirical, and might depend on specific dataset characteristics.\n"
      ],
      "metadata": {
        "id": "I8XUjiFMR25e"
      },
      "execution_count": null,
      "outputs": []
    },
    {
      "cell_type": "code",
      "source": [
        "# 7. What is the mathematical explanation behind Decision Trees?\n",
        "\n",
        "# Answer:\n",
        "\n",
        "# Decision Trees, at their core, aim to partition the data into subsets that are as pure as possible with respect to the target variable.  The mathematical foundation lies in information theory and impurity measures.\n",
        "\n",
        "# 1. Impurity Measures (e.g., Gini Impurity, Entropy):\n",
        "\n",
        "# These measures quantify the disorder or heterogeneity within a subset of data.  A pure subset contains only instances of a single class (in classification) or has very low variance (in regression).\n",
        "\n",
        "# * Gini Impurity:  Measures the probability of misclassifying a randomly chosen element if labeled according to the class distribution in the subset.  Mathematically:\n",
        "\n",
        "#   Gini Impurity = 1 - Σ (pᵢ)²\n",
        "\n",
        "#   where pᵢ is the proportion of instances belonging to class i in the subset.\n",
        "\n",
        "# * Entropy:  Measures the uncertainty or randomness in a dataset based on information theory.  Mathematically:\n",
        "\n",
        "#   Entropy = - Σ (pᵢ * log₂(pᵢ))\n",
        "\n",
        "#   where pᵢ is the proportion of instances belonging to class i in the subset.\n",
        "\n",
        "# 2. Information Gain:\n",
        "\n",
        "# The core of the decision-making process in a decision tree is to find the best split at each node.  This is achieved by calculating the Information Gain for each potential split:\n",
        "\n",
        "# Information Gain = Entropy(parent) - Σ [(|child_i| / |parent|) * Entropy(child_i)]\n",
        "\n",
        "# where:\n",
        "#     * Entropy(parent) is the entropy of the parent node.\n",
        "#     * |child_i| is the number of instances in the i-th child node.\n",
        "#     * |parent| is the number of instances in the parent node.\n",
        "#     * Entropy(child_i) is the entropy of the i-th child node.\n",
        "\n",
        "# The feature that maximizes the Information Gain is chosen for the split.  This means the split leads to the greatest reduction in uncertainty (impurity) about the target variable.\n",
        "\n",
        "\n",
        "# 3. Recursive Partitioning:\n",
        "\n",
        "# The process of splitting nodes is repeated recursively, creating a tree structure.  Each internal node represents a test on a feature, and each branch represents an outcome of the test.  The recursive partitioning continues until a stopping criterion is met (e.g., maximum depth of the tree, minimum number of instances in a leaf node, or minimum impurity reduction).  Leaf nodes represent the final predictions.\n",
        "\n",
        "\n",
        "# 4. Prediction:\n",
        "\n",
        "# To make a prediction for a new data point, the algorithm traverses the tree from the root to a leaf node, following the decision rules at each internal node.  The value at the leaf node represents the prediction for the new data point.\n",
        "\n",
        "\n",
        "# In summary, Decision Trees utilize impurity measures and Information Gain to recursively partition the feature space, aiming to create a tree structure that effectively separates different classes or predicts continuous values.  The mathematics ensures that the tree efficiently splits the data into increasingly pure subsets, enabling accurate classification or regression.\n"
      ],
      "metadata": {
        "id": "rRdIq8JHR_gQ"
      },
      "execution_count": null,
      "outputs": []
    },
    {
      "cell_type": "code",
      "source": [
        "# 8. What is Pre-Pruning in Decision Trees?\n",
        "\n",
        "# Pre-pruning in decision trees is a technique to prevent overfitting by halting the tree's growth before it perfectly classifies the training data.  It sets limits on the tree's complexity during its construction.  This is in contrast to post-pruning, where the tree is grown fully and then pruned back.\n",
        "\n",
        "\n",
        "# Common pre-pruning methods involve setting constraints such as:\n",
        "\n",
        "\n",
        "# * Maximum depth:  Limits how many levels the tree can have.  A shallower tree is less complex and less prone to overfitting.\n",
        "# * Minimum samples per leaf:  Specifies the minimum number of training samples required in a leaf node.  This prevents the tree from creating overly specific leaf nodes based on a small number of examples.\n",
        "# * Minimum samples per split:  Specifies the minimum number of samples required to split an internal node. This ensures that a split only happens if it's based on a sufficiently large subset of data.\n",
        "# * Maximum number of leaf nodes: Directly limits the number of leaf nodes in the tree.\n",
        "# * Minimum impurity decrease: Requires a minimum reduction in impurity (e.g., Gini impurity or entropy) for a split to be made. This avoids splits that don't significantly improve the model's accuracy.\n",
        "\n",
        "\n",
        "# By imposing these constraints, pre-pruning helps create a more generalized model that performs better on unseen data.\n"
      ],
      "metadata": {
        "id": "wqDMflJZSOTB"
      },
      "execution_count": null,
      "outputs": []
    },
    {
      "cell_type": "code",
      "source": [
        "# 9. What is Post-Pruning in Decision Trees?\n",
        "\n",
        "# Post-pruning, also known as backward pruning, is a technique used to reduce the size of a decision tree after it has been fully grown (trained on the training data).  Unlike pre-pruning, which imposes restrictions during the tree's construction, post-pruning allows the tree to grow to its maximum size and then selectively removes or collapses less informative branches.\n",
        "\n",
        "# Here's how it generally works:\n",
        "\n",
        "# 1. **Full Tree Growth:** The decision tree is grown until it perfectly classifies the training data or until a very lenient stopping criterion is reached.  This often leads to a very complex tree that is likely to overfit the training data.\n",
        "\n",
        "# 2. **Evaluation Metric:** A performance metric (e.g., accuracy, F1-score, or AUC) is chosen to assess the quality of the tree.  This metric is typically evaluated on a validation set (or through cross-validation) that was not used during training.\n",
        "\n",
        "# 3. **Pruning Process:** Starting at the leaf nodes, the algorithm iteratively evaluates each node for potential pruning.  It considers removing a node and replacing it with a leaf node that has the most frequent class in the subtree rooted at that node.  The performance of the pruned tree is evaluated using the chosen metric.\n",
        "\n",
        "# 4. **Cost-Complexity Pruning:**  A common approach is Cost-Complexity Pruning, which uses a parameter (α, or the complexity parameter) that controls the trade-off between tree size and accuracy.  A larger α favors smaller trees (more pruning), while a smaller α prefers larger trees.  The algorithm finds the optimal α value that balances tree size and performance.\n",
        "\n",
        "# 5. **Validation Set:**  The pruning process is guided by the performance on the validation set.  The goal is to find the subtree that minimizes the validation error.  A pruning decision is made based on whether removing a node improves performance on the validation set.\n",
        "\n",
        "# 6. **Repeat:** Steps 3-5 are repeated until no further improvement is possible on the validation set.\n",
        "\n",
        "# **Benefits of Post-Pruning:**\n",
        "\n",
        "# * Reduced Overfitting:  Removes the unnecessary and overly specific parts of the tree, leading to better generalization.\n",
        "# * Improved Performance on Unseen Data:  A smaller, less complex tree is typically more robust to noise in the data and can generalize better.\n",
        "# * Increased Interpretability:  Pruning results in a more compact tree, which is often easier to understand and interpret.\n",
        "\n",
        "# **Example:**\n",
        "\n",
        "# Imagine a branch in a fully grown tree that only classifies a small number of instances correctly, but the parent node without this branch is only slightly less accurate. Post-pruning would evaluate this and might remove that branch, effectively simplifying the tree.\n",
        "\n",
        "# In summary, post-pruning is an important technique to improve the performance of decision trees and avoid overfitting by pruning away branches that do not generalize well.\n"
      ],
      "metadata": {
        "id": "gptwkPjTSy2T"
      },
      "execution_count": null,
      "outputs": []
    },
    {
      "cell_type": "code",
      "source": [
        "\n",
        "# 10. What is the difference between Pre-Pruning and Post-Pruning?\n",
        "\n",
        "# Answer:\n",
        "\n",
        "# Both pre-pruning and post-pruning are techniques used to prevent overfitting in decision trees, but they differ in when and how they restrict the tree's growth:\n",
        "\n",
        "# Pre-Pruning (Early Stopping):\n",
        "\n",
        "# * **Timing:** Restrictions are applied *during* the tree's construction.\n",
        "# * **Mechanism:**  Pre-pruning sets limits on the tree's complexity *before* it's fully grown.  These limits are typically in the form of constraints like maximum depth, minimum samples per leaf, minimum impurity decrease, or maximum number of leaf nodes.\n",
        "# * **Advantages:** Computationally less expensive than post-pruning because it stops the tree growth early.  Avoids exploring unnecessary branches.\n",
        "# * **Disadvantages:**  May stop too early, potentially underfitting the data.  The optimal pruning thresholds can be difficult to determine and might not be suitable for all datasets.  It can prematurely halt the tree's exploration of promising branches.\n",
        "\n",
        "# Post-Pruning (Backward Pruning):\n",
        "\n",
        "# * **Timing:** Pruning happens *after* the tree is fully grown.\n",
        "# * **Mechanism:**  The tree is first grown to its maximum size (or a very lenient stopping criteria), and then less informative branches are selectively removed or collapsed.  This process often uses a validation set or cross-validation to evaluate the effect of pruning on generalization performance.\n",
        "# * **Advantages:** Less prone to underfitting compared to pre-pruning because the tree is initially allowed to grow fully.  It can be more effective in finding the optimal tree size for the dataset.\n",
        "# * **Disadvantages:** More computationally expensive than pre-pruning.  The full tree needs to be constructed before pruning begins.\n",
        "\n",
        "# Summary Table:\n",
        "\n",
        "# | Feature        | Pre-Pruning                               | Post-Pruning                              |\n",
        "# |----------------|-------------------------------------------|------------------------------------------|\n",
        "# | Timing         | During tree construction                  | After tree construction                   |\n",
        "# | Method         | Setting limits on tree growth             | Removing branches from a full-grown tree |\n",
        "# | Computational Cost | Lower                                    | Higher                                   |\n",
        "# | Risk           | Underfitting                               | Less likely to underfit                     |\n",
        "\n",
        "# In essence:\n",
        "\n",
        "# * Pre-pruning is like setting boundaries around the construction site of the tree.\n",
        "# * Post-pruning is like building a full-size tree and then carefully removing unnecessary branches.\n",
        "\n",
        "# The best approach often depends on the dataset, computational resources, and the desired level of interpretability.\n"
      ],
      "metadata": {
        "id": "_0EtGY5bS64h"
      },
      "execution_count": null,
      "outputs": []
    },
    {
      "cell_type": "code",
      "source": [
        "# 11. What is a Decision Tree Regressor? theroy\n",
        "\n",
        "# A Decision Tree Regressor is a supervised machine learning algorithm used for regression tasks.  It predicts continuous target variables by constructing a tree-like model.  Here's a breakdown:\n",
        "\n",
        "# 1. Tree Structure:  Like classification decision trees, a decision tree regressor builds a tree structure where each internal node represents a test on a feature, each branch represents an outcome of the test, and each leaf node holds a predicted value for the target variable.\n",
        "\n",
        "# 2. Prediction: To predict the target variable for a new data point, the algorithm traverses the tree from the root to a leaf node, following the decision rules at each internal node. The predicted value at the leaf node is the output.\n",
        "\n",
        "# 3. Splitting Criteria:  Unlike classification trees that use impurity measures like Gini Impurity or Entropy, regression trees use different metrics to determine the best split at each node.  Common criteria include:\n",
        "#    * **Mean Squared Error (MSE):** Measures the average squared difference between the actual target values and the predicted values in a given node.  Lower MSE indicates better predictions within a node.\n",
        "#    * **Mean Absolute Error (MAE):** Measures the average absolute difference between the actual and predicted target values.\n",
        "#    * **Variance Reduction:**  Quantifies the reduction in variance of the target variable after a split.\n",
        "\n",
        "# 4. Recursive Partitioning:  Similar to classification trees, a decision tree regressor recursively partitions the data into subsets based on splitting criteria. The goal is to create leaf nodes where the target values are as homogeneous as possible.\n",
        "\n",
        "# 5. Pruning: To avoid overfitting, pruning techniques (pre-pruning or post-pruning) are used.\n",
        "\n",
        "# 6. Handling Continuous Features: Regression trees can handle both categorical and continuous features, but special considerations are needed for continuous features. At each node, a threshold is determined to divide the data into two subsets based on the value of the feature relative to the threshold. The threshold is chosen to maximize the splitting criterion (e.g., minimizing MSE).\n",
        "\n",
        "# Example:\n",
        "# Imagine predicting the price of a house based on its size and location. A decision tree regressor might first split the data based on size (e.g., size > 1500 sq ft), then further split based on location (e.g., near a park).  Each leaf node would then contain the average price of houses within that specific category (e.g., houses > 1500 sq ft and near a park).\n",
        "\n",
        "# Advantages:\n",
        "\n",
        "# * Easy to understand and interpret.  The tree structure is intuitive and visually represents the decision-making process.\n",
        "# * Can handle both categorical and numerical features.\n",
        "# * Non-parametric: No assumptions about the underlying data distribution.\n",
        "\n",
        "# Disadvantages:\n",
        "\n",
        "# * Prone to overfitting if not properly pruned.\n",
        "# * Can be unstable: small variations in the data can lead to significantly different tree structures.\n",
        "# * Not as accurate as some other regression methods for complex datasets.\n"
      ],
      "metadata": {
        "id": "jRWFdlx6S_Bx"
      },
      "execution_count": null,
      "outputs": []
    },
    {
      "cell_type": "code",
      "source": [
        "# 12. What are the advantages and disadvantages of Decision Trees?\n",
        "\n",
        "# Advantages and Disadvantages of Decision Trees\n",
        "\n",
        "# Advantages:\n",
        "\n",
        "# 1. Easy to Understand and Interpret: Decision trees are visually appealing and easy to grasp, even for non-experts.  The tree structure provides a clear representation of the decision-making process, making it easy to explain how predictions are made.\n",
        "\n",
        "# 2. Handles both Categorical and Numerical Data: Decision trees can work with both categorical (e.g., color, gender) and numerical (e.g., age, income) features without requiring extensive data transformations.\n",
        "\n",
        "# 3. Non-Parametric: Decision trees don't assume any specific underlying distribution for the data.  This makes them robust to outliers and non-linear relationships between features and target variables.\n",
        "\n",
        "# 4. Relatively Fast Training: Compared to some other machine learning algorithms, decision trees are relatively fast to train, especially when the data set is not too large.\n",
        "\n",
        "\n",
        "# 5. Feature Importance: Decision trees provide a measure of feature importance, indicating which features are most influential in making predictions.  This can be useful for feature selection and understanding the data.\n",
        "\n",
        "\n",
        "# Disadvantages:\n",
        "\n",
        "# 1. Prone to Overfitting: Decision trees can be highly sensitive to small variations in the training data, potentially leading to overfitting.  An overfitted tree may perform very well on the training data but poorly on unseen data.  Pruning techniques help mitigate this.\n",
        "\n",
        "# 2. Instability: Small changes in the training data can result in significantly different tree structures.  This instability can be addressed with ensemble methods like random forests or gradient boosting.\n",
        "\n",
        "# 3. Bias Towards Features with Many Categories: Decision trees tend to favor features with many categories, potentially leading to biased results if not carefully addressed.\n",
        "\n",
        "# 4. Not Suitable for Very Complex Relationships: For highly complex relationships between features and target variables, decision trees might not capture these relationships as effectively as other models, such as neural networks.\n",
        "\n",
        "# 5. Sensitive to Noisy Data: Decision trees can be sensitive to noisy data, where slight errors in the training data can lead to incorrect splits.\n",
        "\n",
        "# 6. Greedy Approach: The decision tree algorithm uses a greedy approach, meaning it makes the best local decision at each node without considering the overall impact on the entire tree.  This may result in a suboptimal overall tree structure.\n"
      ],
      "metadata": {
        "id": "gr03AkG9TN7S"
      },
      "execution_count": null,
      "outputs": []
    },
    {
      "cell_type": "code",
      "source": [
        "# #  : 13. How does a Decision Tree handle missing values? theory\n",
        "\n",
        "# Decision trees handle missing values in a few ways, primarily through imputation or surrogate splits:\n",
        "\n",
        "# **1. Imputation:**  This involves replacing missing values with a substitute.  Common imputation methods include:\n",
        "\n",
        "# * **Mean/Median/Mode Imputation:**  For numerical features, the missing values are replaced by the mean or median of the non-missing values for that feature. For categorical features, the mode (most frequent value) is used.  This is simple but can distort the data distribution.\n",
        "# * **Regression Imputation:** A regression model is used to predict the missing values based on the other features.  This can be more accurate but adds computational complexity.\n",
        "# * **K-Nearest Neighbors (KNN) Imputation:** The missing values are replaced by the average (for numerical) or mode (for categorical) of the values from the k-nearest neighbors in the feature space. This is generally better than mean/median imputation as it takes the values of other nearby data points into account.\n",
        "\n",
        "\n",
        "# **2. Surrogate Splits:**  Instead of directly using a feature with missing values for a split, a surrogate variable is identified.  A surrogate variable is another feature that is highly correlated with the primary feature, and it's used for splitting instances with missing values in the primary feature. The tree looks for the best surrogate feature that mimics the splits made by the original feature.\n",
        "\n",
        "# **3. Ignoring the Missing Values:** Some algorithms may simply ignore instances (rows) with missing values. This can reduce the size of the dataset and lead to bias if the missing values are not missing completely at random.\n",
        "\n",
        "# **4. Special Treatment in Algorithms:** Some algorithms will place instances with missing values in a separate branch for a given attribute.\n",
        "\n",
        "# The best method depends on the specific dataset, the prevalence of missing values, and the nature of the missing data mechanism.\n",
        "\n",
        "\n"
      ],
      "metadata": {
        "id": "2epo8SADTXDe"
      },
      "execution_count": null,
      "outputs": []
    },
    {
      "cell_type": "code",
      "source": [
        "#  : 14. How does a Decision Tree handle categorical features?\n",
        "\n",
        "# 14. How does a Decision Tree handle categorical features?\n",
        "\n",
        "# Decision trees handle categorical features by creating branches for each possible category value.  Here's a breakdown:\n",
        "\n",
        "# 1. **Splitting Criteria:** At each node, the algorithm evaluates different categorical features and their possible values to determine the best split.  Unlike continuous features where a threshold is used, categorical features are split based on the categories themselves.\n",
        "\n",
        "# 2. **Decision Rules:** For a given categorical feature, the decision rule at a node checks if the value of that feature for a particular instance matches one of the categories.  Based on the match, the instance is directed down the corresponding branch.\n",
        "\n",
        "# 3. **Impurity Measures:** The effectiveness of a split is measured using impurity measures (like Gini impurity or entropy). The algorithm aims to find the split that maximizes the reduction in impurity.\n",
        "\n",
        "# 4. **Handling Multiple Categories:**  A feature with multiple categories will lead to multiple branches from a single node, one branch for each category.\n",
        "\n",
        "# 5. **Example:**  Suppose you have a feature \"color\" with categories \"red\", \"green\", and \"blue\".  At a node, the tree might split into three branches, one for each color.  Instances with \"red\" color will go down the \"red\" branch, and so on.\n",
        "\n",
        "\n",
        "# **Handling Binary vs. Multi-category features**\n",
        "\n",
        "# *Binary Features*: These can be treated as any other categorical feature by simply having two branches stemming from a node.\n",
        "# *Multi-category Features*:  The split at a node for a multi-categorical feature effectively partitions the data into subsets, one for each category value.\n",
        "\n",
        "\n",
        "# **Encoding**:\n",
        "\n",
        "# It's worth noting that some decision tree implementations may work with numerical representations of categorical variables (e.g., one-hot encoding, label encoding), but the core principle remains the same: the algorithm partitions the data based on the distinct categories of the feature.\n"
      ],
      "metadata": {
        "id": "NqYNKdpjTe2k"
      },
      "execution_count": null,
      "outputs": []
    },
    {
      "cell_type": "code",
      "source": [
        "# 15. What are some real-world applications of Decision Trees?\n",
        "\n",
        "# Decision trees have a wide range of applications in various fields due to their interpretability and ability to handle both categorical and numerical data. Here are some examples:\n",
        "\n",
        "# 1. Customer Relationship Management (CRM):\n",
        "#    * **Churn prediction:**  Identify customers at risk of leaving a service or product.\n",
        "#    * **Customer segmentation:** Group customers based on their characteristics and behavior to tailor marketing campaigns.\n",
        "#    * **Recommendation systems:** Suggest products or services that are likely to be of interest to a customer.\n",
        "\n",
        "# 2. Healthcare:\n",
        "#    * **Disease diagnosis:** Assist in diagnosing diseases based on symptoms and medical history.\n",
        "#    * **Patient risk assessment:**  Predict the likelihood of patients developing certain conditions.\n",
        "#    * **Treatment selection:**  Help doctors decide on the most appropriate treatment options.\n",
        "\n",
        "\n",
        "# 3. Finance:\n",
        "#    * **Credit risk assessment:** Evaluate the creditworthiness of loan applicants.\n",
        "#    * **Fraud detection:** Identify fraudulent transactions.\n",
        "#    * **Investment decisions:** Assist investors in making informed decisions.\n",
        "\n",
        "# 4. Marketing:\n",
        "#    * **Target marketing:** Identify the most promising customer segments for specific products or services.\n",
        "#    * **Campaign optimization:**  Improve the effectiveness of marketing campaigns.\n",
        "\n",
        "# 5. Retail:\n",
        "#    * **Inventory management:** Predict future demand for products.\n",
        "#    * **Sales forecasting:**  Estimate future sales based on historical data.\n",
        "#    * **Price optimization:** Determine the optimal price for products.\n",
        "\n",
        "# 6. Manufacturing:\n",
        "#    * **Quality control:** Identify defects in manufacturing processes.\n",
        "#    * **Predictive maintenance:**  Predict when equipment is likely to fail.\n",
        "\n",
        "# 7. Education:\n",
        "#    * **Student performance prediction:** Estimate student performance based on various factors.\n",
        "#    * **Dropout prediction:** Identify students at risk of dropping out of school.\n",
        "\n",
        "# 8. Image Processing:\n",
        "#    * **Object recognition:** In some image recognition tasks where interpretability is valued over extremely high accuracy.\n",
        "\n",
        "# 9. Other areas:\n",
        "#    * **Bioinformatics:** Analyze biological data and build predictive models\n",
        "#    * **Environmental science:** Analyze environmental patterns.\n",
        "\n",
        "\n",
        "\n",
        "# These are just a few examples; the applications of decision trees are constantly expanding as new techniques and technologies emerge.\n"
      ],
      "metadata": {
        "id": "EZ7xvXI1TllD"
      },
      "execution_count": null,
      "outputs": []
    },
    {
      "cell_type": "code",
      "source": [],
      "metadata": {
        "id": "n29eV4zATrHe"
      },
      "execution_count": null,
      "outputs": []
    },
    {
      "cell_type": "markdown",
      "source": [
        "# **Practical**"
      ],
      "metadata": {
        "id": "wyGROgF1Wb2l"
      }
    },
    {
      "cell_type": "markdown",
      "source": [
        "**16. Write a Python program to train a Decision Tree Classifier on the Iris dataset and print the model accuracy.\n",
        "Approach: Use DecisionTreeClassifier from sklearn.tree to train on the Iris dataset and evaluate accuracy on a test set.**"
      ],
      "metadata": {
        "id": "KjItxZ4NUl-p"
      }
    },
    {
      "cell_type": "code",
      "source": [
        "from sklearn.tree import DecisionTreeClassifier\n",
        "from sklearn.datasets import load_iris\n",
        "from sklearn.model_selection import train_test_split\n",
        "from sklearn.metrics import accuracy_score\n",
        "\n",
        "# Load dataset\n",
        "data = load_iris()\n",
        "X, y = data.data, data.target\n",
        "\n",
        "# Split data\n",
        "X_train, X_test, y_train, y_test = train_test_split(X, y, test_size=0.2, random_state=42)\n",
        "\n",
        "# Train Decision Tree Classifier\n",
        "dt = DecisionTreeClassifier(random_state=42)\n",
        "dt.fit(X_train, y_train)\n",
        "\n",
        "# Predict and evaluate\n",
        "y_pred = dt.predict(X_test)\n",
        "accuracy = accuracy_score(y_test, y_pred)\n",
        "print(f\"Model Accuracy: {accuracy:.2f}\")"
      ],
      "metadata": {
        "colab": {
          "base_uri": "https://localhost:8080/"
        },
        "id": "6sY6VLW0Up7H",
        "outputId": "39a54716-b210-4e30-c4b7-a4b32ec14a04"
      },
      "execution_count": null,
      "outputs": [
        {
          "output_type": "stream",
          "name": "stdout",
          "text": [
            "Model Accuracy: 1.00\n"
          ]
        }
      ]
    },
    {
      "cell_type": "markdown",
      "source": [
        "**17. Write a Python program to train a Decision Tree Classifier using Gini Impurity as the criterion and print the feature importances.\n",
        "Approach: Use DecisionTreeClassifier with criterion='gini' and access feature importance scores via feature_importances_.**"
      ],
      "metadata": {
        "id": "kbA21lWvUvzk"
      }
    },
    {
      "cell_type": "code",
      "source": [
        "from sklearn.tree import DecisionTreeClassifier\n",
        "from sklearn.datasets import load_iris\n",
        "from sklearn.model_selection import train_test_split\n",
        "\n",
        "# Load dataset\n",
        "data = load_iris()\n",
        "X, y = data.data, data.target\n",
        "\n",
        "# Split data\n",
        "X_train, X_test, y_train, y_test = train_test_split(X, y, test_size=0.2, random_state=42)\n",
        "\n",
        "# Train Decision Tree Classifier with Gini criterion\n",
        "dt = DecisionTreeClassifier(criterion='gini', random_state=42)\n",
        "dt.fit(X_train, y_train)\n",
        "\n",
        "# Print feature importances\n",
        "feature_names = data.feature_names\n",
        "importances = dt.feature_importances_\n",
        "for name, importance in zip(feature_names, importances):\n",
        "    print(f\"Feature: {name}, Importance: {importance:.4f}\")"
      ],
      "metadata": {
        "colab": {
          "base_uri": "https://localhost:8080/"
        },
        "id": "jvaOfU3zU2Uu",
        "outputId": "f2a59d86-5dc1-4c3c-eff7-646ba8d0fec8"
      },
      "execution_count": null,
      "outputs": [
        {
          "output_type": "stream",
          "name": "stdout",
          "text": [
            "Feature: sepal length (cm), Importance: 0.0000\n",
            "Feature: sepal width (cm), Importance: 0.0167\n",
            "Feature: petal length (cm), Importance: 0.9061\n",
            "Feature: petal width (cm), Importance: 0.0772\n"
          ]
        }
      ]
    },
    {
      "cell_type": "markdown",
      "source": [
        "18. Write a Python program to train a Decision Tree Classifier using Entropy as the splitting criterion and print the model accuracy.\n",
        "Approach: Use DecisionTreeClassifier with criterion='entropy' and evaluate accuracy."
      ],
      "metadata": {
        "id": "qwlGsYt3U8LC"
      }
    },
    {
      "cell_type": "code",
      "source": [
        "from sklearn.tree import DecisionTreeClassifier\n",
        "from sklearn.datasets import load_iris\n",
        "from sklearn.model_selection import train_test_split\n",
        "from sklearn.metrics import accuracy_score\n",
        "\n",
        "# Load dataset\n",
        "data = load_iris()\n",
        "X, y = data.data, data.target\n",
        "\n",
        "# Split data\n",
        "X_train, X_test, y_train, y_test = train_test_split(X, y, test_size=0.2, random_state=42)\n",
        "\n",
        "# Train Decision Tree Classifier with Entropy criterion\n",
        "dt = DecisionTreeClassifier(criterion='entropy', random_state=42)\n",
        "dt.fit(X_train, y_train)\n",
        "\n",
        "# Predict and evaluate\n",
        "y_pred = dt.predict(X_test)\n",
        "accuracy = accuracy_score(y_test, y_pred)\n",
        "print(f\"Model Accuracy: {accuracy:.2f}\")"
      ],
      "metadata": {
        "colab": {
          "base_uri": "https://localhost:8080/"
        },
        "id": "8VrhBnN3U_il",
        "outputId": "5244affe-85f1-4b85-807e-992f5608a322"
      },
      "execution_count": null,
      "outputs": [
        {
          "output_type": "stream",
          "name": "stdout",
          "text": [
            "Model Accuracy: 1.00\n"
          ]
        }
      ]
    },
    {
      "cell_type": "code",
      "source": [],
      "metadata": {
        "id": "lHX8E3ENU_yd"
      },
      "execution_count": null,
      "outputs": []
    },
    {
      "cell_type": "markdown",
      "source": [
        "19. Write a Python program to train a Decision Tree Regressor on a housing dataset and evaluate using Mean Squared Error (MSE).\n",
        "Approach: Use DecisionTreeRegressor on the California housing dataset (or a synthetic dataset if the housing dataset is unavailable) and evaluate using MSE."
      ],
      "metadata": {
        "id": "AOhYf-xRVCAq"
      }
    },
    {
      "cell_type": "code",
      "source": [
        "from sklearn.tree import DecisionTreeRegressor\n",
        "from sklearn.datasets import fetch_california_housing\n",
        "from sklearn.model_selection import train_test_split\n",
        "from sklearn.metrics import mean_squared_error\n",
        "\n",
        "# Load dataset\n",
        "data = fetch_california_housing()\n",
        "X, y = data.data, data.target\n",
        "\n",
        "# Split data\n",
        "X_train, X_test, y_train, y_test = train_test_split(X, y, test_size=0.2, random_state=42)\n",
        "\n",
        "# Train Decision Tree Regressor\n",
        "dt = DecisionTreeRegressor(random_state=42)\n",
        "dt.fit(X_train, y_train)\n",
        "\n",
        "# Predict and evaluate\n",
        "y_pred = dt.predict(X_test)\n",
        "mse = mean_squared_error(y_test, y_pred)\n",
        "print(f\"Mean Squared Error (MSE): {mse:.2f}\")"
      ],
      "metadata": {
        "colab": {
          "base_uri": "https://localhost:8080/"
        },
        "id": "nMpaVFfmVCjB",
        "outputId": "1acbac2a-0e31-4859-80ca-e19c0d7e8617"
      },
      "execution_count": null,
      "outputs": [
        {
          "output_type": "stream",
          "name": "stdout",
          "text": [
            "Mean Squared Error (MSE): 0.50\n"
          ]
        }
      ]
    },
    {
      "cell_type": "code",
      "source": [],
      "metadata": {
        "id": "5xlhpsAAVDwe"
      },
      "execution_count": null,
      "outputs": []
    },
    {
      "cell_type": "markdown",
      "source": [
        "20. Write a Python program to train a Decision Tree Classifier and visualize the tree using graphviz.\n",
        "Approach: Use DecisionTreeClassifier, export the tree structure using export_graphviz, and visualize it using graphviz."
      ],
      "metadata": {
        "id": "4MXMbVCCVGKx"
      }
    },
    {
      "cell_type": "code",
      "source": [
        "from sklearn.tree import DecisionTreeClassifier, export_graphviz\n",
        "from sklearn.datasets import load_iris\n",
        "from sklearn.model_selection import train_test_split\n",
        "import graphviz\n",
        "\n",
        "# Load dataset\n",
        "data = load_iris()\n",
        "X, y = data.data, data.target\n",
        "\n",
        "# Split data\n",
        "X_train, X_test, y_train, y_test = train_test_split(X, y, test_size=0.2, random_state=42)\n",
        "\n",
        "# Train Decision Tree Classifier\n",
        "dt = DecisionTreeClassifier(max_depth=3, random_state=42)  # Limit depth for visualization\n",
        "dt.fit(X_train, y_train)\n",
        "\n",
        "# Export tree to DOT format\n",
        "dot_data = export_graphviz(dt, out_file=None,\n",
        "                           feature_names=data.feature_names,\n",
        "                           class_names=data.target_names,\n",
        "                           filled=True, rounded=True,\n",
        "                           special_characters=True)\n",
        "\n",
        "# Visualize the tree\n",
        "graph = graphviz.Source(dot_data)\n",
        "graph.render(\"iris_decision_tree\", view=True)  # Saves and opens the visualization"
      ],
      "metadata": {
        "colab": {
          "base_uri": "https://localhost:8080/",
          "height": 36
        },
        "id": "RfLplOCAVGZ9",
        "outputId": "d7d859b6-69ed-43af-aa34-541f4b9ca642"
      },
      "execution_count": null,
      "outputs": [
        {
          "output_type": "execute_result",
          "data": {
            "text/plain": [
              "'iris_decision_tree.pdf'"
            ],
            "application/vnd.google.colaboratory.intrinsic+json": {
              "type": "string"
            }
          },
          "metadata": {},
          "execution_count": 14
        }
      ]
    },
    {
      "cell_type": "code",
      "source": [],
      "metadata": {
        "id": "4nV13UvPVKSQ"
      },
      "execution_count": null,
      "outputs": []
    },
    {
      "cell_type": "markdown",
      "source": [
        "21. Write a Python program to train a Decision Tree Classifier with a maximum depth of 3 and compare its accuracy with a fully grown tree.\n",
        "Approach: Train two DecisionTreeClassifier models—one with max_depth=3 and one unrestricted—and compare accuracy."
      ],
      "metadata": {
        "id": "S-LkfhUaVOUz"
      }
    },
    {
      "cell_type": "code",
      "source": [
        "from sklearn.tree import DecisionTreeClassifier\n",
        "from sklearn.datasets import load_iris\n",
        "from sklearn.model_selection import train_test_split\n",
        "from sklearn.metrics import accuracy_score\n",
        "\n",
        "# Load dataset\n",
        "data = load_iris()\n",
        "X, y = data.data, data.target\n",
        "\n",
        "# Split data\n",
        "X_train, X_test, y_train, y_test = train_test_split(X, y, test_size=0.2, random_state=42)\n",
        "\n",
        "# Train Decision Tree with max_depth=3\n",
        "dt_limited = DecisionTreeClassifier(max_depth=3, random_state=42)\n",
        "dt_limited.fit(X_train, y_train)\n",
        "y_pred_limited = dt_limited.predict(X_test)\n",
        "accuracy_limited = accuracy_score(y_test, y_pred_limited)\n",
        "\n",
        "# Train fully grown Decision Tree\n",
        "dt_full = DecisionTreeClassifier(random_state=42)\n",
        "dt_full.fit(X_train, y_train)\n",
        "y_pred_full = dt_full.predict(X_test)\n",
        "accuracy_full = accuracy_score(y_test, y_pred_full)\n",
        "\n",
        "# Compare accuracy\n",
        "print(f\"Accuracy with max_depth=3: {accuracy_limited:.2f}\")\n",
        "print(f\"Accuracy with fully grown tree: {accuracy_full:.2f}\")"
      ],
      "metadata": {
        "colab": {
          "base_uri": "https://localhost:8080/"
        },
        "id": "2SyLwP5aVOul",
        "outputId": "da587c44-2bff-4976-9562-b6f2a1428f73"
      },
      "execution_count": null,
      "outputs": [
        {
          "output_type": "stream",
          "name": "stdout",
          "text": [
            "Accuracy with max_depth=3: 1.00\n",
            "Accuracy with fully grown tree: 1.00\n"
          ]
        }
      ]
    },
    {
      "cell_type": "code",
      "source": [],
      "metadata": {
        "id": "uVX2fxGgVQIS"
      },
      "execution_count": null,
      "outputs": []
    },
    {
      "cell_type": "markdown",
      "source": [
        "22. Write a Python program to train a Decision Tree Classifier using min_samples_split=5 and compare its accuracy with a default tree.\n",
        "Approach: Train two DecisionTreeClassifier models—one with min_samples_split=5 and one with default settings—and compare accuracy."
      ],
      "metadata": {
        "id": "CKwPbLnfVSeN"
      }
    },
    {
      "cell_type": "code",
      "source": [
        "from sklearn.tree import DecisionTreeClassifier\n",
        "from sklearn.datasets import load_iris\n",
        "from sklearn.model_selection import train_test_split\n",
        "from sklearn.metrics import accuracy_score\n",
        "\n",
        "# Load dataset\n",
        "data = load_iris()\n",
        "X, y = data.data, data.target\n",
        "\n",
        "# Split data\n",
        "X_train, X_test, y_train, y_test = train_test_split(X, y, test_size=0.2, random_state=42)\n",
        "\n",
        "# Train Decision Tree with min_samples_split=5\n",
        "dt_split = DecisionTreeClassifier(min_samples_split=5, random_state=42)\n",
        "dt_split.fit(X_train, y_train)\n",
        "y_pred_split = dt_split.predict(X_test)\n",
        "accuracy_split = accuracy_score(y_test, y_pred_split)\n",
        "\n",
        "# Train default Decision Tree\n",
        "dt_default = DecisionTreeClassifier(random_state=42)\n",
        "dt_default.fit(X_train, y_train)\n",
        "y_pred_default = dt_default.predict(X_test)\n",
        "accuracy_default = accuracy_score(y_test, y_pred_default)\n",
        "\n",
        "# Compare accuracy\n",
        "print(f\"Accuracy with min_samples_split=5: {accuracy_split:.2f}\")\n",
        "print(f\"Accuracy with default tree: {accuracy_default:.2f}\")"
      ],
      "metadata": {
        "colab": {
          "base_uri": "https://localhost:8080/"
        },
        "id": "hiajTBg-VSyc",
        "outputId": "9568c503-12d3-4ba5-eeac-e421d509bfce"
      },
      "execution_count": null,
      "outputs": [
        {
          "output_type": "stream",
          "name": "stdout",
          "text": [
            "Accuracy with min_samples_split=5: 1.00\n",
            "Accuracy with default tree: 1.00\n"
          ]
        }
      ]
    },
    {
      "cell_type": "code",
      "source": [],
      "metadata": {
        "id": "uHH5IU7pVUgh"
      },
      "execution_count": null,
      "outputs": []
    },
    {
      "cell_type": "markdown",
      "source": [
        "23. Write a Python program to apply feature scaling before training a Decision Tree Classifier and compare its accuracy with unscaled data.\n",
        "Approach: Train two DecisionTreeClassifier models—one on scaled data using StandardScaler and one on unscaled data—and compare accuracy. Note that Decision Trees are invariant to feature scaling, so the accuracy should be the same."
      ],
      "metadata": {
        "id": "9IWAwU-cVXH-"
      }
    },
    {
      "cell_type": "code",
      "source": [
        "from sklearn.tree import DecisionTreeClassifier\n",
        "from sklearn.datasets import load_iris\n",
        "from sklearn.model_selection import train_test_split\n",
        "from sklearn.metrics import accuracy_score\n",
        "from sklearn.preprocessing import StandardScaler\n",
        "\n",
        "# Load dataset\n",
        "data = load_iris()\n",
        "X, y = data.data, data.target\n",
        "\n",
        "# Split data\n",
        "X_train, X_test, y_train, y_test = train_test_split(X, y, test_size=0.2, random_state=42)\n",
        "\n",
        "# Scale features\n",
        "scaler = StandardScaler()\n",
        "X_train_scaled = scaler.fit_transform(X_train)\n",
        "X_test_scaled = scaler.transform(X_test)\n",
        "\n",
        "# Train Decision Tree on scaled data\n",
        "dt_scaled = DecisionTreeClassifier(random_state=42)\n",
        "dt_scaled.fit(X_train_scaled, y_train)\n",
        "y_pred_scaled = dt_scaled.predict(X_test_scaled)\n",
        "accuracy_scaled = accuracy_score(y_test, y_pred_scaled)\n",
        "\n",
        "# Train Decision Tree on unscaled data\n",
        "dt_unscaled = DecisionTreeClassifier(random_state=42)\n",
        "dt_unscaled.fit(X_train, y_train)\n",
        "y_pred_unscaled = dt_unscaled.predict(X_test)\n",
        "accuracy_unscaled = accuracy_score(y_test, y_pred_unscaled)\n",
        "\n",
        "# Compare accuracy\n",
        "print(f\"Accuracy with scaled data: {accuracy_scaled:.2f}\")\n",
        "print(f\"Accuracy with unscaled data: {accuracy_unscaled:.2f}\")"
      ],
      "metadata": {
        "colab": {
          "base_uri": "https://localhost:8080/"
        },
        "id": "QbZCusslVXd9",
        "outputId": "5ffb3045-b42b-45fb-a6b4-1b16ee62577e"
      },
      "execution_count": null,
      "outputs": [
        {
          "output_type": "stream",
          "name": "stdout",
          "text": [
            "Accuracy with scaled data: 1.00\n",
            "Accuracy with unscaled data: 1.00\n"
          ]
        }
      ]
    },
    {
      "cell_type": "code",
      "source": [],
      "metadata": {
        "id": "N_KyAexLVZca"
      },
      "execution_count": null,
      "outputs": []
    },
    {
      "cell_type": "markdown",
      "source": [
        "24. Write a Python program to train a Decision Tree Classifier using One-vs-Rest (OvR) strategy for multiclass classification.\n",
        "Approach: Decision Trees in scikit-learn handle multiclass classification natively without needing an explicit OvR strategy. However, to demonstrate OvR, we can use OneVsRestClassifier with a Decision Tree as the base estimator.\n"
      ],
      "metadata": {
        "id": "9VYgNZR9VeIN"
      }
    },
    {
      "cell_type": "code",
      "source": [
        "from sklearn.tree import DecisionTreeClassifier\n",
        "from sklearn.multiclass import OneVsRestClassifier\n",
        "from sklearn.datasets import load_iris\n",
        "from sklearn.model_selection import train_test_split\n",
        "from sklearn.metrics import accuracy_score\n",
        "\n",
        "# Load dataset\n",
        "data = load_iris()\n",
        "X, y = data.data, data.target\n",
        "\n",
        "# Split data\n",
        "X_train, X_test, y_train, y_test = train_test_split(X, y, test_size=0.2, random_state=42)\n",
        "\n",
        "# Train Decision Tree with One-vs-Rest strategy\n",
        "ovr_classifier = OneVsRestClassifier(DecisionTreeClassifier(random_state=42))\n",
        "ovr_classifier.fit(X_train, y_train)\n",
        "\n",
        "# Predict and evaluate\n",
        "y_pred = ovr_classifier.predict(X_test)\n",
        "accuracy = accuracy_score(y_test, y_pred)\n",
        "print(f\"Model Accuracy with OvR: {accuracy:.2f}\")"
      ],
      "metadata": {
        "colab": {
          "base_uri": "https://localhost:8080/"
        },
        "id": "juBi0RUmVe12",
        "outputId": "fa2afe62-78a5-4d46-a13d-72839d4064d1"
      },
      "execution_count": null,
      "outputs": [
        {
          "output_type": "stream",
          "name": "stdout",
          "text": [
            "Model Accuracy with OvR: 1.00\n"
          ]
        }
      ]
    },
    {
      "cell_type": "code",
      "source": [],
      "metadata": {
        "id": "lMtl5000VgyL"
      },
      "execution_count": null,
      "outputs": []
    },
    {
      "cell_type": "markdown",
      "source": [
        "25. Write a Python program to train a Decision Tree Classifier and display the feature importance scores.\n",
        "Approach: Use DecisionTreeClassifier and access feature importance scores via feature_importances_."
      ],
      "metadata": {
        "id": "jxvnvKMTVrAF"
      }
    },
    {
      "cell_type": "code",
      "source": [
        "from sklearn.tree import DecisionTreeClassifier\n",
        "from sklearn.datasets import load_iris\n",
        "from sklearn.model_selection import train_test_split\n",
        "\n",
        "# Load dataset\n",
        "data = load_iris()\n",
        "X, y = data.data, data.target\n",
        "\n",
        "# Split data\n",
        "X_train, X_test, y_train, y_test = train_test_split(X, y, test_size=0.2, random_state=42)\n",
        "\n",
        "# Train Decision Tree Classifier\n",
        "dt = DecisionTreeClassifier(random_state=42)\n",
        "dt.fit(X_train, y_train)\n",
        "\n",
        "# Display feature importance scores\n",
        "feature_names = data.feature_names\n",
        "importances = dt.feature_importances_\n",
        "for name, importance in zip(feature_names, importances):\n",
        "    print(f\"Feature: {name}, Importance: {importance:.4f}\")"
      ],
      "metadata": {
        "colab": {
          "base_uri": "https://localhost:8080/"
        },
        "id": "fM-8B0zYVrjE",
        "outputId": "7dba606a-abbd-46da-aace-ac16367c0c36"
      },
      "execution_count": null,
      "outputs": [
        {
          "output_type": "stream",
          "name": "stdout",
          "text": [
            "Feature: sepal length (cm), Importance: 0.0000\n",
            "Feature: sepal width (cm), Importance: 0.0167\n",
            "Feature: petal length (cm), Importance: 0.9061\n",
            "Feature: petal width (cm), Importance: 0.0772\n"
          ]
        }
      ]
    },
    {
      "cell_type": "code",
      "source": [],
      "metadata": {
        "id": "hQTjL-1pVuHx"
      },
      "execution_count": null,
      "outputs": []
    },
    {
      "cell_type": "markdown",
      "source": [
        "26. Write a Python program to train a Decision Tree Regressor with max_depth=5 and compare its performance with an unrestricted tree.\n",
        "Approach: Train two DecisionTreeRegressor models—one with max_depth=5 and one unrestricted—and compare MSE."
      ],
      "metadata": {
        "id": "8t3TcJbaVwPL"
      }
    },
    {
      "cell_type": "code",
      "source": [
        "from sklearn.tree import DecisionTreeRegressor\n",
        "from sklearn.datasets import fetch_california_housing\n",
        "from sklearn.model_selection import train_test_split\n",
        "from sklearn.metrics import mean_squared_error\n",
        "\n",
        "# Load dataset\n",
        "data = fetch_california_housing()\n",
        "X, y = data.data, data.target\n",
        "\n",
        "# Split data\n",
        "X_train, X_test, y_train, y_test = train_test_split(X, y, test_size=0.2, random_state=42)\n",
        "\n",
        "# Train Decision Tree Regressor with max_depth=5\n",
        "dt_limited = DecisionTreeRegressor(max_depth=5, random_state=42)\n",
        "dt_limited.fit(X_train, y_train)\n",
        "y_pred_limited = dt_limited.predict(X_test)\n",
        "mse_limited = mean_squared_error(y_test, y_pred_limited)\n",
        "\n",
        "# Train unrestricted Decision Tree Regressor\n",
        "dt_full = DecisionTreeRegressor(random_state=42)\n",
        "dt_full.fit(X_train, y_train)\n",
        "y_pred_full = dt_full.predict(X_test)\n",
        "mse_full = mean_squared_error(y_test, y_pred_full)\n",
        "\n",
        "# Compare performance\n",
        "print(f\"MSE with max_depth=5: {mse_limited:.2f}\")\n",
        "print(f\"MSE with unrestricted tree: {mse_full:.2f}\")"
      ],
      "metadata": {
        "colab": {
          "base_uri": "https://localhost:8080/"
        },
        "id": "Lvnv6WYoVwq3",
        "outputId": "a301b271-4703-4418-d249-d6d36a7c72e1"
      },
      "execution_count": null,
      "outputs": [
        {
          "output_type": "stream",
          "name": "stdout",
          "text": [
            "MSE with max_depth=5: 0.52\n",
            "MSE with unrestricted tree: 0.50\n"
          ]
        }
      ]
    },
    {
      "cell_type": "code",
      "source": [],
      "metadata": {
        "id": "IzGLbOLRV01U"
      },
      "execution_count": null,
      "outputs": []
    },
    {
      "cell_type": "markdown",
      "source": [
        "27. Write a Python program to train a Decision Tree Classifier, apply Cost Complexity Pruning (CCP), and visualize its effect on accuracy.\n",
        "Approach: Use DecisionTreeClassifier with ccp_alpha to apply Cost Complexity Pruning, and plot accuracy for different ccp_alpha values."
      ],
      "metadata": {
        "id": "aiYsstX9V3J0"
      }
    },
    {
      "cell_type": "code",
      "source": [
        "from sklearn.tree import DecisionTreeClassifier\n",
        "from sklearn.datasets import load_iris\n",
        "from sklearn.model_selection import train_test_split\n",
        "from sklearn.metrics import accuracy_score\n",
        "import matplotlib.pyplot as plt\n",
        "\n",
        "# Load dataset\n",
        "data = load_iris()\n",
        "X, y = data.data, data.target\n",
        "\n",
        "# Split data\n",
        "X_train, X_test, y_train, y_test = train_test_split(X, y, test_size=0.2, random_state=42)\n",
        "\n",
        "# Train Decision Tree and get path for CCP\n",
        "dt = DecisionTreeClassifier(random_state=42)\n",
        "path = dt.cost_complexity_pruning_path(X_train, y_train)\n",
        "ccp_alphas, impurities = path.ccp_alphas, path.impurities\n",
        "\n",
        "# Train Decision Trees with different ccp_alpha values and store accuracies\n",
        "accuracies = []\n",
        "for ccp_alpha in ccp_alphas:\n",
        "    dt_pruned = DecisionTreeClassifier(random_state=42, ccp_alpha=ccp_alpha)\n",
        "    dt_pruned.fit(X_train, y_train)\n",
        "    y_pred = dt_pruned.predict(X_test)\n",
        "    accuracy = accuracy_score(y_test, y_pred)\n",
        "    accuracies.append(accuracy)\n",
        "\n",
        "# Visualize the effect of ccp_alpha on accuracy\n",
        "plt.figure(figsize=(10, 6))\n",
        "plt.plot(ccp_alphas, accuracies, marker='o')\n",
        "plt.xlabel('ccp_alpha')\n",
        "plt.ylabel('Accuracy')\n",
        "plt.title('Effect of Cost Complexity Pruning on Accuracy')\n",
        "plt.grid()\n",
        "plt.show()\n",
        "\n",
        "# Print the best ccp_alpha and corresponding accuracy\n",
        "best_idx = accuracies.index(max(accuracies))\n",
        "print(f\"Best ccp_alpha: {ccp_alphas[best_idx]:.4f}\")\n",
        "print(f\"Best Accuracy: {accuracies[best_idx]:.2f}\")"
      ],
      "metadata": {
        "colab": {
          "base_uri": "https://localhost:8080/",
          "height": 599
        },
        "id": "vz0zUOG7V3di",
        "outputId": "1266b060-90bc-4310-b69e-14a8dbc0741c"
      },
      "execution_count": null,
      "outputs": [
        {
          "output_type": "display_data",
          "data": {
            "text/plain": [
              "<Figure size 1000x600 with 1 Axes>"
            ],
            "image/png": "[encoded data removed]"
          },
          "metadata": {}
        },
        {
          "output_type": "stream",
          "name": "stdout",
          "text": [
            "Best ccp_alpha: 0.0000\n",
            "Best Accuracy: 1.00\n"
          ]
        }
      ]
    },
    {
      "cell_type": "code",
      "source": [],
      "metadata": {
        "id": "oQbejc-QV5dq"
      },
      "execution_count": null,
      "outputs": []
    },
    {
      "cell_type": "markdown",
      "source": [
        "28. Write a Python program to train a Decision Tree Classifier and evaluate its performance using Precision, Recall, and F1-Score.\n",
        "Approach: Use DecisionTreeClassifier and evaluate using classification_report."
      ],
      "metadata": {
        "id": "epOKijtkV8RV"
      }
    },
    {
      "cell_type": "code",
      "source": [
        "from sklearn.tree import DecisionTreeClassifier\n",
        "from sklearn.datasets import load_iris\n",
        "from sklearn.model_selection import train_test_split\n",
        "from sklearn.metrics import classification_report\n",
        "\n",
        "# Load dataset\n",
        "data = load_iris()\n",
        "X, y = data.data, data.target\n",
        "\n",
        "# Split data\n",
        "X_train, X_test, y_train, y_test = train_test_split(X, y, test_size=0.2, random_state=42)\n",
        "\n",
        "# Train Decision Tree Classifier\n",
        "dt = DecisionTreeClassifier(random_state=42)\n",
        "dt.fit(X_train, y_train)\n",
        "\n",
        "# Predict and evaluate\n",
        "y_pred = dt.predict(X_test)\n",
        "print(classification_report(y_test, y_pred, target_names=data.target_names))"
      ],
      "metadata": {
        "colab": {
          "base_uri": "https://localhost:8080/"
        },
        "id": "DXBDLoI2V8iK",
        "outputId": "833d0981-9128-4cdd-d0e1-c55453d5dd3f"
      },
      "execution_count": null,
      "outputs": [
        {
          "output_type": "stream",
          "name": "stdout",
          "text": [
            "              precision    recall  f1-score   support\n",
            "\n",
            "      setosa       1.00      1.00      1.00        10\n",
            "  versicolor       1.00      1.00      1.00         9\n",
            "   virginica       1.00      1.00      1.00        11\n",
            "\n",
            "    accuracy                           1.00        30\n",
            "   macro avg       1.00      1.00      1.00        30\n",
            "weighted avg       1.00      1.00      1.00        30\n",
            "\n"
          ]
        }
      ]
    },
    {
      "cell_type": "code",
      "source": [],
      "metadata": {
        "id": "phbh7XxHV-9B"
      },
      "execution_count": null,
      "outputs": []
    },
    {
      "cell_type": "markdown",
      "source": [
        "29. Write a Python program to train a Decision Tree Classifier and visualize the confusion matrix using seaborn.\n",
        "Approach: Train DecisionTreeClassifier and use confusion_matrix and seaborn for visualization."
      ],
      "metadata": {
        "id": "0sb_jP9eWCJl"
      }
    },
    {
      "cell_type": "code",
      "source": [
        "from sklearn.tree import DecisionTreeClassifier\n",
        "from sklearn.datasets import load_iris\n",
        "from sklearn.model_selection import train_test_split\n",
        "from sklearn.metrics import confusion_matrix\n",
        "import seaborn as sns\n",
        "import matplotlib.pyplot as plt\n",
        "\n",
        "# Load dataset\n",
        "data = load_iris()\n",
        "X, y = data.data, data.target\n",
        "\n",
        "# Split data\n",
        "X_train, X_test, y_train, y_test = train_test_split(X, y, test_size=0.2, random_state=42)\n",
        "\n",
        "# Train Decision Tree Classifier\n",
        "dt = DecisionTreeClassifier(random_state=42)\n",
        "dt.fit(X_train, y_train)\n",
        "\n",
        "# Predict and compute confusion matrix\n",
        "y_pred = dt.predict(X_test)\n",
        "cm = confusion_matrix(y_test, y_pred)\n",
        "\n",
        "# Visualize confusion matrix\n",
        "plt.figure(figsize=(8, 6))\n",
        "sns.heatmap(cm, annot=True, fmt='d', cmap='Blues', xticklabels=data.target_names, yticklabels=data.target_names)\n",
        "plt.xlabel('Predicted')\n",
        "plt.ylabel('True')\n",
        "plt.title('Confusion Matrix')\n",
        "plt.show()"
      ],
      "metadata": {
        "colab": {
          "base_uri": "https://localhost:8080/",
          "height": 564
        },
        "id": "E4fbllk3WCZ9",
        "outputId": "84558d3a-5d91-4e38-898b-ec93b56a6f7d"
      },
      "execution_count": null,
      "outputs": [
        {
          "output_type": "display_data",
          "data": {
            "text/plain": [
              "<Figure size 800x600 with 2 Axes>"
            ],
            "image/png": "[encoded data removed]"
          },
          "metadata": {}
        }
      ]
    },
    {
      "cell_type": "code",
      "source": [],
      "metadata": {
        "id": "pHNUkQ3zWD6U"
      },
      "execution_count": null,
      "outputs": []
    },
    {
      "cell_type": "markdown",
      "source": [
        "30. Write a Python program to train a Decision Tree Classifier and use GridSearchCV to find the optimal values for max_depth and min_samples_split.\n",
        "Approach: Use GridSearchCV to tune max_depth and min_samples_split for DecisionTreeClassifier."
      ],
      "metadata": {
        "id": "9fgpkaLjWGXj"
      }
    },
    {
      "cell_type": "code",
      "source": [
        "from sklearn.tree import DecisionTreeClassifier\n",
        "from sklearn.datasets import load_iris\n",
        "from sklearn.model_selection import train_test_split, GridSearchCV\n",
        "from sklearn.metrics import accuracy_score\n",
        "\n",
        "# Load dataset\n",
        "data = load_iris()\n",
        "X, y = data.data, data.target\n",
        "\n",
        "# Split data\n",
        "X_train, X_test, y_train, y_test = train_test_split(X, y, test_size=0.2, random_state=42)\n",
        "\n",
        "# Define parameter grid\n",
        "param_grid = {\n",
        "    'max_depth': [None, 3, 5, 7, 10],\n",
        "    'min_samples_split': [2, 5, 10, 20]\n",
        "}\n",
        "\n",
        "# Train Decision Tree with GridSearchCV\n",
        "dt = DecisionTreeClassifier(random_state=42)\n",
        "grid_search = GridSearchCV(dt, param_grid, cv=5, scoring='accuracy', n_jobs=-1)\n",
        "grid_search.fit(X_train, y_train)\n",
        "\n",
        "# Print best parameters and score\n",
        "print(f\"Best Parameters: {grid_search.best_params_}\")\n",
        "print(f\"Best Cross-Validation Score: {grid_search.best_score_:.2f}\")\n",
        "\n",
        "# Evaluate on test set\n",
        "best_dt = grid_search.best_estimator_\n",
        "y_pred = best_dt.predict(X_test)\n",
        "accuracy = accuracy_score(y_test, y_pred)\n",
        "print(f\"Test Set Accuracy: {accuracy:.2f}\")"
      ],
      "metadata": {
        "colab": {
          "base_uri": "https://localhost:8080/"
        },
        "id": "_RlGfxTQWGqe",
        "outputId": "82bccd0e-39f1-4aab-c2c7-7fb3aea4deb8"
      },
      "execution_count": null,
      "outputs": [
        {
          "output_type": "stream",
          "name": "stdout",
          "text": [
            "Best Parameters: {'max_depth': None, 'min_samples_split': 2}\n",
            "Best Cross-Validation Score: 0.94\n",
            "Test Set Accuracy: 1.00\n"
          ]
        }
      ]
    },
    {
      "cell_type": "code",
      "source": [],
      "metadata": {
        "id": "RIUmuNEpWIVV"
      },
      "execution_count": null,
      "outputs": []
    },
    {
      "cell_type": "markdown",
      "source": [],
      "metadata": {
        "id": "y_KIFUN6WKnN"
      }
    }
  ]
}