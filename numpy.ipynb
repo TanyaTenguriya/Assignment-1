{
  "nbformat": 4,
  "nbformat_minor": 0,
  "metadata": {
    "colab": {
      "provenance": [],
      "collapsed_sections": [
        "WIHOSJhWElR_"
      ]
    },
    "kernelspec": {
      "name": "python3",
      "display_name": "Python 3"
    },
    "language_info": {
      "name": "python"
    }
  },
  "cells": [
    {
      "cell_type": "markdown",
      "source": [
        "# **Theoretical Questions:**"
      ],
      "metadata": {
        "id": "WIHOSJhWElR_"
      }
    },
    {
      "cell_type": "markdown",
      "source": [
        "**1.Explain the purpose and advantages of NumPy in scientific computing and data analysis. How does it\n",
        "enhance Python's capabilities for numerical operations?**"
      ],
      "metadata": {
        "id": "q_CseXVNEy6X"
      }
    },
    {
      "cell_type": "markdown",
      "source": [
        "Purpose of NumPy in Scientific Computing and Data Analysis\n",
        "\n",
        "\n",
        "NumPy (Numerical Python) is a fundamental library in Python for performing numerical operations efficiently. It provides support for multi-dimensional arrays, matrices, and mathematical functions, making it essential in scientific computing and data analysis. NumPy enhances Python by offering fast and reliable operations on large datasets, which would be cumbersome to achieve using native Python lists or loops.\n",
        "\n"
      ],
      "metadata": {
        "id": "6dwj2aM1E-um"
      }
    },
    {
      "cell_type": "code",
      "source": [
        "Key Advantages of NumPy\n",
        "\n",
        "1.Performance and Speed\n",
        "\n",
        "a.Faster than Python lists: NumPy arrays use contiguous memory and are optimized for numerical operations, resulting in faster execution.\n",
        "b.Vectorization: Allows operations to be applied to entire arrays without the need for explicit loops, reducing overhead."
      ],
      "metadata": {
        "id": "ghofeQB3FHuV"
      },
      "execution_count": null,
      "outputs": []
    },
    {
      "cell_type": "code",
      "source": [
        "2.Efficient Memory Management\n",
        "\n",
        "a.Fixed-type arrays: NumPy arrays store elements of the same data type, making them more memory-efficient compared to heterogeneous Python lists.\n",
        "b.Compact storage: Since the data types are fixed, NumPy uses less memory than equivalent Python data structures."
      ],
      "metadata": {
        "id": "qCCFpvxWFgju"
      },
      "execution_count": null,
      "outputs": []
    },
    {
      "cell_type": "code",
      "source": [
        "3.Multi-dimensional Array Support\n",
        "\n",
        "a.Supports arrays with multiple dimensions (1D, 2D, or nD), which are crucial for matrix operations, image data processing, and scientific simulations."
      ],
      "metadata": {
        "id": "ygig0cR-9zSJ"
      },
      "execution_count": null,
      "outputs": []
    },
    {
      "cell_type": "code",
      "source": [
        "4.Broadcasting\n",
        "\n",
        "a.Broadcasting rules allow arithmetic operations between arrays of different shapes and sizes without requiring explicit loops or dimension matching."
      ],
      "metadata": {
        "id": "eC65h_-v97GZ"
      },
      "execution_count": null,
      "outputs": []
    },
    {
      "cell_type": "code",
      "source": [
        "5.Extensive Mathematical Functions\n",
        "\n",
        "a.Includes optimized implementations of linear algebra (dot products, matrix inversions), statistical operations (mean, standard deviation), and Fourier transforms, saving developers time from building these tools from scratch."
      ],
      "metadata": {
        "id": "pG5YIHNs-FVA"
      },
      "execution_count": null,
      "outputs": []
    },
    {
      "cell_type": "code",
      "source": [
        "6.Interoperability with Other Libraries\n",
        "\n",
        "a.Many popular libraries such as Pandas, SciPy, TensorFlow, and scikit-learn use NumPy arrays as their underlying data structure. This makes data exchange between libraries seamless."
      ],
      "metadata": {
        "id": "B2yGj073-LJY"
      },
      "execution_count": null,
      "outputs": []
    },
    {
      "cell_type": "code",
      "source": [
        "7.Random Number Generation\n",
        "\n",
        "a.The numpy.random module provides powerful tools for generating random numbers and working with distributions, useful for simulations and statistical analysis."
      ],
      "metadata": {
        "id": "aPmoKa8I-SBo"
      },
      "execution_count": null,
      "outputs": []
    },
    {
      "cell_type": "code",
      "source": [
        "8.Ease of Use and Community Support\n",
        "\n",
        "a.NumPy has intuitive syntax for array creation and manipulation, with well-maintained documentation and a large community for support."
      ],
      "metadata": {
        "id": "jrM3d6K5-Xxt"
      },
      "execution_count": null,
      "outputs": []
    },
    {
      "cell_type": "code",
      "source": [
        "How NumPy Enhances Python’s Capabilities\n",
        "\n",
        "1.Numerical Computations on Large Data\n",
        "\n",
        "a.Python lists are inefficient for large-scale data processing. With NumPy, operations such as element-wise addition, matrix multiplication, or statistical summaries can be performed in constant or near-linear time."
      ],
      "metadata": {
        "id": "0-ljXLAB-fzP"
      },
      "execution_count": null,
      "outputs": []
    },
    {
      "cell_type": "code",
      "source": [
        "2.Vectorized Operations for Cleaner Code\n",
        "\n",
        "a.Instead of looping through elements manually (as you would with Python lists), NumPy supports vectorized operations. For example:"
      ],
      "metadata": {
        "id": "PtS6BWMd-mw_"
      },
      "execution_count": null,
      "outputs": []
    },
    {
      "cell_type": "code",
      "source": [
        "import numpy as np\n",
        "a = np.array([1, 2, 3])\n",
        "b = np.array([4, 5, 6])\n",
        "result = a + b  # Vectorized addition\n",
        "print(result)"
      ],
      "metadata": {
        "colab": {
          "base_uri": "https://localhost:8080/"
        },
        "id": "GHf5LOJ1-rL3",
        "outputId": "2658a3df-5e79-4196-a1a4-6100f335bb34"
      },
      "execution_count": 1,
      "outputs": [
        {
          "output_type": "stream",
          "name": "stdout",
          "text": [
            "[5 7 9]\n"
          ]
        }
      ]
    },
    {
      "cell_type": "code",
      "source": [
        "3.Parallel Processing and BLAS/LAPACK Integration\n",
        "\n",
        "a.NumPy can internally leverage BLAS (Basic Linear Algebra Subprograms) and LAPACK (Linear Algebra Package) libraries for optimized matrix computations, providing better performance through parallel processing."
      ],
      "metadata": {
        "id": "60rREkgQ-yxf"
      },
      "execution_count": null,
      "outputs": []
    },
    {
      "cell_type": "code",
      "source": [
        "4.Handling Multi-Dimensional Data Easily\n",
        "\n",
        "a.Python lists require nested loops to handle multi-dimensional data, while NumPy simplifies this by abstracting these complexities into efficient array structures"
      ],
      "metadata": {
        "id": "GRNKbEyb-5wm"
      },
      "execution_count": null,
      "outputs": []
    },
    {
      "cell_type": "markdown",
      "source": [
        "**2.Compare and contrast np.mean() and np.average() functions in NumPy. When would you use one over the\n",
        "other?**"
      ],
      "metadata": {
        "id": "P2wxXM7G_AX-"
      }
    },
    {
      "cell_type": "markdown",
      "source": [
        "Comparison of np.mean() and np.average() in NumPy\n",
        "Both np.mean() and np.average() are functions used to compute the central tendency of numerical data, but they have key differences in terms of functionality, usage, and behavior. Below is a detailed comparison of the two functions, along with guidance on when to use each"
      ],
      "metadata": {
        "id": "l1M6jYq3_OqN"
      }
    },
    {
      "cell_type": "code",
      "source": [
        "1. np.mean()\n",
        "Purpose: Calculates the arithmetic mean (simple average) of the input data.\n",
        "\n",
        "Syntax:"
      ],
      "metadata": {
        "id": "d74eDP_S_Uj1"
      },
      "execution_count": null,
      "outputs": []
    },
    {
      "cell_type": "code",
      "source": [
        "np.mean(a, axis=None, dtype=None, out=None, keepdims=False)"
      ],
      "metadata": {
        "id": "eo-sFpj__XEV"
      },
      "execution_count": null,
      "outputs": []
    },
    {
      "cell_type": "code",
      "source": [
        "import numpy as np\n",
        "arr = np.array([1, 2, 3, 4])\n",
        "print(np.mean(arr))"
      ],
      "metadata": {
        "colab": {
          "base_uri": "https://localhost:8080/"
        },
        "id": "ROAjo7q4_acN",
        "outputId": "c5328786-4699-4a0f-911b-2c95b30cf6ca"
      },
      "execution_count": 3,
      "outputs": [
        {
          "output_type": "stream",
          "name": "stdout",
          "text": [
            "2.5\n"
          ]
        }
      ]
    },
    {
      "cell_type": "code",
      "source": [
        "2. np.average()\n",
        "Purpose: Calculates a weighted average of the input data. If no weights are provided, it behaves the same as np.mean().\n",
        "\n",
        "Syntax:"
      ],
      "metadata": {
        "id": "8Kd2bRm-_ef0"
      },
      "execution_count": null,
      "outputs": []
    },
    {
      "cell_type": "code",
      "source": [
        "np.average(a, axis=None, weights=None, returned=False)"
      ],
      "metadata": {
        "id": "y2ZZ5MTL_gxl"
      },
      "execution_count": null,
      "outputs": []
    },
    {
      "cell_type": "code",
      "source": [
        "arr = np.array([1, 2, 3, 4])\n",
        "weights = np.array([0.1, 0.2, 0.3, 0.4])\n",
        "print(np.average(arr, weights=weights))"
      ],
      "metadata": {
        "colab": {
          "base_uri": "https://localhost:8080/"
        },
        "id": "bku709Me_khU",
        "outputId": "8e56f62c-dfd7-4bd8-c2c7-543ccc5a9170"
      },
      "execution_count": 4,
      "outputs": [
        {
          "output_type": "stream",
          "name": "stdout",
          "text": [
            "3.0\n"
          ]
        }
      ]
    },
    {
      "cell_type": "markdown",
      "source": [
        "**3.Describe the methods for reversing a NumPy array along different axes. Provide examples for 1D and 2D\n",
        "arrays**"
      ],
      "metadata": {
        "id": "eISaP99F_pHU"
      }
    },
    {
      "cell_type": "markdown",
      "source": [
        "Reversing a NumPy Array along Different Axes\n",
        "Reversing an array means rearranging its elements in the opposite order along a specific axis. NumPy provides several ways to reverse arrays, whether they are 1D or multi-dimensional (e.g., 2D). Below are different techniques with examples for reversing arrays.\n",
        "\n"
      ],
      "metadata": {
        "id": "oeIFeqtO_vUk"
      }
    },
    {
      "cell_type": "code",
      "source": [
        "1. Reversing a 1D Array\n",
        "A 1D array is a single sequence of elements.\n",
        "\n",
        "Method 1: Using Slicing ([::-1])\n",
        "This is the simplest and most efficient way to reverse a 1D array."
      ],
      "metadata": {
        "id": "OcMuE5HD_up1"
      },
      "execution_count": null,
      "outputs": []
    },
    {
      "cell_type": "code",
      "source": [
        "import numpy as np\n",
        "arr = np.array([1, 2, 3, 4, 5])\n",
        "reversed_arr = arr[::-1]\n",
        "print(reversed_arr)"
      ],
      "metadata": {
        "colab": {
          "base_uri": "https://localhost:8080/"
        },
        "id": "PCfRvk9-_3BU",
        "outputId": "292d3e86-0bb7-4e9a-df82-99f7ae249e3a"
      },
      "execution_count": 5,
      "outputs": [
        {
          "output_type": "stream",
          "name": "stdout",
          "text": [
            "[5 4 3 2 1]\n"
          ]
        }
      ]
    },
    {
      "cell_type": "code",
      "source": [
        "2. Reversing a 2D Array\n",
        "In a 2D array, you can reverse elements along different axes.\n",
        "\n",
        "Method 1: Reversing along Rows (axis=1)\n",
        "This method reverses the elements within each row (i.e., horizontally)."
      ],
      "metadata": {
        "id": "3cAmcLod_8CF"
      },
      "execution_count": null,
      "outputs": []
    },
    {
      "cell_type": "code",
      "source": [
        "arr = np.array([[1, 2, 3],\n",
        "                [4, 5, 6],\n",
        "                [7, 8, 9]])\n",
        "\n",
        "reversed_rows = arr[:, ::-1]\n",
        "print(reversed_rows)"
      ],
      "metadata": {
        "colab": {
          "base_uri": "https://localhost:8080/"
        },
        "id": "XxHKfxKi_-ud",
        "outputId": "69c0d711-ad55-4815-d1fd-c83cb5441fa5"
      },
      "execution_count": 6,
      "outputs": [
        {
          "output_type": "stream",
          "name": "stdout",
          "text": [
            "[[3 2 1]\n",
            " [6 5 4]\n",
            " [9 8 7]]\n"
          ]
        }
      ]
    },
    {
      "cell_type": "code",
      "source": [
        "Method 2: Reversing along Columns (axis=0)\n",
        "This method flips the rows vertically."
      ],
      "metadata": {
        "id": "bjlue1u2ADGm"
      },
      "execution_count": null,
      "outputs": []
    },
    {
      "cell_type": "code",
      "source": [
        "reversed_columns = arr[::-1, :]\n",
        "print(reversed_columns)"
      ],
      "metadata": {
        "colab": {
          "base_uri": "https://localhost:8080/"
        },
        "id": "xykDALznAFtb",
        "outputId": "a9537d17-bf59-480b-ce60-0a8e2a58926c"
      },
      "execution_count": 7,
      "outputs": [
        {
          "output_type": "stream",
          "name": "stdout",
          "text": [
            "[[7 8 9]\n",
            " [4 5 6]\n",
            " [1 2 3]]\n"
          ]
        }
      ]
    },
    {
      "cell_type": "code",
      "source": [
        "3. Using np.flip() Function\n",
        "NumPy provides the np.flip() function, which can reverse arrays along a specified axis.\n",
        "\n",
        "Example 1: Reversing a 1D Array using np.flip()"
      ],
      "metadata": {
        "id": "kR3PYADtAMUk"
      },
      "execution_count": null,
      "outputs": []
    },
    {
      "cell_type": "code",
      "source": [
        "arr = np.array([1, 2, 3, 4, 5])\n",
        "reversed_arr = np.flip(arr)\n",
        "print(reversed_arr)"
      ],
      "metadata": {
        "colab": {
          "base_uri": "https://localhost:8080/"
        },
        "id": "DVl3PexFAOwz",
        "outputId": "5072ffd5-f141-48e7-ee31-94e50c992a4e"
      },
      "execution_count": 8,
      "outputs": [
        {
          "output_type": "stream",
          "name": "stdout",
          "text": [
            "[5 4 3 2 1]\n"
          ]
        }
      ]
    },
    {
      "cell_type": "code",
      "source": [
        "Example 2: Reversing a 2D Array along Rows (axis=0)"
      ],
      "metadata": {
        "id": "0oCC-aYdASSz"
      },
      "execution_count": null,
      "outputs": []
    },
    {
      "cell_type": "code",
      "source": [
        "reversed_columns = np.flip(arr, axis=0)\n",
        "print(reversed_columns)"
      ],
      "metadata": {
        "colab": {
          "base_uri": "https://localhost:8080/"
        },
        "id": "HPbDYiy6ATO7",
        "outputId": "c4e0c694-8117-4e32-d540-9f7a5932d77c"
      },
      "execution_count": 9,
      "outputs": [
        {
          "output_type": "stream",
          "name": "stdout",
          "text": [
            "[5 4 3 2 1]\n"
          ]
        }
      ]
    },
    {
      "cell_type": "markdown",
      "source": [
        "**4.How can you determine the data type of elements in a NumPy array? Discuss the importance of data types\n",
        "in memory management and performance.**"
      ],
      "metadata": {
        "id": "8nXIcheRA5QB"
      }
    },
    {
      "cell_type": "markdown",
      "source": [
        "How to Determine the Data Type of Elements in a NumPy Array\n",
        "\n",
        "In NumPy, data type (also known as dtype) refers to the type of elements stored in the array (e.g., integers, floats, booleans). Knowing the data type is important for efficient memory usage and performance optimization. NumPy provides several ways to inspect the data type of elements in an array."
      ],
      "metadata": {
        "id": "MlAtymGpA_hS"
      }
    },
    {
      "cell_type": "code",
      "source": [
        "1. Methods to Check the Data Type\n",
        "Method 1: Using .dtype Attribute\n",
        "You can directly access the dtype attribute to determine the type of the elements in the array."
      ],
      "metadata": {
        "id": "J6OAsj8-BCyJ"
      },
      "execution_count": null,
      "outputs": []
    },
    {
      "cell_type": "code",
      "source": [
        "import numpy as np\n",
        "\n",
        "arr = np.array([1, 2, 3])\n",
        "print(arr.dtype)"
      ],
      "metadata": {
        "colab": {
          "base_uri": "https://localhost:8080/"
        },
        "id": "ua9r2v_pBE8h",
        "outputId": "5e176faa-ffe1-43d2-f80a-21e9fa953778"
      },
      "execution_count": 13,
      "outputs": [
        {
          "output_type": "stream",
          "name": "stdout",
          "text": [
            "int64\n"
          ]
        }
      ]
    },
    {
      "cell_type": "code",
      "source": [
        "Method 2: Using type() Function\n",
        "Use type() to check the type of the NumPy array object itself."
      ],
      "metadata": {
        "id": "FX_8Z_n0BJmh"
      },
      "execution_count": null,
      "outputs": []
    },
    {
      "cell_type": "code",
      "source": [
        "print(type(arr))"
      ],
      "metadata": {
        "colab": {
          "base_uri": "https://localhost:8080/"
        },
        "id": "yQoZjeGaBMWY",
        "outputId": "8a9e58ca-c590-4975-c2fd-caf6dfb70a88"
      },
      "execution_count": 14,
      "outputs": [
        {
          "output_type": "stream",
          "name": "stdout",
          "text": [
            "<class 'numpy.ndarray'>\n"
          ]
        }
      ]
    },
    {
      "cell_type": "code",
      "source": [
        "Method 3: Checking the Data Type of Individual Elements\n",
        "Use type() or arr.dtype.type to check the type of a specific element."
      ],
      "metadata": {
        "id": "REolnk2KBQWQ"
      },
      "execution_count": null,
      "outputs": []
    },
    {
      "cell_type": "code",
      "source": [
        "print(type(arr[0]))\n",
        "print(arr.dtype.type)"
      ],
      "metadata": {
        "colab": {
          "base_uri": "https://localhost:8080/"
        },
        "id": "2oNFwkTCBSdB",
        "outputId": "c564a8e9-ddf3-4d0c-b23b-10c5e7b4e609"
      },
      "execution_count": 15,
      "outputs": [
        {
          "output_type": "stream",
          "name": "stdout",
          "text": [
            "<class 'numpy.int64'>\n",
            "<class 'numpy.int64'>\n"
          ]
        }
      ]
    },
    {
      "cell_type": "code",
      "source": [
        "Method 4: np.issubdtype() to Check Data Type Hierarchy\n",
        "Use this function to compare the data type against a broader category (e.g., checking if it's an integer)."
      ],
      "metadata": {
        "id": "c8632_9ZBZtJ"
      },
      "execution_count": null,
      "outputs": []
    },
    {
      "cell_type": "code",
      "source": [
        "print(np.issubdtype(arr.dtype, np.integer))"
      ],
      "metadata": {
        "colab": {
          "base_uri": "https://localhost:8080/"
        },
        "id": "_b3Z_Bj8Bb7H",
        "outputId": "e4893b0c-3957-4217-c79b-0ce35f44d45b"
      },
      "execution_count": 16,
      "outputs": [
        {
          "output_type": "stream",
          "name": "stdout",
          "text": [
            "True\n"
          ]
        }
      ]
    },
    {
      "cell_type": "code",
      "source": [
        "Importance of Data Types in Memory Management and Performance\\\n",
        "\n",
        "The data type of elements in a NumPy array plays a crucial role in how efficiently the array consumes memory and performs computations.\n",
        "\n",
        "1. Memory Management\n",
        "\n",
        "a.Memory Efficiency: NumPy arrays store elements in contiguous memory blocks, unlike Python lists, which store references to objects.\n",
        "\n",
        "b.For example, int32 requires 4 bytes per element, whereas int64 needs 8 bytes. Choosing the right data type ensures that no excess memory is used."
      ],
      "metadata": {
        "id": "klzNkNlxBlMf"
      },
      "execution_count": null,
      "outputs": []
    },
    {
      "cell_type": "code",
      "source": [
        "arr_32 = np.array([1, 2, 3], dtype=np.int32)  # Uses 12 bytes (3 * 4)\n",
        "arr_64 = np.array([1, 2, 3], dtype=np.int64)  # Uses 24 bytes (3 * 8)"
      ],
      "metadata": {
        "id": "AoB4oB4PBukP"
      },
      "execution_count": null,
      "outputs": []
    },
    {
      "cell_type": "code",
      "source": [
        "Trade-off Between Size and Precision:\n",
        "\n",
        "Storing data in a larger data type (e.g., float64) provides higher precision, but at the cost of more memory usage."
      ],
      "metadata": {
        "id": "2oO7k5MCBxVX"
      },
      "execution_count": null,
      "outputs": []
    },
    {
      "cell_type": "code",
      "source": [
        "2. Performance Optimization\n",
        "a.Faster Computations: Smaller data types (e.g., int32) perform faster operations because they consume less memory and fit better into CPU cache.\n",
        "\n",
        "   Example: If you only need integers up to a few thousand, using int32 would be faster than int64.\n",
        "\n",
        "b.Consistency Across Operations: Many NumPy functions rely on consistent dtype for performance. If data types need to be cast during computation (e.g., mixing float32 and float64), the performance drops.\n",
        "\n",
        "c.Avoiding Overflow: When working with large datasets, choosing an inappropriate data type can lead to overflow errors.\n",
        "\n",
        "   Example: Adding large numbers with int8 (which can only store values between -128 and 127) will result in incorrect values."
      ],
      "metadata": {
        "id": "IV96O5iCB3lo"
      },
      "execution_count": null,
      "outputs": []
    },
    {
      "cell_type": "code",
      "source": [
        "Choosing the Right Data Type: Key Considerations\n",
        "\n",
        "1.Numeric Precision vs. Memory Usage:\n",
        "\n",
        "  Use float32 instead of float64 if less precision is sufficient.\n",
        "2.Performance Needs:\n",
        "\n",
        "  If the operations are intensive, prefer smaller data types (like int32 or float32) to reduce memory footprint and improve speed.\n",
        "3.Avoiding Type Casting:\n",
        "\n",
        "  Use the same dtype across arrays to avoid unnecessary upcasting or downcasting during operations."
      ],
      "metadata": {
        "id": "fj37sAR4CI1X"
      },
      "execution_count": null,
      "outputs": []
    },
    {
      "cell_type": "markdown",
      "source": [
        "**5.Define ndarrays in NumPy and explain their key features. How do they differ from standard Python lists**"
      ],
      "metadata": {
        "id": "HIblhuoeC3Qt"
      }
    },
    {
      "cell_type": "markdown",
      "source": [
        "What are ndarrays in NumPy?\n",
        "\n",
        "In NumPy, an ndarray (short for n-dimensional array) is the core data structure used for storing data in a homogeneous, multi-dimensional array. It allows for fast and efficient operations on large datasets by leveraging contiguous memory and optimized mathematical functions.\n"
      ],
      "metadata": {
        "id": "iGuDAEnTC_eE"
      }
    },
    {
      "cell_type": "code",
      "source": [
        "Key Features of ndarray in NumPy\n",
        "`1.Homogeneous Data:\n",
        "\n",
        "All elements in an ndarray must be of the same data type (e.g., integers, floats). This ensures memory efficiency and faster computation."
      ],
      "metadata": {
        "id": "tKym1VqKC-vE"
      },
      "execution_count": null,
      "outputs": []
    },
    {
      "cell_type": "code",
      "source": [
        "2.N-Dimensional:\n",
        "\n",
        "a.ndarray can represent data in 1D, 2D, or more dimensions (e.g., vectors, matrices, or tensors).\n",
        "b.Example:\n",
        "1D: [1, 2, 3]\n",
        "2D: [[1, 2], [3, 4]]\n",
        "3D: A stack of matrices."
      ],
      "metadata": {
        "id": "lZBoV3GoDN6r"
      },
      "execution_count": null,
      "outputs": []
    },
    {
      "cell_type": "code",
      "source": [
        "3.Fixed Size:\n",
        "\n",
        "Once created, the size (or shape) of an ndarray is fixed. You can reshape or create new arrays but cannot change the size of an existing array in-place."
      ],
      "metadata": {
        "id": "Nhr5AuQCDa_7"
      },
      "execution_count": null,
      "outputs": []
    },
    {
      "cell_type": "code",
      "source": [
        "4.Efficient Memory Management:\n",
        "\n",
        "Arrays are stored in contiguous blocks of memory, allowing faster access and better CPU cache utilization compared to Python lists."
      ],
      "metadata": {
        "id": "QH6Xx71xDfPL"
      },
      "execution_count": null,
      "outputs": []
    },
    {
      "cell_type": "code",
      "source": [
        "5.Broadcasting and Vectorized Operations:\n",
        "\n",
        "a.NumPy supports broadcasting, which allows element-wise operations between arrays of different shapes without explicit loops.\n",
        "\n",
        "bIt also supports vectorized operations, performing operations on entire arrays instead of individual elements."
      ],
      "metadata": {
        "id": "kArRLAG9DjRj"
      },
      "execution_count": null,
      "outputs": []
    },
    {
      "cell_type": "code",
      "source": [
        "6.Rich Functionality:\n",
        "\n",
        "NumPy provides functions for sorting, filtering, reshaping, aggregating, and performing linear algebra operations efficiently."
      ],
      "metadata": {
        "id": "NPCQPxWrDs4b"
      },
      "execution_count": null,
      "outputs": []
    },
    {
      "cell_type": "code",
      "source": [
        "7.Built-in Methods for Mathematical Operations:\n",
        "\n",
        "Operations such as addition, subtraction, multiplication, dot product, and statistical functions are optimized for ndarrays."
      ],
      "metadata": {
        "id": "gukbQNTQD0m6"
      },
      "execution_count": null,
      "outputs": []
    },
    {
      "cell_type": "code",
      "source": [
        "import numpy as np\n",
        "\n",
        "# Create a 2D ndarray\n",
        "arr = np.array([[1, 2, 3], [4, 5, 6]])\n",
        "\n",
        "print(arr)\n",
        "print(f\"Shape: {arr.shape}\")\n",
        "print(f\"Data type: {arr.dtype}\")"
      ],
      "metadata": {
        "colab": {
          "base_uri": "https://localhost:8080/"
        },
        "id": "idqZ14hED4qL",
        "outputId": "7cf3d494-f37c-4d03-af77-405b78311fa6"
      },
      "execution_count": 18,
      "outputs": [
        {
          "output_type": "stream",
          "name": "stdout",
          "text": [
            "[[1 2 3]\n",
            " [4 5 6]]\n",
            "Shape: (2, 3)\n",
            "Data type: int64\n"
          ]
        }
      ]
    },
    {
      "cell_type": "markdown",
      "source": [
        "**6.Analyze the performance benefits of NumPy arrays over Python lists for large-scale numerical operations.**"
      ],
      "metadata": {
        "id": "JXLX-_zFECvT"
      }
    },
    {
      "cell_type": "markdown",
      "source": [
        "Performance Benefits of NumPy Arrays over Python Lists for Large-Scale Numerical Operations\n",
        "\n",
        "When working with large datasets, NumPy arrays offer significant performance advantages over Python lists. This efficiency comes from how NumPy handles memory management, operations, and data structures under the hood. Below is a detailed analysis of the performance benefits of NumPy arrays."
      ],
      "metadata": {
        "id": "Gm20HSoJEOaZ"
      }
    },
    {
      "cell_type": "code",
      "source": [
        "Key Performance Benefits of NumPy Arrays\n",
        "\n",
        "1. Memory Efficiency\n",
        "\n",
        "a.Fixed Data Types:\n",
        "\n",
        "  1.NumPy arrays store elements of the same data type (e.g., int32, float64). This reduces memory overhead since there are no per-element type checks or object references, unlike Python lists, which store elements as individual objects.\n",
        "\n",
        "  2.Example: A Python list [1, 2, 3] stores references to three separate integer objects, while a NumPy array holds the raw values contiguously in memory."
      ],
      "metadata": {
        "id": "LIIlMZl7EWtB"
      },
      "execution_count": null,
      "outputs": []
    },
    {
      "cell_type": "code",
      "source": [
        "2.Compact Storage:\n",
        "\n",
        "a.A NumPy array with 10 million integers (int32) requires only 40 MB (10 million × 4 bytes), while a Python list of the same size takes around 100 MB or more due to the overhead of storing references to Python objects."
      ],
      "metadata": {
        "id": "F2UbfNnoEk9R"
      },
      "execution_count": null,
      "outputs": []
    },
    {
      "cell_type": "code",
      "source": [
        "2. Contiguous Memory Layout (Cache-Friendly)\n",
        "\n",
        "a.Cache Optimization:\n",
        "\n",
        "  1.NumPy arrays are stored in contiguous blocks of memory, allowing the CPU to fetch multiple elements at once into its cache. This improves performance, especially for large datasets, because fewer memory accesses are required.\n",
        "\n",
        "b.Python Lists:\n",
        "\n",
        "  1.Python lists store elements as disjoint objects in memory, with references to their locations. This increases cache misses and slows down data access."
      ],
      "metadata": {
        "id": "XnbgLVdJEsZw"
      },
      "execution_count": null,
      "outputs": []
    },
    {
      "cell_type": "code",
      "source": [
        "3. Vectorized Operations (Elimination of Python Loops)\n",
        "a.Vectorization:\n",
        "\n",
        " 1.NumPy allows you to perform element-wise operations (like addition or multiplication) without explicit Python loops. These operations are optimized at a low level (C/Fortran), making them significantly faster."
      ],
      "metadata": {
        "id": "qiK-v618E8SI"
      },
      "execution_count": null,
      "outputs": []
    },
    {
      "cell_type": "code",
      "source": [
        "import numpy as np\n",
        "size = 10**6  # One million elements\n",
        "\n",
        "# Python list addition\n",
        "a = list(range(size))\n",
        "b = list(range(size))\n",
        "%timeit [a[i] + b[i] for i in range(size)]  # Slow due to Python loop\n",
        "\n",
        "# NumPy array addition\n",
        "arr_a = np.array(a)\n",
        "arr_b = np.array(b)\n",
        "%timeit arr_a + arr_b  # Much faster due to vectorization"
      ],
      "metadata": {
        "id": "bs_wKuwQFEBQ"
      },
      "execution_count": null,
      "outputs": []
    },
    {
      "cell_type": "code",
      "source": [
        "4. Reduced Overhead of Function Calls\n",
        "\n",
        "1.Single Operation Execution:\n",
        "\n",
        " a.When working with Python lists, each arithmetic operation or transformation involves multiple function calls in Python (e.g., looping through elements, applying operations). This overhead is avoided with NumPy, which applies operations directly to the entire array in a single step."
      ],
      "metadata": {
        "id": "nF4iqYU9FHLf"
      },
      "execution_count": null,
      "outputs": []
    },
    {
      "cell_type": "code",
      "source": [
        "2.Batch Processing:\n",
        "\n",
        "a.NumPy processes entire arrays at once (batch operations), reducing the need for interpreted code execution, which speeds up large-scale computations."
      ],
      "metadata": {
        "id": "jektPYt8FNOz"
      },
      "execution_count": null,
      "outputs": []
    },
    {
      "cell_type": "code",
      "source": [
        "5. Parallel Processing with BLAS/LAPACK Libraries\n",
        "\n",
        "a.Optimized Linear Algebra Operations:\n",
        "\n",
        " 1.NumPy integrates with BLAS (Basic Linear Algebra Subprograms) and LAPACK (Linear Algebra PACKage) libraries, which are highly optimized and can exploit multi-core processors. This makes matrix operations (e.g., dot products, matrix inversions) much faster compared to manual implementations in Python lists."
      ],
      "metadata": {
        "id": "QqdCCnrzFVZI"
      },
      "execution_count": null,
      "outputs": []
    },
    {
      "cell_type": "code",
      "source": [
        "# NumPy matrix multiplication using dot product\n",
        "A = np.random.rand(1000, 1000)\n",
        "B = np.random.rand(1000, 1000)\n",
        "%timeit np.dot(A, B)  # Uses optimized BLAS routines"
      ],
      "metadata": {
        "id": "vBXOsUVIFdEg"
      },
      "execution_count": null,
      "outputs": []
    },
    {
      "cell_type": "code",
      "source": [
        "6. Type Safety and Avoiding Overhead of Type Checking\n",
        "\n",
        "a.No Dynamic Type Checking:\n",
        "\n",
        " 1.Python lists store heterogeneous elements, requiring type checks at runtime for each element during operations. This introduces performance overhead.\n",
        "\n",
        " 2.In contrast, NumPy arrays are homogeneous and operate on fixed types, avoiding unnecessary type checking during operations, leading to faster execution."
      ],
      "metadata": {
        "id": "iE6GJ-tvFhxv"
      },
      "execution_count": null,
      "outputs": []
    },
    {
      "cell_type": "code",
      "source": [
        "7. Broadcasting Support for Efficient Computations\n",
        "\n",
        "Broadcasting allows NumPy to apply operations to arrays of different shapes without copying or expanding the data, saving both memory and time."
      ],
      "metadata": {
        "id": "hUxkxHgOFt1G"
      },
      "execution_count": null,
      "outputs": []
    },
    {
      "cell_type": "code",
      "source": [
        "arr = np.array([1, 2, 3])\n",
        "matrix = np.array([[10, 20, 30], [40, 50, 60]])\n",
        "result = matrix + arr  # Broadcasting applied automatically\n",
        "print(result)"
      ],
      "metadata": {
        "colab": {
          "base_uri": "https://localhost:8080/"
        },
        "id": "M2pyWdrkFyBG",
        "outputId": "587573c7-e059-476d-aa03-f86e63aad8a0"
      },
      "execution_count": 19,
      "outputs": [
        {
          "output_type": "stream",
          "name": "stdout",
          "text": [
            "[[11 22 33]\n",
            " [41 52 63]]\n"
          ]
        }
      ]
    },
    {
      "cell_type": "markdown",
      "source": [
        "**7.Compare vstack() and hstack() functions in NumPy. Provide examples demonstrating their usage and\n",
        "output**"
      ],
      "metadata": {
        "id": "YkyQKxQTF4QG"
      }
    },
    {
      "cell_type": "code",
      "source": [
        "Comparing vstack() and hstack() Functions in NumPy\n",
        "\n",
        "The vstack() and hstack() functions in NumPy are used to stack arrays along specific axes. While both are helpful in combining arrays, they differ in how they align the input arrays: vstack() stacks vertically (row-wise), and hstack() stacks horizontally (column-wise). Below is a detailed comparison with examples."
      ],
      "metadata": {
        "id": "OgS_QAFrF9RJ"
      },
      "execution_count": null,
      "outputs": []
    },
    {
      "cell_type": "code",
      "source": [
        "1. np.vstack() - Vertical Stacking\n",
        "\n",
        "a.Purpose:\n",
        "\n",
        "1.Stacks arrays vertically by adding them as new rows.\n",
        "2.Input arrays are combined along axis 0 (the row axis).\n",
        "\n",
        "b.Requirement:\n",
        "\n",
        "1.Arrays must have the same number of columns to be vertically stacked."
      ],
      "metadata": {
        "id": "IE5I5UOqGSZ9"
      },
      "execution_count": null,
      "outputs": []
    },
    {
      "cell_type": "code",
      "source": [
        "Example 1: Stacking 1D Arrays"
      ],
      "metadata": {
        "id": "eHFOzhcaGlCl"
      },
      "execution_count": null,
      "outputs": []
    },
    {
      "cell_type": "code",
      "source": [
        "import numpy as np\n",
        "\n",
        "a = np.array([1, 2, 3])\n",
        "b = np.array([4, 5, 6])\n",
        "\n",
        "result = np.vstack((a, b))\n",
        "print(result)"
      ],
      "metadata": {
        "colab": {
          "base_uri": "https://localhost:8080/"
        },
        "id": "n4tNx_DWGk9c",
        "outputId": "b3737610-3bdc-4137-ef86-039545eeca5a"
      },
      "execution_count": 21,
      "outputs": [
        {
          "output_type": "stream",
          "name": "stdout",
          "text": [
            "[[1 2 3]\n",
            " [4 5 6]]\n"
          ]
        }
      ]
    },
    {
      "cell_type": "code",
      "source": [
        "Example 2: Stacking 2D Arrays Vertically"
      ],
      "metadata": {
        "id": "6WqEws1HGuOO"
      },
      "execution_count": null,
      "outputs": []
    },
    {
      "cell_type": "code",
      "source": [
        "a = np.array([[1, 2, 3], [4, 5, 6]])\n",
        "b = np.array([[7, 8, 9]])\n",
        "\n",
        "result = np.vstack((a, b))\n",
        "print(result)"
      ],
      "metadata": {
        "colab": {
          "base_uri": "https://localhost:8080/"
        },
        "id": "Tnxp6zqvGwnk",
        "outputId": "a85a15e1-e128-4b7d-abd0-b2dd47eb2555"
      },
      "execution_count": 22,
      "outputs": [
        {
          "output_type": "stream",
          "name": "stdout",
          "text": [
            "[[1 2 3]\n",
            " [4 5 6]\n",
            " [7 8 9]]\n"
          ]
        }
      ]
    },
    {
      "cell_type": "code",
      "source": [
        "2. np.hstack() - Horizontal Stacking\n",
        "\n",
        "a.Purpose:\n",
        "\n",
        "1.Stacks arrays horizontally by adding new columns.\n",
        "2.Input arrays are combined along axis 1 (the column axis).\n",
        "\n",
        "b.Requirement:\n",
        "\n",
        "1.Arrays must have the same number of rows to be horizontally stacked."
      ],
      "metadata": {
        "id": "4CPvBNx7G0nU"
      },
      "execution_count": null,
      "outputs": []
    },
    {
      "cell_type": "code",
      "source": [
        "Example 1: Stacking 1D Arrays"
      ],
      "metadata": {
        "id": "gIdXEmHBHFpD"
      },
      "execution_count": null,
      "outputs": []
    },
    {
      "cell_type": "code",
      "source": [
        "a = np.array([1, 2, 3])\n",
        "b = np.array([4, 5, 6])\n",
        "\n",
        "result = np.hstack((a, b))\n",
        "print(result)"
      ],
      "metadata": {
        "colab": {
          "base_uri": "https://localhost:8080/"
        },
        "id": "FmtpIQHgHHn8",
        "outputId": "44c5ba89-c12f-4914-d945-5a0752dbf9dc"
      },
      "execution_count": 23,
      "outputs": [
        {
          "output_type": "stream",
          "name": "stdout",
          "text": [
            "[1 2 3 4 5 6]\n"
          ]
        }
      ]
    },
    {
      "cell_type": "code",
      "source": [
        "Example 2: Stacking 2D Arrays Horizontally"
      ],
      "metadata": {
        "id": "MCzogvbXHKiS"
      },
      "execution_count": null,
      "outputs": []
    },
    {
      "cell_type": "code",
      "source": [
        "a = np.array([[1, 2, 3], [4, 5, 6]])\n",
        "b = np.array([[7, 8, 9], [10, 11, 12]])\n",
        "\n",
        "result = np.hstack((a, b))\n",
        "print(result)"
      ],
      "metadata": {
        "colab": {
          "base_uri": "https://localhost:8080/"
        },
        "id": "Nb2pDMgqHMmj",
        "outputId": "4aa81b86-df09-4d4f-f9b4-8551828ab1e8"
      },
      "execution_count": 24,
      "outputs": [
        {
          "output_type": "stream",
          "name": "stdout",
          "text": [
            "[[ 1  2  3  7  8  9]\n",
            " [ 4  5  6 10 11 12]]\n"
          ]
        }
      ]
    },
    {
      "cell_type": "markdown",
      "source": [
        "**8.Explain the differences between fliplr() and flipud() methods in NumPy, including their effects on various\n",
        "array dimensions**"
      ],
      "metadata": {
        "id": "fa93o1LdHRFr"
      }
    },
    {
      "cell_type": "markdown",
      "source": [
        "Differences Between fliplr() and flipud() in NumPy\n",
        "The fliplr() and flipud() methods in NumPy are used to flip arrays along specific axes. Both functions reverse the order of elements, but they differ in which axis the flipping occurs. Below is a detailed comparison of these methods, along with examples to show how they behave with different array dimensions."
      ],
      "metadata": {
        "id": "bey1Lxv4HWCC"
      }
    },
    {
      "cell_type": "code",
      "source": [
        "1. np.fliplr() - Flip Left to Right (Horizontal Flip)\n",
        "\n",
        "a.Purpose:\n",
        "\n",
        " 1.Reverses the columns of a 2D array or matrix, flipping it left to right.\n",
        " 2.It does not affect the row order.\n",
        "\n",
        "b.Applicable to:\n",
        "\n",
        " 1.Only 2D arrays (or higher-dimensional arrays with at least two dimensions)."
      ],
      "metadata": {
        "id": "8IC8bpsmHVci"
      },
      "execution_count": null,
      "outputs": []
    },
    {
      "cell_type": "code",
      "source": [
        "Example 1: Using fliplr() on a 2D Array"
      ],
      "metadata": {
        "id": "dx9m-iW_HoGi"
      },
      "execution_count": null,
      "outputs": []
    },
    {
      "cell_type": "code",
      "source": [
        "import numpy as np\n",
        "\n",
        "arr = np.array([[1, 2, 3],\n",
        "                [4, 5, 6],\n",
        "                [7, 8, 9]])\n",
        "\n",
        "result = np.fliplr(arr)\n",
        "print(result)"
      ],
      "metadata": {
        "colab": {
          "base_uri": "https://localhost:8080/"
        },
        "id": "C82DHQwUHqIc",
        "outputId": "d1d2a3f5-62d4-4b0c-b911-e3ba04e0679d"
      },
      "execution_count": 25,
      "outputs": [
        {
          "output_type": "stream",
          "name": "stdout",
          "text": [
            "[[3 2 1]\n",
            " [6 5 4]\n",
            " [9 8 7]]\n"
          ]
        }
      ]
    },
    {
      "cell_type": "code",
      "source": [
        "Example 2: Using fliplr() on a Higher-Dimensional Array"
      ],
      "metadata": {
        "id": "ZwT2M5VxHuaK"
      },
      "execution_count": null,
      "outputs": []
    },
    {
      "cell_type": "code",
      "source": [
        "arr = np.array([[[1, 2], [3, 4]],\n",
        "                [[5, 6], [7, 8]]])\n",
        "\n",
        "result = np.fliplr(arr)\n",
        "print(result)"
      ],
      "metadata": {
        "colab": {
          "base_uri": "https://localhost:8080/"
        },
        "id": "bTZbPYCaHxTx",
        "outputId": "21152f8c-64d8-4c4e-b409-844713317075"
      },
      "execution_count": 26,
      "outputs": [
        {
          "output_type": "stream",
          "name": "stdout",
          "text": [
            "[[[3 4]\n",
            "  [1 2]]\n",
            "\n",
            " [[7 8]\n",
            "  [5 6]]]\n"
          ]
        }
      ]
    },
    {
      "cell_type": "code",
      "source": [
        "2. np.flipud() - Flip Up to Down (Vertical Flip)\n",
        "\n",
        "a.Purpose:\n",
        "\n",
        " 1.Reverses the rows of a 2D array or matrix, flipping it up to down.\n",
        " 2.It does not affect the column order.\n",
        "\n",
        "b.Applicable to:\n",
        "\n",
        " 1.1D, 2D, or higher-dimensional arrays."
      ],
      "metadata": {
        "id": "ev3MjYDAH1C4"
      },
      "execution_count": null,
      "outputs": []
    },
    {
      "cell_type": "code",
      "source": [
        "Example 1: Using flipud() on a 2D Array"
      ],
      "metadata": {
        "id": "zLo1kBR3IALg"
      },
      "execution_count": null,
      "outputs": []
    },
    {
      "cell_type": "code",
      "source": [
        "arr = np.array([[1, 2, 3],\n",
        "                [4, 5, 6],\n",
        "                [7, 8, 9]])\n",
        "\n",
        "result = np.flipud(arr)\n",
        "print(result)"
      ],
      "metadata": {
        "colab": {
          "base_uri": "https://localhost:8080/"
        },
        "id": "MDOq-paNICXp",
        "outputId": "6b744db4-5535-4865-cf69-ce2b773d547e"
      },
      "execution_count": 27,
      "outputs": [
        {
          "output_type": "stream",
          "name": "stdout",
          "text": [
            "[[7 8 9]\n",
            " [4 5 6]\n",
            " [1 2 3]]\n"
          ]
        }
      ]
    },
    {
      "cell_type": "code",
      "source": [
        "Example 2: Using flipud() on a 1D Array"
      ],
      "metadata": {
        "id": "p6IwV5mSIFYw"
      },
      "execution_count": null,
      "outputs": []
    },
    {
      "cell_type": "code",
      "source": [
        "arr = np.array([1, 2, 3, 4, 5])\n",
        "\n",
        "result = np.flipud(arr)\n",
        "print(result)"
      ],
      "metadata": {
        "colab": {
          "base_uri": "https://localhost:8080/"
        },
        "id": "hAl7rFDIIGCI",
        "outputId": "f23aa8f3-8b77-4364-c309-e5174a607bee"
      },
      "execution_count": 28,
      "outputs": [
        {
          "output_type": "stream",
          "name": "stdout",
          "text": [
            "[5 4 3 2 1]\n"
          ]
        }
      ]
    },
    {
      "cell_type": "markdown",
      "source": [
        "**9.Discuss the functionality of the array_split() method in NumPy. How does it handle uneven splits?**"
      ],
      "metadata": {
        "id": "DEFodfg5IKYA"
      }
    },
    {
      "cell_type": "markdown",
      "source": [
        "array_split() Method in NumPy: Functionality and Handling of Uneven Splits\n",
        "\n",
        "The np.array_split() function in NumPy is used to split an array into multiple sub-arrays. It’s particularly useful when you need to partition an array into a specified number of chunks. One of the key features of array_split() is its ability to handle uneven splits, distributing leftover elements intelligently."
      ],
      "metadata": {
        "id": "rI7TEgliIO6o"
      }
    },
    {
      "cell_type": "code",
      "source": [
        "Syntax of array_split()\n",
        "\n",
        "numpy.array_split(ary, indices_or_sections, axis=0)"
      ],
      "metadata": {
        "id": "JzC4K6OAIJ-h"
      },
      "execution_count": null,
      "outputs": []
    },
    {
      "cell_type": "code",
      "source": [
        "Functionality and Examples\n",
        "\n",
        "1. Splitting Evenly\n",
        "\n",
        "If the input array can be divided evenly by the specified number of splits, array_split() works similarly to np.split()."
      ],
      "metadata": {
        "id": "0ZDGYc1KIYJx"
      },
      "execution_count": null,
      "outputs": []
    },
    {
      "cell_type": "code",
      "source": [
        "import numpy as np\n",
        "\n",
        "arr = np.array([1, 2, 3, 4, 5, 6])\n",
        "result = np.array_split(arr, 3)\n",
        "print(result)"
      ],
      "metadata": {
        "colab": {
          "base_uri": "https://localhost:8080/"
        },
        "id": "VsGTQRNCIfw_",
        "outputId": "556263a4-2665-45cc-d25d-06a474b11103"
      },
      "execution_count": 29,
      "outputs": [
        {
          "output_type": "stream",
          "name": "stdout",
          "text": [
            "[array([1, 2]), array([3, 4]), array([5, 6])]\n"
          ]
        }
      ]
    },
    {
      "cell_type": "code",
      "source": [
        "2. Handling Uneven Splits\n",
        "\n",
        "When the array cannot be divided evenly, array_split() distributes the leftover elements across the smaller chunks. The extra elements are assigned to the earlier sub-arrays."
      ],
      "metadata": {
        "id": "advOsIvjIkCf"
      },
      "execution_count": null,
      "outputs": []
    },
    {
      "cell_type": "code",
      "source": [
        "arr = np.array([1, 2, 3, 4, 5, 6, 7])\n",
        "result = np.array_split(arr, 3)\n",
        "print(result)"
      ],
      "metadata": {
        "colab": {
          "base_uri": "https://localhost:8080/"
        },
        "id": "J_MxkxyfIqyn",
        "outputId": "008e391e-3d4d-444e-ad12-728edcc685c2"
      },
      "execution_count": 30,
      "outputs": [
        {
          "output_type": "stream",
          "name": "stdout",
          "text": [
            "[array([1, 2, 3]), array([4, 5]), array([6, 7])]\n"
          ]
        }
      ]
    },
    {
      "cell_type": "code",
      "source": [
        "3. Specifying Indices for Split Points\n",
        "\n",
        "Instead of giving the number of parts, you can specify the indices where the array should be split."
      ],
      "metadata": {
        "id": "JjHtbrOmIuIP"
      },
      "execution_count": null,
      "outputs": []
    },
    {
      "cell_type": "code",
      "source": [
        "arr = np.array([1, 2, 3, 4, 5, 6, 7])\n",
        "result = np.array_split(arr, [2, 5])\n",
        "print(result)"
      ],
      "metadata": {
        "colab": {
          "base_uri": "https://localhost:8080/"
        },
        "id": "jISYap-0IwyO",
        "outputId": "3e3b8bfb-1459-4c5f-8613-2d7ba1fde03f"
      },
      "execution_count": 31,
      "outputs": [
        {
          "output_type": "stream",
          "name": "stdout",
          "text": [
            "[array([1, 2]), array([3, 4, 5]), array([6, 7])]\n"
          ]
        }
      ]
    },
    {
      "cell_type": "code",
      "source": [
        "4. Splitting Along Different Axes\n",
        "\n",
        "By default, array_split() splits the array along axis 0 (rows). You can change the axis parameter to split along different axes."
      ],
      "metadata": {
        "id": "BLUtQS_SI4Cv"
      },
      "execution_count": null,
      "outputs": []
    },
    {
      "cell_type": "code",
      "source": [
        "arr = np.array([[1, 2, 3], [4, 5, 6]])\n",
        "result = np.array_split(arr, 2, axis=1)\n",
        "print(result)"
      ],
      "metadata": {
        "colab": {
          "base_uri": "https://localhost:8080/"
        },
        "id": "Q5WFnSzVI7X-",
        "outputId": "1e51a7c5-ffa7-4efb-b8d7-38a144b79dbb"
      },
      "execution_count": 32,
      "outputs": [
        {
          "output_type": "stream",
          "name": "stdout",
          "text": [
            "[array([[1, 2],\n",
            "       [4, 5]]), array([[3],\n",
            "       [6]])]\n"
          ]
        }
      ]
    },
    {
      "cell_type": "markdown",
      "source": [
        "**10.Explain the concepts of vectorization and broadcasting in NumPy. How do they contribute to efficient array\n",
        "operations?**"
      ],
      "metadata": {
        "id": "SjXM2ArWI-qP"
      }
    },
    {
      "cell_type": "markdown",
      "source": [
        "Concepts of Vectorization and Broadcasting in NumPy\n",
        "In NumPy, vectorization and broadcasting are two core techniques that contribute to efficient array operations by minimizing the use of explicit loops and making operations faster. These features leverage low-level optimizations to execute mathematical operations on large datasets efficiently, enabling better memory usage and faster computation times."
      ],
      "metadata": {
        "id": "xF57RHZ5JD2-"
      }
    },
    {
      "cell_type": "code",
      "source": [
        "1. Vectorization in NumPy\n",
        "\n",
        "What is Vectorization?\n",
        "\n",
        "Vectorization refers to the process of replacing explicit loops with array-based operations in NumPy. This allows operations to be performed on entire arrays or batches of data simultaneously, taking advantage of compiled low-level code (written in C/Fortran) under the hood.\n",
        "\n",
        "How Vectorization Works:\n",
        "\n",
        "In a non-vectorized approach, we would use loops to iterate over each element of an array. In NumPy, vectorization enables us to apply operations directly on arrays without using Python-level loops."
      ],
      "metadata": {
        "id": "X3jsIWvuJGzm"
      },
      "execution_count": null,
      "outputs": []
    },
    {
      "cell_type": "code",
      "source": [
        "Example of Vectorization: Element-wise Addition\n",
        "\n",
        "Without Vectorization (Using a Loop)"
      ],
      "metadata": {
        "id": "tpSxHDgmJ8jV"
      },
      "execution_count": null,
      "outputs": []
    },
    {
      "cell_type": "code",
      "source": [
        "a = [1, 2, 3, 4]\n",
        "b = [5, 6, 7, 8]\n",
        "result = []\n",
        "\n",
        "for i in range(len(a)):\n",
        "    result.append(a[i] + b[i])\n",
        "\n",
        "print(result)"
      ],
      "metadata": {
        "colab": {
          "base_uri": "https://localhost:8080/"
        },
        "id": "qfHo_D2qJSXF",
        "outputId": "f656b4a7-64e4-497d-dab4-9add816c432d"
      },
      "execution_count": 33,
      "outputs": [
        {
          "output_type": "stream",
          "name": "stdout",
          "text": [
            "[6, 8, 10, 12]\n"
          ]
        }
      ]
    },
    {
      "cell_type": "code",
      "source": [
        "With Vectorization (Using NumPy)"
      ],
      "metadata": {
        "id": "gN-CA_XyJ_fF"
      },
      "execution_count": null,
      "outputs": []
    },
    {
      "cell_type": "code",
      "source": [
        "import numpy as np\n",
        "\n",
        "a = np.array([1, 2, 3, 4])\n",
        "b = np.array([5, 6, 7, 8])\n",
        "result = a + b\n",
        "\n",
        "print(result)"
      ],
      "metadata": {
        "colab": {
          "base_uri": "https://localhost:8080/"
        },
        "id": "0TSKOVzMJZS1",
        "outputId": "50507748-80ec-40a1-d88b-d03ec41455c3"
      },
      "execution_count": 34,
      "outputs": [
        {
          "output_type": "stream",
          "name": "stdout",
          "text": [
            "[ 6  8 10 12]\n"
          ]
        }
      ]
    },
    {
      "cell_type": "code",
      "source": [
        "2. Broadcasting in NumPy\n",
        "\n",
        "What is Broadcasting?\n",
        "\n",
        "1.Broadcasting is a technique that allows arrays of different shapes to be used together in arithmetic operations. Instead of explicitly reshaping arrays, NumPy automatically expands the smaller array to match the shape of the larger array during operations.\n",
        "\n",
        "2.Broadcasting eliminates the need to duplicate data or manually reshape arrays, saving both time and memory."
      ],
      "metadata": {
        "id": "5vdqg13nJdy9"
      },
      "execution_count": null,
      "outputs": []
    },
    {
      "cell_type": "code",
      "source": [
        "Example 1: Broadcasting a 1D Array to a 2D Array"
      ],
      "metadata": {
        "id": "KzNaGkNhJsxl"
      },
      "execution_count": null,
      "outputs": []
    },
    {
      "cell_type": "code",
      "source": [
        "import numpy as np\n",
        "\n",
        "arr = np.array([[1, 2, 3], [4, 5, 6]])  # Shape: (2, 3)\n",
        "vec = np.array([10, 20, 30])            # Shape: (3,)\n",
        "\n",
        "result = arr + vec\n",
        "print(result)"
      ],
      "metadata": {
        "colab": {
          "base_uri": "https://localhost:8080/"
        },
        "id": "05X1Zxv9JlW2",
        "outputId": "0552b8b9-d472-4282-98ab-710f9c0ff239"
      },
      "execution_count": 36,
      "outputs": [
        {
          "output_type": "stream",
          "name": "stdout",
          "text": [
            "[[11 22 33]\n",
            " [14 25 36]]\n"
          ]
        }
      ]
    },
    {
      "cell_type": "code",
      "source": [
        "Example 2: Broadcasting Scalars"
      ],
      "metadata": {
        "id": "-xN5vipGJ1eG"
      },
      "execution_count": null,
      "outputs": []
    },
    {
      "cell_type": "code",
      "source": [
        "arr = np.array([1, 2, 3])\n",
        "result = arr * 2\n",
        "\n",
        "print(result)"
      ],
      "metadata": {
        "colab": {
          "base_uri": "https://localhost:8080/"
        },
        "id": "01FEftZWJ2zU",
        "outputId": "9d002d38-5811-4255-828a-4f1dd38a5bfe"
      },
      "execution_count": 37,
      "outputs": [
        {
          "output_type": "stream",
          "name": "stdout",
          "text": [
            "[2 4 6]\n"
          ]
        }
      ]
    },
    {
      "cell_type": "code",
      "source": [
        "Example 3: Incompatible Shapes (Broadcasting Error)"
      ],
      "metadata": {
        "id": "jMnasvW7KGec"
      },
      "execution_count": null,
      "outputs": []
    },
    {
      "cell_type": "code",
      "source": [
        "a = np.array([1, 2, 3])  # Shape: (3,)\n",
        "b = np.array([4, 5])     # Shape: (2,)\n",
        "\n",
        "# This will raise a ValueError because the shapes are not compatible.\n",
        "result = a + b"
      ],
      "metadata": {
        "id": "Is7FD4lbKIgb"
      },
      "execution_count": null,
      "outputs": []
    },
    {
      "cell_type": "markdown",
      "source": [
        "# Practical Questions:"
      ],
      "metadata": {
        "id": "NZE4g_ThKPns"
      }
    },
    {
      "cell_type": "markdown",
      "source": [
        "**1.Create a 3x3 NumPy array with random integers between 1 and 100. Then, interchange its rows and columns.**"
      ],
      "metadata": {
        "id": "p1w2hCpdKSSL"
      }
    },
    {
      "cell_type": "markdown",
      "source": [
        "Here is the original 3x3 NumPy array with random integers between 1 and 100, along with the interchanged version (transposed):"
      ],
      "metadata": {
        "id": "FjvI1w9UKf9j"
      }
    },
    {
      "cell_type": "code",
      "source": [
        "Original Array:"
      ],
      "metadata": {
        "id": "usIljmWOKioL"
      },
      "execution_count": null,
      "outputs": []
    },
    {
      "cell_type": "code",
      "source": [
        "[[52 93 15]\n",
        " [72 61 21]\n",
        " [83 87 75]]"
      ],
      "metadata": {
        "id": "uFBtfcuFKk4c"
      },
      "execution_count": null,
      "outputs": []
    },
    {
      "cell_type": "code",
      "source": [
        "Interchanged Array (Rows ↔ Columns):"
      ],
      "metadata": {
        "id": "9CG2_4P0KoCT"
      },
      "execution_count": null,
      "outputs": []
    },
    {
      "cell_type": "code",
      "source": [
        "[[52 72 83]\n",
        " [93 61 87]\n",
        " [15 21 75]]"
      ],
      "metadata": {
        "id": "8IWtELFSKppC"
      },
      "execution_count": null,
      "outputs": []
    },
    {
      "cell_type": "markdown",
      "source": [
        "**2. Generate a 1D NumPy array with 10 elements. Reshape it into a 2x5 array, then into a 5x2 array**"
      ],
      "metadata": {
        "id": "P0BbMhE9Kt3q"
      }
    },
    {
      "cell_type": "code",
      "source": [
        "1D Array (Original):"
      ],
      "metadata": {
        "id": "Czz_6g7vKtoq"
      },
      "execution_count": null,
      "outputs": []
    },
    {
      "cell_type": "code",
      "source": [
        "[0 1 2 3 4 5 6 7 8 9]"
      ],
      "metadata": {
        "id": "MzE53EB7K0gL"
      },
      "execution_count": null,
      "outputs": []
    },
    {
      "cell_type": "code",
      "source": [
        "2x5 Array (After Reshaping):"
      ],
      "metadata": {
        "id": "icEvOc63K5VT"
      },
      "execution_count": null,
      "outputs": []
    },
    {
      "cell_type": "code",
      "source": [
        "[[0 1 2 3 4]\n",
        " [5 6 7 8 9]]"
      ],
      "metadata": {
        "id": "T_7bf0mkK7AD"
      },
      "execution_count": null,
      "outputs": []
    },
    {
      "cell_type": "code",
      "source": [
        "5x2 Array (After Reshaping):"
      ],
      "metadata": {
        "id": "cvDO15ogK-AK"
      },
      "execution_count": null,
      "outputs": []
    },
    {
      "cell_type": "code",
      "source": [
        "[[0 1]\n",
        " [2 3]\n",
        " [4 5]\n",
        " [6 7]\n",
        " [8 9]]"
      ],
      "metadata": {
        "id": "kw8teuNNK_mz"
      },
      "execution_count": null,
      "outputs": []
    },
    {
      "cell_type": "markdown",
      "source": [
        "**3.Create a 4x4 NumPy array with random float values. Add a border of zeros around it, resulting in a 6x6 array.**"
      ],
      "metadata": {
        "id": "l9yItuMKLCzk"
      }
    },
    {
      "cell_type": "code",
      "source": [
        "Original 4x4 Array with Random Floats:"
      ],
      "metadata": {
        "id": "RVStPkUALH8x"
      },
      "execution_count": null,
      "outputs": []
    },
    {
      "cell_type": "code",
      "source": [
        "[[0.37454012 0.95071431 0.73199394 0.59865848]\n",
        " [0.15601864 0.15599452 0.05808361 0.86617615]\n",
        " [0.60111501 0.70807258 0.02058449 0.96990985]\n",
        " [0.83244264 0.21233911 0.18182497 0.18340451]]"
      ],
      "metadata": {
        "id": "0GVJuTYbLJQK"
      },
      "execution_count": null,
      "outputs": []
    },
    {
      "cell_type": "code",
      "source": [
        "6x6 Array with a Border of Zeros:"
      ],
      "metadata": {
        "id": "FEPFOtokLJNB"
      },
      "execution_count": null,
      "outputs": []
    },
    {
      "cell_type": "code",
      "source": [
        "[[0.         0.         0.         0.         0.         0.        ]\n",
        " [0.         0.37454012 0.95071431 0.73199394 0.59865848 0.        ]\n",
        " [0.         0.15601864 0.15599452 0.05808361 0.86617615 0.        ]\n",
        " [0.         0.60111501 0.70807258 0.02058449 0.96990985 0.        ]\n",
        " [0.         0.83244264 0.21233911 0.18182497 0.18340451 0.        ]\n",
        " [0.         0.         0.         0.         0.         0.        ]]"
      ],
      "metadata": {
        "id": "-VhVeGwRLNOh"
      },
      "execution_count": null,
      "outputs": []
    },
    {
      "cell_type": "markdown",
      "source": [
        "**4.Using NumPy, create an array of integers from 10 to 60 with a step of 5**"
      ],
      "metadata": {
        "id": "7vUy2X4zLP8S"
      }
    },
    {
      "cell_type": "code",
      "source": [
        "import numpy as np\n",
        "\n",
        "# Create the array using np.arange\n",
        "arr = np.arange(10, 61, 5)\n",
        "\n",
        "# Print the array\n",
        "print(\"Array from 10 to 60 with step 5:\", arr)"
      ],
      "metadata": {
        "colab": {
          "base_uri": "https://localhost:8080/"
        },
        "id": "D_anp9BxNaPE",
        "outputId": "b81801a1-3f29-406c-8d99-7b40838ae6ad"
      },
      "execution_count": 38,
      "outputs": [
        {
          "output_type": "stream",
          "name": "stdout",
          "text": [
            "Array from 10 to 60 with step 5: [10 15 20 25 30 35 40 45 50 55 60]\n"
          ]
        }
      ]
    },
    {
      "cell_type": "markdown",
      "source": [
        "**5.Create a NumPy array of strings ['python', 'numpy', 'pandas']. Apply different case transformations\n",
        "(uppercase, lowercase, title case, etc.) to each element**"
      ],
      "metadata": {
        "id": "v7kPICbnN3QM"
      }
    },
    {
      "cell_type": "code",
      "source": [
        "import numpy as np\n",
        "\n",
        "# Create the NumPy array of strings\n",
        "arr = np.array(['python', 'numpy', 'pandas'])\n",
        "\n",
        "# Apply case transformations\n",
        "uppercase_arr = np.char.upper(arr)   # Convert to uppercase\n",
        "lowercase_arr = np.char.lower(arr)   # Convert to lowercase\n",
        "titlecase_arr = np.char.title(arr)   # Convert to title case\n",
        "capitalize_arr = np.char.capitalize(arr)  # Capitalize first letter\n",
        "\n",
        "# Print the results\n",
        "print(\"Original Array:\", arr)\n",
        "print(\"Uppercase:\", uppercase_arr)\n",
        "print(\"Lowercase:\", lowercase_arr)\n",
        "print(\"Title Case:\", titlecase_arr)\n",
        "print(\"Capitalized:\", capitalize_arr)"
      ],
      "metadata": {
        "colab": {
          "base_uri": "https://localhost:8080/"
        },
        "id": "WccLXTY-N_Dj",
        "outputId": "489a5600-bee9-436e-b205-86f8f4a110aa"
      },
      "execution_count": 39,
      "outputs": [
        {
          "output_type": "stream",
          "name": "stdout",
          "text": [
            "Original Array: ['python' 'numpy' 'pandas']\n",
            "Uppercase: ['PYTHON' 'NUMPY' 'PANDAS']\n",
            "Lowercase: ['python' 'numpy' 'pandas']\n",
            "Title Case: ['Python' 'Numpy' 'Pandas']\n",
            "Capitalized: ['Python' 'Numpy' 'Pandas']\n"
          ]
        }
      ]
    },
    {
      "cell_type": "markdown",
      "source": [
        "**6.Generate a NumPy array of words. Insert a space between each character of every word in the array.**"
      ],
      "metadata": {
        "id": "TYU4y8SpOEcD"
      }
    },
    {
      "cell_type": "code",
      "source": [
        "import numpy as np\n",
        "\n",
        "# Create a NumPy array of words\n",
        "arr = np.array(['python', 'numpy', 'pandas'])\n",
        "\n",
        "# Insert a space between each character of every word\n",
        "spaced_arr = np.char.join(' ', arr)\n",
        "\n",
        "# Print the result\n",
        "print(\"Original Array:\", arr)\n",
        "print(\"Array with Spaces Between Characters:\", spaced_arr)"
      ],
      "metadata": {
        "colab": {
          "base_uri": "https://localhost:8080/"
        },
        "id": "eP_D48pxOJua",
        "outputId": "7864c755-8a1d-4863-8454-191f2905d7ba"
      },
      "execution_count": 40,
      "outputs": [
        {
          "output_type": "stream",
          "name": "stdout",
          "text": [
            "Original Array: ['python' 'numpy' 'pandas']\n",
            "Array with Spaces Between Characters: ['p y t h o n' 'n u m p y' 'p a n d a s']\n"
          ]
        }
      ]
    },
    {
      "cell_type": "markdown",
      "source": [
        "**7.Create two 2D NumPy arrays and perform element-wise addition, subtraction, multiplication, and divisio**"
      ],
      "metadata": {
        "id": "lQMI4zhWOQK7"
      }
    },
    {
      "cell_type": "code",
      "source": [
        "import numpy as np\n",
        "\n",
        "# Create two 2D NumPy arrays\n",
        "array1 = np.array([[1, 2, 3],\n",
        "                   [4, 5, 6],\n",
        "                   [7, 8, 9]])\n",
        "\n",
        "array2 = np.array([[9, 8, 7],\n",
        "                   [6, 5, 4],\n",
        "                   [3, 2, 1]])\n",
        "\n",
        "# Perform element-wise operations\n",
        "addition = array1 + array2        # Element-wise addition\n",
        "subtraction = array1 - array2     # Element-wise subtraction\n",
        "multiplication = array1 * array2  # Element-wise multiplication\n",
        "division = array1 / array2        # Element-wise division\n",
        "\n",
        "# Print the results\n",
        "print(\"Array 1:\\n\", array1)\n",
        "print(\"Array 2:\\n\", array2)\n",
        "print(\"Addition:\\n\", addition)\n",
        "print(\"Subtraction:\\n\", subtraction)\n",
        "print(\"Multiplication:\\n\", multiplication)\n",
        "print(\"Division:\\n\", division)"
      ],
      "metadata": {
        "colab": {
          "base_uri": "https://localhost:8080/"
        },
        "id": "JZuMVv1eOVcC",
        "outputId": "04c8411d-9690-4002-d9a1-5218069ee644"
      },
      "execution_count": 41,
      "outputs": [
        {
          "output_type": "stream",
          "name": "stdout",
          "text": [
            "Array 1:\n",
            " [[1 2 3]\n",
            " [4 5 6]\n",
            " [7 8 9]]\n",
            "Array 2:\n",
            " [[9 8 7]\n",
            " [6 5 4]\n",
            " [3 2 1]]\n",
            "Addition:\n",
            " [[10 10 10]\n",
            " [10 10 10]\n",
            " [10 10 10]]\n",
            "Subtraction:\n",
            " [[-8 -6 -4]\n",
            " [-2  0  2]\n",
            " [ 4  6  8]]\n",
            "Multiplication:\n",
            " [[ 9 16 21]\n",
            " [24 25 24]\n",
            " [21 16  9]]\n",
            "Division:\n",
            " [[0.11111111 0.25       0.42857143]\n",
            " [0.66666667 1.         1.5       ]\n",
            " [2.33333333 4.         9.        ]]\n"
          ]
        }
      ]
    },
    {
      "cell_type": "markdown",
      "source": [
        "**8.Use NumPy to create a 5x5 identity matrix, then extract its diagonal elements**"
      ],
      "metadata": {
        "id": "7g-1eZ8sOZGL"
      }
    },
    {
      "cell_type": "code",
      "source": [
        "import numpy as np\n",
        "\n",
        "# Create a 5x5 identity matrix\n",
        "identity_matrix = np.eye(5)\n",
        "\n",
        "# Extract the diagonal elements\n",
        "diagonal_elements = np.diagonal(identity_matrix)\n",
        "\n",
        "# Print the results\n",
        "print(\"Identity Matrix:\\n\", identity_matrix)\n",
        "print(\"Diagonal Elements:\", diagonal_elements)"
      ],
      "metadata": {
        "colab": {
          "base_uri": "https://localhost:8080/"
        },
        "id": "6HuY0qLxOe4a",
        "outputId": "e1df0da0-8faf-4155-cd10-aaea78157c17"
      },
      "execution_count": 42,
      "outputs": [
        {
          "output_type": "stream",
          "name": "stdout",
          "text": [
            "Identity Matrix:\n",
            " [[1. 0. 0. 0. 0.]\n",
            " [0. 1. 0. 0. 0.]\n",
            " [0. 0. 1. 0. 0.]\n",
            " [0. 0. 0. 1. 0.]\n",
            " [0. 0. 0. 0. 1.]]\n",
            "Diagonal Elements: [1. 1. 1. 1. 1.]\n"
          ]
        }
      ]
    },
    {
      "cell_type": "markdown",
      "source": [
        "**9. Generate a NumPy array of 100 random integers between 0 and 1000. Find and display all prime numbers in\n",
        "this array**"
      ],
      "metadata": {
        "id": "W2Yzo-khOi-C"
      }
    },
    {
      "cell_type": "markdown",
      "source": [
        "To generate a NumPy array of 100 random integers between 0 and 1000 and then find all prime numbers in that array, you can follow these steps:\n",
        "\n",
        "1.Generate the random integers using NumPy.\n",
        "\n",
        "2.Create a function to check for prime numbers.\n",
        "\n",
        "3.Use the function to filter and display the prime numbers from the array."
      ],
      "metadata": {
        "id": "wS5BguZnOscy"
      }
    },
    {
      "cell_type": "code",
      "source": [
        "import numpy as np\n",
        "\n",
        "# Generate a NumPy array of 100 random integers between 0 and 1000\n",
        "random_integers = np.random.randint(0, 1001, size=100)\n",
        "\n",
        "def is_prime(n):\n",
        "    \"\"\"Check if a number is prime.\"\"\"\n",
        "    if n <= 1:\n",
        "        return False\n",
        "    for i in range(2, int(n**0.5) + 1):\n",
        "        if n % i == 0:\n",
        "            return False\n",
        "    return True\n",
        "\n",
        "# Find and display all prime numbers in the array\n",
        "prime_numbers = [num for num in random_integers if is_prime(num)]\n",
        "\n",
        "# Print the results\n",
        "print(\"Random Integers:\\n\", random_integers)\n",
        "print(\"Prime Numbers in the Array:\", prime_numbers)"
      ],
      "metadata": {
        "colab": {
          "base_uri": "https://localhost:8080/"
        },
        "id": "MJvLCGmuOr5T",
        "outputId": "86076336-dd99-4775-f655-941fef576e9f"
      },
      "execution_count": 43,
      "outputs": [
        {
          "output_type": "stream",
          "name": "stdout",
          "text": [
            "Random Integers:\n",
            " [842 942 138 222 750 315 187 858 812  35 408 864 615 369 467 543 305 215\n",
            " 246 118 880 439 353 937  66 831 806 613 504 266 455 439 270 909 542 529\n",
            " 522 737 204 742 801 989 559 837 456 419 653  86 916  74 619 247 885 958\n",
            " 521 637 954 987 655 359 672 981 342 308  88  71 962 711 190 119 188 337\n",
            " 164 486  55 411 592 870  79   9 824 402 902 627 306 284 763 467 495 693\n",
            "  26 826  17 914 190 252 407 732 170 270]\n",
            "Prime Numbers in the Array: [467, 439, 353, 937, 613, 439, 419, 653, 619, 521, 359, 71, 337, 79, 467, 17]\n"
          ]
        }
      ]
    },
    {
      "cell_type": "markdown",
      "source": [
        "**10.Create a NumPy array representing daily temperatures for a month. Calculate and display the weekly\n",
        "averages**"
      ],
      "metadata": {
        "id": "TZxA4KV1O6A5"
      }
    },
    {
      "cell_type": "markdown",
      "source": [
        "\n",
        "To create a NumPy array representing daily temperatures for a month and calculate the weekly averages, you can follow these steps:\n",
        "\n",
        "1.Generate a NumPy array with random temperatu.res for 30 days (representing a month).\n",
        "\n",
        "2.Reshape this array into weeks (assuming 4 weeks).\n",
        "\n",
        "3.Calculate the weekly averages."
      ],
      "metadata": {
        "id": "59mECj2-PAYZ"
      }
    },
    {
      "cell_type": "code",
      "source": [
        "\n",
        "import numpy as np\n",
        "\n",
        "# Generate a NumPy array with random temperatures for 30 days\n",
        "np.random.seed(0)  # For reproducibility\n",
        "daily_temperatures = np.random.randint(32, 90, size=30)  # Fahrenheit\n",
        "\n",
        "# Reshape the array into weeks (assuming 4 weeks)\n",
        "weekly_temperatures = daily_temperatures.reshape(4, 7)\n",
        "\n",
        "# Calculate the weekly averages\n",
        "weekly_averages = np.mean(weekly_temperatures, axis=1)\n",
        "\n",
        "# Display the results\n",
        "print(\"Daily Temperatures:\")\n",
        "print(daily_temperatures)\n",
        "\n",
        "print(\"\\nWeekly Temperatures:\")\n",
        "print(weekly_temperatures)\n",
        "\n",
        "print(\"\\nWeekly Averages:\")\n",
        "print(weekly_averages)"
      ],
      "metadata": {
        "id": "50tpBNS0S_1I"
      },
      "execution_count": null,
      "outputs": []
    }
  ]
}