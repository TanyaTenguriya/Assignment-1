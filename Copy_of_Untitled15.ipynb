{
  "nbformat": 4,
  "nbformat_minor": 0,
  "metadata": {
    "colab": {
      "provenance": []
    },
    "kernelspec": {
      "name": "python3",
      "display_name": "Python 3"
    },
    "language_info": {
      "name": "python"
    }
  },
  "cells": [
    {
      "cell_type": "markdown",
      "source": [
        "\n",
        "# **Theoretical Questions**\n",
        "\n",
        "**1. Can we use Bagging for regression problems?**\n",
        "\n",
        "Answer: Yes, Bagging (Bootstrap Aggregating) can be used for regression problems. Bagging is a general ensemble technique that reduces variance by training multiple models on different subsets of the data (created via bootstrap sampling) and combining their predictions. For regression, the final prediction is typically the average of the predictions from all models, which helps stabilize the output and reduce overfitting. For example, a Bagging Regressor can use decision trees as base learners to predict continuous values.\n",
        "\n",
        "\n",
        "\n",
        "\n",
        "\n",
        "\n",
        "**2. What is the difference between multiple model training and single model training?**\n",
        "\n",
        "\n",
        "Answer:\n",
        "Single Model Training: Involves training one model on the entire dataset. The performance depends heavily on the chosen algorithm, hyperparameters, and the quality of the data. Single models are often simpler, faster to train, but can suffer from high variance (overfitting) or high bias (underfitting).\n",
        "Multiple Model Training: Involves training several models, often on different subsets of data or with different algorithms, and combining their predictions (e.g., via averaging or voting). This is the foundation of ensemble methods like Bagging, Boosting, and Stacking. Multiple model training reduces variance, improves generalization, and is more robust but is computationally more expensive and complex to implement.\n",
        "\n",
        "\n",
        "\n",
        "\n",
        "**3. Explain the concept of feature randomness in Random Forest.**\n",
        "\n",
        "\n",
        "Answer: Feature randomness is a key concept in Random Forest that enhances the diversity of individual trees and reduces correlation between them. In a Random Forest, at each split in a decision tree, instead of considering all features to find the best split, only a random subset of features is considered. This subset is controlled by the max_features hyperparameter. For example, if max_features=sqrt(n_features), only a square root of the total features is considered at each split. This randomness ensures that trees are less correlated, making the ensemble more robust and reducing overfitting compared to a single decision tree.\n",
        "\n",
        "\n",
        "\n",
        "\n",
        "\n",
        "**4. What is OOB (Out-of-Bag) Score?**\n",
        "\n",
        "Answer: The Out-of-Bag (OOB) Score is an internal validation metric used in Bagging and Random Forest models. In Bagging, each base model (e.g., decision tree) is trained on a bootstrap sample of the data, meaning some data points are left out (not included in the training subset). These left-out samples are called out-of-bag samples. The OOB Score is calculated by using these OOB samples to evaluate the model's performance without needing a separate validation set. For classification, it is typically the accuracy on OOB samples, and for regression, it is the mean squared error (MSE) or R² score. The OOB Score provides a convenient way to estimate model performance without cross-validation.\n",
        "\n",
        "\n",
        "\n",
        "\n",
        "\n",
        "**5. How can you measure the importance of features in a Random Forest model ?**\n",
        "Answer: Feature importance in a Random Forest model is typically measured using one of the following methods:\n",
        "\n",
        "Mean Decrease in Impurity (MDI): This is the default method in libraries like scikit-learn. It measures the total reduction in impurity (e.g., Gini impurity for classification or variance for regression) brought by a feature across all trees. Features that lead to larger impurity reductions are considered more important.\n",
        "\n",
        "Mean Decrease in Accuracy (MDA) or Permutation Importance: This method involves shuffling the values of a feature and measuring the decrease in model accuracy on OOB samples or a validation set. A larger decrease indicates higher importance. This method is more robust but computationally expensive.\n",
        "Feature importance scores are normalized to sum to 1, making it easy to interpret their relative importance.\n",
        "\n",
        "\n",
        "**6. Explain the working principle of a Bagging Classifier.**\n",
        "\n",
        "\n",
        "Answer: A Bagging Classifier works on the principle of Bootstrap Aggregating to reduce variance and improve model stability. The steps are:\n",
        "\n",
        "Bootstrap Sampling: Generate multiple subsets of the training data by sampling with replacement (bootstrap sampling). Each subset is of the same size as the original dataset but may contain duplicates and miss some original data points.\n",
        "Model Training: Train a base classifier (e.g., decision tree) independently on each bootstrap subset. Each classifier learns a slightly different perspective of the data due to the variation in the subsets.\n",
        "\n",
        "Prediction Aggregation: For a new data point, obtain predictions from all base classifiers and aggregate them. For classification, this is typically done by majority voting, where the class with the most votes is chosen as the final prediction.\n",
        "\n",
        "Variance Reduction: By averaging out predictions, Bagging reduces variance, making the model less sensitive to noise in the data compared to a single classifier.\n",
        "\n",
        "\n",
        "\n",
        "\n",
        "\n",
        "**7. How do you evaluate a Bagging Classifier's performance?**\n",
        "\n",
        "Answer: The performance of a Bagging Classifier can be evaluated using standard classification metrics, depending on the problem context. Common evaluation methods include:\n",
        "\n",
        "Accuracy: The proportion of correctly classified instances (suitable for balanced datasets).\n",
        "\n",
        "Precision, Recall, and F1-Score: Useful for imbalanced datasets, where precision measures the accuracy of positive predictions, recall measures the coverage of actual positives, and F1-score is the harmonic mean of precision and recall.\n",
        "\n",
        "ROC-AUC Score: Measures the area under the Receiver Operating Characteristic curve, indicating the model's ability to distinguish between classes.\n",
        "Confusion Matrix: Provides a detailed breakdown of true positives, true negatives, false positives, and false negatives.\n",
        "\n",
        "Cross-Validation: Use k-fold cross-validation to assess the model's performance on different splits of the data, ensuring robustness.\n",
        "\n",
        "Out-of-Bag (OOB) Score: If available, use the OOB score as an internal validation metric without needing a separate test set.\n",
        "\n",
        "\n",
        "**8. How does a Bagging Regressor work?**\n",
        "\n",
        "Answer: A Bagging Regressor works similarly to a Bagging Classifier but is designed for regression tasks. The steps are:\n",
        "Bootstrap Sampling: Generate multiple subsets of the training data by sampling with replacement.\n",
        "\n",
        "Model Training: Train a base regressor (e.g., decision tree) independently on each bootstrap subset.\n",
        "\n",
        "Prediction Aggregation: For a new data point, obtain predictions from all base regressors and aggregate them, typically by taking the average (mean) of the predictions.\n",
        "\n",
        "Variance Reduction: By averaging predictions, the Bagging Regressor reduces variance and stabilizes predictions, making it less prone to overfitting compared to a single regressor. This is particularly useful for high-variance models like decision trees.\n",
        "\n",
        "\n",
        "**9. What is the main advantage of ensemble techniques?**\n",
        "\n",
        "Answer: The main advantage of ensemble techniques is improved predictive performance through reduced variance, bias, or both, leading to better generalization on unseen data. By combining multiple models, ensemble methods leverage the strengths of individual models while mitigating their weaknesses. For example:\n",
        "\n",
        "Bagging reduces variance by averaging predictions, making models more stable.\n",
        "Boosting reduces bias by focusing on hard-to-predict examples, improving accuracy.\n",
        "\n",
        "Stacking combines diverse models to capture different patterns, enhancing overall performance.\n",
        "\n",
        "**10. What is the main challenge of ensemble methods?**\n",
        "\n",
        "Answer: The main challenge of ensemble methods is increased computational complexity. Ensemble methods require training and maintaining multiple models, which can be computationally expensive and resource-intensive, especially for large datasets or complex models. Other challenges include:\n",
        "\n",
        "Interpretability: Ensemble models (e.g., Random Forest, Boosting) are harder to interpret compared to single models like linear regression or decision trees.\n",
        "Overfitting Risk: If not properly tuned, ensemble methods can still overfit, especially Boosting methods that focus on hard examples.\n",
        "\n",
        "Hyperparameter Tuning: Ensemble methods often have many hyperparameters (e.g., number of estimators, learning rate in Boosting) that require careful tuning.\n",
        "\n",
        "**11. Explain the key idea behind ensemble techniques.**\n",
        "\n",
        "Answer: The key idea behind ensemble techniques is to combine the predictions of multiple models to achieve better performance than any single model could achieve alone. This is based on the principle of \"wisdom of the crowd,\" where diverse models, each with its own strengths and weaknesses, can complement each other. The main approaches are:\n",
        "\n",
        "Bagging: Reduces variance by training models on different data subsets and averaging predictions.\n",
        "\n",
        "Boosting: Reduces bias by sequentially training models, where each model corrects the errors of the previous ones.\n",
        "\n",
        "Stacking: Combines different types of models using a meta-model to learn how to best combine their predictions.\n",
        "\n",
        "**12. What is a Random Forest Classifier?**\n",
        "\n",
        "Answer: A Random Forest Classifier is an ensemble learning method that combines multiple decision trees to improve classification performance. It operates on the principles of Bagging and feature randomness. The key features are:\n",
        "Bootstrap Sampling: Each tree is trained on a different bootstrap sample of the data.\n",
        "Feature Randomness: At each split in a tree, only a random subset of features is considered, reducing correlation between trees.\n",
        "Prediction Aggregation: For classification, the final prediction is made by majority voting across all trees.\n",
        "Random Forest is robust, resistant to overfitting (compared to a single decision tree), and can handle high-dimensional data well.\n",
        "\n",
        "**13. What are the main types of ensemble techniques?**\n",
        "\n",
        "Answer: The main types of ensemble techniques are:\n",
        "Bagging (Bootstrap Aggregating): Trains multiple models in parallel on different bootstrap samples of the data and aggregates predictions (e.g., Random Forest).\n",
        "Boosting: Trains models sequentially, where each model focuses on correcting the errors of the previous models (e.g., AdaBoost, Gradient Boosting, XGBoost).\n",
        "Stacking (Stacked Generalization): Trains multiple diverse models (base learners) and uses a meta-model to combine their predictions, learning how to best weigh each model's contribution.\n",
        "Voting: Combines predictions from multiple models, either by majority voting (classification) or averaging (regression), without necessarily using bootstrap sampling or sequential training.\n",
        "\n",
        "**14. What is ensemble learning in machine learning?**\n",
        "\n",
        "Answer: Ensemble learning in machine learning is a technique that combines the predictions of multiple models (base learners) to improve overall performance, robustness, and generalization compared to a single model. The goal is to leverage the strengths of individual models while mitigating their weaknesses. Ensemble learning is widely used in tasks like classification, regression, and anomaly detection. Examples include Random Forest, Gradient Boosting, and Stacking. Ensemble methods are particularly effective when base models are diverse and complementary.\n",
        "\n",
        "**15. When should we avoid using ensemble methods?**\n",
        "\n",
        "Answer: Ensemble methods should be avoided in the following scenarios:\n",
        "Limited Computational Resources: Ensemble methods are computationally expensive, so they may not be feasible on resource-constrained systems or when fast inference is required.\n",
        "Small or Simple Datasets: For small datasets or simple problems where a single model (e.g., linear regression) performs well, ensemble methods may add unnecessary complexity without significant performance gains.\n",
        "Interpretability Requirements: If interpretability is critical (e.g., in medical or legal applications), ensemble methods are harder to interpret compared to single models like decision trees or logistic regression.\n",
        "Risk of Overfitting: If the dataset is noisy or the ensemble is not properly regularized, ensemble methods (especially Boosting) can overfit.\n",
        "\n",
        "\n",
        "\n",
        "**16. How does Bagging help in reducing overfitting?**\n",
        "\n",
        "Answer: Bagging helps in reducing overfitting by reducing the variance of the model. The mechanism is as follows:\n",
        "Variance Reduction: Individual models (e.g., decision trees) trained on the full dataset can have high variance, meaning they are sensitive to small changes in the training data and may overfit. Bagging trains multiple models on different bootstrap samples, which introduces diversity. Aggregating predictions (e.g., via averaging or voting) smooths out these variations, leading to a more stable and generalizable model.\n",
        "Robustness to Noise: By training on different subsets, Bagging ensures that noise or outliers in one subset do not overly influence the entire model, as other models trained on different subsets can compensate.\n",
        "This is particularly effective for high-variance models like decision trees, where a single tree can easily overfit.\n",
        "\n",
        "\n",
        "**17. Why is Random Forest better than a single Decision Tree?**\n",
        "\n",
        "Answer: Random Forest is better than a single Decision Tree due to the following reasons:\n",
        "Reduced Overfitting: A single decision tree can overfit by growing too deep and capturing noise in the data. Random Forest reduces overfitting by averaging predictions from multiple trees, each trained on different bootstrap samples and feature subsets.\n",
        "Improved Generalization: The diversity introduced by bootstrap sampling and feature randomness ensures that Random Forest generalizes better to unseen data compared to a single tree.\n",
        "Robustness: Random Forest is less sensitive to noise and outliers because errors in individual trees are averaged out.\n",
        "Feature Importance: Random Forest provides feature importance scores, which are useful for understanding the data, while a single tree does not offer this directly.\n",
        "Performance: Random Forest typically achieves higher accuracy, especially on complex datasets, due to the ensemble effect.\n",
        "\n",
        "**18. What is the role of bootstrap sampling in Bagging?**\n",
        "\n",
        "Answer: Bootstrap sampling is a fundamental component of Bagging and plays the following roles:\n",
        "Diversity Creation: Bootstrap sampling creates multiple subsets of the training data by sampling with replacement. Each subset is different, ensuring that the base models (e.g., decision trees) are trained on diverse data, which reduces correlation between models.\n",
        "Variance Reduction: By training models on different subsets and aggregating predictions, bootstrap sampling helps reduce the variance of the final model, making it more stable and less prone to overfitting.\n",
        "OOB Evaluation: Bootstrap sampling leaves out some data points in each subset (out-of-bag samples), which can be used to evaluate the model's performance without needing a separate validation set, providing an efficient internal validation mechanism.\n",
        "\n",
        "\n",
        "**19. What are some real-world applications of ensemble techniques?**\n",
        "Answer: Ensemble techniques are widely used in various real-world applications due to their robustness and high performance. Examples include:\n",
        "Finance: Credit scoring, fraud detection, and stock price prediction, where ensemble methods like Random Forest or Gradient Boosting handle high-dimensional and noisy data effectively.\n",
        "Healthcare: Disease diagnosis (e.g., cancer detection using Random Forest on medical imaging data), patient outcome prediction, and drug discovery, where ensemble methods improve accuracy and robustness.\n",
        "Marketing: Customer segmentation, churn prediction, and recommendation systems, where ensemble methods handle complex patterns in customer behavior data.\n",
        "Natural Language Processing (NLP): Sentiment analysis, text classification, and machine translation, where stacking or boosting models improve performance.\n",
        "Computer Vision: Object detection, image classification, and facial recognition, where ensemble methods combine features from different models for better accuracy.\n",
        "Kaggle Competitions: Ensemble methods (e.g., XGBoost, LightGBM) are often used to win machine learning competitions due to their superior performance on structured data.\n",
        "\n",
        "**20. What is the difference between Bagging and Boosting?**\n",
        "Answer:\n",
        "\n",
        "Bagging (Bootstrap Aggregating):\n",
        "Training Approach: Models are trained independently in parallel on different bootstrap samples of the data.\n",
        "\n",
        "Goal: Reduces variance, making the model more stable and less prone to overfitting.\n",
        "\n",
        "Aggregation: Predictions are aggregated by averaging (regression) or majority voting (classification).\n",
        "\n",
        "Example: Random Forest.\n",
        "Sensitivity to Errors: Less sensitive to noisy data, as each model is independent.\n",
        "\n",
        "Boosting:\n",
        "Training Approach: Models are trained sequentially, where each model focuses on correcting the errors of the previous models by assigning higher weights to misclassified or poorly predicted instances.\n",
        "\n",
        "Goal: Reduces bias, improving the accuracy of weak learners to create a strong learner.\n",
        "\n",
        "Aggregation: Predictions are combined using a weighted sum or weighted voting, where later models often have higher influence.\n",
        "\n",
        "Example: AdaBoost, Gradient Boosting, XGBoost.\n",
        "Sensitivity to Errors: More sensitive to noisy data, as errors in early models can propagate and affect later models."
      ],
      "metadata": {
        "id": "qU_gMgfa66yi"
      }
    },
    {
      "cell_type": "markdown",
      "source": [
        "# **Practical Questions**\n",
        "\n",
        "21. Train a Bagging Classifier using Decision Trees on a sample dataset and print model accuracy.\n",
        "Approach: Use BaggingClassifier from sklearn.ensemble with DecisionTreeClassifier as the base estimator. Evaluate on a test set using accuracy."
      ],
      "metadata": {
        "id": "Io5dajEK-QrX"
      }
    },
    {
      "cell_type": "code",
      "source": [
        "from sklearn.ensemble import BaggingClassifier\n",
        "from sklearn.tree import DecisionTreeClassifier\n",
        "from sklearn.datasets import load_iris\n",
        "from sklearn.model_selection import train_test_split\n",
        "from sklearn.metrics import accuracy_score\n",
        "\n",
        "# Load dataset\n",
        "data = load_iris()\n",
        "X, y = data.data, data.target\n",
        "\n",
        "# Split data\n",
        "X_train, X_test, y_train, y_test = train_test_split(X, y, test_size=0.2, random_state=42)\n",
        "\n",
        "# Train Bagging Classifier\n",
        "bagging = BaggingClassifier(estimator=DecisionTreeClassifier(), n_estimators=10, random_state=42)\n",
        "bagging.fit(X_train, y_train)\n",
        "\n",
        "# Predict and evaluate\n",
        "y_pred = bagging.predict(X_test)\n",
        "accuracy = accuracy_score(y_test, y_pred)\n",
        "print(f\"Model Accuracy: {accuracy:.2f}\")"
      ],
      "metadata": {
        "colab": {
          "base_uri": "https://localhost:8080/"
        },
        "id": "SSSoRKuu-YqM",
        "outputId": "8d7b102a-21a6-46e0-b585-136e2169339a"
      },
      "execution_count": null,
      "outputs": [
        {
          "output_type": "stream",
          "name": "stdout",
          "text": [
            "Model Accuracy: 1.00\n"
          ]
        }
      ]
    },
    {
      "cell_type": "markdown",
      "source": [
        "22. Train a Bagging Regressor using Decision Trees and evaluate using Mean Squared Error (MSE).\n",
        "Approach: Use BaggingRegressor with DecisionTreeRegressor as the base estimator. Evaluate on a test set using MSE.\n",
        "Sample Code:"
      ],
      "metadata": {
        "id": "qi112PRP-hbn"
      }
    },
    {
      "cell_type": "code",
      "source": [
        "from sklearn.ensemble import BaggingRegressor\n",
        "from sklearn.tree import DecisionTreeRegressor\n",
        "from sklearn.datasets import make_regression\n",
        "from sklearn.model_selection import train_test_split\n",
        "from sklearn.metrics import mean_squared_error\n",
        "\n",
        "# Generate synthetic regression data\n",
        "X, y = make_regression(n_samples=1000, n_features=10, noise=0.1, random_state=42)\n",
        "\n",
        "# Split data\n",
        "X_train, X_test, y_train, y_test = train_test_split(X, y, test_size=0.2, random_state=42)\n",
        "\n",
        "# Train Bagging Regressor\n",
        "bagging = BaggingRegressor(estimator=DecisionTreeRegressor(), n_estimators=10, random_state=42)\n",
        "bagging.fit(X_train, y_train)\n",
        "\n",
        "# Predict and evaluate\n",
        "y_pred = bagging.predict(X_test)\n",
        "mse = mean_squared_error(y_test, y_pred)\n",
        "print(f\"Mean Squared Error: {mse:.2f}\")"
      ],
      "metadata": {
        "colab": {
          "base_uri": "https://localhost:8080/"
        },
        "id": "VPlyi5fc-q6i",
        "outputId": "8a5dff2e-31db-4c0f-e866-ee940ce774d1"
      },
      "execution_count": null,
      "outputs": [
        {
          "output_type": "stream",
          "name": "stdout",
          "text": [
            "Mean Squared Error: 3222.40\n"
          ]
        }
      ]
    },
    {
      "cell_type": "markdown",
      "source": [
        "23. Train a Random Forest Classifier on the Breast Cancer dataset and print feature importance scores.\n",
        "Approach: Use RandomForestClassifier and access feature importance scores via the feature_importances_ attribute."
      ],
      "metadata": {
        "id": "wEzb64NU_NXJ"
      }
    },
    {
      "cell_type": "code",
      "source": [
        "from sklearn.ensemble import RandomForestClassifier\n",
        "from sklearn.datasets import load_breast_cancer\n",
        "from sklearn.model_selection import train_test_split\n",
        "import numpy as np\n",
        "\n",
        "# Load dataset\n",
        "data = load_breast_cancer()\n",
        "X, y = data.data, data.target\n",
        "\n",
        "# Split data\n",
        "X_train, X_test, y_train, y_test = train_test_split(X, y, test_size=0.2, random_state=42)\n",
        "\n",
        "# Train Random Forest Classifier\n",
        "rf = RandomForestClassifier(n_estimators=100, random_state=42)\n",
        "rf.fit(X_train, y_train)\n",
        "\n",
        "# Print feature importance scores\n",
        "feature_names = data.feature_names\n",
        "importances = rf.feature_importances_\n",
        "for name, importance in zip(feature_names, importances):\n",
        "    print(f\"Feature: {name}, Importance: {importance:.4f}\")"
      ],
      "metadata": {
        "colab": {
          "base_uri": "https://localhost:8080/"
        },
        "id": "d4StTjUD_OCN",
        "outputId": "67c96710-8f1b-4449-d1f1-dfca2c8d75ba"
      },
      "execution_count": null,
      "outputs": [
        {
          "output_type": "stream",
          "name": "stdout",
          "text": [
            "Feature: mean radius, Importance: 0.0487\n",
            "Feature: mean texture, Importance: 0.0136\n",
            "Feature: mean perimeter, Importance: 0.0533\n",
            "Feature: mean area, Importance: 0.0476\n",
            "Feature: mean smoothness, Importance: 0.0073\n",
            "Feature: mean compactness, Importance: 0.0139\n",
            "Feature: mean concavity, Importance: 0.0680\n",
            "Feature: mean concave points, Importance: 0.1062\n",
            "Feature: mean symmetry, Importance: 0.0038\n",
            "Feature: mean fractal dimension, Importance: 0.0039\n",
            "Feature: radius error, Importance: 0.0201\n",
            "Feature: texture error, Importance: 0.0047\n",
            "Feature: perimeter error, Importance: 0.0113\n",
            "Feature: area error, Importance: 0.0224\n",
            "Feature: smoothness error, Importance: 0.0043\n",
            "Feature: compactness error, Importance: 0.0053\n",
            "Feature: concavity error, Importance: 0.0094\n",
            "Feature: concave points error, Importance: 0.0035\n",
            "Feature: symmetry error, Importance: 0.0040\n",
            "Feature: fractal dimension error, Importance: 0.0053\n",
            "Feature: worst radius, Importance: 0.0780\n",
            "Feature: worst texture, Importance: 0.0217\n",
            "Feature: worst perimeter, Importance: 0.0671\n",
            "Feature: worst area, Importance: 0.1539\n",
            "Feature: worst smoothness, Importance: 0.0106\n",
            "Feature: worst compactness, Importance: 0.0203\n",
            "Feature: worst concavity, Importance: 0.0318\n",
            "Feature: worst concave points, Importance: 0.1447\n",
            "Feature: worst symmetry, Importance: 0.0101\n",
            "Feature: worst fractal dimension, Importance: 0.0052\n"
          ]
        }
      ]
    },
    {
      "cell_type": "markdown",
      "source": [
        "24. Train a Random Forest Regressor and compare its performance with a single Decision Tree.\n",
        "Approach: Train both RandomForestRegressor and DecisionTreeRegressor on the same dataset and compare MSE."
      ],
      "metadata": {
        "id": "Pc0hJo_S_SiM"
      }
    },
    {
      "cell_type": "code",
      "source": [
        "from sklearn.ensemble import RandomForestRegressor\n",
        "from sklearn.tree import DecisionTreeRegressor\n",
        "from sklearn.datasets import make_regression\n",
        "from sklearn.model_selection import train_test_split\n",
        "from sklearn.metrics import mean_squared_error\n",
        "\n",
        "# Generate synthetic regression data\n",
        "X, y = make_regression(n_samples=1000, n_features=10, noise=0.1, random_state=42)\n",
        "\n",
        "# Split data\n",
        "X_train, X_test, y_train, y_test = train_test_split(X, y, test_size=0.2, random_state=42)\n",
        "\n",
        "# Train Random Forest Regressor\n",
        "rf = RandomForestRegressor(n_estimators=100, random_state=42)\n",
        "rf.fit(X_train, y_train)\n",
        "rf_pred = rf.predict(X_test)\n",
        "rf_mse = mean_squared_error(y_test, rf_pred)\n",
        "\n",
        "# Train Decision Tree Regressor\n",
        "dt = DecisionTreeRegressor(random_state=42)\n",
        "dt.fit(X_train, y_train)\n",
        "dt_pred = dt.predict(X_test)\n",
        "dt_mse = mean_squared_error(y_test, dt_pred)\n",
        "\n",
        "# Compare performance\n",
        "print(f\"Random Forest MSE: {rf_mse:.2f}\")\n",
        "print(f\"Decision Tree MSE: {dt_mse:.2f}\")"
      ],
      "metadata": {
        "colab": {
          "base_uri": "https://localhost:8080/"
        },
        "id": "sRngw1cK_S55",
        "outputId": "909aada1-17bf-4980-aa52-d3ffd26f41b7"
      },
      "execution_count": null,
      "outputs": [
        {
          "output_type": "stream",
          "name": "stdout",
          "text": [
            "Random Forest MSE: 2621.79\n",
            "Decision Tree MSE: 6350.43\n"
          ]
        }
      ]
    },
    {
      "cell_type": "markdown",
      "source": [
        "25. Compute the Out-of-Bag (OOB) Score for a Random Forest Classifier.\n",
        "Approach: Use RandomForestClassifier with oob_score=True to compute the OOB score."
      ],
      "metadata": {
        "id": "dkWTEkli_Zzs"
      }
    },
    {
      "cell_type": "code",
      "source": [
        "from sklearn.ensemble import RandomForestClassifier\n",
        "from sklearn.datasets import load_iris\n",
        "from sklearn.model_selection import train_test_split\n",
        "\n",
        "# Load dataset\n",
        "data = load_iris()\n",
        "X, y = data.data, data.target\n",
        "\n",
        "# Train Random Forest Classifier with OOB score\n",
        "rf = RandomForestClassifier(n_estimators=100, oob_score=True, random_state=42)\n",
        "rf.fit(X, y)\n",
        "\n",
        "# Print OOB score\n",
        "print(f\"Out-of-Bag Score: {rf.oob_score_:.2f}\")"
      ],
      "metadata": {
        "colab": {
          "base_uri": "https://localhost:8080/"
        },
        "id": "cj5KAPZ4_aHE",
        "outputId": "30b0d19c-0683-4f08-ef3e-c9946a6413cb"
      },
      "execution_count": null,
      "outputs": [
        {
          "output_type": "stream",
          "name": "stdout",
          "text": [
            "Out-of-Bag Score: 0.95\n"
          ]
        }
      ]
    },
    {
      "cell_type": "markdown",
      "source": [
        "26. Train a Bagging Classifier using SVM as a base estimator and print accuracy.\n",
        "Approach: Use BaggingClassifier with SVC as the base estimator."
      ],
      "metadata": {
        "id": "crK0ASRd_g8Y"
      }
    },
    {
      "cell_type": "code",
      "source": [
        "from sklearn.ensemble import BaggingClassifier\n",
        "from sklearn.svm import SVC\n",
        "from sklearn.datasets import load_iris\n",
        "from sklearn.model_selection import train_test_split\n",
        "from sklearn.metrics import accuracy_score\n",
        "\n",
        "# Load dataset\n",
        "data = load_iris()\n",
        "X, y = data.data, data.target\n",
        "\n",
        "# Split data\n",
        "X_train, X_test, y_train, y_test = train_test_split(X, y, test_size=0.2, random_state=42)\n",
        "\n",
        "# Train Bagging Classifier with SVM\n",
        "bagging = BaggingClassifier(estimator=SVC(), n_estimators=10, random_state=42)\n",
        "bagging.fit(X_train, y_train)\n",
        "\n",
        "# Predict and evaluate\n",
        "y_pred = bagging.predict(X_test)\n",
        "accuracy = accuracy_score(y_test, y_pred)\n",
        "print(f\"Model Accuracy: {accuracy:.2f}\")"
      ],
      "metadata": {
        "colab": {
          "base_uri": "https://localhost:8080/"
        },
        "id": "2mLQssNT_hYr",
        "outputId": "370119dd-bb30-46b2-b781-0b449b11a95c"
      },
      "execution_count": null,
      "outputs": [
        {
          "output_type": "stream",
          "name": "stdout",
          "text": [
            "Model Accuracy: 1.00\n"
          ]
        }
      ]
    },
    {
      "cell_type": "markdown",
      "source": [
        "28. Train a Bagging Classifier using Logistic Regression as a base estimator and print AUC score.\n",
        "Approach: Use BaggingClassifier with LogisticRegression and evaluate using ROC-AUC score."
      ],
      "metadata": {
        "id": "hn62tzrm_oVU"
      }
    },
    {
      "cell_type": "code",
      "source": [
        "from sklearn.ensemble import BaggingClassifier\n",
        "from sklearn.linear_model import LogisticRegression\n",
        "from sklearn.datasets import load_breast_cancer\n",
        "from sklearn.model_selection import train_test_split\n",
        "from sklearn.metrics import roc_auc_score\n",
        "\n",
        "# Load dataset\n",
        "data = load_breast_cancer()\n",
        "X, y = data.data, data.target\n",
        "\n",
        "# Split data\n",
        "X_train, X_test, y_train, y_test = train_test_split(X, y, test_size=0.2, random_state=42)\n",
        "\n",
        "# Train Bagging Classifier with Logistic Regression\n",
        "bagging = BaggingClassifier(estimator=LogisticRegression(max_iter=1000), n_estimators=10, random_state=42)\n",
        "bagging.fit(X_train, y_train)\n",
        "\n",
        "# Predict probabilities and evaluate AUC\n",
        "y_pred_proba = bagging.predict_proba(X_test)[:, 1]\n",
        "auc = roc_auc_score(y_test, y_pred_proba)\n",
        "print(f\"ROC-AUC Score: {auc:.2f}\")"
      ],
      "metadata": {
        "colab": {
          "base_uri": "https://localhost:8080/"
        },
        "id": "bKhd1FeO_o11",
        "outputId": "2ea6502d-56f8-4e35-f384-ece4e7da2b5a"
      },
      "execution_count": null,
      "outputs": [
        {
          "output_type": "stream",
          "name": "stderr",
          "text": [
            "/usr/local/lib/python3.11/dist-packages/sklearn/linear_model/_logistic.py:465: ConvergenceWarning: lbfgs failed to converge (status=1):\n",
            "STOP: TOTAL NO. of ITERATIONS REACHED LIMIT.\n",
            "\n",
            "Increase the number of iterations (max_iter) or scale the data as shown in:\n",
            "    https://scikit-learn.org/stable/modules/preprocessing.html\n",
            "Please also refer to the documentation for alternative solver options:\n",
            "    https://scikit-learn.org/stable/modules/linear_model.html#logistic-regression\n",
            "  n_iter_i = _check_optimize_result(\n",
            "/usr/local/lib/python3.11/dist-packages/sklearn/linear_model/_logistic.py:465: ConvergenceWarning: lbfgs failed to converge (status=1):\n",
            "STOP: TOTAL NO. of ITERATIONS REACHED LIMIT.\n",
            "\n",
            "Increase the number of iterations (max_iter) or scale the data as shown in:\n",
            "    https://scikit-learn.org/stable/modules/preprocessing.html\n",
            "Please also refer to the documentation for alternative solver options:\n",
            "    https://scikit-learn.org/stable/modules/linear_model.html#logistic-regression\n",
            "  n_iter_i = _check_optimize_result(\n",
            "/usr/local/lib/python3.11/dist-packages/sklearn/linear_model/_logistic.py:465: ConvergenceWarning: lbfgs failed to converge (status=1):\n",
            "STOP: TOTAL NO. of ITERATIONS REACHED LIMIT.\n",
            "\n",
            "Increase the number of iterations (max_iter) or scale the data as shown in:\n",
            "    https://scikit-learn.org/stable/modules/preprocessing.html\n",
            "Please also refer to the documentation for alternative solver options:\n",
            "    https://scikit-learn.org/stable/modules/linear_model.html#logistic-regression\n",
            "  n_iter_i = _check_optimize_result(\n",
            "/usr/local/lib/python3.11/dist-packages/sklearn/linear_model/_logistic.py:465: ConvergenceWarning: lbfgs failed to converge (status=1):\n",
            "STOP: TOTAL NO. of ITERATIONS REACHED LIMIT.\n",
            "\n",
            "Increase the number of iterations (max_iter) or scale the data as shown in:\n",
            "    https://scikit-learn.org/stable/modules/preprocessing.html\n",
            "Please also refer to the documentation for alternative solver options:\n",
            "    https://scikit-learn.org/stable/modules/linear_model.html#logistic-regression\n",
            "  n_iter_i = _check_optimize_result(\n",
            "/usr/local/lib/python3.11/dist-packages/sklearn/linear_model/_logistic.py:465: ConvergenceWarning: lbfgs failed to converge (status=1):\n",
            "STOP: TOTAL NO. of ITERATIONS REACHED LIMIT.\n",
            "\n",
            "Increase the number of iterations (max_iter) or scale the data as shown in:\n",
            "    https://scikit-learn.org/stable/modules/preprocessing.html\n",
            "Please also refer to the documentation for alternative solver options:\n",
            "    https://scikit-learn.org/stable/modules/linear_model.html#logistic-regression\n",
            "  n_iter_i = _check_optimize_result(\n",
            "/usr/local/lib/python3.11/dist-packages/sklearn/linear_model/_logistic.py:465: ConvergenceWarning: lbfgs failed to converge (status=1):\n",
            "STOP: TOTAL NO. of ITERATIONS REACHED LIMIT.\n",
            "\n",
            "Increase the number of iterations (max_iter) or scale the data as shown in:\n",
            "    https://scikit-learn.org/stable/modules/preprocessing.html\n",
            "Please also refer to the documentation for alternative solver options:\n",
            "    https://scikit-learn.org/stable/modules/linear_model.html#logistic-regression\n",
            "  n_iter_i = _check_optimize_result(\n",
            "/usr/local/lib/python3.11/dist-packages/sklearn/linear_model/_logistic.py:465: ConvergenceWarning: lbfgs failed to converge (status=1):\n",
            "STOP: TOTAL NO. of ITERATIONS REACHED LIMIT.\n",
            "\n",
            "Increase the number of iterations (max_iter) or scale the data as shown in:\n",
            "    https://scikit-learn.org/stable/modules/preprocessing.html\n",
            "Please also refer to the documentation for alternative solver options:\n",
            "    https://scikit-learn.org/stable/modules/linear_model.html#logistic-regression\n",
            "  n_iter_i = _check_optimize_result(\n",
            "/usr/local/lib/python3.11/dist-packages/sklearn/linear_model/_logistic.py:465: ConvergenceWarning: lbfgs failed to converge (status=1):\n",
            "STOP: TOTAL NO. of ITERATIONS REACHED LIMIT.\n",
            "\n",
            "Increase the number of iterations (max_iter) or scale the data as shown in:\n",
            "    https://scikit-learn.org/stable/modules/preprocessing.html\n",
            "Please also refer to the documentation for alternative solver options:\n",
            "    https://scikit-learn.org/stable/modules/linear_model.html#logistic-regression\n",
            "  n_iter_i = _check_optimize_result(\n",
            "/usr/local/lib/python3.11/dist-packages/sklearn/linear_model/_logistic.py:465: ConvergenceWarning: lbfgs failed to converge (status=1):\n",
            "STOP: TOTAL NO. of ITERATIONS REACHED LIMIT.\n",
            "\n",
            "Increase the number of iterations (max_iter) or scale the data as shown in:\n",
            "    https://scikit-learn.org/stable/modules/preprocessing.html\n",
            "Please also refer to the documentation for alternative solver options:\n",
            "    https://scikit-learn.org/stable/modules/linear_model.html#logistic-regression\n",
            "  n_iter_i = _check_optimize_result(\n"
          ]
        },
        {
          "output_type": "stream",
          "name": "stdout",
          "text": [
            "ROC-AUC Score: 1.00\n"
          ]
        },
        {
          "output_type": "stream",
          "name": "stderr",
          "text": [
            "/usr/local/lib/python3.11/dist-packages/sklearn/linear_model/_logistic.py:465: ConvergenceWarning: lbfgs failed to converge (status=1):\n",
            "STOP: TOTAL NO. of ITERATIONS REACHED LIMIT.\n",
            "\n",
            "Increase the number of iterations (max_iter) or scale the data as shown in:\n",
            "    https://scikit-learn.org/stable/modules/preprocessing.html\n",
            "Please also refer to the documentation for alternative solver options:\n",
            "    https://scikit-learn.org/stable/modules/linear_model.html#logistic-regression\n",
            "  n_iter_i = _check_optimize_result(\n"
          ]
        }
      ]
    },
    {
      "cell_type": "markdown",
      "source": [
        "30. Train an ensemble model using both Bagging and Random Forest and compare accuracy.\n",
        "Approach: Train BaggingClassifier and RandomForestClassifier and compare accuracy."
      ],
      "metadata": {
        "id": "Wgf2RYlT_vLh"
      }
    },
    {
      "cell_type": "code",
      "source": [
        "from sklearn.ensemble import BaggingClassifier, RandomForestClassifier\n",
        "from sklearn.tree import DecisionTreeClassifier\n",
        "from sklearn.datasets import load_iris\n",
        "from sklearn.model_selection import train_test_split\n",
        "from sklearn.metrics import accuracy_score\n",
        "\n",
        "# Load dataset\n",
        "data = load_iris()\n",
        "X, y = data.data, data.target\n",
        "\n",
        "# Split data\n",
        "X_train, X_test, y_train, y_test = train_test_split(X, y, test_size=0.2, random_state=42)\n",
        "\n",
        "# Train Bagging Classifier\n",
        "bagging = BaggingClassifier(estimator=DecisionTreeClassifier(), n_estimators=10, random_state=42)\n",
        "bagging.fit(X_train, y_train)\n",
        "bagging_pred = bagging.predict(X_test)\n",
        "bagging_accuracy = accuracy_score(y_test, bagging_pred)\n",
        "\n",
        "# Train Random Forest Classifier\n",
        "rf = RandomForestClassifier(n_estimators=100, random_state=42)\n",
        "rf.fit(X_train, y_train)\n",
        "rf_pred = rf.predict(X_test)\n",
        "rf_accuracy = accuracy_score(y_test, rf_pred)\n",
        "\n",
        "# Compare accuracy\n",
        "print(f\"Bagging Classifier Accuracy: {bagging_accuracy:.2f}\")\n",
        "print(f\"Random Forest Classifier Accuracy: {rf_accuracy:.2f}\")"
      ],
      "metadata": {
        "colab": {
          "base_uri": "https://localhost:8080/"
        },
        "id": "cDAEPFmW_vd6",
        "outputId": "6489587d-0780-475c-a68c-8413ad84e5ac"
      },
      "execution_count": null,
      "outputs": [
        {
          "output_type": "stream",
          "name": "stdout",
          "text": [
            "Bagging Classifier Accuracy: 1.00\n",
            "Random Forest Classifier Accuracy: 1.00\n"
          ]
        }
      ]
    },
    {
      "cell_type": "markdown",
      "source": [
        "32. Train a Bagging Regressor with different numbers of base estimators and compare performance.\n",
        "Approach: Train BaggingRegressor with varying n_estimators and evaluate MSE."
      ],
      "metadata": {
        "id": "Rq_EsWGD_0U5"
      }
    },
    {
      "cell_type": "code",
      "source": [
        "from sklearn.ensemble import BaggingRegressor\n",
        "from sklearn.tree import DecisionTreeRegressor\n",
        "from sklearn.datasets import make_regression\n",
        "from sklearn.model_selection import train_test_split\n",
        "from sklearn.metrics import mean_squared_error\n",
        "\n",
        "# Generate synthetic regression data\n",
        "X, y = make_regression(n_samples=1000, n_features=10, noise=0.1, random_state=42)\n",
        "\n",
        "# Split data\n",
        "X_train, X_test, y_train, y_test = train_test_split(X, y, test_size=0.2, random_state=42)\n",
        "\n",
        "# Train Bagging Regressor with different numbers of estimators\n",
        "n_estimators_list = [10, 50, 100, 200]\n",
        "for n in n_estimators_list:\n",
        "    bagging = BaggingRegressor(estimator=DecisionTreeRegressor(), n_estimators=n, random_state=42)\n",
        "    bagging.fit(X_train, y_train)\n",
        "    y_pred = bagging.predict(X_test)\n",
        "    mse = mean_squared_error(y_test, y_pred)\n",
        "    print(f\"Number of Estimators: {n}, MSE: {mse:.2f}\")"
      ],
      "metadata": {
        "colab": {
          "base_uri": "https://localhost:8080/"
        },
        "id": "yKv6sPLo_0n7",
        "outputId": "3f04ca4f-30cb-4898-c45c-03d03bd2ee20"
      },
      "execution_count": null,
      "outputs": [
        {
          "output_type": "stream",
          "name": "stdout",
          "text": [
            "Number of Estimators: 10, MSE: 3222.40\n",
            "Number of Estimators: 50, MSE: 2664.08\n",
            "Number of Estimators: 100, MSE: 2631.67\n",
            "Number of Estimators: 200, MSE: 2593.91\n"
          ]
        }
      ]
    },
    {
      "cell_type": "markdown",
      "source": [
        "33. Train a Random Forest Classifier and analyze misclassified samples.\n",
        "Approach: Train RandomForestClassifier, identify misclassified samples, and analyze their characteristics."
      ],
      "metadata": {
        "id": "ers_I-n3_62C"
      }
    },
    {
      "cell_type": "code",
      "source": [
        "from sklearn.ensemble import RandomForestClassifier\n",
        "from sklearn.datasets import load_iris\n",
        "from sklearn.model_selection import train_test_split\n",
        "import numpy as np\n",
        "\n",
        "# Load dataset\n",
        "data = load_iris()\n",
        "X, y = data.data, data.target\n",
        "\n",
        "# Split data\n",
        "X_train, X_test, y_train, y_test = train_test_split(X, y, test_size=0.2, random_state=42)\n",
        "\n",
        "# Train Random Forest Classifier\n",
        "rf = RandomForestClassifier(n_estimators=100, random_state=42)\n",
        "rf.fit(X_train, y_train)\n",
        "\n",
        "# Predict and identify misclassified samples\n",
        "y_pred = rf.predict(X_test)\n",
        "misclassified_idx = np.where(y_test != y_pred)[0]\n",
        "\n",
        "# Analyze misclassified samples\n",
        "print(\"Misclassified Samples:\")\n",
        "for idx in misclassified_idx:\n",
        "    print(f\"Sample {idx}: True Label = {y_test[idx]}, Predicted Label = {y_pred[idx]}, Features = {X_test[idx]}\")"
      ],
      "metadata": {
        "colab": {
          "base_uri": "https://localhost:8080/"
        },
        "id": "nT5R8X_5_7XT",
        "outputId": "aeef6e21-cc87-4641-cb63-ee782a46cf43"
      },
      "execution_count": null,
      "outputs": [
        {
          "output_type": "stream",
          "name": "stdout",
          "text": [
            "Misclassified Samples:\n"
          ]
        }
      ]
    },
    {
      "cell_type": "markdown",
      "source": [
        "34. Train a Bagging Classifier and compare its performance with a single Decision Tree Classifier.\n",
        "Approach: Train BaggingClassifier and DecisionTreeClassifier and compare accuracy."
      ],
      "metadata": {
        "id": "GNa1d_ck__Em"
      }
    },
    {
      "cell_type": "code",
      "source": [
        "from sklearn.ensemble import BaggingClassifier\n",
        "from sklearn.tree import DecisionTreeClassifier\n",
        "from sklearn.datasets import load_iris\n",
        "from sklearn.model_selection import train_test_split\n",
        "from sklearn.metrics import accuracy_score\n",
        "\n",
        "# Load dataset\n",
        "data = load_iris()\n",
        "X, y = data.data, data.target\n",
        "\n",
        "# Split data\n",
        "X_train, X_test, y_train, y_test = train_test_split(X, y, test_size=0.2, random_state=42)\n",
        "\n",
        "# Train Bagging Classifier\n",
        "bagging = BaggingClassifier(estimator=DecisionTreeClassifier(), n_estimators=10, random_state=42)\n",
        "bagging.fit(X_train, y_train)\n",
        "bagging_pred = bagging.predict(X_test)\n",
        "bagging_accuracy = accuracy_score(y_test, bagging_pred)\n",
        "\n",
        "# Train Decision Tree Classifier\n",
        "dt = DecisionTreeClassifier(random_state=42)\n",
        "dt.fit(X_train, y_train)\n",
        "dt_pred = dt.predict(X_test)\n",
        "dt_accuracy = accuracy_score(y_test, dt_pred)\n",
        "\n",
        "# Compare performance\n",
        "print(f\"Bagging Classifier Accuracy: {bagging_accuracy:.2f}\")\n",
        "print(f\"Decision Tree Classifier Accuracy: {dt_accuracy:.2f}\")"
      ],
      "metadata": {
        "colab": {
          "base_uri": "https://localhost:8080/"
        },
        "id": "wKLw9nL4__lQ",
        "outputId": "17273d03-6e7c-4951-8d33-e7be702fb621"
      },
      "execution_count": null,
      "outputs": [
        {
          "output_type": "stream",
          "name": "stdout",
          "text": [
            "Bagging Classifier Accuracy: 1.00\n",
            "Decision Tree Classifier Accuracy: 1.00\n"
          ]
        }
      ]
    },
    {
      "cell_type": "markdown",
      "source": [
        "35. Train a Random Forest Classifier and visualize the confusion matrix.\n",
        "Approach: Train RandomForestClassifier and use confusion_matrix and seaborn for visualization."
      ],
      "metadata": {
        "id": "RFlXh5_mAELz"
      }
    },
    {
      "cell_type": "code",
      "source": [
        "from sklearn.ensemble import RandomForestClassifier\n",
        "from sklearn.datasets import load_iris\n",
        "from sklearn.model_selection import train_test_split\n",
        "from sklearn.metrics import confusion_matrix\n",
        "import seaborn as sns\n",
        "import matplotlib.pyplot as plt\n",
        "\n",
        "# Load dataset\n",
        "data = load_iris()\n",
        "X, y = data.data, data.target\n",
        "\n",
        "# Split data\n",
        "X_train, X_test, y_train, y_test = train_test_split(X, y, test_size=0.2, random_state=42)\n",
        "\n",
        "# Train Random Forest Classifier\n",
        "rf = RandomForestClassifier(n_estimators=100, random_state=42)\n",
        "rf.fit(X_train, y_train)\n",
        "\n",
        "# Predict and compute confusion matrix\n",
        "y_pred = rf.predict(X_test)\n",
        "cm = confusion_matrix(y_test, y_pred)\n",
        "\n",
        "# Visualize confusion matrix\n",
        "plt.figure(figsize=(8, 6))\n",
        "sns.heatmap(cm, annot=True, fmt='d', cmap='Blues', xticklabels=data.target_names, yticklabels=data.target_names)\n",
        "plt.xlabel('Predicted')\n",
        "plt.ylabel('True')\n",
        "plt.title('Confusion Matrix')\n",
        "plt.show()"
      ],
      "metadata": {
        "colab": {
          "base_uri": "https://localhost:8080/",
          "height": 564
        },
        "id": "hE_5YARlAEhM",
        "outputId": "daca687c-a790-4373-b729-9ae5008ace70"
      },
      "execution_count": null,
      "outputs": [
        {
          "output_type": "display_data",
          "data": {
            "text/plain": [
              "<Figure size 800x600 with 2 Axes>"
            ],
            "image/png": "[encoded data removed]"
          },
          "metadata": {}
        }
      ]
    },
    {
      "cell_type": "markdown",
      "source": [
        "36. Train a Stacking Classifier using Decision Trees, SVM, and Logistic Regression, and compare accuracy.\n",
        "Approach: Use StackingClassifier with DecisionTreeClassifier, SVC, and LogisticRegression as base learners, and compare accuracy with individual models."
      ],
      "metadata": {
        "id": "fxPlOYP0AJB9"
      }
    },
    {
      "cell_type": "code",
      "source": [
        "from sklearn.ensemble import StackingClassifier\n",
        "from sklearn.tree import DecisionTreeClassifier\n",
        "from sklearn.svm import SVC\n",
        "from sklearn.linear_model import LogisticRegression\n",
        "from sklearn.datasets import load_iris\n",
        "from sklearn.model_selection import train_test_split\n",
        "from sklearn.metrics import accuracy_score\n",
        "\n",
        "# Load dataset\n",
        "data = load_iris()\n",
        "X, y = data.data, data.target\n",
        "\n",
        "# Split data\n",
        "X_train, X_test, y_train, y_test = train_test_split(X, y, test_size=0.2, random_state=42)\n",
        "\n",
        "# Define base learners\n",
        "estimators = [\n",
        "    ('dt', DecisionTreeClassifier(random_state=42)),\n",
        "    ('svm', SVC(probability=True, random_state=42)),\n",
        "    ('lr', LogisticRegression(max_iter=1000, random_state=42))\n",
        "]\n",
        "\n",
        "# Train Stacking Classifier\n",
        "stacking = StackingClassifier(estimators=estimators, final_estimator=LogisticRegression(max_iter=1000))\n",
        "stacking.fit(X_train, y_train)\n",
        "stacking_pred = stacking.predict(X_test)\n",
        "stacking_accuracy = accuracy_score(y_test, stacking_pred)\n",
        "\n",
        "# Compare with individual models\n",
        "for name, model in estimators:\n",
        "    model.fit(X_train, y_train)\n",
        "    y_pred = model.predict(X_test)\n",
        "    accuracy = accuracy_score(y_test, y_pred)\n",
        "    print(f\"{name.upper()} Accuracy: {accuracy:.2f}\")\n",
        "\n",
        "print(f\"Stacking Classifier Accuracy: {stacking_accuracy:.2f}\")"
      ],
      "metadata": {
        "colab": {
          "base_uri": "https://localhost:8080/"
        },
        "id": "Zkwu1aXdAKBO",
        "outputId": "55e51cdf-3f27-441f-cb05-4a4ad5397f9b"
      },
      "execution_count": null,
      "outputs": [
        {
          "output_type": "stream",
          "name": "stdout",
          "text": [
            "DT Accuracy: 1.00\n",
            "SVM Accuracy: 1.00\n",
            "LR Accuracy: 1.00\n",
            "Stacking Classifier Accuracy: 1.00\n"
          ]
        }
      ]
    },
    {
      "cell_type": "markdown",
      "source": [
        "37. Train a Random Forest Classifier and print the top 5 most important features.\n",
        "Approach: Train RandomForestClassifier, sort feature importance scores, and print the top 5."
      ],
      "metadata": {
        "id": "iJOUi_A4ANgo"
      }
    },
    {
      "cell_type": "code",
      "source": [
        "from sklearn.ensemble import RandomForestClassifier\n",
        "from sklearn.datasets import load_breast_cancer\n",
        "from sklearn.model_selection import train_test_split\n",
        "import numpy as np\n",
        "\n",
        "# Load dataset\n",
        "data = load_breast_cancer()\n",
        "X, y = data.data, data.target\n",
        "\n",
        "# Split data\n",
        "X_train, X_test, y_train, y_test = train_test_split(X, y, test_size=0.2, random_state=42)\n",
        "\n",
        "# Train Random Forest Classifier\n",
        "rf = RandomForestClassifier(n_estimators=100, random_state=42)\n",
        "rf.fit(X_train, y_train)\n",
        "\n",
        "# Get feature importance scores\n",
        "feature_names = data.feature_names\n",
        "importances = rf.feature_importances_\n",
        "indices = np.argsort(importances)[::-1]\n",
        "\n",
        "# Print top 5 most important features\n",
        "print(\"Top 5 Most Important Features:\")\n",
        "for i in range(5):\n",
        "    print(f\"{i+1}. Feature: {feature_names[indices[i]]}, Importance: {importances[indices[i]]:.4f}\")"
      ],
      "metadata": {
        "colab": {
          "base_uri": "https://localhost:8080/"
        },
        "id": "yYoExo5BANwQ",
        "outputId": "e2f6410b-3ddc-4900-c7fd-cc8f51ac5be4"
      },
      "execution_count": null,
      "outputs": [
        {
          "output_type": "stream",
          "name": "stdout",
          "text": [
            "Top 5 Most Important Features:\n",
            "1. Feature: worst area, Importance: 0.1539\n",
            "2. Feature: worst concave points, Importance: 0.1447\n",
            "3. Feature: mean concave points, Importance: 0.1062\n",
            "4. Feature: worst radius, Importance: 0.0780\n",
            "5. Feature: mean concavity, Importance: 0.0680\n"
          ]
        }
      ]
    },
    {
      "cell_type": "markdown",
      "source": [
        "38. Train a Bagging Classifier and evaluate performance using Precision, Recall, and F1-score.\n",
        "Approach: Train BaggingClassifier and use classification_report for evaluation."
      ],
      "metadata": {
        "id": "6b0PD9WKASZe"
      }
    },
    {
      "cell_type": "code",
      "source": [
        "from sklearn.ensemble import BaggingClassifier\n",
        "from sklearn.tree import DecisionTreeClassifier\n",
        "from sklearn.datasets import load_breast_cancer\n",
        "from sklearn.model_selection import train_test_split\n",
        "from sklearn.metrics import classification_report\n",
        "\n",
        "# Load dataset\n",
        "data = load_breast_cancer()\n",
        "X, y = data.data, data.target\n",
        "\n",
        "# Split data\n",
        "X_train, X_test, y_train, y_test = train_test_split(X, y, test_size=0.2, random_state=42)\n",
        "\n",
        "# Train Bagging Classifier\n",
        "bagging = BaggingClassifier(estimator=DecisionTreeClassifier(), n_estimators=10, random_state=42)\n",
        "bagging.fit(X_train, y_train)\n",
        "\n",
        "# Predict and evaluate\n",
        "y_pred = bagging.predict(X_test)\n",
        "print(classification_report(y_test, y_pred, target_names=data.target_names))"
      ],
      "metadata": {
        "colab": {
          "base_uri": "https://localhost:8080/"
        },
        "id": "oYSXF7e5ASs-",
        "outputId": "846383ca-3e46-435a-c5de-aa708857c107"
      },
      "execution_count": null,
      "outputs": [
        {
          "output_type": "stream",
          "name": "stdout",
          "text": [
            "              precision    recall  f1-score   support\n",
            "\n",
            "   malignant       0.95      0.93      0.94        43\n",
            "      benign       0.96      0.97      0.97        71\n",
            "\n",
            "    accuracy                           0.96       114\n",
            "   macro avg       0.96      0.95      0.95       114\n",
            "weighted avg       0.96      0.96      0.96       114\n",
            "\n"
          ]
        }
      ]
    },
    {
      "cell_type": "markdown",
      "source": [
        "39. Train a Random Forest Classifier and analyze the effect of max_depth on accuracy.\n",
        "Approach: Train RandomForestClassifier with varying max_depth and evaluate accuracy."
      ],
      "metadata": {
        "id": "WS-TZnRdAdJS"
      }
    },
    {
      "cell_type": "code",
      "source": [
        "from sklearn.ensemble import RandomForestClassifier\n",
        "from sklearn.datasets import load_iris\n",
        "from sklearn.model_selection import train_test_split\n",
        "from sklearn.metrics import accuracy_score\n",
        "\n",
        "# Load dataset\n",
        "data = load_iris()\n",
        "X, y = data.data, data.target\n",
        "\n",
        "# Split data\n",
        "X_train, X_test, y_train, y_test = train_test_split(X, y, test_size=0.2, random_state=42)\n",
        "\n",
        "# Train Random Forest with different max_depth\n",
        "max_depth_list = [None, 5, 10, 20]\n",
        "for depth in max_depth_list:\n",
        "    rf = RandomForestClassifier(n_estimators=100, max_depth=depth, random_state=42)\n",
        "    rf.fit(X_train, y_train)\n",
        "    y_pred = rf.predict(X_test)\n",
        "    accuracy = accuracy_score(y_test, y_pred)\n",
        "    print(f\"Max Depth: {depth}, Accuracy: {accuracy:.2f}\")"
      ],
      "metadata": {
        "colab": {
          "base_uri": "https://localhost:8080/"
        },
        "id": "7yBM-SP9AdeJ",
        "outputId": "81378e3c-6260-4fdc-abf0-aabd775ac59c"
      },
      "execution_count": null,
      "outputs": [
        {
          "output_type": "stream",
          "name": "stdout",
          "text": [
            "Max Depth: None, Accuracy: 1.00\n",
            "Max Depth: 5, Accuracy: 1.00\n",
            "Max Depth: 10, Accuracy: 1.00\n",
            "Max Depth: 20, Accuracy: 1.00\n"
          ]
        }
      ]
    },
    {
      "cell_type": "markdown",
      "source": [
        "40. Train a Bagging Regressor using different base estimators (DecisionTree and KNeighbors) and compare performance.\n",
        "Approach: Train BaggingRegressor with DecisionTreeRegressor and KNeighborsRegressor and compare MSE."
      ],
      "metadata": {
        "id": "mGMHLx6UAlPg"
      }
    },
    {
      "cell_type": "code",
      "source": [
        "from sklearn.ensemble import BaggingRegressor\n",
        "from sklearn.tree import DecisionTreeRegressor\n",
        "from sklearn.neighbors import KNeighborsRegressor\n",
        "from sklearn.datasets import make_regression\n",
        "from sklearn.model_selection import train_test_split\n",
        "from sklearn.metrics import mean_squared_error\n",
        "\n",
        "# Generate synthetic regression data\n",
        "X, y = make_regression(n_samples=1000, n_features=10, noise=0.1, random_state=42)\n",
        "\n",
        "# Split data\n",
        "X_train, X_test, y_train, y_test = train_test_split(X, y, test_size=0.2, random_state=42)\n",
        "\n",
        "# Train Bagging Regressor with Decision Tree\n",
        "bagging_dt = BaggingRegressor(estimator=DecisionTreeRegressor(), n_estimators=10, random_state=42)\n",
        "bagging_dt.fit(X_train, y_train)\n",
        "dt_pred = bagging_dt.predict(X_test)\n",
        "dt_mse = mean_squared_error(y_test, dt_pred)\n",
        "\n",
        "# Train Bagging Regressor with KNeighbors\n",
        "bagging_knn = BaggingRegressor(estimator=KNeighborsRegressor(), n_estimators=10, random_state=42)\n",
        "bagging_knn.fit(X_train, y_train)\n",
        "knn_pred = bagging_knn.predict(X_test)\n",
        "knn_mse = mean_squared_error(y_test, knn_pred)\n",
        "\n",
        "# Compare performance\n",
        "print(f\"Bagging with Decision Tree MSE: {dt_mse:.2f}\")\n",
        "print(f\"Bagging with KNeighbors MSE: {knn_mse:.2f}\")"
      ],
      "metadata": {
        "colab": {
          "base_uri": "https://localhost:8080/"
        },
        "id": "tjwx9HiFAlp3",
        "outputId": "bafa56b2-6269-4ad6-a177-153d2fdf03eb"
      },
      "execution_count": null,
      "outputs": [
        {
          "output_type": "stream",
          "name": "stdout",
          "text": [
            "Bagging with Decision Tree MSE: 3222.40\n",
            "Bagging with KNeighbors MSE: 3582.32\n"
          ]
        }
      ]
    },
    {
      "cell_type": "markdown",
      "source": [
        "41. Train a Random Forest Classifier and evaluate its performance using ROC-AUC Score.\n",
        "Approach: Train RandomForestClassifier and use roc_auc_score for evaluation."
      ],
      "metadata": {
        "id": "VlhGZgDmA6EH"
      }
    },
    {
      "cell_type": "code",
      "source": [
        "from sklearn.ensemble import RandomForestClassifier\n",
        "from sklearn.datasets import load_breast_cancer\n",
        "from sklearn.model_selection import train_test_split\n",
        "from sklearn.metrics import roc_auc_score\n",
        "\n",
        "# Load dataset\n",
        "data = load_breast_cancer()\n",
        "X, y = data.data, data.target\n",
        "\n",
        "# Split data\n",
        "X_train, X_test, y_train, y_test = train_test_split(X, y, test_size=0.2, random_state=42)\n",
        "\n",
        "# Train Random Forest Classifier\n",
        "rf = RandomForestClassifier(n_estimators=100, random_state=42)\n",
        "rf.fit(X_train, y_train)\n",
        "\n",
        "# Predict probabilities and evaluate AUC\n",
        "y_pred_proba = rf.predict_proba(X_test)[:, 1]\n",
        "auc = roc_auc_score(y_test, y_pred_proba)\n",
        "print(f\"ROC-AUC Score: {auc:.2f}\")"
      ],
      "metadata": {
        "colab": {
          "base_uri": "https://localhost:8080/"
        },
        "id": "_uEOTrNZA6hq",
        "outputId": "df9e58c3-6523-4227-b46b-d96b6fbf3782"
      },
      "execution_count": null,
      "outputs": [
        {
          "output_type": "stream",
          "name": "stdout",
          "text": [
            "ROC-AUC Score: 1.00\n"
          ]
        }
      ]
    },
    {
      "cell_type": "markdown",
      "source": [
        "42. Train a Bagging Classifier and evaluate its performance using cross-validation.\n",
        "Approach: Train BaggingClassifier and use cross_val_score for cross-validation."
      ],
      "metadata": {
        "id": "ELlrS3xWA-Y6"
      }
    },
    {
      "cell_type": "code",
      "source": [
        "from sklearn.ensemble import BaggingClassifier\n",
        "from sklearn.tree import DecisionTreeClassifier\n",
        "from sklearn.datasets import load_iris\n",
        "from sklearn.model_selection import cross_val_score\n",
        "\n",
        "# Load dataset\n",
        "data = load_iris()\n",
        "X, y = data.data, data.target\n",
        "\n",
        "# Train Bagging Classifier with cross-validation\n",
        "bagging = BaggingClassifier(estimator=DecisionTreeClassifier(), n_estimators=10, random_state=42)\n",
        "cv_scores = cross_val_score(bagging, X, y, cv=5, scoring='accuracy')\n",
        "\n",
        "# Print cross-validation scores\n",
        "print(f\"Cross-Validation Scores: {cv_scores}\")\n",
        "print(f\"Mean CV Accuracy: {cv_scores.mean():.2f}\")\n",
        "print(f\"Standard Deviation: {cv_scores.std():.2f}\")"
      ],
      "metadata": {
        "colab": {
          "base_uri": "https://localhost:8080/"
        },
        "id": "8IHzeb3lA-2C",
        "outputId": "45f9e775-571b-44f9-ea42-05028240ff0e"
      },
      "execution_count": null,
      "outputs": [
        {
          "output_type": "stream",
          "name": "stdout",
          "text": [
            "Cross-Validation Scores: [0.96666667 0.96666667 0.9        0.93333333 1.        ]\n",
            "Mean CV Accuracy: 0.95\n",
            "Standard Deviation: 0.03\n"
          ]
        }
      ]
    },
    {
      "cell_type": "markdown",
      "source": [
        "43. Train a Random Forest Classifier and plot the Precision-Recall curve.\n",
        "Approach: Train RandomForestClassifier and use precision_recall_curve and matplotlib for visualization."
      ],
      "metadata": {
        "id": "JwDfmJEXBDAc"
      }
    },
    {
      "cell_type": "code",
      "source": [
        "from sklearn.ensemble import RandomForestClassifier\n",
        "from sklearn.datasets import load_breast_cancer\n",
        "from sklearn.model_selection import train_test_split\n",
        "from sklearn.metrics import precision_recall_curve\n",
        "import matplotlib.pyplot as plt\n",
        "\n",
        "# Load dataset\n",
        "data = load_breast_cancer()\n",
        "X, y = data.data, data.target\n",
        "\n",
        "# Split data\n",
        "X_train, X_test, y_train, y_test = train_test_split(X, y, test_size=0.2, random_state=42)\n",
        "\n",
        "# Train Random Forest Classifier\n",
        "rf = RandomForestClassifier(n_estimators=100, random_state=42)\n",
        "rf.fit(X_train, y_train)\n",
        "\n",
        "# Predict probabilities and compute precision-recall curve\n",
        "y_pred_proba = rf.predict_proba(X_test)[:, 1]\n",
        "precision, recall, _ = precision_recall_curve(y_test, y_pred_proba)\n",
        "\n",
        "# Plot Precision-Recall curve\n",
        "plt.figure(figsize=(8, 6))\n",
        "plt.plot(recall, precision, marker='.')\n",
        "plt.xlabel('Recall')\n",
        "plt.ylabel('Precision')\n",
        "plt.title('Precision-Recall Curve')\n",
        "plt.grid()\n",
        "plt.show()"
      ],
      "metadata": {
        "colab": {
          "base_uri": "https://localhost:8080/",
          "height": 564
        },
        "id": "S2aZP1yJBDYO",
        "outputId": "52145714-00a3-496e-c963-575fc73ecca4"
      },
      "execution_count": null,
      "outputs": [
        {
          "output_type": "display_data",
          "data": {
            "text/plain": [
              "<Figure size 800x600 with 1 Axes>"
            ],
            "image/png": "[encoded data removed]"
          },
          "metadata": {}
        }
      ]
    },
    {
      "cell_type": "markdown",
      "source": [
        "44. Train a Stacking Classifier with Random Forest and Logistic Regression and compare accuracy.\n",
        "Approach: Use StackingClassifier with RandomForestClassifier and LogisticRegression as base learners, and compare accuracy."
      ],
      "metadata": {
        "id": "jfXVe_baBH4I"
      }
    },
    {
      "cell_type": "code",
      "source": [
        "from sklearn.ensemble import StackingClassifier, RandomForestClassifier\n",
        "from sklearn.linear_model import LogisticRegression\n",
        "from sklearn.datasets import load_iris\n",
        "from sklearn.model_selection import train_test_split\n",
        "from sklearn.metrics import accuracy_score\n",
        "\n",
        "# Load dataset\n",
        "data = load_iris()\n",
        "X, y = data.data, data.target\n",
        "\n",
        "# Split data\n",
        "X_train, X_test, y_train, y_test = train_test_split(X, y, test_size=0.2, random_state=42)\n",
        "\n",
        "# Define base learners\n",
        "estimators = [\n",
        "    ('rf', RandomForestClassifier(n_estimators=100, random_state=42)),\n",
        "    ('lr', LogisticRegression(max_iter=1000, random_state=42))\n",
        "]\n",
        "\n",
        "# Train Stacking Classifier\n",
        "stacking = StackingClassifier(estimators=estimators, final_estimator=LogisticRegression(max_iter=1000))\n",
        "stacking.fit(X_train, y_train)\n",
        "stacking_pred = stacking.predict(X_test)\n",
        "stacking_accuracy = accuracy_score(y_test, stacking_pred)\n",
        "\n",
        "# Compare with individual models\n",
        "for name, model in estimators:\n",
        "    model.fit(X_train, y_train)\n",
        "    y_pred = model.predict(X_test)\n",
        "    accuracy = accuracy_score(y_test, y_pred)\n",
        "    print(f\"{name.upper()} Accuracy: {accuracy:.2f}\")\n",
        "\n",
        "print(f\"Stacking Classifier Accuracy: {stacking_accuracy:.2f}\")"
      ],
      "metadata": {
        "colab": {
          "base_uri": "https://localhost:8080/"
        },
        "id": "391_vWUoBIMU",
        "outputId": "28bc62d7-a1e9-4a7d-9d14-5af6bee2b01c"
      },
      "execution_count": null,
      "outputs": [
        {
          "output_type": "stream",
          "name": "stdout",
          "text": [
            "RF Accuracy: 1.00\n",
            "LR Accuracy: 1.00\n",
            "Stacking Classifier Accuracy: 1.00\n"
          ]
        }
      ]
    },
    {
      "cell_type": "markdown",
      "source": [
        "**Question 45: Train a Bagging Regressor with different levels of bootstrap samples and compare performance.**\n",
        "\n",
        "\n",
        "Conceptual Approach\n",
        "Objective: The goal is to train a BaggingRegressor from sklearn.ensemble and vary the number of bootstrap samples used to train the base estimators (e.g., Decision Trees). The performance of the model is then compared using a regression metric such as Mean Squared Error (MSE) or R² score.\n",
        "Bootstrap Samples: In the context of BaggingRegressor, the \"level of bootstrap samples\" refers to the size of the data subset used to train each base estimator, controlled by the max_samples parameter. This parameter can be:\n",
        "A float between 0 and 1, representing the fraction of the training data to sample (e.g., 0.5 means 50% of the data is sampled with replacement for each estimator).\n",
        "An integer, representing the exact number of samples to draw (not used here, as fractions are more common for comparison)."
      ],
      "metadata": {
        "id": "_WigNSDDBkBH"
      }
    },
    {
      "cell_type": "code",
      "source": [
        "from sklearn.ensemble import BaggingRegressor\n",
        "from sklearn.tree import DecisionTreeRegressor\n",
        "from sklearn.datasets import make_regression\n",
        "from sklearn.model_selection import train_test_split\n",
        "from sklearn.metrics import mean_squared_error, r2_score\n",
        "\n",
        "# Generate synthetic regression data\n",
        "X, y = make_regression(n_samples=1000, n_features=10, noise=0.1, random_state=42)\n",
        "\n",
        "# Split data into training and test sets\n",
        "X_train, X_test, y_train, y_test = train_test_split(X, y, test_size=0.2, random_state=42)\n",
        "\n",
        "# Define different levels of bootstrap samples (as fractions of the training set)\n",
        "max_samples_list = [0.25, 0.5, 0.75, 1.0]\n",
        "\n",
        "# Train and evaluate Bagging Regressor for each level of bootstrap samples\n",
        "print(\"Performance Comparison for Different Levels of Bootstrap Samples:\")\n",
        "for max_samples in max_samples_list:\n",
        "    # Train Bagging Regressor\n",
        "    bagging = BaggingRegressor(\n",
        "        estimator=DecisionTreeRegressor(),\n",
        "        n_estimators=10,  # Number of base estimators (fixed for comparison)\n",
        "        max_samples=max_samples,  # Fraction of samples used for each estimator\n",
        "        bootstrap=True,  # Enable bootstrap sampling\n",
        "        random_state=42\n",
        "    )\n",
        "    bagging.fit(X_train, y_train)\n",
        "\n",
        "    # Predict on test set\n",
        "    y_pred = bagging.predict(X_test)\n",
        "\n",
        "    # Evaluate performance\n",
        "    mse = mean_squared_error(y_test, y_pred)\n",
        "    r2 = r2_score(y_test, y_pred)\n",
        "\n",
        "    # Print results\n",
        "    print(f\"\\nMax Samples: {max_samples}\")\n",
        "    print(f\"Mean Squared Error (MSE): {mse:.2f}\")\n",
        "    print(f\"R² Score: {r2:.2f}\")"
      ],
      "metadata": {
        "colab": {
          "base_uri": "https://localhost:8080/"
        },
        "id": "tJ0Lt8QzBmnD",
        "outputId": "689597fb-3654-4e44-b16f-f77ce7e3f1d3"
      },
      "execution_count": null,
      "outputs": [
        {
          "output_type": "stream",
          "name": "stdout",
          "text": [
            "Performance Comparison for Different Levels of Bootstrap Samples:\n",
            "\n",
            "Max Samples: 0.25\n",
            "Mean Squared Error (MSE): 4075.47\n",
            "R² Score: 0.76\n",
            "\n",
            "Max Samples: 0.5\n",
            "Mean Squared Error (MSE): 3219.56\n",
            "R² Score: 0.81\n",
            "\n",
            "Max Samples: 0.75\n",
            "Mean Squared Error (MSE): 3329.64\n",
            "R² Score: 0.80\n",
            "\n",
            "Max Samples: 1.0\n",
            "Mean Squared Error (MSE): 3222.40\n",
            "R² Score: 0.81\n"
          ]
        }
      ]
    }
  ]
}