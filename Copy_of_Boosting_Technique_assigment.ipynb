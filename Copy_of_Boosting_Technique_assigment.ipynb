{
  "nbformat": 4,
  "nbformat_minor": 0,
  "metadata": {
    "colab": {
      "provenance": []
    },
    "kernelspec": {
      "name": "python3",
      "display_name": "Python 3"
    },
    "language_info": {
      "name": "python"
    }
  },
  "cells": [
    {
      "cell_type": "code",
      "execution_count": null,
      "metadata": {
        "id": "62WP2UzlZYeR"
      },
      "outputs": [],
      "source": []
    },
    {
      "cell_type": "markdown",
      "source": [
        "# **Theoretical Questions**\n",
        "\n",
        "1. What is Boosting in Machine Learning?\n",
        "\n",
        "Answer: Boosting is an ensemble machine learning technique that combines multiple weak learners (models with slightly better than random performance) to create a strong learner, improving prediction accuracy. It works sequentially, where each model corrects the errors of its predecessors by focusing on misclassified or poorly predicted instances. Common boosting algorithms include AdaBoost, Gradient Boosting, XGBoost, and CatBoost. Boosting reduces bias and is widely used for classification and regression tasks, especially on structured data.\n",
        "\n",
        "\n",
        "\n",
        "2. How does Boosting differ from Bagging?\n",
        "\n",
        "Answer: Boosting and Bagging are ensemble techniques but differ in approach. Boosting trains models sequentially, with each model correcting the errors of the previous ones, emphasizing hard examples, aiming to reduce bias. Bagging trains models independently in parallel on random data subsets, aggregating predictions to reduce variance. Boosting uses weighted sampling, while Bagging uses bootstrap sampling. Boosting is more sensitive to noise, whereas Bagging is more robust. Examples include AdaBoost (Boosting) and Random Forest (Bagging).\n",
        "\n",
        "\n",
        "\n",
        "3. What is the key idea behind AdaBoost?\n",
        "\n",
        "Answer: The key idea behind AdaBoost (Adaptive Boosting) is to combine multiple weak learners, typically decision stumps, into a strong classifier by assigning weights to training instances. Initially, all instances have equal weights, but after each iteration, misclassified instances receive higher weights, forcing subsequent models to focus on them. Predictions are aggregated using a weighted majority vote, where better-performing models have higher influence. This iterative process reduces errors and improves overall accuracy.\n",
        "\n",
        "\n",
        "\n",
        "4. Explain the working of AdaBoost with an example.\n",
        "\n",
        "Answer: AdaBoost works by iteratively training weak learners on weighted data. For example, consider a binary classification problem with 10 data points. Initially, all points have equal weights (0.1). A weak classifier is trained, and misclassified points (e.g., 3 points) get higher weights (e.g., 0.2), while correct ones get lower weights. This process repeats, with each classifier’s contribution weighted by its accuracy. Final predictions are made via a weighted vote, combining all classifiers to correctly classify most points.\n",
        "\n",
        "\n",
        "\n",
        "5. What is Gradient Boosting, and how is it different from AdaBoost?\n",
        "\n",
        "Answer: Gradient Boosting is a boosting technique that builds models sequentially, where each model corrects errors by minimizing a loss function (e.g., mean squared error) using gradient descent. Unlike AdaBoost, which adjusts instance weights, Gradient Boosting fits models to the residuals (errors) of previous models, optimizing any differentiable loss function. Gradient Boosting is more flexible and often outperforms AdaBoost, especially on complex\n",
        "datasets, but requires careful hyperparameter tuning to avoid overfitting.\n",
        "\n",
        "\n",
        "\n",
        "6. What is the loss function in Gradient Boosting?\n",
        "\n",
        "Answer: The loss function in Gradient Boosting measures the error between predicted and actual values, guiding the optimization process. Common loss functions include mean squared error (MSE) for regression, log-loss (cross-entropy) for binary classification, and softmax loss for multi-class classification. Gradient Boosting minimizes this loss by fitting each new model to the negative gradient of the loss (residuals). The choice of loss function depends on the task, with custom loss functions possible for specific problems.\n",
        "\n",
        "\n",
        "\n",
        "7. How does XGBoost improve over traditional Gradient Boosting?\n",
        "\n",
        "Answer: XGBoost (Extreme Gradient Boosting) improves over traditional Gradient Boosting by adding regularization (L1 and L2) to prevent overfitting, using a second-order Taylor approximation for faster convergence, and implementing parallel processing for efficiency. It handles missing values automatically, supports tree pruning, and includes advanced features like column sampling and weighted quantile sketching for scalability. These enhancements make XGBoost faster, more accurate, and robust, especially for large datasets, compared to traditional Gradient Boosting implementations.\n",
        "\n",
        "\n",
        "\n",
        "8. What is the difference between XGBoost and CatBoost?\n",
        "\n",
        "Answer: XGBoost and CatBoost are advanced boosting algorithms, but they differ in focus. XGBoost excels in speed and scalability, offering regularization, parallel processing, and handling of missing values, but requires manual encoding of categorical features. CatBoost, designed for categorical data, automatically handles categorical features using ordered boosting, reducing preprocessing needs. CatBoost also minimizes overfitting with symmetric trees and is more user-friendly, while XGBoost often requires more tuning for optimal performance on categorical data.\n",
        "\n",
        "\n",
        "\n",
        "9. What are some real-world applications of Boosting techniques?\n",
        "\n",
        "Answer: Boosting techniques are used in various real-world applications, including fraud detection in finance (e.g., identifying suspicious transactions), medical diagnosis (e.g., predicting disease risk), customer churn prediction in marketing (e.g., identifying at-risk customers), and ranking in search engines (e.g., improving relevance). They are also popular in Kaggle competitions for structured data tasks, such as sales forecasting, credit scoring, and anomaly detection, due to their high accuracy and ability to handle complex patterns effectively.\n",
        "\n",
        "\n",
        "\n",
        "10. How does regularization help in XGBoost?\n",
        "\n",
        "Answer: Regularization in XGBoost helps prevent overfitting by adding penalties to the loss function, controlling model complexity. It includes L1 (Lasso) regularization, which encourages sparsity in feature weights, and L2 (Ridge) regularization, which penalizes large weights, stabilizing the model. Additionally, tree-specific regularization, such as penalizing the number of leaves and pruning, reduces complexity. This makes XGBoost more robust, especially on noisy or small datasets, improving generalization to unseen data compared to unregularized models.\n",
        "\n",
        "\n",
        "\n",
        "11. What are some hyperparameters to tune in Gradient Boosting models?\n",
        "\n",
        "Answer: Key hyperparameters in Gradient Boosting models include learning rate (controls step size, lower values need more estimators), number of estimators (trees, affects model complexity), max_depth (limits tree depth, prevents overfitting), min_child_weight (controls leaf splitting, reduces overfitting), subsample (fraction of data used per tree, adds randomness), and colsample_bytree (fraction of features used per tree, reduces overfitting). Regularization parameters like L1 and L2 penalties in XGBoost also need tuning to balance bias and variance effectively.\n",
        "\n",
        "\n",
        "\n",
        "12. What is the concept of Feature Importance in Boosting?\n",
        "\n",
        "Answer: Feature Importance in Boosting measures the contribution of each feature to the model’s predictions, helping identify influential variables. It is typically calculated as the total reduction in loss (e.g., MSE, log-loss) achieved by splits on a feature across all trees, normalized to sum to 1. In XGBoost and CatBoost, additional metrics like gain, cover, and frequency are used. Feature Importance aids in feature selection, model interpretation, and understanding data patterns, enhancing decision-making.\n",
        "\n",
        "\n",
        "\n",
        "13. Why is CatBoost efficient for categorical data?\n",
        "\n",
        "Answer: CatBoost is efficient for categorical data due to its automatic handling of categorical features without requiring manual encoding (e.g., one-hot encoding). It uses ordered boosting, converting categories into numerical targets based on prior observations, reducing target leakage and overfitting. Symmetric trees ensure consistent splits, improving efficiency and robustness. This eliminates preprocessing steps, reduces memory usage, and enhances performance on datasets with high-cardinality categorical features, making CatBoost particularly effective for real-world tabular data tasks."
      ],
      "metadata": {
        "id": "QZwQ8B7dZabD"
      }
    },
    {
      "cell_type": "markdown",
      "source": [
        "# **Pratical Questions**\n",
        "\n"
      ],
      "metadata": {
        "id": "5L4YUXm0Z8op"
      }
    },
    {
      "cell_type": "markdown",
      "source": [
        "14. Train an AdaBoost Classifier on a sample dataset and print model accuracy.\n",
        "Approach: Use AdaBoostClassifier from sklearn.ensemble with a decision tree as the base estimator on the Iris dataset, and evaluate accuracy."
      ],
      "metadata": {
        "id": "mcY78TPlaCea"
      }
    },
    {
      "cell_type": "code",
      "source": [
        "from sklearn.ensemble import AdaBoostClassifier\n",
        "from sklearn.tree import DecisionTreeClassifier\n",
        "from sklearn.datasets import load_iris\n",
        "from sklearn.model_selection import train_test_split\n",
        "from sklearn.metrics import accuracy_score\n",
        "\n",
        "# Load dataset\n",
        "data = load_iris()\n",
        "X, y = data.data, data.target\n",
        "\n",
        "# Split data\n",
        "X_train, X_test, y_train, y_test = train_test_split(X, y, test_size=0.2, random_state=42)\n",
        "\n",
        "# Train AdaBoost Classifier\n",
        "ada = AdaBoostClassifier(estimator=DecisionTreeClassifier(max_depth=1), n_estimators=50, random_state=42)\n",
        "ada.fit(X_train, y_train)\n",
        "\n",
        "# Predict and evaluate\n",
        "y_pred = ada.predict(X_test)\n",
        "accuracy = accuracy_score(y_test, y_pred)\n",
        "print(f\"Model Accuracy: {accuracy:.2f}\")"
      ],
      "metadata": {
        "colab": {
          "base_uri": "https://localhost:8080/"
        },
        "id": "ZDTqZU9-Zy0O",
        "outputId": "f98a37ff-5226-486d-8a02-4e926bdd284f"
      },
      "execution_count": null,
      "outputs": [
        {
          "output_type": "stream",
          "name": "stdout",
          "text": [
            "Model Accuracy: 0.93\n"
          ]
        }
      ]
    },
    {
      "cell_type": "code",
      "source": [],
      "metadata": {
        "id": "jfaWppCIaJCg"
      },
      "execution_count": null,
      "outputs": []
    },
    {
      "cell_type": "markdown",
      "source": [
        "15. Train an AdaBoost Regressor and evaluate performance using Mean Absolute Error (MAE).\n",
        "Approach: Use AdaBoostRegressor on a synthetic regression dataset, and evaluate using MAE."
      ],
      "metadata": {
        "id": "i_Dr5EBKaLP7"
      }
    },
    {
      "cell_type": "code",
      "source": [
        "from sklearn.ensemble import AdaBoostRegressor\n",
        "from sklearn.tree import DecisionTreeRegressor\n",
        "from sklearn.datasets import make_regression\n",
        "from sklearn.model_selection import train_test_split\n",
        "from sklearn.metrics import mean_absolute_error\n",
        "\n",
        "# Generate synthetic regression data\n",
        "X, y = make_regression(n_samples=1000, n_features=10, noise=0.1, random_state=42)\n",
        "\n",
        "# Split data\n",
        "X_train, X_test, y_train, y_test = train_test_split(X, y, test_size=0.2, random_state=42)\n",
        "\n",
        "# Train AdaBoost Regressor\n",
        "ada = AdaBoostRegressor(estimator=DecisionTreeRegressor(max_depth=3), n_estimators=50, random_state=42)\n",
        "ada.fit(X_train, y_train)\n",
        "\n",
        "# Predict and evaluate\n",
        "y_pred = ada.predict(X_test)\n",
        "mae = mean_absolute_error(y_test, y_pred)\n",
        "print(f\"Mean Absolute Error (MAE): {mae:.2f}\")"
      ],
      "metadata": {
        "colab": {
          "base_uri": "https://localhost:8080/"
        },
        "id": "xFKP34DuaLnh",
        "outputId": "b00e56cd-43e2-43d4-f9cc-cfe1e8e8e263"
      },
      "execution_count": null,
      "outputs": [
        {
          "output_type": "stream",
          "name": "stdout",
          "text": [
            "Mean Absolute Error (MAE): 48.23\n"
          ]
        }
      ]
    },
    {
      "cell_type": "code",
      "source": [
        "16. Train a Gradient Boosting Classifier on the Breast Cancer dataset and print feature importance.\n",
        "Approach: Use GradientBoostingClassifier from sklearn.ensemble on the Breast Cancer dataset, and print feature importance scores."
      ],
      "metadata": {
        "colab": {
          "base_uri": "https://localhost:8080/",
          "height": 106
        },
        "id": "_bzHhODdaNHY",
        "outputId": "2cd2af6a-f2c5-47ca-dbaa-369d05eedd3d"
      },
      "execution_count": null,
      "outputs": [
        {
          "output_type": "error",
          "ename": "SyntaxError",
          "evalue": "invalid syntax (<ipython-input-3-504f6429d27b>, line 1)",
          "traceback": [
            "\u001b[0;36m  File \u001b[0;32m\"<ipython-input-3-504f6429d27b>\"\u001b[0;36m, line \u001b[0;32m1\u001b[0m\n\u001b[0;31m    16. Train a Gradient Boosting Classifier on the Breast Cancer dataset and print feature importance.\u001b[0m\n\u001b[0m        ^\u001b[0m\n\u001b[0;31mSyntaxError\u001b[0m\u001b[0;31m:\u001b[0m invalid syntax\n"
          ]
        }
      ]
    },
    {
      "cell_type": "markdown",
      "source": [
        "16. Train a Gradient Boosting Classifier on the Breast Cancer dataset and print feature importance.\n",
        "Approach: Use GradientBoostingClassifier from sklearn.ensemble on the Breast Cancer dataset, and print feature importance scores."
      ],
      "metadata": {
        "id": "WLlkmHQfaNlz"
      }
    },
    {
      "cell_type": "code",
      "source": [
        "from sklearn.ensemble import GradientBoostingClassifier\n",
        "from sklearn.datasets import load_breast_cancer\n",
        "from sklearn.model_selection import train_test_split\n",
        "\n",
        "# Load dataset\n",
        "data = load_breast_cancer()\n",
        "X, y = data.data, data.target\n",
        "\n",
        "# Split data\n",
        "X_train, X_test, y_train, y_test = train_test_split(X, y, test_size=0.2, random_state=42)\n",
        "\n",
        "# Train Gradient Boosting Classifier\n",
        "gb = GradientBoostingClassifier(n_estimators=100, random_state=42)\n",
        "gb.fit(X_train, y_train)\n",
        "\n",
        "# Print feature importance\n",
        "feature_names = data.feature_names\n",
        "importances = gb.feature_importances_\n",
        "for name, importance in zip(feature_names, importances):\n",
        "    print(f\"Feature: {name}, Importance: {importance:.4f}\")"
      ],
      "metadata": {
        "colab": {
          "base_uri": "https://localhost:8080/"
        },
        "id": "EmpO0ROLaRrV",
        "outputId": "33367cf0-1810-426f-9e9b-a28794ea0d20"
      },
      "execution_count": null,
      "outputs": [
        {
          "output_type": "stream",
          "name": "stdout",
          "text": [
            "Feature: mean radius, Importance: 0.0000\n",
            "Feature: mean texture, Importance: 0.0278\n",
            "Feature: mean perimeter, Importance: 0.0002\n",
            "Feature: mean area, Importance: 0.0004\n",
            "Feature: mean smoothness, Importance: 0.0025\n",
            "Feature: mean compactness, Importance: 0.0030\n",
            "Feature: mean concavity, Importance: 0.0009\n",
            "Feature: mean concave points, Importance: 0.4505\n",
            "Feature: mean symmetry, Importance: 0.0005\n",
            "Feature: mean fractal dimension, Importance: 0.0001\n",
            "Feature: radius error, Importance: 0.0069\n",
            "Feature: texture error, Importance: 0.0036\n",
            "Feature: perimeter error, Importance: 0.0012\n",
            "Feature: area error, Importance: 0.0084\n",
            "Feature: smoothness error, Importance: 0.0006\n",
            "Feature: compactness error, Importance: 0.0025\n",
            "Feature: concavity error, Importance: 0.0131\n",
            "Feature: concave points error, Importance: 0.0020\n",
            "Feature: symmetry error, Importance: 0.0007\n",
            "Feature: fractal dimension error, Importance: 0.0042\n",
            "Feature: worst radius, Importance: 0.0756\n",
            "Feature: worst texture, Importance: 0.0399\n",
            "Feature: worst perimeter, Importance: 0.0514\n",
            "Feature: worst area, Importance: 0.0382\n",
            "Feature: worst smoothness, Importance: 0.0048\n",
            "Feature: worst compactness, Importance: 0.0005\n",
            "Feature: worst concavity, Importance: 0.0187\n",
            "Feature: worst concave points, Importance: 0.2401\n",
            "Feature: worst symmetry, Importance: 0.0015\n",
            "Feature: worst fractal dimension, Importance: 0.0002\n"
          ]
        }
      ]
    },
    {
      "cell_type": "code",
      "source": [],
      "metadata": {
        "id": "bkTTbc2WaTTq"
      },
      "execution_count": null,
      "outputs": []
    },
    {
      "cell_type": "markdown",
      "source": [
        "17. Train a Gradient Boosting Regressor and evaluate using R-Squared Score.\n",
        "Approach: Use GradientBoostingRegressor on a synthetic regression dataset, and evaluate using R² score."
      ],
      "metadata": {
        "id": "Rnsa5VowaZlA"
      }
    },
    {
      "cell_type": "code",
      "source": [
        "from sklearn.ensemble import GradientBoostingRegressor\n",
        "from sklearn.datasets import make_regression\n",
        "from sklearn.model_selection import train_test_split\n",
        "from sklearn.metrics import r2_score\n",
        "\n",
        "# Generate synthetic regression data\n",
        "X, y = make_regression(n_samples=1000, n_features=10, noise=0.1, random_state=42)\n",
        "\n",
        "# Split data\n",
        "X_train, X_test, y_train, y_test = train_test_split(X, y, test_size=0.2, random_state=42)\n",
        "\n",
        "# Train Gradient Boosting Regressor\n",
        "gb = GradientBoostingRegressor(n_estimators=100, random_state=42)\n",
        "gb.fit(X_train, y_train)\n",
        "\n",
        "# Predict and evaluate\n",
        "y_pred = gb.predict(X_test)\n",
        "r2 = r2_score(y_test, y_pred)\n",
        "print(f\"R-Squared Score: {r2:.2f}\")"
      ],
      "metadata": {
        "colab": {
          "base_uri": "https://localhost:8080/"
        },
        "id": "f1QhMaYhaZ26",
        "outputId": "bc0bb286-dea1-43ea-b2d3-d56258fee613"
      },
      "execution_count": null,
      "outputs": [
        {
          "output_type": "stream",
          "name": "stdout",
          "text": [
            "R-Squared Score: 0.93\n"
          ]
        }
      ]
    },
    {
      "cell_type": "code",
      "source": [],
      "metadata": {
        "id": "XtSTXniiabZ0"
      },
      "execution_count": null,
      "outputs": []
    },
    {
      "cell_type": "markdown",
      "source": [
        "18. Train an XGBoost Classifier on a dataset and compare accuracy with Gradient Boosting.\n",
        "Approach: Use XGBClassifier from xgboost and GradientBoostingClassifier on the Iris dataset, and compare accuracy."
      ],
      "metadata": {
        "id": "F15sQkWCacBg"
      }
    },
    {
      "cell_type": "code",
      "source": [
        "from sklearn.ensemble import GradientBoostingClassifier\n",
        "from xgboost import XGBClassifier\n",
        "from sklearn.datasets import load_iris\n",
        "from sklearn.model_selection import train_test_split\n",
        "from sklearn.metrics import accuracy_score\n",
        "\n",
        "# Load dataset\n",
        "data = load_iris()\n",
        "X, y = data.data, data.target\n",
        "\n",
        "# Split data\n",
        "X_train, X_test, y_train, y_test = train_test_split(X, y, test_size=0.2, random_state=42)\n",
        "\n",
        "# Train Gradient Boosting Classifier\n",
        "gb = GradientBoostingClassifier(n_estimators=100, random_state=42)\n",
        "gb.fit(X_train, y_train)\n",
        "gb_pred = gb.predict(X_test)\n",
        "gb_accuracy = accuracy_score(y_test, gb_pred)\n",
        "\n",
        "# Train XGBoost Classifier\n",
        "xgb = XGBClassifier(n_estimators=100, random_state=42, use_label_encoder=False, eval_metric='logloss')\n",
        "xgb.fit(X_train, y_train)\n",
        "xgb_pred = xgb.predict(X_test)\n",
        "xgb_accuracy = accuracy_score(y_test, xgb_pred)\n",
        "\n",
        "# Compare accuracy\n",
        "print(f\"Gradient Boosting Accuracy: {gb_accuracy:.2f}\")\n",
        "print(f\"XGBoost Accuracy: {xgb_accuracy:.2f}\")"
      ],
      "metadata": {
        "colab": {
          "base_uri": "https://localhost:8080/"
        },
        "id": "7L1r2JQGafbm",
        "outputId": "3a3ccbed-7dbc-40b3-daeb-dc0b555bb484"
      },
      "execution_count": null,
      "outputs": [
        {
          "output_type": "stream",
          "name": "stdout",
          "text": [
            "Gradient Boosting Accuracy: 1.00\n",
            "XGBoost Accuracy: 1.00\n"
          ]
        },
        {
          "output_type": "stream",
          "name": "stderr",
          "text": [
            "/usr/local/lib/python3.11/dist-packages/xgboost/core.py:158: UserWarning: [16:04:36] WARNING: /workspace/src/learner.cc:740: \n",
            "Parameters: { \"use_label_encoder\" } are not used.\n",
            "\n",
            "  warnings.warn(smsg, UserWarning)\n"
          ]
        }
      ]
    },
    {
      "cell_type": "code",
      "source": [],
      "metadata": {
        "id": "EactPys_ahL5"
      },
      "execution_count": null,
      "outputs": []
    },
    {
      "cell_type": "markdown",
      "source": [
        "19. Train a CatBoost Classifier and evaluate using F1-Score.\n",
        "Approach: Use CatBoostClassifier from catboost on the Breast Cancer dataset, and evaluate using F1-score."
      ],
      "metadata": {
        "id": "M-br3STIalIP"
      }
    },
    {
      "cell_type": "code",
      "source": [
        "from catboost import CatBoostClassifier\n",
        "from sklearn.datasets import load_breast_cancer\n",
        "from sklearn.model_selection import train_test_split\n",
        "from sklearn.metrics import f1_score\n",
        "\n",
        "# Load dataset\n",
        "data = load_breast_cancer()\n",
        "X, y = data.data, data.target\n",
        "\n",
        "# Split data\n",
        "X_train, X_test, y_train, y_test = train_test_split(X, y, test_size=0.2, random_state=42)\n",
        "\n",
        "# Train CatBoost Classifier\n",
        "cat = CatBoostClassifier(iterations=100, random_seed=42, verbose=0)\n",
        "cat.fit(X_train, y_train)\n",
        "\n",
        "# Predict and evaluate\n",
        "y_pred = cat.predict(X_test)\n",
        "f1 = f1_score(y_test, y_pred)\n",
        "print(f\"F1-Score: {f1:.2f}\")"
      ],
      "metadata": {
        "colab": {
          "base_uri": "https://localhost:8080/",
          "height": 383
        },
        "id": "dciM4Lgqalbg",
        "outputId": "f8df14de-2dd7-4ac4-e9ad-025c749ab431"
      },
      "execution_count": null,
      "outputs": [
        {
          "output_type": "error",
          "ename": "ModuleNotFoundError",
          "evalue": "No module named 'catboost'",
          "traceback": [
            "\u001b[0;31m---------------------------------------------------------------------------\u001b[0m",
            "\u001b[0;31mModuleNotFoundError\u001b[0m                       Traceback (most recent call last)",
            "\u001b[0;32m<ipython-input-7-c498861bb57a>\u001b[0m in \u001b[0;36m<cell line: 0>\u001b[0;34m()\u001b[0m\n\u001b[0;32m----> 1\u001b[0;31m \u001b[0;32mfrom\u001b[0m \u001b[0mcatboost\u001b[0m \u001b[0;32mimport\u001b[0m \u001b[0mCatBoostClassifier\u001b[0m\u001b[0;34m\u001b[0m\u001b[0;34m\u001b[0m\u001b[0m\n\u001b[0m\u001b[1;32m      2\u001b[0m \u001b[0;32mfrom\u001b[0m \u001b[0msklearn\u001b[0m\u001b[0;34m.\u001b[0m\u001b[0mdatasets\u001b[0m \u001b[0;32mimport\u001b[0m \u001b[0mload_breast_cancer\u001b[0m\u001b[0;34m\u001b[0m\u001b[0;34m\u001b[0m\u001b[0m\n\u001b[1;32m      3\u001b[0m \u001b[0;32mfrom\u001b[0m \u001b[0msklearn\u001b[0m\u001b[0;34m.\u001b[0m\u001b[0mmodel_selection\u001b[0m \u001b[0;32mimport\u001b[0m \u001b[0mtrain_test_split\u001b[0m\u001b[0;34m\u001b[0m\u001b[0;34m\u001b[0m\u001b[0m\n\u001b[1;32m      4\u001b[0m \u001b[0;32mfrom\u001b[0m \u001b[0msklearn\u001b[0m\u001b[0;34m.\u001b[0m\u001b[0mmetrics\u001b[0m \u001b[0;32mimport\u001b[0m \u001b[0mf1_score\u001b[0m\u001b[0;34m\u001b[0m\u001b[0;34m\u001b[0m\u001b[0m\n\u001b[1;32m      5\u001b[0m \u001b[0;34m\u001b[0m\u001b[0m\n",
            "\u001b[0;31mModuleNotFoundError\u001b[0m: No module named 'catboost'",
            "",
            "\u001b[0;31m---------------------------------------------------------------------------\u001b[0;32m\nNOTE: If your import is failing due to a missing package, you can\nmanually install dependencies using either !pip or !apt.\n\nTo view examples of installing some common dependencies, click the\n\"Open Examples\" button below.\n\u001b[0;31m---------------------------------------------------------------------------\u001b[0m\n"
          ],
          "errorDetails": {
            "actions": [
              {
                "action": "open_url",
                "actionText": "Open Examples",
                "url": "/notebooks/snippets/importing_libraries.ipynb"
              }
            ]
          }
        }
      ]
    },
    {
      "cell_type": "code",
      "source": [],
      "metadata": {
        "id": "bbWvlHwmanfC"
      },
      "execution_count": null,
      "outputs": []
    },
    {
      "cell_type": "markdown",
      "source": [
        "20. Train an XGBoost Regressor and evaluate using Mean Squared Error (MSE).\n",
        "Approach: Use XGBRegressor on a synthetic regression dataset, and evaluate using MSE."
      ],
      "metadata": {
        "id": "aV71S625asRj"
      }
    },
    {
      "cell_type": "code",
      "source": [
        "from xgboost import XGBRegressor\n",
        "from sklearn.datasets import make_regression\n",
        "from sklearn.model_selection import train_test_split\n",
        "from sklearn.metrics import mean_squared_error\n",
        "\n",
        "# Generate synthetic regression data\n",
        "X, y = make_regression(n_samples=1000, n_features=10, noise=0.1, random_state=42)\n",
        "\n",
        "# Split data\n",
        "X_train, X_test, y_train, y_test = train_test_split(X, y, test_size=0.2, random_state=42)\n",
        "\n",
        "# Train XGBoost Regressor\n",
        "xgb = XGBRegressor(n_estimators=100, random_state=42)\n",
        "xgb.fit(X_train, y_train)\n",
        "\n",
        "# Predict and evaluate\n",
        "y_pred = xgb.predict(X_test)\n",
        "mse = mean_squared_error(y_test, y_pred)\n",
        "print(f\"Mean Squared Error (MSE): {mse:.2f}\")"
      ],
      "metadata": {
        "colab": {
          "base_uri": "https://localhost:8080/"
        },
        "id": "hyAsa2Ezaska",
        "outputId": "6303de44-7e85-45aa-c8ae-f3f8209b7b94"
      },
      "execution_count": null,
      "outputs": [
        {
          "output_type": "stream",
          "name": "stdout",
          "text": [
            "Mean Squared Error (MSE): 1709.66\n"
          ]
        }
      ]
    },
    {
      "cell_type": "code",
      "source": [],
      "metadata": {
        "id": "r_PJYNhTatz0"
      },
      "execution_count": null,
      "outputs": []
    },
    {
      "cell_type": "markdown",
      "source": [
        "21. Train an AdaBoost Classifier and visualize feature importance.\n",
        "Approach: Use AdaBoostClassifier on the Iris dataset, and plot feature importance using matplotlib."
      ],
      "metadata": {
        "id": "lpUhjjuyavt8"
      }
    },
    {
      "cell_type": "code",
      "source": [
        "from sklearn.ensemble import AdaBoostClassifier\n",
        "from sklearn.tree import DecisionTreeClassifier\n",
        "from sklearn.datasets import load_iris\n",
        "from sklearn.model_selection import train_test_split\n",
        "import matplotlib.pyplot as plt\n",
        "\n",
        "# Load dataset\n",
        "data = load_iris()\n",
        "X, y = data.data, data.target\n",
        "\n",
        "# Split data\n",
        "X_train, X_test, y_train, y_test = train_test_split(X, y, test_size=0.2, random_state=42)\n",
        "\n",
        "# Train AdaBoost Classifier\n",
        "ada = AdaBoostClassifier(estimator=DecisionTreeClassifier(max_depth=1), n_estimators=50, random_state=42)\n",
        "ada.fit(X_train, y_train)\n",
        "\n",
        "# Visualize feature importance\n",
        "feature_names = data.feature_names\n",
        "importances = ada.feature_importances_\n",
        "plt.figure(figsize=(8, 6))\n",
        "plt.bar(feature_names, importances)\n",
        "plt.xlabel('Features')\n",
        "plt.ylabel('Importance')\n",
        "plt.title('Feature Importance in AdaBoost Classifier')\n",
        "plt.xticks(rotation=45)\n",
        "plt.show()"
      ],
      "metadata": {
        "colab": {
          "base_uri": "https://localhost:8080/",
          "height": 646
        },
        "id": "A6xSYqL8av92",
        "outputId": "19dec220-3089-4e02-af43-1e79f4c27af3"
      },
      "execution_count": null,
      "outputs": [
        {
          "output_type": "display_data",
          "data": {
            "text/plain": [
              "<Figure size 800x600 with 1 Axes>"
            ],
            "image/png": "[encoded data removed]"
          },
          "metadata": {}
        }
      ]
    },
    {
      "cell_type": "code",
      "source": [],
      "metadata": {
        "id": "_RBo6bUAaxap"
      },
      "execution_count": null,
      "outputs": []
    },
    {
      "cell_type": "markdown",
      "source": [
        "22. Train a Gradient Boosting Regressor and plot learning curves.\n",
        "Approach: Use GradientBoostingRegressor on a synthetic regression dataset, and plot learning curves using sklearn.model_selection.learning_curve."
      ],
      "metadata": {
        "id": "SpbdHjxfa0bQ"
      }
    },
    {
      "cell_type": "code",
      "source": [
        "from sklearn.ensemble import GradientBoostingRegressor\n",
        "from sklearn.datasets import make_regression\n",
        "from sklearn.model_selection import learning_curve\n",
        "import matplotlib.pyplot as plt\n",
        "import numpy as np\n",
        "\n",
        "# Generate synthetic regression data\n",
        "X, y = make_regression(n_samples=1000, n_features=10, noise=0.1, random_state=42)\n",
        "\n",
        "# Train Gradient Boosting Regressor and get learning curves\n",
        "gb = GradientBoostingRegressor(n_estimators=100, random_state=42)\n",
        "train_sizes, train_scores, test_scores = learning_curve(gb, X, y, cv=5, n_jobs=-1,\n",
        "                                                        train_sizes=np.linspace(0.1, 1.0, 10))\n",
        "\n",
        "# Plot learning curves\n",
        "plt.figure(figsize=(10, 6))\n",
        "plt.plot(train_sizes, train_scores.mean(axis=1), label='Training Score')\n",
        "plt.plot(train_sizes, test_scores.mean(axis=1), label='Cross-Validation Score')\n",
        "plt.xlabel('Training Examples')\n",
        "plt.ylabel('Score')\n",
        "plt.title('Learning Curves for Gradient Boosting Regressor')\n",
        "plt.legend(loc='best')\n",
        "plt.grid()\n",
        "plt.show()"
      ],
      "metadata": {
        "colab": {
          "base_uri": "https://localhost:8080/",
          "height": 564
        },
        "id": "ph_Iis-ra0qq",
        "outputId": "340ce6e2-a07a-482c-c8ef-e7ed5ae71651"
      },
      "execution_count": null,
      "outputs": [
        {
          "output_type": "display_data",
          "data": {
            "text/plain": [
              "<Figure size 1000x600 with 1 Axes>"
            ],
            "image/png": "[encoded data removed]"
          },
          "metadata": {}
        }
      ]
    },
    {
      "cell_type": "code",
      "source": [],
      "metadata": {
        "id": "8Rr3zJsCa16g"
      },
      "execution_count": null,
      "outputs": []
    },
    {
      "cell_type": "markdown",
      "source": [
        "23. Train an XGBoost Classifier and visualize feature importance.\n",
        "Approach: Use XGBClassifier on the Breast Cancer dataset, and plot feature importance using xgboost.plot_importance."
      ],
      "metadata": {
        "id": "JKlzT0dwa5wP"
      }
    },
    {
      "cell_type": "code",
      "source": [
        "from xgboost import XGBClassifier, plot_importance\n",
        "from sklearn.datasets import load_breast_cancer\n",
        "from sklearn.model_selection import train_test_split\n",
        "import matplotlib.pyplot as plt\n",
        "\n",
        "# Load dataset\n",
        "data = load_breast_cancer()\n",
        "X, y = data.data, data.target\n",
        "\n",
        "# Split data\n",
        "X_train, X_test, y_train, y_test = train_test_split(X, y, test_size=0.2, random_state=42)\n",
        "\n",
        "# Train XGBoost Classifier\n",
        "xgb = XGBClassifier(n_estimators=100, random_state=42, use_label_encoder=False, eval_metric='logloss')\n",
        "xgb.fit(X_train, y_train)\n",
        "\n",
        "# Visualize feature importance\n",
        "plt.figure(figsize=(10, 6))\n",
        "plot_importance(xgb, max_num_features=10)\n",
        "plt.title('Feature Importance in XGBoost Classifier')\n",
        "plt.show()"
      ],
      "metadata": {
        "colab": {
          "base_uri": "https://localhost:8080/",
          "height": 559
        },
        "id": "3_Zs4dIJa5-m",
        "outputId": "d900791e-9371-45e2-ef25-f6bb12490cf1"
      },
      "execution_count": null,
      "outputs": [
        {
          "output_type": "stream",
          "name": "stderr",
          "text": [
            "/usr/local/lib/python3.11/dist-packages/xgboost/core.py:158: UserWarning: [16:06:26] WARNING: /workspace/src/learner.cc:740: \n",
            "Parameters: { \"use_label_encoder\" } are not used.\n",
            "\n",
            "  warnings.warn(smsg, UserWarning)\n"
          ]
        },
        {
          "output_type": "display_data",
          "data": {
            "text/plain": [
              "<Figure size 1000x600 with 0 Axes>"
            ]
          },
          "metadata": {}
        },
        {
          "output_type": "display_data",
          "data": {
            "text/plain": [
              "<Figure size 640x480 with 1 Axes>"
            ],
            "image/png": "[encoded data removed]"
          },
          "metadata": {}
        }
      ]
    },
    {
      "cell_type": "code",
      "source": [],
      "metadata": {
        "id": "89U1v70Sa7iJ"
      },
      "execution_count": null,
      "outputs": []
    },
    {
      "cell_type": "markdown",
      "source": [
        "24. Train a CatBoost Classifier and plot the confusion matrix.\n",
        "Approach: Use CatBoostClassifier on the Breast Cancer dataset, and plot the confusion matrix using seaborn."
      ],
      "metadata": {
        "id": "_8bFFYowa_kx"
      }
    },
    {
      "cell_type": "code",
      "source": [
        "from catboost import CatBoostClassifier\n",
        "from sklearn.datasets import load_breast_cancer\n",
        "from sklearn.model_selection import train_test_split\n",
        "from sklearn.metrics import confusion_matrix\n",
        "import seaborn as sns\n",
        "import matplotlib.pyplot as plt\n",
        "\n",
        "# Load dataset\n",
        "data = load_breast_cancer()\n",
        "X, y = data.data, data.target\n",
        "\n",
        "# Split data\n",
        "X_train, X_test, y_train, y_test = train_test_split(X, y, test_size=0.2, random_state=42)\n",
        "\n",
        "# Train CatBoost Classifier\n",
        "cat = CatBoostClassifier(iterations=100, random_seed=42, verbose=0)\n",
        "cat.fit(X_train, y_train)\n",
        "\n",
        "# Predict and compute confusion matrix\n",
        "y_pred = cat.predict(X_test)\n",
        "cm = confusion_matrix(y_test, y_pred)\n",
        "\n",
        "# Plot confusion matrix\n",
        "plt.figure(figsize=(8, 6))\n",
        "sns.heatmap(cm, annot=True, fmt='d', cmap='Blues', xticklabels=data.target_names, yticklabels=data.target_names)\n",
        "plt.xlabel('Predicted')\n",
        "plt.ylabel('True')\n",
        "plt.title('Confusion Matrix for CatBoost Classifier')\n",
        "plt.show()"
      ],
      "metadata": {
        "colab": {
          "base_uri": "https://localhost:8080/",
          "height": 383
        },
        "id": "1HDZ2b2Ra_zp",
        "outputId": "109a4fd7-2648-4f18-a901-524009ff01d2"
      },
      "execution_count": null,
      "outputs": [
        {
          "output_type": "error",
          "ename": "ModuleNotFoundError",
          "evalue": "No module named 'catboost'",
          "traceback": [
            "\u001b[0;31m---------------------------------------------------------------------------\u001b[0m",
            "\u001b[0;31mModuleNotFoundError\u001b[0m                       Traceback (most recent call last)",
            "\u001b[0;32m<ipython-input-12-80eab5231a4b>\u001b[0m in \u001b[0;36m<cell line: 0>\u001b[0;34m()\u001b[0m\n\u001b[0;32m----> 1\u001b[0;31m \u001b[0;32mfrom\u001b[0m \u001b[0mcatboost\u001b[0m \u001b[0;32mimport\u001b[0m \u001b[0mCatBoostClassifier\u001b[0m\u001b[0;34m\u001b[0m\u001b[0;34m\u001b[0m\u001b[0m\n\u001b[0m\u001b[1;32m      2\u001b[0m \u001b[0;32mfrom\u001b[0m \u001b[0msklearn\u001b[0m\u001b[0;34m.\u001b[0m\u001b[0mdatasets\u001b[0m \u001b[0;32mimport\u001b[0m \u001b[0mload_breast_cancer\u001b[0m\u001b[0;34m\u001b[0m\u001b[0;34m\u001b[0m\u001b[0m\n\u001b[1;32m      3\u001b[0m \u001b[0;32mfrom\u001b[0m \u001b[0msklearn\u001b[0m\u001b[0;34m.\u001b[0m\u001b[0mmodel_selection\u001b[0m \u001b[0;32mimport\u001b[0m \u001b[0mtrain_test_split\u001b[0m\u001b[0;34m\u001b[0m\u001b[0;34m\u001b[0m\u001b[0m\n\u001b[1;32m      4\u001b[0m \u001b[0;32mfrom\u001b[0m \u001b[0msklearn\u001b[0m\u001b[0;34m.\u001b[0m\u001b[0mmetrics\u001b[0m \u001b[0;32mimport\u001b[0m \u001b[0mconfusion_matrix\u001b[0m\u001b[0;34m\u001b[0m\u001b[0;34m\u001b[0m\u001b[0m\n\u001b[1;32m      5\u001b[0m \u001b[0;32mimport\u001b[0m \u001b[0mseaborn\u001b[0m \u001b[0;32mas\u001b[0m \u001b[0msns\u001b[0m\u001b[0;34m\u001b[0m\u001b[0;34m\u001b[0m\u001b[0m\n",
            "\u001b[0;31mModuleNotFoundError\u001b[0m: No module named 'catboost'",
            "",
            "\u001b[0;31m---------------------------------------------------------------------------\u001b[0;32m\nNOTE: If your import is failing due to a missing package, you can\nmanually install dependencies using either !pip or !apt.\n\nTo view examples of installing some common dependencies, click the\n\"Open Examples\" button below.\n\u001b[0;31m---------------------------------------------------------------------------\u001b[0m\n"
          ],
          "errorDetails": {
            "actions": [
              {
                "action": "open_url",
                "actionText": "Open Examples",
                "url": "/notebooks/snippets/importing_libraries.ipynb"
              }
            ]
          }
        }
      ]
    },
    {
      "cell_type": "code",
      "source": [],
      "metadata": {
        "id": "YtIzMgA3bBWG"
      },
      "execution_count": null,
      "outputs": []
    },
    {
      "cell_type": "markdown",
      "source": [
        "25. Train an AdaBoost Classifier with different numbers of estimators and compare accuracy.\n",
        "Approach: Use AdaBoostClassifier on the Iris dataset with varying n_estimators, and compare accuracy."
      ],
      "metadata": {
        "id": "CI4eWdePbGkX"
      }
    },
    {
      "cell_type": "markdown",
      "source": [],
      "metadata": {
        "id": "uUmnoHwbbG3G"
      }
    },
    {
      "cell_type": "code",
      "source": [
        "from sklearn.ensemble import AdaBoostClassifier\n",
        "from sklearn.tree import DecisionTreeClassifier\n",
        "from sklearn.datasets import load_iris\n",
        "from sklearn.model_selection import train_test_split\n",
        "from sklearn.metrics import accuracy_score\n",
        "\n",
        "# Load dataset\n",
        "data = load_iris()\n",
        "X, y = data.data, data.target\n",
        "\n",
        "# Split data\n",
        "X_train, X_test, y_train, y_test = train_test_split(X, y, test_size=0.2, random_state=42)\n",
        "\n",
        "# Train AdaBoost Classifier with different numbers of estimators\n",
        "n_estimators_list = [10, 50, 100, 200]\n",
        "for n in n_estimators_list:\n",
        "    ada = AdaBoostClassifier(estimator=DecisionTreeClassifier(max_depth=1), n_estimators=n, random_state=42)\n",
        "    ada.fit(X_train, y_train)\n",
        "    y_pred = ada.predict(X_test)\n",
        "    accuracy = accuracy_score(y_test, y_pred)\n",
        "    print(f\"Number of Estimators: {n}, Accuracy: {accuracy:.2f}\")"
      ],
      "metadata": {
        "colab": {
          "base_uri": "https://localhost:8080/"
        },
        "id": "IUeqDIu7bD0v",
        "outputId": "ecd47a27-fc1c-4ed9-9bd8-5ac69d5f0012"
      },
      "execution_count": null,
      "outputs": [
        {
          "output_type": "stream",
          "name": "stdout",
          "text": [
            "Number of Estimators: 10, Accuracy: 1.00\n",
            "Number of Estimators: 50, Accuracy: 0.93\n",
            "Number of Estimators: 100, Accuracy: 0.93\n",
            "Number of Estimators: 200, Accuracy: 0.93\n"
          ]
        }
      ]
    },
    {
      "cell_type": "markdown",
      "source": [
        "26. Train a Gradient Boosting Classifier and visualize the ROC curve.\n",
        "Approach: Use GradientBoostingClassifier on the Breast Cancer dataset, and plot the ROC curve using sklearn.metrics.roc_curve."
      ],
      "metadata": {
        "id": "1M8q7ckkbG6t"
      }
    },
    {
      "cell_type": "code",
      "source": [
        "from sklearn.ensemble import GradientBoostingClassifier\n",
        "from sklearn.datasets import load_breast_cancer\n",
        "from sklearn.model_selection import train_test_split\n",
        "from sklearn.metrics import roc_curve, auc\n",
        "import matplotlib.pyplot as plt\n",
        "\n",
        "# Load dataset\n",
        "data = load_breast_cancer()\n",
        "X, y = data.data, data.target\n",
        "\n",
        "# Split data\n",
        "X_train, X_test, y_train, y_test = train_test_split(X, y, test_size=0.2, random_state=42)\n",
        "\n",
        "# Train Gradient Boosting Classifier\n",
        "gb = GradientBoostingClassifier(n_estimators=100, random_state=42)\n",
        "gb.fit(X_train, y_train)\n",
        "\n",
        "# Predict probabilities and compute ROC curve\n",
        "y_pred_proba = gb.predict_proba(X_test)[:, 1]\n",
        "fpr, tpr, _ = roc_curve(y_test, y_pred_proba)\n",
        "roc_auc = auc(fpr, tpr)\n",
        "\n",
        "# Plot ROC curve\n",
        "plt.figure(figsize=(8, 6))\n",
        "plt.plot(fpr, tpr, label=f'ROC curve (area = {roc_auc:.2f})')\n",
        "plt.plot([0, 1], [0, 1], 'k--')\n",
        "plt.xlabel('False Positive Rate')\n",
        "plt.ylabel('True Positive Rate')\n",
        "plt.title('ROC Curve for Gradient Boosting Classifier')\n",
        "plt.legend(loc='best')\n",
        "plt.grid()\n",
        "plt.show()"
      ],
      "metadata": {
        "colab": {
          "base_uri": "https://localhost:8080/",
          "height": 564
        },
        "id": "I-R6lNDGbLsM",
        "outputId": "2b526b07-127c-4fdc-84d0-16c3210cd401"
      },
      "execution_count": null,
      "outputs": [
        {
          "output_type": "display_data",
          "data": {
            "text/plain": [
              "<Figure size 800x600 with 1 Axes>"
            ],
            "image/png": "[encoded data removed]"
          },
          "metadata": {}
        }
      ]
    },
    {
      "cell_type": "code",
      "source": [],
      "metadata": {
        "id": "v6eU4gfHbSpY"
      },
      "execution_count": null,
      "outputs": []
    },
    {
      "cell_type": "markdown",
      "source": [
        "27. Train an XGBoost Regressor and tune the learning rate using GridSearchCV.\n",
        "Approach: Use XGBRegressor on a synthetic regression dataset, and tune the learning rate using GridSearchCV."
      ],
      "metadata": {
        "id": "XWS1RUh2bVgs"
      }
    },
    {
      "cell_type": "code",
      "source": [
        "from xgboost import XGBRegressor\n",
        "from sklearn.datasets import make_regression\n",
        "from sklearn.model_selection import train_test_split, GridSearchCV\n",
        "from sklearn.metrics import mean_squared_error\n",
        "\n",
        "# Generate synthetic regression data\n",
        "X, y = make_regression(n_samples=1000, n_features=10, noise=0.1, random_state=42)\n",
        "\n",
        "# Split data\n",
        "X_train, X_test, y_train, y_test = train_test_split(X, y, test_size=0.2, random_state=42)\n",
        "\n",
        "# Define parameter grid\n",
        "param_grid = {'learning_rate': [0.01, 0.05, 0.1, 0.3, 0.5]}\n",
        "\n",
        "# Train XGBoost Regressor with GridSearchCV\n",
        "xgb = XGBRegressor(n_estimators=100, random_state=42)\n",
        "grid_search = GridSearchCV(xgb, param_grid, cv=5, scoring='neg_mean_squared_error', n_jobs=-1)\n",
        "grid_search.fit(X_train, y_train)\n",
        "\n",
        "# Print best parameters and score\n",
        "print(f\"Best Learning Rate: {grid_search.best_params_['learning_rate']}\")\n",
        "print(f\"Best Cross-Validation MSE: {-grid_search.best_score_:.2f}\")\n",
        "\n",
        "# Evaluate on test set\n",
        "best_xgb = grid_search.best_estimator_\n",
        "y_pred = best_xgb.predict(X_test)\n",
        "mse = mean_squared_error(y_test, y_pred)\n",
        "print(f\"Test Set MSE: {mse:.2f}\")"
      ],
      "metadata": {
        "colab": {
          "base_uri": "https://localhost:8080/"
        },
        "id": "DubbuQaybVxD",
        "outputId": "b39a18a8-53c3-43a9-a797-e923c21f5126"
      },
      "execution_count": null,
      "outputs": [
        {
          "output_type": "stream",
          "name": "stdout",
          "text": [
            "Best Learning Rate: 0.1\n",
            "Best Cross-Validation MSE: 2105.54\n",
            "Test Set MSE: 1492.47\n"
          ]
        }
      ]
    },
    {
      "cell_type": "code",
      "source": [],
      "metadata": {
        "id": "BKP__1OBbXBR"
      },
      "execution_count": null,
      "outputs": []
    },
    {
      "cell_type": "markdown",
      "source": [
        "28. Train a CatBoost Classifier on an imbalanced dataset and compare performance with class weighting.\n",
        "Approach: Use CatBoostClassifier on an imbalanced synthetic dataset, and compare performance with and without class weights using F1-score.\""
      ],
      "metadata": {
        "id": "FIiwQ6CwbZmX"
      }
    },
    {
      "cell_type": "code",
      "source": [
        "from catboost import CatBoostClassifier\n",
        "from sklearn.datasets import make_classification\n",
        "from sklearn.model_selection import train_test_split\n",
        "from sklearn.metrics import f1_score\n",
        "\n",
        "# Generate imbalanced synthetic classification data\n",
        "X, y = make_classification(n_samples=1000, n_features=10, weights=[0.9, 0.1], random_state=42)\n",
        "\n",
        "# Split data\n",
        "X_train, X_test, y_train, y_test = train_test_split(X, y, test_size=0.2, random_state=42)\n",
        "\n",
        "# Train CatBoost Classifier without class weights\n",
        "cat_no_weights = CatBoostClassifier(iterations=100, random_seed=42, verbose=0)\n",
        "cat_no_weights.fit(X_train, y_train)\n",
        "y_pred_no_weights = cat_no_weights.predict(X_test)\n",
        "f1_no_weights = f1_score(y_test, y_pred_no_weights)\n",
        "\n",
        "# Train CatBoost Classifier with class weights\n",
        "cat_weights = CatBoostClassifier(iterations=100, class_weights=[1, 10], random_seed=42, verbose=0)\n",
        "cat_weights.fit(X_train, y_train)\n",
        "y_pred_weights = cat_weights.predict(X_test)\n",
        "f1_weights = f1_score(y_test, y_pred_weights)\n",
        "\n",
        "# Compare performance\n",
        "print(f\"F1-Score without class weights: {f1_no_weights:.2f}\")\n",
        "print(f\"F1-Score with class weights: {f1_weights:.2f}\")"
      ],
      "metadata": {
        "colab": {
          "base_uri": "https://localhost:8080/",
          "height": 383
        },
        "id": "s5VAqM5EbaA9",
        "outputId": "3de4851f-2ea3-4cd8-b2b5-a28e469c3872"
      },
      "execution_count": null,
      "outputs": [
        {
          "output_type": "error",
          "ename": "ModuleNotFoundError",
          "evalue": "No module named 'catboost'",
          "traceback": [
            "\u001b[0;31m---------------------------------------------------------------------------\u001b[0m",
            "\u001b[0;31mModuleNotFoundError\u001b[0m                       Traceback (most recent call last)",
            "\u001b[0;32m<ipython-input-17-09f0a39790dc>\u001b[0m in \u001b[0;36m<cell line: 0>\u001b[0;34m()\u001b[0m\n\u001b[0;32m----> 1\u001b[0;31m \u001b[0;32mfrom\u001b[0m \u001b[0mcatboost\u001b[0m \u001b[0;32mimport\u001b[0m \u001b[0mCatBoostClassifier\u001b[0m\u001b[0;34m\u001b[0m\u001b[0;34m\u001b[0m\u001b[0m\n\u001b[0m\u001b[1;32m      2\u001b[0m \u001b[0;32mfrom\u001b[0m \u001b[0msklearn\u001b[0m\u001b[0;34m.\u001b[0m\u001b[0mdatasets\u001b[0m \u001b[0;32mimport\u001b[0m \u001b[0mmake_classification\u001b[0m\u001b[0;34m\u001b[0m\u001b[0;34m\u001b[0m\u001b[0m\n\u001b[1;32m      3\u001b[0m \u001b[0;32mfrom\u001b[0m \u001b[0msklearn\u001b[0m\u001b[0;34m.\u001b[0m\u001b[0mmodel_selection\u001b[0m \u001b[0;32mimport\u001b[0m \u001b[0mtrain_test_split\u001b[0m\u001b[0;34m\u001b[0m\u001b[0;34m\u001b[0m\u001b[0m\n\u001b[1;32m      4\u001b[0m \u001b[0;32mfrom\u001b[0m \u001b[0msklearn\u001b[0m\u001b[0;34m.\u001b[0m\u001b[0mmetrics\u001b[0m \u001b[0;32mimport\u001b[0m \u001b[0mf1_score\u001b[0m\u001b[0;34m\u001b[0m\u001b[0;34m\u001b[0m\u001b[0m\n\u001b[1;32m      5\u001b[0m \u001b[0;34m\u001b[0m\u001b[0m\n",
            "\u001b[0;31mModuleNotFoundError\u001b[0m: No module named 'catboost'",
            "",
            "\u001b[0;31m---------------------------------------------------------------------------\u001b[0;32m\nNOTE: If your import is failing due to a missing package, you can\nmanually install dependencies using either !pip or !apt.\n\nTo view examples of installing some common dependencies, click the\n\"Open Examples\" button below.\n\u001b[0;31m---------------------------------------------------------------------------\u001b[0m\n"
          ],
          "errorDetails": {
            "actions": [
              {
                "action": "open_url",
                "actionText": "Open Examples",
                "url": "/notebooks/snippets/importing_libraries.ipynb"
              }
            ]
          }
        }
      ]
    },
    {
      "cell_type": "code",
      "source": [],
      "metadata": {
        "id": "-AKAE0jgbcha"
      },
      "execution_count": null,
      "outputs": []
    },
    {
      "cell_type": "markdown",
      "source": [
        "29. Train an AdaBoost Classifier and analyze the effect of different learning rates.\n",
        "Approach: Use AdaBoostClassifier on the Iris dataset with varying learning rates, and compare accuracy."
      ],
      "metadata": {
        "id": "ySqm5RKhbgNO"
      }
    },
    {
      "cell_type": "code",
      "source": [
        "from sklearn.ensemble import AdaBoostClassifier\n",
        "from sklearn.tree import DecisionTreeClassifier\n",
        "from sklearn.datasets import load_iris\n",
        "from sklearn.model_selection import train_test_split\n",
        "from sklearn.metrics import accuracy_score\n",
        "\n",
        "# Load dataset\n",
        "data = load_iris()\n",
        "X, y = data.data, data.target\n",
        "\n",
        "# Split data\n",
        "X_train, X_test, y_train, y_test = train_test_split(X, y, test_size=0.2, random_state=42)\n",
        "\n",
        "# Train AdaBoost Classifier with different learning rates\n",
        "learning_rates = [0.01, 0.1, 0.5, 1.0]\n",
        "for lr in learning_rates:\n",
        "    ada = AdaBoostClassifier(estimator=DecisionTreeClassifier(max_depth=1), n_estimators=50,\n",
        "                            learning_rate=lr, random_state=42)\n",
        "    ada.fit(X_train, y_train)\n",
        "    y_pred = ada.predict(X_test)\n",
        "    accuracy = accuracy_score(y_test, y_pred)\n",
        "    print(f\"Learning Rate: {lr}, Accuracy: {accuracy:.2f}\")"
      ],
      "metadata": {
        "colab": {
          "base_uri": "https://localhost:8080/"
        },
        "id": "IQyPfnKobgkL",
        "outputId": "865e6a04-bf73-405b-bedb-81c1aa17c6cc"
      },
      "execution_count": null,
      "outputs": [
        {
          "output_type": "stream",
          "name": "stdout",
          "text": [
            "Learning Rate: 0.01, Accuracy: 0.63\n",
            "Learning Rate: 0.1, Accuracy: 1.00\n",
            "Learning Rate: 0.5, Accuracy: 0.97\n",
            "Learning Rate: 1.0, Accuracy: 0.93\n"
          ]
        }
      ]
    },
    {
      "cell_type": "code",
      "source": [],
      "metadata": {
        "id": "wSiMk0bGbiEV"
      },
      "execution_count": null,
      "outputs": []
    },
    {
      "cell_type": "markdown",
      "source": [
        "30. Train an XGBoost Classifier for multi-class classification and evaluate using log-loss.\n",
        "Approach: Use XGBClassifier on the Iris dataset (multi-class), and evaluate using log-loss."
      ],
      "metadata": {
        "id": "fqVT7ojvblNO"
      }
    },
    {
      "cell_type": "code",
      "source": [
        "from xgboost import XGBClassifier\n",
        "from sklearn.datasets import load_iris\n",
        "from sklearn.model_selection import train_test_split\n",
        "from sklearn.metrics import log_loss\n",
        "\n",
        "# Load dataset\n",
        "data = load_iris()\n",
        "X, y = data.data, data.target\n",
        "\n",
        "# Split data\n",
        "X_train, X_test, y_train, y_test = train_test_split(X, y, test_size=0.2, random_state=42)\n",
        "\n",
        "# Train XGBoost Classifier for multi-class\n",
        "xgb = XGBClassifier(n_estimators=100, objective='multi:softprob', random_state=42,\n",
        "                    use_label_encoder=False, eval_metric='mlogloss')\n",
        "xgb.fit(X_train, y_train)\n",
        "\n",
        "# Predict probabilities and evaluate log-loss\n",
        "y_pred_proba = xgb.predict_proba(X_test)\n",
        "logloss = log_loss(y_test, y_pred_proba)\n",
        "print(f\"Log-Loss: {logloss:.2f}\")"
      ],
      "metadata": {
        "colab": {
          "base_uri": "https://localhost:8080/"
        },
        "id": "OAg4Lnc7bliT",
        "outputId": "a3b397c2-f3c8-46c6-a775-ee7adc739c45"
      },
      "execution_count": null,
      "outputs": [
        {
          "output_type": "stream",
          "name": "stdout",
          "text": [
            "Log-Loss: 0.01\n"
          ]
        },
        {
          "output_type": "stream",
          "name": "stderr",
          "text": [
            "/usr/local/lib/python3.11/dist-packages/xgboost/core.py:158: UserWarning: [16:09:23] WARNING: /workspace/src/learner.cc:740: \n",
            "Parameters: { \"use_label_encoder\" } are not used.\n",
            "\n",
            "  warnings.warn(smsg, UserWarning)\n"
          ]
        }
      ]
    },
    {
      "cell_type": "code",
      "source": [],
      "metadata": {
        "id": "wpU1W7LAbnW1"
      },
      "execution_count": null,
      "outputs": []
    }
  ]
}