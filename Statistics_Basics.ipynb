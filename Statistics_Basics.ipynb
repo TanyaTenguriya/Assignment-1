{
  "nbformat": 4,
  "nbformat_minor": 0,
  "metadata": {
    "colab": {
      "provenance": []
    },
    "kernelspec": {
      "name": "python3",
      "display_name": "Python 3"
    },
    "language_info": {
      "name": "python"
    }
  },
  "cells": [
    {
      "cell_type": "markdown",
      "source": [
        "**1.Explain the different types of data (qualitative and quantitative) and provide examples of each. Discuss\n",
        "nominal, ordinal, interval, and ratio scales**"
      ],
      "metadata": {
        "id": "qFpaD2vcGfbl"
      }
    },
    {
      "cell_type": "markdown",
      "source": [
        "Data is broadly categorized into qualitative and quantitative, and these types differ in their nature, usage, and the scales they utilize for measurement. Here's a detailed explanation:\n",
        "\n"
      ],
      "metadata": {
        "id": "_nKHL3YEGmwE"
      }
    },
    {
      "cell_type": "markdown",
      "source": [
        "1.Qualitative Data (Categorical Data)\n",
        "\n",
        ".Definition:\n",
        "\n",
        "Data that describes qualities, characteristics, or categories. It is not numerical and cannot be measured in standard units.\n",
        "\n",
        ".Examples:\n",
        "\n",
        "   .Colors of cars (e.g., red, blue, green)\n",
        "\n",
        "   .Types of cuisine (e.g., Italian, Mexican, Indian)\n",
        "\n",
        "   .Gender (e.g., male, female, non-binary)"
      ],
      "metadata": {
        "id": "5KsWr-vBGpF8"
      }
    },
    {
      "cell_type": "markdown",
      "source": [
        "Scales Used in Qualitative Data\n",
        "\n",
        "1-Nominal Scale:\n",
        "\n",
        ".Definition:\n",
        "\n",
        "Categorizes data without any order or ranking.\n",
        "\n",
        "\n",
        ".Examples:\n",
        "\n",
        "  .Types of fruits: apple, banana, orange\n",
        "\n",
        "  .Blood groups: A, B, AB, O\n",
        "\n",
        ".Key Feature: Only classification is possible; no ranking or comparison."
      ],
      "metadata": {
        "id": "jJiOZi6PG2ts"
      }
    },
    {
      "cell_type": "markdown",
      "source": [
        "2-Ordinal Scale:\n",
        "\n",
        "\n",
        ".Definition:\n",
        "\n",
        "  Categorizes data with an inherent order or ranking but no standardized difference between categories.\n",
        "\n",
        ".Examples:\n",
        "\n",
        "  .Customer satisfaction levels: poor, fair, good, excellent\n",
        "\n",
        "  .Education levels: elementary, high school, college, postgraduate\n",
        "  \n",
        "\n",
        ".Key Feature: Ranking is possible, but intervals between ranks are not uniform."
      ],
      "metadata": {
        "id": "FyFTPrOeHQSa"
      }
    },
    {
      "cell_type": "markdown",
      "source": [
        "2. Quantitative Data (Numerical Data)\n",
        "\n",
        ".Definition:\n",
        "\n",
        "Data that represents quantities and can be measured numerically. It is used for mathematical operations.\n",
        "\n",
        ".Examples:\n",
        "\n",
        "  .Height of individuals (e.g., 5.8 feet, 6.1 feet)\n",
        "\n",
        "  .Temperature readings (e.g., 20°C, 35°C)\n",
        "  \n",
        "  .Number of students in a class (e.g., 25, 30, 40)"
      ],
      "metadata": {
        "id": "V62LpksZIMlI"
      }
    },
    {
      "cell_type": "markdown",
      "source": [
        "Scales Used in Quantitative Data\n",
        "\n",
        "1-Interval Scale:\n",
        "\n",
        ".Definition:\n",
        "\n",
        "Numerical scale where the difference between values is meaningful, but there is no true zero point.\n",
        "\n",
        ".Examples:\n",
        "\n",
        "   .Temperature in Celsius or Fahrenheit: 20°C, 30°C, etc.\n",
        "\n",
        "   .Dates in a calendar: 2000 AD, 2020 AD, etc.\n",
        "   \n",
        "  \n",
        "Key Feature: Differences are consistent, but ratios are not meaningful (e.g., 20°C is not \"twice as hot\" as 10°C)."
      ],
      "metadata": {
        "id": "Sceo-XTUIbjQ"
      }
    },
    {
      "cell_type": "markdown",
      "source": [
        "2-Ratio Scale:\n",
        "\n",
        ".Definition:\n",
        "\n",
        "Numerical scale with both meaningful differences and a true zero point.\n",
        "\n",
        ".Examples:\n",
        "\n",
        "  .Weight: 0 kg, 50 kg, 100 kg\n",
        "\n",
        "  .Length: 0 cm, 10 cm, 50 cm\n",
        "\n",
        "  .Age: 0 years, 10 years, 30 years\n",
        "  \n",
        "\n",
        ".Key Feature: Ratios are meaningful (e.g., 40 kg is twice as heavy as 20 kg)."
      ],
      "metadata": {
        "id": "TI6hIMevIzL6"
      }
    },
    {
      "cell_type": "markdown",
      "source": [
        "**2.What are the measures of central tendency, and when should you use each? Discuss the mean, median,\n",
        "and mode with examples and situations where each is appropriate.**"
      ],
      "metadata": {
        "id": "S3ZGZnnOJpKK"
      }
    },
    {
      "cell_type": "markdown",
      "source": [
        "Measures of Central Tendency\n",
        "\n",
        "Measures of central tendency are statistical tools used to describe the center or typical value of a dataset. The three main measures are mean, median, and mode, each suitable for different types of data and scenarios.\n"
      ],
      "metadata": {
        "id": "K4WCeRtdJug6"
      }
    },
    {
      "cell_type": "markdown",
      "source": [
        "1.Mean\n",
        "\n",
        "Definition:\n",
        "\n",
        "The average of all data points, calculated as the sum of the values divided by the total number of values\n",
        "\n",
        "Mean=\n",
        "Number of data points/\n",
        "Sum of all data points\n",
        "​\n",
        "\n",
        "Example: For the dataset\n",
        "10\n",
        ",\n",
        "20\n",
        ",\n",
        "30\n",
        ",\n",
        "40\n",
        ",\n",
        "50\n",
        "\n",
        "Mean=\n",
        "10+20+30+40+50/5\n",
        "​\n",
        " =30\n",
        "​\n"
      ],
      "metadata": {
        "id": "JfB2JG6aJzdM"
      }
    },
    {
      "cell_type": "markdown",
      "source": [
        "2.Median\n",
        "\n",
        "Definition:\n",
        "\n",
        "The middle value in an ordered dataset. If the dataset has an even number of values, it is the average of the two middle values.\n",
        "\n",
        "Example: For\n",
        "10\n",
        ",\n",
        "20\n",
        ",\n",
        "30\n",
        ",\n",
        "40\n",
        ",\n",
        "50\n",
        "10,20,30,40,50:\n",
        "\n",
        "Median=30(middle value)\n",
        "\n",
        "For\n",
        "10\n",
        ",\n",
        "20\n",
        ",\n",
        "30\n",
        ",\n",
        "40\n",
        "\n",
        "Median=\n",
        "\n",
        "20+30/2\n",
        "​\n",
        " =25"
      ],
      "metadata": {
        "id": "TFi3AqBsKmSS"
      }
    },
    {
      "cell_type": "markdown",
      "source": [
        "3.Mode\n",
        "\n",
        "Definition:\n",
        "\n",
        "The value that occurs most frequently in the dataset. A dataset can be unimodal (one mode), bimodal (two modes), or multimodal (multiple modes).\n",
        "\n",
        "Example: For\n",
        "10\n",
        ",\n",
        "20\n",
        ",\n",
        "20\n",
        ",\n",
        "30\n",
        ",\n",
        "40\n",
        "\n",
        "Mode=20\n",
        "\n",
        "For\n",
        "10\n",
        ",\n",
        "20\n",
        ",\n",
        "20\n",
        ",\n",
        "30\n",
        ",\n",
        "30\n",
        "\n",
        "Modes=20and30(bimodal)"
      ],
      "metadata": {
        "id": "CAHl0psMK8Oj"
      }
    },
    {
      "cell_type": "markdown",
      "source": [
        "**3.Explain the concept of dispersion. How do variance and standard deviation measure the spread of data?**"
      ],
      "metadata": {
        "id": "PkrhfBqvLPuw"
      }
    },
    {
      "cell_type": "markdown",
      "source": [
        "Concept of Dispersion\n",
        "\n",
        "Dispersion refers to the degree to which data points in a dataset are spread out or clustered around the central tendency (mean, median, or mode). It provides insights into the variability or consistency of the data."
      ],
      "metadata": {
        "id": "wzWTB1naLUZo"
      }
    },
    {
      "cell_type": "markdown",
      "source": [
        "Why is Dispersion Important?\n",
        "\n",
        ".Helps understand the spread of the data.\n",
        "\n",
        ".Indicates how much the data values deviate from the center (mean).\n",
        "\n",
        ".Aids in comparing datasets with similar measures of central tendency but different spreads"
      ],
      "metadata": {
        "id": "yz6b_O0ALX0x"
      }
    },
    {
      "cell_type": "markdown",
      "source": [
        "Common measures of dispersion include:\n",
        "\n",
        "\n",
        "Range\n",
        "\n",
        "Variance\n",
        "\n",
        "Standard Deviation\n",
        "\n",
        "Interquartile Range (IQR)"
      ],
      "metadata": {
        "id": "fIBhKbAoLe5R"
      }
    },
    {
      "cell_type": "markdown",
      "source": [
        "Variance\n",
        "\n",
        "Definition:\n",
        "\n",
        "Variance quantifies the average squared deviation of each data point from the mean.\n",
        "\n",
        "Formula: For a population:\n",
        "\n",
        "Variance\n",
        "\n",
        "(\n",
        "𝜎\n",
        "2\n",
        ")\n",
        "=\n",
        "∑\n",
        "(\n",
        "𝑥\n",
        "𝑖\n",
        "−\n",
        "𝜇\n",
        ")/\n",
        "2\n",
        "𝑁\n",
        "\n",
        "For a sample:\n",
        "\n",
        "Variance(s\n",
        "2\n",
        " )=\n",
        "∑(x\n",
        "i\n",
        "​\n",
        " −\n",
        "x\n",
        "ˉ\n",
        " )\n",
        "2 / n-1\n",
        "\n"
      ],
      "metadata": {
        "id": "iU9qcBL6LiyO"
      }
    },
    {
      "cell_type": "markdown",
      "source": [
        "Where:\n",
        "\n",
        "\n",
        "𝑥\n",
        "𝑖\n",
        "x\n",
        "i\n",
        "​\n",
        " : Individual data point\n",
        "\n",
        "𝜇\n",
        "μ: Population mean,\n",
        "\n",
        "𝑥\n",
        "ˉ\n",
        "x\n",
        "ˉ\n",
        " : Sample mean\n",
        "𝑁\n",
        "N: Total number of data points in the population\n",
        "\n",
        "𝑛\n",
        "−\n",
        "1\n",
        "n−1: Degrees of freedom for the sample"
      ],
      "metadata": {
        "id": "g3UkNxhxMvu2"
      }
    },
    {
      "cell_type": "markdown",
      "source": [
        "Standard Deviation\n",
        "\n",
        "Definition:\n",
        "\n",
        "Standard deviation is the square root of variance. It provides the spread of data in the same units as the original dataset.\n",
        "\n",
        "\n"
      ],
      "metadata": {
        "id": "UuZaJntyM8DL"
      }
    },
    {
      "cell_type": "markdown",
      "source": [
        "**4.What is a box plot, and what can it tell you about the distribution of data?**"
      ],
      "metadata": {
        "id": "zHGTRWqBNr9y"
      }
    },
    {
      "cell_type": "markdown",
      "source": [
        "What is a Box Plot?\n",
        "\n",
        "A box plot (or box-and-whisker plot) is a graphical representation of the distribution of a dataset. It summarizes data using five key statistics and helps visualize the spread, central tendency, and potential outliers in the dataset."
      ],
      "metadata": {
        "id": "X3FC1QXeN8Qw"
      }
    },
    {
      "cell_type": "markdown",
      "source": [
        "Components of a Box Plot\n",
        "\n",
        "Minimum: The smallest value in the dataset, excluding outliers.\n",
        "\n",
        "First Quartile (Q1): The median of the lower half of the dataset (25th percentile).\n",
        "\n",
        "Median (Q2): The middle value of the dataset (50th percentile).\n",
        "\n",
        "Third Quartile (Q3): The median of the upper half of the dataset (75th percentile).\n",
        "\n",
        "Maximum: The largest value in the dataset, excluding outliers.\n",
        "\n",
        "Interquartile Range (IQR): The range between Q1 and Q3 (\n",
        "𝐼\n",
        "𝑄\n",
        "𝑅\n",
        "=\n",
        "𝑄\n",
        "3\n",
        "−\n",
        "𝑄\n",
        "1\n",
        "IQR=Q3−Q1).\n",
        "\n",
        "Whiskers:\n",
        "\n",
        "  .Extend from Q1 to the smallest value within\n",
        "1.5\n",
        "×\n",
        "𝐼\n",
        "𝑄\n",
        "𝑅\n",
        "1.5×IQR below Q1.\n",
        "\n",
        "  .Extend from Q3 to the largest value within\n",
        "1.5\n",
        "×\n",
        "𝐼\n",
        "𝑄\n",
        "𝑅\n",
        "1.5×IQR above Q3.\n",
        "\n",
        "Outliers: Data points outside the whisker range are plotted as individual points."
      ],
      "metadata": {
        "id": "ybDivn2wOA8b"
      }
    },
    {
      "cell_type": "markdown",
      "source": [
        "How to Interpret a Box Plot\n",
        "\n",
        "A box plot provides insights into the following:\n",
        "\n",
        "\n",
        "1-Center of the Data:\n",
        "\n",
        "The line inside the box represents the median, showing the central tendency.\n",
        "\n",
        "2-Spread of the Data:\n",
        "\n",
        "The length of the box (IQR) indicates the middle 50% of the data.\n",
        "\n",
        "Whiskers show variability outside the IQR\n",
        "\n",
        "3-Skewness:\n",
        "\n",
        "If the median is closer to Q1, the data is positively skewed (right-skewed).\n",
        "\n",
        "If the median is closer to Q3, the data is negatively skewed (left-skewed).\n",
        "\n",
        "4-Outliers:\n",
        "\n",
        "Points beyond the whiskers identify potential outliers.\n",
        "\n",
        "5-Symmetry:\n",
        "\n",
        "Symmetrical box and whiskers indicate a normal-like distribution.\n",
        "\n",
        "Asymmetry reveals skewed distributions.\n"
      ],
      "metadata": {
        "id": "rVFtk2W-Ob8Q"
      }
    },
    {
      "cell_type": "markdown",
      "source": [
        "Example\n",
        "\n",
        "For the dataset\n",
        "[\n",
        "10\n",
        ",\n",
        "12\n",
        ",\n",
        "14\n",
        ",\n",
        "16\n",
        ",\n",
        "18\n",
        ",\n",
        "20\n",
        ",\n",
        "22\n",
        ",\n",
        "24\n",
        ",\n",
        "26\n",
        "]\n",
        "\n",
        "\n",
        "Q1: 14 (25th percentile)\n",
        "\n",
        "Median: 18 (50th percentile)\n",
        "\n",
        "Q3: 22 (75th percentile)\n",
        "\n",
        "IQR:\n",
        "22\n",
        "−\n",
        "14\n",
        "=\n",
        "8\n",
        "\n",
        "\n",
        "Whiskers: Extend to\n",
        "14\n",
        "−\n",
        "1.5\n",
        "×\n",
        "8\n",
        "=\n",
        "2\n",
        "14−1.5×8=2 (min) and\n",
        "22\n",
        "+\n",
        "1.5\n",
        "×\n",
        "8\n",
        "=\n",
        "34\n",
        "22+1.5×8=34 (max)."
      ],
      "metadata": {
        "id": "qDtLX014PA1m"
      }
    },
    {
      "cell_type": "markdown",
      "source": [
        "**5.Discuss the role of random sampling in making inferences about populations**"
      ],
      "metadata": {
        "id": "RmxJudksPadF"
      }
    },
    {
      "cell_type": "markdown",
      "source": [
        "Role of Random Sampling in Making Inferences About Populations\n",
        "\n",
        "Random sampling is a fundamental technique in statistics that allows researchers to draw conclusions about a population by studying a subset of it. By ensuring that every member of the population has an equal chance of being included, random sampling minimizes bias and supports accurate and generalizable inferences.\n",
        "\n"
      ],
      "metadata": {
        "id": "EDZH89T6PgHk"
      }
    },
    {
      "cell_type": "markdown",
      "source": [
        "Key Concepts in Random Sampling\n",
        "\n",
        "Population:\n",
        "\n",
        "\n",
        "The entire set of individuals or items of interest (e.g., all residents of a city, all manufactured items in a batch).\n",
        "\n",
        "Sample:\n",
        "\n",
        "A subset of the population chosen for study (e.g., 500 residents selected to represent the city).\n",
        "\n",
        "Random Sampling:\n",
        "\n",
        "A method of selecting the sample such that every member of the population has an equal probability of being included.\n"
      ],
      "metadata": {
        "id": "iBNuonkEPkGM"
      }
    },
    {
      "cell_type": "markdown",
      "source": [
        "Why Random Sampling is Important\n",
        "\n",
        "1-Ensures Representativeness:\n",
        "\n",
        "\n",
        "By giving every population member an equal chance of selection, random sampling reduces selection bias, increasing the likelihood that the sample reflects the population's characteristics.\n",
        "\n",
        "2-Enables Statistical Inference:\n",
        "\n",
        "Random samples allow researchers to apply probability theory to make valid inferences about the population, such as estimating parameters (e.g., mean, proportion).\n",
        "\n",
        "3-Supports Generalizability:\n",
        "\n",
        "Conclusions drawn from a well-chosen random sample are likely to apply to the population as a whole.\n",
        "\n",
        "4-Facilitates Unbiased Estimates:\n",
        "\n",
        "Random sampling ensures that observed sample statistics (e.g., sample mean) are unbiased estimators of the population parameters.\n"
      ],
      "metadata": {
        "id": "JI4uYkORPxXV"
      }
    },
    {
      "cell_type": "markdown",
      "source": [
        "Applications of Random Sampling in Inference\n",
        "\n",
        "1.Parameter Estimation:\n",
        "\n",
        "\n",
        "Example:\n",
        "\n",
        " Using the sample mean (\n",
        "𝑥\n",
        "ˉ\n",
        "x\n",
        "ˉ\n",
        " ) to estimate the population mean (\n",
        "𝜇\n",
        "μ).\n",
        "\n",
        "2.Hypothesis Testing:\n",
        "\n",
        "Example:\n",
        "\n",
        "Testing if the mean income of a sample is significantly different from a hypothesized population mean.\n",
        "\n",
        "3.Confidence Intervals:\n",
        "\n",
        "Example:\n",
        "\n",
        "Constructing a confidence interval for the population proportion based on a random sample proportion.\n",
        "\n",
        "4.Comparative Studies:\n",
        "\n",
        "Example:\n",
        "\n",
        "Comparing groups (e.g., experimental vs. control) based on random samples from each."
      ],
      "metadata": {
        "id": "ZNGDKb4UQGCD"
      }
    },
    {
      "cell_type": "markdown",
      "source": [
        "Advantages of Random Sampling\n",
        "\n",
        "Minimizes Bias:\n",
        "\n",
        "\n",
        "Ensures the sample is not skewed toward any specific group or characteristic.\n",
        "\n",
        "Facilitates Statistical Accuracy:\n",
        "\n",
        "\n",
        "Random sampling provides a sound basis for calculating margins of error and confidence intervals.\n",
        "\n",
        "Scalability:\n",
        "\n",
        "Works well for large populations where studying the entire group is impractical."
      ],
      "metadata": {
        "id": "T3pOz7rUQrGL"
      }
    },
    {
      "cell_type": "markdown",
      "source": [
        "Challenges and Limitations\n",
        "\n",
        "Nonresponse Bias:\n",
        "\n",
        "If a significant portion of the selected sample does not participate, the sample may no longer represent the population.\n",
        "\n",
        "Sampling Error:\n",
        "\n",
        "Even with random sampling, the sample may not perfectly represent the population due to chance.\n",
        "\n",
        "Feasibility:\n",
        "\n",
        "Random sampling may be difficult or expensive for very large or inaccessible populations."
      ],
      "metadata": {
        "id": "deCUpXF-RdPx"
      }
    },
    {
      "cell_type": "markdown",
      "source": [
        "Example: Random Sampling in Practice\n",
        "\n",
        "Scenario: A polling company wants to estimate the proportion of voters favoring a candidate\n",
        "\n",
        "Method:\n",
        "\n",
        "Randomly selects 1,000 voters from a city.\n",
        "\n",
        "Collects responses and calculates the sample proportion.\n",
        "\n",
        "Uses statistical techniques to estimate the population\n",
        "proportion with a confidence interval.\n",
        "\n",
        "Inference: The results, based on the sample, provide an estimate of the entire city's voter preferences.\n",
        "\n"
      ],
      "metadata": {
        "id": "vij_oMivRqBu"
      }
    },
    {
      "cell_type": "markdown",
      "source": [
        "**6. Explain the concept of skewness and its types. How does skewness affect the interpretation of data?**"
      ],
      "metadata": {
        "id": "fxHv4DpzSQQx"
      }
    },
    {
      "cell_type": "markdown",
      "source": [
        "Concept of Skewness\n",
        "\n",
        "Skewness refers to the degree of asymmetry in the distribution of data. A perfectly symmetrical dataset (like a normal distribution) has no skewness. However, many real-world datasets exhibit skewness, where one tail of the distribution is longer or more stretched than the other.\n",
        "\n",
        "Skewness Measure: It is quantified as a number. A skewness value of:\n",
        "\n",
        "0: Perfectly symmetrical distribution.\n",
        "\n",
        " 0: Positively skewed (right-skewed).\n",
        "\n",
        "0: Negatively skewed (left-skewed)."
      ],
      "metadata": {
        "id": "17z4GBn_SU6J"
      }
    },
    {
      "cell_type": "markdown",
      "source": [
        "Types of Skewness\n",
        "\n",
        "1-Positive Skewness (Right-Skewed)\n",
        "\n",
        "\n",
        ".The right tail (higher values) is longer than the left tail.\n",
        "\n",
        ".Most data points are concentrated on the lower end, with a few high outliers.\n",
        "\n",
        "Example:\n",
        "\n",
        "Income distribution in a population, where a small number of people earn significantly more than the majority.\n",
        "\n",
        "Effect:\n",
        "\n",
        "The mean is greater than the median.\n",
        "\n",
        "2-Negative Skewness (Left-Skewed)\n",
        "\n",
        "\n",
        ".The left tail (lower values) is longer than the right tail.\n",
        "\n",
        ".Most data points are concentrated on the higher end, with a few low outliers.\n",
        "\n",
        "Example:\n",
        "\n",
        "Test scores where most students score high, but a few score very low.\n",
        "\n",
        "Effect:\n",
        "\n",
        "The mean is less than the median.\n",
        "\n",
        "3-Symmetry (No Skewness)\n",
        "\n",
        ".The left and right tails are mirror images.\n",
        "\n",
        ".The mean, median, and mode are equal.\n",
        "\n",
        "Example:\n",
        "\n",
        "Heights of adult males in a population typically follow a symmetrical distribution.\n"
      ],
      "metadata": {
        "id": "robOKWQoSjuU"
      }
    },
    {
      "cell_type": "markdown",
      "source": [
        "How Skewness Affects Interpretation of Data\n",
        "\n",
        "1-Central Tendency:\n",
        "\n",
        "In skewed distributions, the mean is pulled toward the tail, making the median a better measure of central\n",
        "tendency.\n",
        "\n",
        "Example: In a positively skewed distribution, the mean will overestimate the typical value.\n",
        "\n",
        "2-Choice of Statistical Methods:\n",
        "\n",
        "Many statistical tests assume symmetry (normal distribution). Significant skewness may require transformations (e.g., log or square root) to normalize the data.\n",
        "\n",
        "Skewed data might call for non-parametric tests instead of parametric tests.\n",
        "\n",
        "3-Data Interpretation:\n",
        "\n",
        "Positively Skewed Data:\n",
        "\n",
        "Example: Income data. The high-income outliers might exaggerate the average income, giving a misleading sense of wealth.\n",
        "\n",
        "Negatively Skewed Data:\n",
        "\n",
        "Example: Lifespan data. A few early deaths might distort the average lifespan.\n",
        "\n",
        "Outliers and Variability:\n",
        "\n",
        "Skewness often indicates the presence of outliers, which can heavily influence statistical results."
      ],
      "metadata": {
        "id": "p2q89mcwTsFD"
      }
    },
    {
      "cell_type": "markdown",
      "source": [
        "**7.What is the interquartile range (IQR), and how is it used to detect outliers?**"
      ],
      "metadata": {
        "id": "uXV4r3aRURu5"
      }
    },
    {
      "cell_type": "markdown",
      "source": [
        "Interquartile Range (IQR)\n",
        "\n",
        "The Interquartile Range (IQR) measures the spread of the middle 50% of a dataset. It is calculated as the difference between the third quartile (\n",
        "𝑄\n",
        "3\n",
        "Q3, the 75th percentile) and the first quartile (\n",
        "𝑄\n",
        "1\n",
        "Q1, the 25th percentile):\n",
        "\n",
        "IQR=Q3−Q1\n",
        "\n",
        "Q1: The value below which 25% of the data lies.\n",
        "\n",
        "Q3: The value below which 75% of the data lies"
      ],
      "metadata": {
        "id": "OG8wL0bTUW7p"
      }
    },
    {
      "cell_type": "markdown",
      "source": [
        "Why IQR is Important\n",
        "\n",
        "IQR focuses on the central portion of the data and ignores extremes, making it a robust measure of variability.\n",
        "\n",
        "It is useful for identifying the spread and detecting outliers.\n",
        "\n",
        "Detecting Outliers Using IQR\n",
        "\n",
        "Outliers are values that lie significantly outside the typical range of the data. The IQR method defines outliers as points that fall outside the following boundaries:\n",
        "\n",
        "\n",
        "Lower Boundary:\n",
        "𝑄\n",
        "1\n",
        "−\n",
        "1.5\n",
        "×\n",
        "IQR\n",
        "Q1−1.5×IQR\n",
        "\n",
        "Upper Boundary:\n",
        "𝑄\n",
        "3\n",
        "+\n",
        "1.5\n",
        "×\n",
        "IQR\n",
        "Q3+1.5×IQR\n",
        "\n",
        "Steps to Detect Outliers\n",
        "\n",
        "1-Compute Quartiles:\n",
        "\n",
        "Calculate\n",
        "𝑄\n",
        "1\n",
        "Q1 (25th percentile) and\n",
        "𝑄\n",
        "3\n",
        "Q3 (75th percentile).\n",
        "\n",
        "2-Find the IQR:\n",
        "\n",
        "IQR\n",
        "=\n",
        "𝑄\n",
        "3\n",
        "−\n",
        "𝑄\n",
        "1\n",
        "IQR=Q3−Q1.\n",
        "\n",
        "3-Calculate Boundaries:\n",
        "\n",
        "Lower Boundary:\n",
        "𝑄\n",
        "1\n",
        "−\n",
        "1.5\n",
        "×\n",
        "IQR\n",
        "Q1−1.5×IQR\n",
        "\n",
        "Upper Boundary:\n",
        "𝑄\n",
        "3\n",
        "+\n",
        "1.5\n",
        "×\n",
        "IQR\n",
        "Q3+1.5×IQR\n",
        "\n",
        "4-Identify Outliers:\n",
        "\n",
        "Values below the lower boundary or above the upper boundary are outliers."
      ],
      "metadata": {
        "id": "ZCamrkxjUjGR"
      }
    },
    {
      "cell_type": "markdown",
      "source": [
        "**8.Discuss the conditions under which the binomial distribution is used.**"
      ],
      "metadata": {
        "id": "6xrqanJFVtxV"
      }
    },
    {
      "cell_type": "markdown",
      "source": [
        "Binomial Distribution: Overview\n",
        "\n",
        "The binomial distribution is a probability distribution that models the number of successes in a fixed number of independent trials, where each trial has the same probability of success."
      ],
      "metadata": {
        "id": "A8YQZykHVyim"
      }
    },
    {
      "cell_type": "markdown",
      "source": [
        "Conditions for Using the Binomial Distribution\n",
        "\n",
        "To use the binomial distribution, the following conditions must be satisfied:\n",
        "\n",
        "1-Fixed Number of Trials (\n",
        "n):\n",
        "\n",
        "\n",
        ".The process is repeated a specific number of times,\n",
        "n, known as trials.\n",
        "\n",
        "\n",
        ".Example: Tossing a coin 10 times.\n",
        "\n",
        "\n",
        "2-Two Possible Outcomes (Success/Failure):\n",
        "\n",
        "\n",
        ".Each trial results in one of two outcomes, often labeled as \"success\" and \"failure.\"\n",
        "\n",
        "\n",
        ".Example: Heads or Tails in a coin toss.\n",
        "\n",
        "\n",
        "3-Constant Probability of Success (\n",
        "p):\n",
        "\n",
        "\n",
        ".The probability of success (\n",
        "p) remains the same for each trial.\n",
        "\n",
        ".Example: The probability of rolling a 6 on a fair die is always\n",
        "1\n",
        "6\n",
        "6/\n",
        "1\n",
        "​\n",
        "\n",
        "4-Independence of Trials:\n",
        "\n",
        "\n",
        ".The outcome of one trial does not affect the outcome of other trials.\n",
        "\n",
        ".Example: Drawing cards with replacement ensures independence.\n"
      ],
      "metadata": {
        "id": "43Nb2XrGV1ed"
      }
    },
    {
      "cell_type": "markdown",
      "source": [
        "Binomial Distribution Formula\n",
        "\n",
        "The probability of observing exactly\n",
        "𝑘\n",
        "k successes in\n",
        "𝑛\n",
        "n trials is given by:\n",
        "\n",
        "\n",
        "P(X=k)=(\n",
        "n/  k\n",
        "​\n",
        " )p\n",
        "k\n",
        " (1−p)\n",
        "n−k\n",
        "\n",
        "Where:\n",
        "\n",
        "\n",
        "𝑋\n",
        "X: Number of successes\n",
        "\n",
        "𝑛\n",
        "n: Number of trials\n",
        "\n",
        "\n",
        "𝑘\n",
        "k: Number of successes (0, 1, ...,\n",
        "𝑛)\n",
        "\n",
        "𝑝\n",
        "p: Probability of success in a single trial\n",
        "\n",
        "(\n",
        "𝑛/\n",
        "𝑘\n",
        ")\n",
        ": Binomial coefficient,\n",
        "(\n",
        "𝑛/\n",
        "𝑘\n",
        ")\n",
        "=\n",
        "𝑛\n",
        "!/\n",
        "𝑘\n",
        "!\n",
        "(\n",
        "𝑛\n",
        "−\n",
        "𝑘\n",
        ")\n",
        "!\n",
        "\n"
      ],
      "metadata": {
        "id": "wG7VIUS5ZfV0"
      }
    },
    {
      "cell_type": "markdown",
      "source": [
        "**9.Explain the properties of the normal distribution and the empirical rule (68-95-99.7 rule).**"
      ],
      "metadata": {
        "id": "nvfy7lfKbXUf"
      }
    },
    {
      "cell_type": "markdown",
      "source": [
        "Normal Distribution: Overview\n",
        "\n",
        "The normal distribution, also known as the Gaussian distribution, is a continuous probability distribution that is symmetric around its mean. It is one of the most widely used distributions in statistics due to its natural occurrence in many phenomena."
      ],
      "metadata": {
        "id": "hhxS8Z20beu3"
      }
    },
    {
      "cell_type": "markdown",
      "source": [
        "Properties of the Normal Distribution\n",
        "\n",
        "1-Symmetry:\n",
        "\n",
        ".The normal distribution is perfectly symmetric about the mean (\n",
        "μ).\n",
        ".The left and right halves of the curve are mirror images.\n",
        "\n",
        "2-Bell-Shaped Curve:\n",
        "\n",
        ".The graph of the normal distribution is bell-shaped, with most values concentrated around the mean.\n",
        "\n",
        "3-Mean, Median, and Mode are Equal:\n",
        "\n",
        ".In a normal distribution, the mean (\n",
        "μ), median, and mode coincide at the center.\n",
        "\n",
        "4-Defined by Two Parameters:\n",
        "\n",
        ".Mean (\n",
        "μ): Determines the center of the distribution.\n",
        "\n",
        ".Standard Deviation (\n",
        "σ): Controls the spread or width of the distribution.\n",
        "\n",
        "5-Asymptotic Nature:\n",
        "\n",
        ".The tails of the distribution extend infinitely in both directions but never touch the horizontal axis.\n",
        "\n",
        "6.Total Area Under the Curve Equals 1:\n",
        "\n",
        "The area under the curve represents the probability of all possible outcomes, which sums to 1."
      ],
      "metadata": {
        "id": "rGPV43T1big3"
      }
    },
    {
      "cell_type": "markdown",
      "source": [
        "**10.Provide a real-life example of a Poisson process and calculate the probability for a specific event**"
      ],
      "metadata": {
        "id": "HY0RyRjPcWul"
      }
    },
    {
      "cell_type": "markdown",
      "source": [
        "Real-Life Example of a Poisson Process\n",
        "\n",
        "A Poisson process models events that occur randomly and independently over a fixed interval of time or space.\n",
        "\n",
        "For example:\n",
        "\n",
        "\n",
        "Scenario: Customer Arrivals at a Coffee Shop\n",
        "\n",
        "On average, 5 customers arrive at a coffee shop every hour. This follows a Poisson process, where:\n",
        "\n",
        ".The number of events (\n",
        "k) occurring in a fixed time period follows a Poisson distribution.\n",
        "\n",
        ".The mean rate of occurrence (\n",
        "λ) is 5 customers/hour."
      ],
      "metadata": {
        "id": "tmNgmt6SccWF"
      }
    },
    {
      "cell_type": "markdown",
      "source": [
        "Poisson Distribution Formula\n",
        "\n",
        "The probability of observing exactly\n",
        "k events in a Poisson process is given by:\n",
        "\n",
        "P(X=k)=\n",
        "λ\n",
        "k\n",
        " e\n",
        "−λ/k!\n",
        "\n",
        "Where:\n",
        "\n",
        "\n",
        "\n",
        "X: Random variable representing the number of events (e.g., customer arrivals).\n",
        "\n",
        "\n",
        "λ: Mean number of events (average rate) in the interval.\n",
        "\n",
        "\n",
        "k: Specific number of events.\n",
        "\n",
        "\n",
        "e: Euler's number (\n",
        "≈\n",
        "2.718\n",
        "≈2.718).\n"
      ],
      "metadata": {
        "id": "j92qamt9gdDS"
      }
    },
    {
      "cell_type": "markdown",
      "source": [
        "Specific Event: Probability of Exactly 7 Customers in an Hour\n",
        "\n",
        "We want to calculate\n",
        "P(X=7), the probability of exactly 7 customers arriving in an hour when\n",
        "𝜆\n",
        "=\n",
        "5\n",
        "\n",
        "Plug in the values:\n",
        "\n",
        "\n",
        "P(X=7)=\n",
        "5\n",
        "7\n",
        " e\n",
        "−5\n",
        " /7!\n",
        "\n"
      ],
      "metadata": {
        "id": "W0SMmSfmhPk4"
      }
    },
    {
      "cell_type": "markdown",
      "source": [
        "Applications of Poisson Processes\n",
        "\n",
        "Traffic Flow:\n",
        "\n",
        "Modeling the number of cars passing through a toll booth in an hour.\n",
        "\n",
        "Healthcare:\n",
        "\n",
        "Predicting the number of patients arriving at an emergency room.\n",
        "\n",
        "Telecommunications:\n",
        "\n",
        "Estimating the number of calls received by a call center in a given period."
      ],
      "metadata": {
        "id": "U6ugqVseirsC"
      }
    },
    {
      "cell_type": "markdown",
      "source": [
        "**11.Explain what a random variable is and differentiate between discrete and continuous random variables**"
      ],
      "metadata": {
        "id": "0gZDruKKjHLZ"
      }
    },
    {
      "cell_type": "markdown",
      "source": [
        "\n",
        "Random Variable: Overview\n",
        "\n",
        "A random variable is a numerical representation of the outcomes of a random experiment. It assigns a numerical value to each possible outcome of the experiment and is used to quantify uncertainty in probability and statistics."
      ],
      "metadata": {
        "id": "ZBnPfD51Ct5F"
      }
    },
    {
      "cell_type": "markdown",
      "source": [
        "Notation: Typically denoted by\n",
        "𝑋\n",
        ",\n",
        "𝑌\n",
        ",\n",
        "𝑍\n",
        "X,Y,Z, etc.\n",
        "\n",
        "Examples:\n",
        "\n",
        "Rolling a die:\n",
        "𝑋\n",
        "=\n",
        "X= the number shown on the die.\n",
        "\n",
        "Flipping a coin:\n",
        "𝑋\n",
        "=\n",
        "X= 1 for heads, 0 for tails.\n",
        "\n",
        "Types of Random Variables\n",
        "\n",
        "Random variables are classified into two main types: discrete and continuous, depending on the nature of their possible values."
      ],
      "metadata": {
        "id": "HMjLa7-iC5gc"
      }
    },
    {
      "cell_type": "markdown",
      "source": [
        "1. Discrete Random Variables\n",
        "\n",
        "A discrete random variable takes on a finite or countable number of distinct values.\n",
        "\n",
        "Definition:\n",
        "\n",
        "Outcomes are countable (e.g., integers, finite decimals).\n",
        "Each possible value has a specific probability associated with it.\n",
        "\n",
        "Examples:\n",
        "\n",
        "Rolling a die:\n",
        "𝑋\n",
        "=\n",
        "{\n",
        "1\n",
        ",\n",
        "2\n",
        ",\n",
        "3\n",
        ",\n",
        "4\n",
        ",\n",
        "5\n",
        ",\n",
        "6\n",
        "}\n",
        "\n",
        "Number of defective items in a batch:\n",
        "𝑋\n",
        "=\n",
        "{\n",
        "0\n",
        ",\n",
        "1\n",
        ",\n",
        "2\n",
        ",\n",
        "…\n",
        "\n",
        "}\n",
        "\n",
        "Characteristics:\n",
        "\n",
        "Probability distribution is described by a probability mass function (PMF):\n",
        "\n",
        "P(X=x)=Probability of X taking the value x.\n",
        "\n",
        "The sum of all probabilities equals 1:\n",
        "∑\n",
        "𝑃\n",
        "(\n",
        "𝑋\n",
        "=\n",
        "𝑥\n",
        ")\n",
        "=\n",
        "1.\n",
        "∑P(X=x)=1.\n",
        "\n",
        "Examples of Distributions:\n",
        "\n",
        "Binomial Distribution: Number of successes in\n",
        "n trials.\n",
        "\n",
        "Poisson Distribution: Number of events in a fixed interval."
      ],
      "metadata": {
        "id": "Hygu8WazDGy8"
      }
    },
    {
      "cell_type": "markdown",
      "source": [
        "2. Continuous Random Variables\n",
        "\n",
        "A continuous random variable takes on an infinite number of possible values within a range.\n",
        "\n",
        "Definition:\n",
        "\n",
        "Outcomes are uncountable and can take any value in a given interval (real numbers).\n",
        "\n",
        "Probabilities are defined over intervals, not individual points.\n",
        "\n",
        "Examples:\n",
        "\n",
        "Heights of individuals:\n",
        "𝑋\n",
        "∈\n",
        "[\n",
        "50\n",
        ",\n",
        "250\n",
        "]\n",
        "cm\n",
        "\n",
        "Time taken to complete a task:\n",
        "𝑋\n",
        "≥\n",
        "0"
      ],
      "metadata": {
        "id": "3j6xl9gbDoTb"
      }
    },
    {
      "cell_type": "markdown",
      "source": [
        "Characteristics:\n",
        "\n",
        "Probability distribution is described by a probability density function (PDF):\n",
        "\n",
        "P(a≤X≤b)=∫\n",
        "a\n",
        "b\n",
        "​\n",
        " f(x)dx,\n",
        "\n",
        " where\n",
        "𝑓\n",
        "(\n",
        "𝑥\n",
        ")\n",
        "f(x) is the PDF.\n",
        "\n",
        "Total area under the curve of the PDF equals 1\n",
        "\n",
        "∫\n",
        "−\n",
        "∞\n",
        "∞\n",
        "𝑓\n",
        "(\n",
        "𝑥\n",
        ")\n",
        "\n",
        "𝑑\n",
        "𝑥\n",
        "=\n",
        "1.\n",
        "∫\n",
        "−∞\n",
        "∞\n",
        "​\n",
        "\n",
        "\n",
        " Examples of Distributions:\n",
        "\n",
        "Normal Distribution: Symmetric, bell-shaped curve.\n",
        "\n",
        "Exponential Distribution: Time between events in a Poisson process."
      ],
      "metadata": {
        "id": "29kAjstUD4jb"
      }
    },
    {
      "cell_type": "markdown",
      "source": [
        "**12.Provide an example dataset, calculate both covariance and correlation, and interpret the results**"
      ],
      "metadata": {
        "id": "feYscV_DjRKY"
      }
    },
    {
      "cell_type": "markdown",
      "source": [
        "Step 1: Calculate Covariance\n",
        "\n",
        "Covariance measures the direction of the linear relationship between two variables (\n",
        "𝑋\n",
        "X and\n",
        "𝑌\n",
        "Y). The formula is:\n",
        "\n",
        "Cov(X,Y)=\n",
        "n\n",
        "∑(X\n",
        "i\n",
        "​\n",
        " −\n",
        "X\n",
        "ˉ\n",
        " )(Y\n",
        "i\n",
        "​\n",
        " −\n",
        "Y\n",
        "ˉ\n",
        " )\n",
        "​\n",
        "\n",
        "Step 1.1: Compute Means of\n",
        "𝑋\n",
        "X and\n",
        "𝑌\n",
        "Y\n",
        "\n",
        "X\n",
        "ˉ\n",
        " =\n",
        "2+3+5+6+8/5\n",
        "​\n",
        " =4.8\n",
        "\n",
        " Y\n",
        "ˉ\n",
        " =\n",
        "\n",
        "50+60+80+90+95/5\n",
        "​\n",
        " =75\n"
      ],
      "metadata": {
        "id": "wSe5nD0OEc0B"
      }
    },
    {
      "cell_type": "markdown",
      "source": [
        "Step 1.3: Compute Covariance\n",
        "\n",
        "Cov\n",
        "(\n",
        "𝑋\n",
        ",\n",
        "𝑌\n",
        ")\n",
        "=\n",
        "∑\n",
        "(\n",
        "𝑋\n",
        "𝑖\n",
        "−\n",
        "𝑋\n",
        "ˉ\n",
        ")\n",
        "(\n",
        "𝑌\n",
        "𝑖\n",
        "−\n",
        "𝑌\n",
        "ˉ\n",
        ")\n",
        "/𝑛\n",
        "\n",
        "Cov(X,Y)=\n",
        "\n",
        "70+27+1+18+64\n",
        "/5​\n",
        " =\n",
        "180\n",
        "/5​\n",
        " =36"
      ],
      "metadata": {
        "id": "9uu5WJLkFDtg"
      }
    },
    {
      "cell_type": "markdown",
      "source": [
        "Step 2: Calculate Correlation\n",
        "\n",
        "Correlation measures the strength and direction of the linear relationship between\n",
        "𝑋\n",
        "X and\n",
        "𝑌\n",
        "Y. The formula is:\n",
        "\n",
        "Corr(X,Y)=\n",
        "σ\n",
        "X\n",
        "​\n",
        " σ\n",
        "Y\n",
        "​/\n",
        "Cov(X,Y)\n",
        "Where:\n",
        "\n",
        "𝜎\n",
        "𝑋\n",
        "σ\n",
        "X\n",
        "​\n",
        " : Standard deviation of\n",
        "𝑋\n",
        "X.\n",
        "\n",
        "𝜎\n",
        "𝑌\n",
        "σ\n",
        "Y\n",
        "​\n",
        " : Standard deviation of\n",
        "𝑌\n",
        "Y.\n",
        "\n",
        "Step 2.2: Compute Correlation\n",
        "\n",
        "corr\n",
        "(\n",
        "𝑋\n",
        ",\n",
        "𝑌\n",
        ")\n",
        "=\n",
        "Cov\n",
        "(\n",
        "𝑋\n",
        ",\n",
        "𝑌\n",
        ")/\n",
        "𝜎\n",
        "𝑋\n",
        "𝜎\n",
        "𝑌\n",
        "=\n",
        "36/\n",
        "2.14\n",
        "⋅\n",
        "17.32\n",
        "≈\n",
        "36/\n",
        "37.08\n",
        "≈\n",
        "0.97\n"
      ],
      "metadata": {
        "id": "lwmG-XF7Frae"
      }
    },
    {
      "cell_type": "markdown",
      "source": [
        "Interpretation of Results\n",
        "\n",
        "1-Covariance (\n",
        "36):\n",
        "\n",
        ".A positive covariance indicates that study hours (\n",
        "X) and test scores (\n",
        "Y) tend to increase together.\n",
        "\n",
        ".However, covariance does not indicate the strength or scale of the relationship.\n",
        "\n",
        "2-Correlation (\n",
        "0.97):\n",
        "\n",
        ".A correlation close to 1 suggests a strong positive linear relationship between study hours and test scores.\n",
        "\n",
        ".This means as study hours increase, test scores also increase significantly.\n"
      ],
      "metadata": {
        "id": "PHmSODZpHAyS"
      }
    }
  ]
}